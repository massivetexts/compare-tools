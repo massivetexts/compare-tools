{
 "cells": [
  {
   "cell_type": "code",
   "execution_count": 1,
   "metadata": {},
   "outputs": [],
   "source": [
    "%load_ext autoreload\n",
    "%autoreload 2"
   ]
  },
  {
   "cell_type": "markdown",
   "metadata": {},
   "source": [
    "## Creating an Index\n",
    "`create_annoy_index` builds an [Annoy](https://github.com/spotify/annoy) index from vectors saved in [PySRP](https://github.com/bmschmidt/pySRP/blob/master/SRP/SRP_files.py) Vector_File format. `check_dupes=True` enforces that chunks have to be consecutive and non-repetitive."
   ]
  },
  {
   "cell_type": "code",
   "execution_count": 4,
   "metadata": {},
   "outputs": [],
   "source": [
    "from compare_tools.MTAnnoy import create_annoy_index"
   ]
  },
  {
   "cell_type": "code",
   "execution_count": 3,
   "metadata": {},
   "outputs": [
    {
     "name": "stdout",
     "output_type": "stream",
     "text": [
      "Total vecs 59685,Done ingesting. Time: 3 seconds; Building\n",
      "Done build. Time: 7 seconds; Saving Index\n",
      "CPU times: user 6.2 s, sys: 192 ms, total: 6.4 s\n",
      "Wall time: 7.11 s\n"
     ]
    }
   ],
   "source": [
    "%%time\n",
    "create_annoy_index('testsetGlove3.ann',\n",
    "                   '/projects/saddl-main/sampling/data_outputs/30-of-60_Glove_chunks.bin',\n",
    "                   dims=300, n_trees=15, check_dupes=True)"
   ]
  },
  {
   "cell_type": "code",
   "execution_count": 20,
   "metadata": {},
   "outputs": [
    {
     "data": {
      "text/plain": [
       "'80.38mb'"
      ]
     },
     "execution_count": 20,
     "metadata": {},
     "output_type": "execute_result"
    }
   ],
   "source": [
    "import os\n",
    "\"%.2fmb\" % (os.stat('testsetGlove3.ann').st_size / 1024**2)"
   ]
  },
  {
   "cell_type": "markdown",
   "metadata": {},
   "source": [
    "`{filename}.index.pq` saves a dataframe matching htids and their chunks to the internal integer id that Annoy uses."
   ]
  },
  {
   "cell_type": "code",
   "execution_count": 22,
   "metadata": {},
   "outputs": [
    {
     "data": {
      "text/plain": [
       "'0.05mb'"
      ]
     },
     "execution_count": 22,
     "metadata": {},
     "output_type": "execute_result"
    }
   ],
   "source": [
    "\"%.2fmb\" % (os.stat('testsetGlove3.ann.index.pq').st_size / 1024**2)"
   ]
  },
  {
   "cell_type": "code",
   "execution_count": 27,
   "metadata": {},
   "outputs": [
    {
     "data": {
      "text/html": [
       "<div>\n",
       "<style scoped>\n",
       "    .dataframe tbody tr th:only-of-type {\n",
       "        vertical-align: middle;\n",
       "    }\n",
       "\n",
       "    .dataframe tbody tr th {\n",
       "        vertical-align: top;\n",
       "    }\n",
       "\n",
       "    .dataframe thead th {\n",
       "        text-align: right;\n",
       "    }\n",
       "</style>\n",
       "<table border=\"1\" class=\"dataframe\">\n",
       "  <thead>\n",
       "    <tr style=\"text-align: right;\">\n",
       "      <th></th>\n",
       "      <th>min</th>\n",
       "      <th>max</th>\n",
       "    </tr>\n",
       "    <tr>\n",
       "      <th>htid</th>\n",
       "      <th></th>\n",
       "      <th></th>\n",
       "    </tr>\n",
       "  </thead>\n",
       "  <tbody>\n",
       "    <tr>\n",
       "      <th>aeu.ark:/13960/t0bv8gh1j</th>\n",
       "      <td>11230</td>\n",
       "      <td>11231</td>\n",
       "    </tr>\n",
       "    <tr>\n",
       "      <th>aeu.ark:/13960/t0vq4jb2c</th>\n",
       "      <td>53970</td>\n",
       "      <td>53990</td>\n",
       "    </tr>\n",
       "    <tr>\n",
       "      <th>aeu.ark:/13960/t20c58j6d</th>\n",
       "      <td>46619</td>\n",
       "      <td>46635</td>\n",
       "    </tr>\n",
       "    <tr>\n",
       "      <th>aeu.ark:/13960/t3515t461</th>\n",
       "      <td>52764</td>\n",
       "      <td>52765</td>\n",
       "    </tr>\n",
       "    <tr>\n",
       "      <th>aeu.ark:/13960/t3xs6hf9k</th>\n",
       "      <td>40583</td>\n",
       "      <td>40586</td>\n",
       "    </tr>\n",
       "  </tbody>\n",
       "</table>\n",
       "</div>"
      ],
      "text/plain": [
       "                            min    max\n",
       "htid                                  \n",
       "aeu.ark:/13960/t0bv8gh1j  11230  11231\n",
       "aeu.ark:/13960/t0vq4jb2c  53970  53990\n",
       "aeu.ark:/13960/t20c58j6d  46619  46635\n",
       "aeu.ark:/13960/t3515t461  52764  52765\n",
       "aeu.ark:/13960/t3xs6hf9k  40583  40586"
      ]
     },
     "execution_count": 27,
     "metadata": {},
     "output_type": "execute_result"
    }
   ],
   "source": [
    "import pandas as pd\n",
    "pd.read_parquet('testsetGlove3.ann.index.pq').head()"
   ]
  }
 ],
 "metadata": {
  "kernelspec": {
   "display_name": "Python 3",
   "language": "python",
   "name": "python3"
  },
  "language_info": {
   "codemirror_mode": {
    "name": "ipython",
    "version": 3
   },
   "file_extension": ".py",
   "mimetype": "text/x-python",
   "name": "python",
   "nbconvert_exporter": "python",
   "pygments_lexer": "ipython3",
   "version": "3.6.7"
  }
 },
 "nbformat": 4,
 "nbformat_minor": 2
}

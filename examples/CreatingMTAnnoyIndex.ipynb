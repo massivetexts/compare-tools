{
 "cells": [
  {
   "cell_type": "code",
   "execution_count": 1,
   "metadata": {},
   "outputs": [],
   "source": [
    "%load_ext autoreload\n",
    "%autoreload 2"
   ]
  },
  {
   "cell_type": "markdown",
   "metadata": {},
   "source": [
    "## Creating an Index\n",
    "`create_annoy_index` builds an [Annoy](https://github.com/spotify/annoy) index from vectors saved in [PySRP](https://github.com/bmschmidt/pySRP/blob/master/SRP/SRP_files.py) Vector_File format. `check_dupes=True` enforces that chunks have to be consecutive and non-repetitive."
   ]
  },
  {
   "cell_type": "code",
   "execution_count": 2,
   "metadata": {},
   "outputs": [],
   "source": [
    "from compare_tools.MTAnnoy import create_annoy_index"
   ]
  },
  {
   "cell_type": "code",
   "execution_count": 4,
   "metadata": {},
   "outputs": [
    {
     "name": "stdout",
     "output_type": "stream",
     "text": [
      "Total vecs 25893,Done ingesting. Time: 1 seconds; Building\n",
      "Done build. Time: 4 seconds; Saving Index\n",
      "CPU times: user 3.58 s, sys: 87.2 ms, total: 3.67 s\n",
      "Wall time: 3.82 s\n"
     ]
    }
   ],
   "source": [
    "%%time\n",
    "create_annoy_index('testsetGlove3.ann',\n",
    "                   '/projects/saddl-main/sampling/data_outputs/30-of-40_Glove_chunks.bin',\n",
    "                   dims=300, n_trees=15, check_dupes=True)"
   ]
  },
  {
   "cell_type": "code",
   "execution_count": 5,
   "metadata": {},
   "outputs": [
    {
     "data": {
      "text/plain": [
       "'34.90mb'"
      ]
     },
     "execution_count": 5,
     "metadata": {},
     "output_type": "execute_result"
    }
   ],
   "source": [
    "import os\n",
    "\"%.2fmb\" % (os.stat('testsetGlove3.ann').st_size / 1024**2)"
   ]
  },
  {
   "cell_type": "markdown",
   "metadata": {},
   "source": [
    "`{filename}.index.pq` saves a dataframe matching htids and their chunks to the internal integer id that Annoy uses."
   ]
  },
  {
   "cell_type": "code",
   "execution_count": 6,
   "metadata": {},
   "outputs": [
    {
     "data": {
      "text/plain": [
       "'0.04mb'"
      ]
     },
     "execution_count": 6,
     "metadata": {},
     "output_type": "execute_result"
    }
   ],
   "source": [
    "\"%.2fmb\" % (os.stat('testsetGlove3.ann.index.pq').st_size / 1024**2)"
   ]
  },
  {
   "cell_type": "code",
   "execution_count": 7,
   "metadata": {},
   "outputs": [
    {
     "data": {
      "text/html": [
       "<div>\n",
       "<style scoped>\n",
       "    .dataframe tbody tr th:only-of-type {\n",
       "        vertical-align: middle;\n",
       "    }\n",
       "\n",
       "    .dataframe tbody tr th {\n",
       "        vertical-align: top;\n",
       "    }\n",
       "\n",
       "    .dataframe thead th {\n",
       "        text-align: right;\n",
       "    }\n",
       "</style>\n",
       "<table border=\"1\" class=\"dataframe\">\n",
       "  <thead>\n",
       "    <tr style=\"text-align: right;\">\n",
       "      <th></th>\n",
       "      <th>min</th>\n",
       "      <th>max</th>\n",
       "    </tr>\n",
       "    <tr>\n",
       "      <th>htid</th>\n",
       "      <th></th>\n",
       "      <th></th>\n",
       "    </tr>\n",
       "  </thead>\n",
       "  <tbody>\n",
       "    <tr>\n",
       "      <th>aeu.ark:/13960/t0cv4sg1m</th>\n",
       "      <td>5925</td>\n",
       "      <td>5925</td>\n",
       "    </tr>\n",
       "    <tr>\n",
       "      <th>aeu.ark:/13960/t0ft8q48g</th>\n",
       "      <td>10041</td>\n",
       "      <td>10041</td>\n",
       "    </tr>\n",
       "    <tr>\n",
       "      <th>aeu.ark:/13960/t1tf1ch6j</th>\n",
       "      <td>15547</td>\n",
       "      <td>15547</td>\n",
       "    </tr>\n",
       "    <tr>\n",
       "      <th>aeu.ark:/13960/t1wd4xk9x</th>\n",
       "      <td>22164</td>\n",
       "      <td>22167</td>\n",
       "    </tr>\n",
       "    <tr>\n",
       "      <th>aeu.ark:/13960/t1xd2qc5c</th>\n",
       "      <td>21385</td>\n",
       "      <td>21394</td>\n",
       "    </tr>\n",
       "  </tbody>\n",
       "</table>\n",
       "</div>"
      ],
      "text/plain": [
       "                            min    max\n",
       "htid                                  \n",
       "aeu.ark:/13960/t0cv4sg1m   5925   5925\n",
       "aeu.ark:/13960/t0ft8q48g  10041  10041\n",
       "aeu.ark:/13960/t1tf1ch6j  15547  15547\n",
       "aeu.ark:/13960/t1wd4xk9x  22164  22167\n",
       "aeu.ark:/13960/t1xd2qc5c  21385  21394"
      ]
     },
     "execution_count": 7,
     "metadata": {},
     "output_type": "execute_result"
    }
   ],
   "source": [
    "import pandas as pd\n",
    "pd.read_parquet('testsetGlove3.ann.index.pq').head()"
   ]
  }
 ],
 "metadata": {
  "kernelspec": {
   "display_name": "Python 3",
   "language": "python",
   "name": "python3"
  },
  "language_info": {
   "codemirror_mode": {
    "name": "ipython",
    "version": 3
   },
   "file_extension": ".py",
   "mimetype": "text/x-python",
   "name": "python",
   "nbconvert_exporter": "python",
   "pygments_lexer": "ipython3",
   "version": "3.6.7"
  }
 },
 "nbformat": 4,
 "nbformat_minor": 4
}

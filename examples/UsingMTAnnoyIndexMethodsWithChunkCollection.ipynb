{
 "cells": [
  {
   "cell_type": "code",
   "execution_count": 2,
   "metadata": {},
   "outputs": [],
   "source": [
    "%load_ext autoreload\n",
    "%autoreload 2"
   ]
  },
  {
   "cell_type": "markdown",
   "metadata": {},
   "source": [
    "## Using MTAnnoy Index methods on CompareChunks\n",
    "\n",
    "One of my intentions with the ChunkCollection class is to give some methods that make sense on various types of collections. So I'm shifting it to have the same methods as the MTAnnoy index; this notebook is to see if they return the same results. The result is that they don't, necessarily; with 25 trees on at least one dataset type (a 100-dimensional reduction of the 640-D SRP data) there's probably a ~10-20% miss rate on even extremely close matches.)"
   ]
  },
  {
   "cell_type": "code",
   "execution_count": 3,
   "metadata": {},
   "outputs": [],
   "source": [
    "import pandas as pd\n",
    "import altair as alt"
   ]
  },
  {
   "cell_type": "code",
   "execution_count": 4,
   "metadata": {},
   "outputs": [],
   "source": [
    "fn = '/home/bschmidt/projects/hathi-test-dataset/all_SRP_testset_PCA.bin'\n",
    "#fn = '/home/bschmidt/projects/hathi-test-dataset/output.bin'\n",
    "from compare_tools.utils import HTID\n",
    "from compare_tools.chunk_collection import ChunkCollection\n",
    "full_collection = ChunkCollection(fn)"
   ]
  },
  {
   "cell_type": "code",
   "execution_count": 5,
   "metadata": {},
   "outputs": [
    {
     "data": {
      "text/plain": [
       "(3640305, 100)"
      ]
     },
     "execution_count": 5,
     "metadata": {},
     "output_type": "execute_result"
    }
   ],
   "source": [
    "full_collection.matrix.shape"
   ]
  },
  {
   "cell_type": "markdown",
   "metadata": {},
   "source": [
    "I don't implement the non-pandas methods in an identical form, but the full search produces similar results. The  big difference is that I implement \"sim\" (for similarity) rather than the distance returned by Annoy, the nature of which I dono't entirely understand.\n",
    "\n",
    "With 3.6 million rows, a single search takes a second or two, including some multi-processing speedup from my matrix math library."
   ]
  },
  {
   "cell_type": "code",
   "execution_count": 6,
   "metadata": {},
   "outputs": [
    {
     "name": "stdout",
     "output_type": "stream",
     "text": [
      "CPU times: user 1.59 s, sys: 24 ms, total: 1.62 s\n",
      "Wall time: 702 ms\n"
     ]
    }
   ],
   "source": [
    "%%time\n",
    "\n",
    "neighbors = full_collection.get_named_result_df(htid='hvd.32044072033202', n = 150)"
   ]
  },
  {
   "cell_type": "code",
   "execution_count": 7,
   "metadata": {},
   "outputs": [
    {
     "data": {
      "text/html": [
       "<div>\n",
       "<style scoped>\n",
       "    .dataframe tbody tr th:only-of-type {\n",
       "        vertical-align: middle;\n",
       "    }\n",
       "\n",
       "    .dataframe tbody tr th {\n",
       "        vertical-align: top;\n",
       "    }\n",
       "\n",
       "    .dataframe thead th {\n",
       "        text-align: right;\n",
       "    }\n",
       "</style>\n",
       "<table border=\"1\" class=\"dataframe\">\n",
       "  <thead>\n",
       "    <tr style=\"text-align: right;\">\n",
       "      <th></th>\n",
       "      <th>sim</th>\n",
       "      <th>target</th>\n",
       "      <th>target_seq</th>\n",
       "      <th>match</th>\n",
       "      <th>match_seq</th>\n",
       "    </tr>\n",
       "  </thead>\n",
       "  <tbody>\n",
       "    <tr>\n",
       "      <th>230</th>\n",
       "      <td>0.981317</td>\n",
       "      <td>hvd.32044072033202</td>\n",
       "      <td>2</td>\n",
       "      <td>hvd.ah25jc</td>\n",
       "      <td>2</td>\n",
       "    </tr>\n",
       "    <tr>\n",
       "      <th>409</th>\n",
       "      <td>0.967148</td>\n",
       "      <td>hvd.32044072033202</td>\n",
       "      <td>3</td>\n",
       "      <td>hvd.ah25jc</td>\n",
       "      <td>3</td>\n",
       "    </tr>\n",
       "    <tr>\n",
       "      <th>281</th>\n",
       "      <td>0.961156</td>\n",
       "      <td>hvd.32044072033202</td>\n",
       "      <td>2</td>\n",
       "      <td>miun.aca6178.0001.001</td>\n",
       "      <td>2</td>\n",
       "    </tr>\n",
       "    <tr>\n",
       "      <th>94</th>\n",
       "      <td>0.951602</td>\n",
       "      <td>hvd.32044072033202</td>\n",
       "      <td>1</td>\n",
       "      <td>hvd.ah25jc</td>\n",
       "      <td>1</td>\n",
       "    </tr>\n",
       "    <tr>\n",
       "      <th>236</th>\n",
       "      <td>0.944373</td>\n",
       "      <td>hvd.32044072033202</td>\n",
       "      <td>2</td>\n",
       "      <td>coo1.ark:/13960/t4wh34n6b</td>\n",
       "      <td>2</td>\n",
       "    </tr>\n",
       "    <tr>\n",
       "      <th>24</th>\n",
       "      <td>0.935350</td>\n",
       "      <td>hvd.32044072033202</td>\n",
       "      <td>1</td>\n",
       "      <td>miun.aca6178.0001.001</td>\n",
       "      <td>1</td>\n",
       "    </tr>\n",
       "    <tr>\n",
       "      <th>430</th>\n",
       "      <td>0.919636</td>\n",
       "      <td>hvd.32044072033202</td>\n",
       "      <td>3</td>\n",
       "      <td>coo1.ark:/13960/t4wh34n6b</td>\n",
       "      <td>3</td>\n",
       "    </tr>\n",
       "    <tr>\n",
       "      <th>142</th>\n",
       "      <td>0.910058</td>\n",
       "      <td>hvd.32044072033202</td>\n",
       "      <td>1</td>\n",
       "      <td>coo1.ark:/13960/t4wh34n6b</td>\n",
       "      <td>1</td>\n",
       "    </tr>\n",
       "    <tr>\n",
       "      <th>847</th>\n",
       "      <td>0.909899</td>\n",
       "      <td>hvd.32044072033202</td>\n",
       "      <td>6</td>\n",
       "      <td>hvd.ah25jc</td>\n",
       "      <td>6</td>\n",
       "    </tr>\n",
       "    <tr>\n",
       "      <th>1287</th>\n",
       "      <td>0.907721</td>\n",
       "      <td>hvd.32044072033202</td>\n",
       "      <td>9</td>\n",
       "      <td>coo1.ark:/13960/t4wh34n6b</td>\n",
       "      <td>10</td>\n",
       "    </tr>\n",
       "  </tbody>\n",
       "</table>\n",
       "</div>"
      ],
      "text/plain": [
       "           sim              target  target_seq                      match  \\\n",
       "230   0.981317  hvd.32044072033202           2                 hvd.ah25jc   \n",
       "409   0.967148  hvd.32044072033202           3                 hvd.ah25jc   \n",
       "281   0.961156  hvd.32044072033202           2      miun.aca6178.0001.001   \n",
       "94    0.951602  hvd.32044072033202           1                 hvd.ah25jc   \n",
       "236   0.944373  hvd.32044072033202           2  coo1.ark:/13960/t4wh34n6b   \n",
       "24    0.935350  hvd.32044072033202           1      miun.aca6178.0001.001   \n",
       "430   0.919636  hvd.32044072033202           3  coo1.ark:/13960/t4wh34n6b   \n",
       "142   0.910058  hvd.32044072033202           1  coo1.ark:/13960/t4wh34n6b   \n",
       "847   0.909899  hvd.32044072033202           6                 hvd.ah25jc   \n",
       "1287  0.907721  hvd.32044072033202           9  coo1.ark:/13960/t4wh34n6b   \n",
       "\n",
       "      match_seq  \n",
       "230           2  \n",
       "409           3  \n",
       "281           2  \n",
       "94            1  \n",
       "236           2  \n",
       "24            1  \n",
       "430           3  \n",
       "142           1  \n",
       "847           6  \n",
       "1287         10  "
      ]
     },
     "execution_count": 7,
     "metadata": {},
     "output_type": "execute_result"
    }
   ],
   "source": [
    "neighbors.head(10)"
   ]
  },
  {
   "cell_type": "code",
   "execution_count": 8,
   "metadata": {},
   "outputs": [
    {
     "data": {
      "text/html": [
       "<strong><a href='http://hdl.handle.net/2027/hvd.32044072033202'>A stellar key to the summer land / by Andrew Jackson Davis ; illustrated with diagrams and engravings of celestial scenery.</a></strong> by <em>Davis, Andrew Jackson 1826-1910 </em> (1920, 208 pages) - <code>hvd.32044072033202</code>"
      ],
      "text/plain": [
       "<compare_tools.utils.HTID at 0x7f7ffc568e80>"
      ]
     },
     "execution_count": 8,
     "metadata": {},
     "output_type": "execute_result"
    }
   ],
   "source": [
    "HTID(\"hvd.32044072033202\")"
   ]
  },
  {
   "cell_type": "markdown",
   "metadata": {},
   "source": [
    "Let's compare the results. (For the record, this is using a 100-dimensional reduction of the 640-dimensional SRP features)."
   ]
  },
  {
   "cell_type": "markdown",
   "metadata": {},
   "source": [
    "`get_nns_by_item` returns the named mtids (which is the HathiTrust ID with the four character chunk sequence number). However, it's likely easier to work with `get_nns_by_mtid`."
   ]
  },
  {
   "cell_type": "markdown",
   "metadata": {},
   "source": [
    "Import an annoy index previously created with 25 trees."
   ]
  },
  {
   "cell_type": "code",
   "execution_count": 9,
   "metadata": {},
   "outputs": [
    {
     "name": "stderr",
     "output_type": "stream",
     "text": [
      "/home/bschmidt/Dropbox/lib/python/compare-tools/compare_tools/MTAnnoy.py:81: FutureWarning: The default argument for metric will be removed in future version of Annoy. Please pass metric='angular' explicitly.\n",
      "  self.u = AnnoyIndex(dims)\n",
      "/home/bschmidt/miniconda3/lib/python3.7/site-packages/pyarrow/pandas_compat.py:708: FutureWarning: .labels was deprecated in version 0.24.0. Use .codes instead.\n",
      "  labels = getattr(columns, 'labels', None) or [\n",
      "/home/bschmidt/miniconda3/lib/python3.7/site-packages/pyarrow/pandas_compat.py:735: FutureWarning: the 'labels' keyword is deprecated, use 'codes' instead\n",
      "  return pd.MultiIndex(levels=new_levels, labels=labels, names=columns.names)\n",
      "/home/bschmidt/miniconda3/lib/python3.7/site-packages/pyarrow/pandas_compat.py:752: FutureWarning: .labels was deprecated in version 0.24.0. Use .codes instead.\n",
      "  labels, = index.labels\n"
     ]
    }
   ],
   "source": [
    "fn = '/home/bschmidt/projects/hathi-test-dataset/testsetSRP.ann'\n",
    "\n",
    "from compare_tools.MTAnnoy import MTAnnoy\n",
    "ann = MTAnnoy(fn, dims=100)"
   ]
  },
  {
   "cell_type": "code",
   "execution_count": 10,
   "metadata": {},
   "outputs": [],
   "source": [
    "import random"
   ]
  },
  {
   "cell_type": "code",
   "execution_count": 45,
   "metadata": {},
   "outputs": [],
   "source": [
    "def random_neighbor_search_comparison(htid = None, verbose = True):\n",
    "    \"\"\"\n",
    "    Merge the closest results from two different searches.\n",
    "    \n",
    "    htid: don't actually be random, use a specific htid\n",
    "    \"\"\"\n",
    "    if htid is None:\n",
    "        htid = random.sample(full_collection.htid_lookup.keys(), 1)[0]\n",
    "    display(HTID(htid))\n",
    "    \n",
    "    neighbors_exact = full_collection.get_named_result_df(htid=htid, n = 30)\n",
    "    neighbors_ann = ann.get_named_result_df(htid=htid, n = 30)\n",
    "    print (\"{} and {} items returned\".format(neighbors_exact.shape[0], neighbors_ann.shape[0]))\n",
    "    neighbors_ann\n",
    "\n",
    "    joint = neighbors_exact.merge(neighbors_ann, how='outer', copy = True)\n",
    "\n",
    "    # Set dummy values where either is not available\n",
    "    joint['dist'][pd.isna(joint['dist'])] = 1.2\n",
    "    joint['sim'][pd.isna(joint['sim'])] = 0.4\n",
    "    return joint\n",
    "\n"
   ]
  },
  {
   "cell_type": "markdown",
   "metadata": {},
   "source": [
    "Here's an example scatterplot. I've flushed NA values to the margins; so you can see there are lot of things missing from each. The takeaways here are;\n",
    "\n",
    "1. At low similarities, there's not much overlap between the exact and approximate methods. Fair enough.\n",
    "2. There's a strong but not perfect correlation between the Annoy distances and my calculated cosine ones. Not sure why this is.\n",
    "3. There is one (in the upper right) instances of very close (> 0.9) distance being not caught in the top 30 Annoy distances, which is bad (i.e., a false negative.)"
   ]
  },
  {
   "cell_type": "code",
   "execution_count": 46,
   "metadata": {},
   "outputs": [
    {
     "data": {
      "text/html": [
       "<strong><a href='http://hdl.handle.net/2027/uva.x001319419'>The fate of the Revolution : interpretations of Soviet history from 1917 to the present / by Walter Laqueur.</a></strong> by <em>Laqueur, Walter 1921-</em> (1987, 314 pages) - <code>uva.x001319419</code>"
      ],
      "text/plain": [
       "<compare_tools.utils.HTID at 0x7f7f4d3ad860>"
      ]
     },
     "metadata": {},
     "output_type": "display_data"
    },
    {
     "name": "stdout",
     "output_type": "stream",
     "text": [
      "780 and 780 items returned\n"
     ]
    },
    {
     "name": "stderr",
     "output_type": "stream",
     "text": [
      "/home/bschmidt/miniconda3/lib/python3.7/site-packages/ipykernel_launcher.py:19: SettingWithCopyWarning: \n",
      "A value is trying to be set on a copy of a slice from a DataFrame\n",
      "\n",
      "See the caveats in the documentation: http://pandas.pydata.org/pandas-docs/stable/indexing.html#indexing-view-versus-copy\n",
      "/home/bschmidt/miniconda3/lib/python3.7/site-packages/ipykernel_launcher.py:20: SettingWithCopyWarning: \n",
      "A value is trying to be set on a copy of a slice from a DataFrame\n",
      "\n",
      "See the caveats in the documentation: http://pandas.pydata.org/pandas-docs/stable/indexing.html#indexing-view-versus-copy\n"
     ]
    },
    {
     "data": {
      "application/vnd.vegalite.v2+json": {
       "$schema": "https://vega.github.io/schema/vega-lite/v2.6.0.json",
       "config": {
        "view": {
         "height": 300,
         "width": 400
        }
       },
       "data": {
        "format": {
         "type": "json"
        },
        "url": "altair-data-e922fb29394285f29a4a635fb31b84c0.json"
       },
       "encoding": {
        "x": {
         "field": "sim",
         "scale": {
          "zero": false
         },
         "title": "True Similarity",
         "type": "quantitative"
        },
        "y": {
         "field": "dist",
         "scale": {
          "zero": false
         },
         "title": "Annoy Distance",
         "type": "quantitative"
        }
       },
       "mark": {
        "opacity": 0.2,
        "size": 60,
        "type": "circle"
       }
      },
      "image/png": "[encoded data removed]",
      "text/plain": [
       "<VegaLite 2 object>\n",
       "\n",
       "If you see this message, it means the renderer has not been properly enabled\n",
       "for the frontend that you are using. For more information, see\n",
       "https://altair-viz.github.io/user_guide/troubleshooting.html\n"
      ]
     },
     "execution_count": 46,
     "metadata": {},
     "output_type": "execute_result"
    }
   ],
   "source": [
    "joint = random_neighbor_search_comparison(\"uva.x001319419\")\n",
    "alt.Chart(joint).mark_circle(size=60, opacity=0.2).encode(x=alt.X(\"sim\", title=\"True Similarity\", \n",
    "                                              scale=alt.Scale(zero=False)), \n",
    "                                              y =alt.X(\"dist\", title=\"Annoy Distance\", \n",
    "                                              scale=alt.Scale(zero=False)))\n"
   ]
  },
  {
   "cell_type": "code",
   "execution_count": null,
   "metadata": {},
   "outputs": [],
   "source": []
  },
  {
   "cell_type": "markdown",
   "metadata": {},
   "source": [
    "Now I take twenty random books and look at the summary statistics. I'll look at precision and recall for matches greater than 0.9 in cosine similarity (which are generally from the same book) and those below 0.9 (which are not)."
   ]
  },
  {
   "cell_type": "code",
   "execution_count": 47,
   "metadata": {},
   "outputs": [
    {
     "data": {
      "text/html": [
       "<strong><a href='http://hdl.handle.net/2027/msu.31293001999907'>Geology of the Boston Basin / by William O. Crosby..</a></strong> by <em>Crosby, William Otis 1850-1925</em> (1894, 824 pages) - <code>msu.31293001999907</code>"
      ],
      "text/plain": [
       "<compare_tools.utils.HTID at 0x7f7f4d8157f0>"
      ]
     },
     "metadata": {},
     "output_type": "display_data"
    },
    {
     "name": "stdout",
     "output_type": "stream",
     "text": [
      "1590 and 1590 items returned\n",
      "defaultdict(<class 'collections.Counter'>, {'<= .9': Counter({True: 1590, False: 1363})})\n"
     ]
    },
    {
     "name": "stderr",
     "output_type": "stream",
     "text": [
      "/home/bschmidt/miniconda3/lib/python3.7/site-packages/ipykernel_launcher.py:19: SettingWithCopyWarning: \n",
      "A value is trying to be set on a copy of a slice from a DataFrame\n",
      "\n",
      "See the caveats in the documentation: http://pandas.pydata.org/pandas-docs/stable/indexing.html#indexing-view-versus-copy\n",
      "/home/bschmidt/miniconda3/lib/python3.7/site-packages/ipykernel_launcher.py:20: SettingWithCopyWarning: \n",
      "A value is trying to be set on a copy of a slice from a DataFrame\n",
      "\n",
      "See the caveats in the documentation: http://pandas.pydata.org/pandas-docs/stable/indexing.html#indexing-view-versus-copy\n"
     ]
    },
    {
     "data": {
      "text/html": [
       "<strong><a href='http://hdl.handle.net/2027/uc1.b4949008'>Photo finish and two other great mysteries / Ngaio Marsh</a></strong> by <em>Marsh, Ngaio 1895-1982 ,Marsh, Ngaio 1895-1982 ,Marsh, Ngaio 1895-1982 </em> (1980, 712 pages) - <code>uc1.b4949008</code>"
      ],
      "text/plain": [
       "<compare_tools.utils.HTID at 0x7f7f24866128>"
      ]
     },
     "metadata": {},
     "output_type": "display_data"
    },
    {
     "name": "stdout",
     "output_type": "stream",
     "text": [
      "2040 and 2040 items returned\n",
      "defaultdict(<class 'collections.Counter'>, {'<= .9': Counter({True: 3624, False: 3384}), '> .9': Counter({True: 6, False: 1})})\n"
     ]
    },
    {
     "data": {
      "text/html": [
       "<strong><a href='http://hdl.handle.net/2027/inu.30000080785029'>High school mathematics. Max Beberman, director. Herbert E. Vaughan, editor.</a></strong> by <em>University of Illinois (Urbana-Champaign campus) Committee on School Mathematics. ,Vaughan, Herbert Edward 1911- </em> (1960, 656 pages) - <code>inu.30000080785029</code>"
      ],
      "text/plain": [
       "<compare_tools.utils.HTID at 0x7f7f4dc77b38>"
      ]
     },
     "metadata": {},
     "output_type": "display_data"
    },
    {
     "name": "stdout",
     "output_type": "stream",
     "text": [
      "600 and 600 items returned\n",
      "defaultdict(<class 'collections.Counter'>, {'<= .9': Counter({True: 4207, False: 3926}), '> .9': Counter({True: 23, False: 2})})\n"
     ]
    },
    {
     "data": {
      "text/html": [
       "<strong><a href='http://hdl.handle.net/2027/mdp.39015005302347'>Our national parks, / by John Muir.</a></strong> by <em>Muir, John 1838-1914 </em> (1902, 416 pages) - <code>mdp.39015005302347</code>"
      ],
      "text/plain": [
       "<compare_tools.utils.HTID at 0x7f7f57c739b0>"
      ]
     },
     "metadata": {},
     "output_type": "display_data"
    },
    {
     "name": "stdout",
     "output_type": "stream",
     "text": [
      "600 and 600 items returned\n",
      "defaultdict(<class 'collections.Counter'>, {'<= .9': Counter({True: 4708, False: 4295}), '> .9': Counter({True: 122, False: 9})})\n"
     ]
    },
    {
     "data": {
      "text/html": [
       "<strong><a href='http://hdl.handle.net/2027/uc1.$b22272'>The origin and growth of the English constitution; an historical treatise...the gradual development of the English constitutional system, and the growth of that system of the federal republic of the United States / by Hannis Taylor...</a></strong> by <em>Taylor, Hannis 1851-1922 </em> (1898, 672 pages) - <code>uc1.$b22272</code>"
      ],
      "text/plain": [
       "<compare_tools.utils.HTID at 0x7f7f4dd2ba90>"
      ]
     },
     "metadata": {},
     "output_type": "display_data"
    },
    {
     "name": "stdout",
     "output_type": "stream",
     "text": [
      "2040 and 2040 items returned\n",
      "defaultdict(<class 'collections.Counter'>, {'<= .9': Counter({True: 6430, False: 5435}), '> .9': Counter({True: 440, False: 22})})\n"
     ]
    },
    {
     "data": {
      "text/html": [
       "<strong><a href='http://hdl.handle.net/2027/hvd.hn1nc8'>Chemistry: general, medical, and pharmaceutical, including the chemistry of the U.S. pharmacopœia. : A manual on the general principles of the science, and their applications in medicine and pharmacy / By John Attfield.</a></strong> by <em>Attfield, John 1835-1911 </em> (1879, 736 pages) - <code>hvd.hn1nc8</code>"
      ],
      "text/plain": [
       "<compare_tools.utils.HTID at 0x7f7f4dd2ba90>"
      ]
     },
     "metadata": {},
     "output_type": "display_data"
    },
    {
     "name": "stdout",
     "output_type": "stream",
     "text": [
      "2010 and 2010 items returned\n",
      "defaultdict(<class 'collections.Counter'>, {'<= .9': Counter({True: 8225, False: 6707}), '> .9': Counter({True: 655, False: 31})})\n"
     ]
    },
    {
     "data": {
      "text/html": [
       "<strong><a href='http://hdl.handle.net/2027/coo1.ark:/13960/t5s75z894'>The Genoa conference:</a></strong> by <em>Mills, J. Saxon (John Saxon) </em> (1922, 474 pages) - <code>coo1.ark:/13960/t5s75z894</code>"
      ],
      "text/plain": [
       "<compare_tools.utils.HTID at 0x7f7f57632320>"
      ]
     },
     "metadata": {},
     "output_type": "display_data"
    },
    {
     "name": "stdout",
     "output_type": "stream",
     "text": [
      "870 and 870 items returned\n",
      "defaultdict(<class 'collections.Counter'>, {'<= .9': Counter({True: 9024, False: 7484}), '> .9': Counter({True: 726, False: 34})})\n"
     ]
    },
    {
     "data": {
      "text/html": [
       "<strong><a href='http://hdl.handle.net/2027/uc1.c077076537'>Muret-Sanders Enzyklopädisches englisch-deutsches und deutsch-englisches Wörterbuch : mit Angabe der Aussprache nach dem phonetischen System der Methode Toussaint-Langenscheidt. / Hand- und Schulausgabe. Von B.Klatt. Neubearbeitet und durch einen Nachtrag bis auf die heutige Zeit ergänzt von Professor Edmund Klatt = Muret-Sanders Encyclopædic English-German and German-English Dictionary, giving the pronunciation according to the phonetic system employed in the method of Toussaint-Langenscheidt. Abridged Edition (for school and home), by B. Klatt, revised and brought up to date by a supplemnt by Professor EEdmund Klatt.</a></strong> by <em>Muret, Eduard 1833-1904 ,Klatt, Edmund. ,Baumann, H. (Heinrich) b. 1846 ,Klatt, Berthold 1849- ,Sanders, Daniel 1819-1897 </em> (1910, 1294 pages) - <code>uc1.c077076537</code>"
      ],
      "text/plain": [
       "<compare_tools.utils.HTID at 0x7f7fd35fea20>"
      ]
     },
     "metadata": {},
     "output_type": "display_data"
    },
    {
     "name": "stdout",
     "output_type": "stream",
     "text": [
      "18600 and 18600 items returned\n",
      "defaultdict(<class 'collections.Counter'>, {'<= .9': Counter({True: 27624, False: 25640}), '> .9': Counter({True: 726, False: 34})})\n"
     ]
    },
    {
     "data": {
      "text/html": [
       "<strong><a href='http://hdl.handle.net/2027/uc1.b5275800'>Special investigation of poliomyelitis, 1916; report of committee appointed by the mayor to cooperate with the Department of Health.</a></strong> by <em>New York (N.Y.) Department of Health. </em> (1916, 60 pages) - <code>uc1.b5275800</code>"
      ],
      "text/plain": [
       "<compare_tools.utils.HTID at 0x7f7f4d8220f0>"
      ]
     },
     "metadata": {},
     "output_type": "display_data"
    },
    {
     "name": "stdout",
     "output_type": "stream",
     "text": [
      "90 and 90 items returned\n",
      "defaultdict(<class 'collections.Counter'>, {'<= .9': Counter({True: 27712, False: 25727}), '> .9': Counter({True: 728, False: 35})})\n"
     ]
    },
    {
     "data": {
      "text/html": [
       "<strong><a href='http://hdl.handle.net/2027/mdp.39015063903275'>Syria and Egypt from the Tell el Amarna letters / by W.M. Flinders Petrie.</a></strong> by <em>Petrie, W. M. Flinders (William Matthew Flinders) 1853-1942 </em> (1898, 238 pages) - <code>mdp.39015063903275</code>"
      ],
      "text/plain": [
       "<compare_tools.utils.HTID at 0x7f7f4dd2ba90>"
      ]
     },
     "metadata": {},
     "output_type": "display_data"
    },
    {
     "name": "stdout",
     "output_type": "stream",
     "text": [
      "360 and 360 items returned\n",
      "defaultdict(<class 'collections.Counter'>, {'<= .9': Counter({True: 28052, False: 26018}), '> .9': Counter({True: 748, False: 39})})\n"
     ]
    },
    {
     "data": {
      "text/html": [
       "<strong><a href='http://hdl.handle.net/2027/mdp.39015001412579'>Censorship in the United States. Edited by Grant S. McClellan.</a></strong> by <em>McClellan, Grant S. comp. </em> (1967, 234 pages) - <code>mdp.39015001412579</code>"
      ],
      "text/plain": [
       "<compare_tools.utils.HTID at 0x7f7f25852128>"
      ]
     },
     "metadata": {},
     "output_type": "display_data"
    },
    {
     "name": "stdout",
     "output_type": "stream",
     "text": [
      "540 and 540 items returned\n",
      "defaultdict(<class 'collections.Counter'>, {'<= .9': Counter({True: 28592, False: 26553}), '> .9': Counter({True: 748, False: 39})})\n"
     ]
    },
    {
     "data": {
      "text/html": [
       "<strong><a href='http://hdl.handle.net/2027/uva.x000428531'>The history of Cuba.</a></strong> by <em>Johnson, Willis Fletcher 1857-1931 </em> (1920, 478 pages) - <code>uva.x000428531</code>"
      ],
      "text/plain": [
       "<compare_tools.utils.HTID at 0x7f7fd3586898>"
      ]
     },
     "metadata": {},
     "output_type": "display_data"
    },
    {
     "name": "stdout",
     "output_type": "stream",
     "text": [
      "840 and 840 items returned\n",
      "defaultdict(<class 'collections.Counter'>, {'<= .9': Counter({True: 29340, False: 27264}), '> .9': Counter({True: 840, False: 44})})\n"
     ]
    },
    {
     "data": {
      "text/html": [
       "<strong><a href='http://hdl.handle.net/2027/mdp.39015009072599'>The infernal grove.</a></strong> by <em>Muggeridge, Malcolm 1903-1990 </em> (1974, 296 pages) - <code>mdp.39015009072599</code>"
      ],
      "text/plain": [
       "<compare_tools.utils.HTID at 0x7f7f1a1a6400>"
      ]
     },
     "metadata": {},
     "output_type": "display_data"
    },
    {
     "name": "stdout",
     "output_type": "stream",
     "text": [
      "870 and 870 items returned\n",
      "defaultdict(<class 'collections.Counter'>, {'<= .9': Counter({True: 30154, False: 28076}), '> .9': Counter({True: 896, False: 46})})\n"
     ]
    },
    {
     "data": {
      "text/html": [
       "<strong><a href='http://hdl.handle.net/2027/uc1.32106017451292'>American contributions.</a></strong> by <em>International Congress of Slavists 1973 : Warsaw, Poland) ,Cienciala, Anna M. ,Terras, Victor. ,Matejka, Ladislav 1919- </em> (9999, 608 pages) - <code>uc1.32106017451292</code>"
      ],
      "text/plain": [
       "<compare_tools.utils.HTID at 0x7f7fd3586898>"
      ]
     },
     "metadata": {},
     "output_type": "display_data"
    },
    {
     "name": "stdout",
     "output_type": "stream",
     "text": [
      "1560 and 1560 items returned\n",
      "defaultdict(<class 'collections.Counter'>, {'<= .9': Counter({True: 31689, False: 29594}), '> .9': Counter({True: 921, False: 50})})\n"
     ]
    },
    {
     "data": {
      "text/html": [
       "<strong><a href='http://hdl.handle.net/2027/uva.x000619159'>Addresses</a></strong> by <em>Brooks, Phillips 1835-1893</em> (1899, 196 pages) - <code>uva.x000619159</code>"
      ],
      "text/plain": [
       "<compare_tools.utils.HTID at 0x7f7f5720bef0>"
      ]
     },
     "metadata": {},
     "output_type": "display_data"
    },
    {
     "name": "stdout",
     "output_type": "stream",
     "text": [
      "270 and 270 items returned\n",
      "defaultdict(<class 'collections.Counter'>, {'<= .9': Counter({True: 31910, False: 29794}), '> .9': Counter({True: 970, False: 56})})\n"
     ]
    },
    {
     "data": {
      "text/html": [
       "<strong><a href='http://hdl.handle.net/2027/hvd.hwimb2'>The poetical works of Henry Alford.</a></strong> by <em>Alford, Henry 1810-1871 </em> (1853, 450 pages) - <code>hvd.hwimb2</code>"
      ],
      "text/plain": [
       "<compare_tools.utils.HTID at 0x7f7f57632320>"
      ]
     },
     "metadata": {},
     "output_type": "display_data"
    },
    {
     "name": "stdout",
     "output_type": "stream",
     "text": [
      "420 and 420 items returned\n",
      "defaultdict(<class 'collections.Counter'>, {'<= .9': Counter({True: 32288, False: 30090}), '> .9': Counter({True: 1012, False: 60})})\n"
     ]
    },
    {
     "data": {
      "text/html": [
       "<strong><a href='http://hdl.handle.net/2027/mdp.39015033946073'>South Hall, Columbia University, New York.</a></strong> by <em>Columbia University Libraries. </em> (1935, 86 pages) - <code>mdp.39015033946073</code>"
      ],
      "text/plain": [
       "<compare_tools.utils.HTID at 0x7f7f24bc3cf8>"
      ]
     },
     "metadata": {},
     "output_type": "display_data"
    },
    {
     "name": "stdout",
     "output_type": "stream",
     "text": [
      "90 and 90 items returned\n",
      "defaultdict(<class 'collections.Counter'>, {'<= .9': Counter({True: 32376, False: 30177}), '> .9': Counter({True: 1014, False: 61})})\n"
     ]
    },
    {
     "data": {
      "text/html": [
       "<strong><a href='http://hdl.handle.net/2027/uc1.b3881163'>Five books of the lives, heroic deeds and sayings of Gargantua and his son Pantagruel / by Francis Rabelais ; translated into English by Sir Thomas Urquhart and Peter Antony Motteux ; illustrations by Louis Chalon.</a></strong> by <em>Rabelais, François ca. 1490-1553? ,Chalon, Louis ill. ,Motteux, Peter Anthony 1660-1718 ,Urquhart, Thomas Sir 1611-1660 </em> (1904, 308 pages) - <code>uc1.b3881163</code>"
      ],
      "text/plain": [
       "<compare_tools.utils.HTID at 0x7f7f5720beb8>"
      ]
     },
     "metadata": {},
     "output_type": "display_data"
    },
    {
     "name": "stdout",
     "output_type": "stream",
     "text": [
      "720 and 720 items returned\n",
      "defaultdict(<class 'collections.Counter'>, {'<= .9': Counter({True: 32934, False: 30332}), '> .9': Counter({True: 1176, False: 75})})\n"
     ]
    },
    {
     "data": {
      "text/html": [
       "<strong><a href='http://hdl.handle.net/2027/uiug.30112019855243'>1963 small grain variety trials / [J.J. Bonnemann].</a></strong> by <em>Bonnemann, Joseph J. </em> (1964, 36 pages) - <code>uiug.30112019855243</code>"
      ],
      "text/plain": [
       "<compare_tools.utils.HTID at 0x7f7f2584a898>"
      ]
     },
     "metadata": {},
     "output_type": "display_data"
    },
    {
     "name": "stdout",
     "output_type": "stream",
     "text": [
      "60 and 60 items returned\n",
      "defaultdict(<class 'collections.Counter'>, {'<= .9': Counter({True: 32994, False: 30392}), '> .9': Counter({True: 1176, False: 75})})\n"
     ]
    },
    {
     "data": {
      "text/html": [
       "<strong><a href='http://hdl.handle.net/2027/pst.000014243592'>The origin of species ; and, The descent of man / [by Charles Darwin].</a></strong> by <em>Darwin, Charles 1809-1882 ,Darwin, Charles 1809-1882 </em> (1999, 1024 pages) - <code>pst.000014243592</code>"
      ],
      "text/plain": [
       "<compare_tools.utils.HTID at 0x7f7f25829518>"
      ]
     },
     "metadata": {},
     "output_type": "display_data"
    },
    {
     "name": "stdout",
     "output_type": "stream",
     "text": [
      "3660 and 3660 items returned\n",
      "defaultdict(<class 'collections.Counter'>, {'<= .9': Counter({True: 36456, False: 32924}), '> .9': Counter({True: 1374, False: 84})})\n"
     ]
    },
    {
     "data": {
      "text/html": [
       "<strong><a href='http://hdl.handle.net/2027/osu.32435006250187'>The application of heuristic gaming to urban problems.</a></strong> by <em>Duke, Richard D. ,Burkhalter, Barton R. ,Michigan State University Institute for Community Development. </em> (1966, 38 pages) - <code>osu.32435006250187</code>"
      ],
      "text/plain": [
       "<compare_tools.utils.HTID at 0x7f7f575b92b0>"
      ]
     },
     "metadata": {},
     "output_type": "display_data"
    },
    {
     "name": "stdout",
     "output_type": "stream",
     "text": [
      "30 and 30 items returned\n",
      "defaultdict(<class 'collections.Counter'>, {'<= .9': Counter({True: 36486, False: 32954}), '> .9': Counter({True: 1374, False: 84})})\n"
     ]
    },
    {
     "data": {
      "text/html": [
       "<strong><a href='http://hdl.handle.net/2027/osu.32435004669503'>Necessary use and effect of gas compressors on natural gas field operating conditions / by Samuel S. Wyer.</a></strong> by <em>Wyer, Samuel S. 1879-1955 </em> (1916, 32 pages) - <code>osu.32435004669503</code>"
      ],
      "text/plain": [
       "<compare_tools.utils.HTID at 0x7f7fd3586be0>"
      ]
     },
     "metadata": {},
     "output_type": "display_data"
    },
    {
     "name": "stdout",
     "output_type": "stream",
     "text": [
      "30 and 30 items returned\n",
      "defaultdict(<class 'collections.Counter'>, {'<= .9': Counter({True: 36516, False: 32984}), '> .9': Counter({True: 1374, False: 84})})\n"
     ]
    },
    {
     "data": {
      "text/html": [
       "<strong><a href='http://hdl.handle.net/2027/mdp.39015031912283'>East-West relations: is detente possible? [By] William E. Griffith [and] Walt W. Rostow.</a></strong> by <em>Griffith, William E. ,Rostow, W. W. (Walt Whitman) 1916-2003 joint author. </em> (1969, 232 pages) - <code>mdp.39015031912283</code>"
      ],
      "text/plain": [
       "<compare_tools.utils.HTID at 0x7f7f5720b3c8>"
      ]
     },
     "metadata": {},
     "output_type": "display_data"
    },
    {
     "name": "stdout",
     "output_type": "stream",
     "text": [
      "300 and 300 items returned\n",
      "defaultdict(<class 'collections.Counter'>, {'<= .9': Counter({True: 36807, False: 33261}), '> .9': Counter({True: 1383, False: 85})})\n"
     ]
    },
    {
     "data": {
      "text/html": [
       "<strong><a href='http://hdl.handle.net/2027/uc1.$b58772'>Roaming in Hawaii; a narrative of months of wandering among the glamorous islands that may become our 49th state, by Harry A. Franck. With seventy-seven reproductions from photographs taken by or under the direction of the author, and six maps.</a></strong> by <em>Franck, Harry A. (Harry Alverson) b. 1881 </em> (1937, 416 pages) - <code>uc1.$b58772</code>"
      ],
      "text/plain": [
       "<compare_tools.utils.HTID at 0x7f7f24bc3da0>"
      ]
     },
     "metadata": {},
     "output_type": "display_data"
    },
    {
     "name": "stdout",
     "output_type": "stream",
     "text": [
      "780 and 780 items returned\n",
      "defaultdict(<class 'collections.Counter'>, {'<= .9': Counter({True: 37587, False: 34039}), '> .9': Counter({True: 1383, False: 85})})\n"
     ]
    },
    {
     "data": {
      "text/html": [
       "<strong><a href='http://hdl.handle.net/2027/wu.89058496126'>The works of John C. Calhoun.</a></strong> by <em>Calhoun, John C. (John Caldwell) 1782-1850 ,Crallé, Richard K. (Richard Kenner) 1800-1864 ,South Carolina General Assembly. </em> (1856, 492 pages) - <code>wu.89058496126</code>"
      ],
      "text/plain": [
       "<compare_tools.utils.HTID at 0x7f7f4d815518>"
      ]
     },
     "metadata": {},
     "output_type": "display_data"
    },
    {
     "name": "stdout",
     "output_type": "stream",
     "text": [
      "1020 and 1020 items returned\n",
      "defaultdict(<class 'collections.Counter'>, {'<= .9': Counter({True: 38538, False: 34890}), '> .9': Counter({True: 1452, False: 88})})\n"
     ]
    },
    {
     "data": {
      "text/html": [
       "<strong><a href='http://hdl.handle.net/2027/uc2.ark:/13960/t2b854n27'>Practical street construction; planning streets and designing and constructing the details of street surface, subsurface and supersurface structures, reprinted from a series of articles which appeared in the Municipal journal during the year 1916; profusely illustrated with photographs, maps and diagrams.</a></strong> by <em>Folwell, A. Prescott (Amory Prescott) 1865- </em> (1916, 264 pages) - <code>uc2.ark:/13960/t2b854n27</code>"
      ],
      "text/plain": [
       "<compare_tools.utils.HTID at 0x7f7fd3586be0>"
      ]
     },
     "metadata": {},
     "output_type": "display_data"
    },
    {
     "name": "stdout",
     "output_type": "stream",
     "text": [
      "360 and 360 items returned\n",
      "defaultdict(<class 'collections.Counter'>, {'<= .9': Counter({True: 38854, False: 35174}), '> .9': Counter({True: 1496, False: 92})})\n"
     ]
    },
    {
     "data": {
      "text/html": [
       "<strong><a href='http://hdl.handle.net/2027/mdp.39015007238374'>Frederick Kiesler: environmental sculpture.</a></strong> by <em>Solomon R. Guggenheim Museum ,Kiesler, Frederick. </em> (1964, 50 pages) - <code>mdp.39015007238374</code>"
      ],
      "text/plain": [
       "<compare_tools.utils.HTID at 0x7f7f5665af98>"
      ]
     },
     "metadata": {},
     "output_type": "display_data"
    },
    {
     "name": "stdout",
     "output_type": "stream",
     "text": [
      "90 and 90 items returned\n",
      "defaultdict(<class 'collections.Counter'>, {'<= .9': Counter({True: 38940, False: 35258}), '> .9': Counter({True: 1500, False: 94})})\n"
     ]
    },
    {
     "data": {
      "text/html": [
       "<strong><a href='http://hdl.handle.net/2027/uc1.31175007615969'>Our world... by Rev. Josiah Strong...</a></strong> by <em>Strong, Josiah 1847-1916 </em> (1913, 312 pages) - <code>uc1.31175007615969</code>"
      ],
      "text/plain": [
       "<compare_tools.utils.HTID at 0x7f7f24866128>"
      ]
     },
     "metadata": {},
     "output_type": "display_data"
    },
    {
     "name": "stdout",
     "output_type": "stream",
     "text": [
      "600 and 600 items returned\n",
      "defaultdict(<class 'collections.Counter'>, {'<= .9': Counter({True: 39422, False: 35728}), '> .9': Counter({True: 1618, False: 101})})\n"
     ]
    },
    {
     "data": {
      "text/html": [
       "<strong><a href='http://hdl.handle.net/2027/wu.89096333109'>Examinations in modern European history, by Lowell Joseph Ragatz ...</a></strong> by <em>Ragatz, Lowell J. (Lowell Joseph) 1897- </em> (1932, 118 pages) - <code>wu.89096333109</code>"
      ],
      "text/plain": [
       "<compare_tools.utils.HTID at 0x7f7f5720b208>"
      ]
     },
     "metadata": {},
     "output_type": "display_data"
    },
    {
     "name": "stdout",
     "output_type": "stream",
     "text": [
      "300 and 300 items returned\n",
      "defaultdict(<class 'collections.Counter'>, {'<= .9': Counter({True: 39722, False: 36025}), '> .9': Counter({True: 1618, False: 101})})\n"
     ]
    },
    {
     "data": {
      "text/html": [
       "<strong><a href='http://hdl.handle.net/2027/uc1.$b383411'>Poets and mystics. / by Nolini Kanta Gupta.</a></strong> by <em>Gupta, Nolini Kanta. </em> (1951, 156 pages) - <code>uc1.$b383411</code>"
      ],
      "text/plain": [
       "<compare_tools.utils.HTID at 0x7f7f56bae3c8>"
      ]
     },
     "metadata": {},
     "output_type": "display_data"
    },
    {
     "name": "stdout",
     "output_type": "stream",
     "text": [
      "240 and 240 items returned\n",
      "defaultdict(<class 'collections.Counter'>, {'<= .9': Counter({True: 39961, False: 36254}), '> .9': Counter({True: 1619, False: 102})})\n"
     ]
    },
    {
     "data": {
      "text/html": [
       "<strong><a href='http://hdl.handle.net/2027/uc1.$b265418'>The tariff; all about it-from its rudiments up, by Nelson A. Dunning...</a></strong> by <em>Dunning, N. A. (Nelson A.) </em> (1912, 218 pages) - <code>uc1.$b265418</code>"
      ],
      "text/plain": [
       "<compare_tools.utils.HTID at 0x7f7f24bc3da0>"
      ]
     },
     "metadata": {},
     "output_type": "display_data"
    },
    {
     "name": "stdout",
     "output_type": "stream",
     "text": [
      "300 and 300 items returned\n",
      "defaultdict(<class 'collections.Counter'>, {'<= .9': Counter({True: 40252, False: 36539}), '> .9': Counter({True: 1628, False: 103})})\n"
     ]
    },
    {
     "data": {
      "text/html": [
       "<strong><a href='http://hdl.handle.net/2027/nyp.33433076046220'>Gloria victis, by J.A. Mitchell ...</a></strong> by <em>Mitchell, John Ames 1845-1918 </em> (1897, 286 pages) - <code>nyp.33433076046220</code>"
      ],
      "text/plain": [
       "<compare_tools.utils.HTID at 0x7f7f4dd2ba90>"
      ]
     },
     "metadata": {},
     "output_type": "display_data"
    },
    {
     "name": "stdout",
     "output_type": "stream",
     "text": [
      "330 and 330 items returned\n",
      "defaultdict(<class 'collections.Counter'>, {'<= .9': Counter({True: 40524, False: 36795}), '> .9': Counter({True: 1686, False: 114})})\n"
     ]
    },
    {
     "data": {
      "text/html": [
       "<strong><a href='http://hdl.handle.net/2027/mdp.39015002243551'>Popular history of Thailand, by M.L. Manich Jumsai.</a></strong> by <em></em> (1972, 556 pages) - <code>mdp.39015002243551</code>"
      ],
      "text/plain": [
       "<compare_tools.utils.HTID at 0x7f7f4d892828>"
      ]
     },
     "metadata": {},
     "output_type": "display_data"
    },
    {
     "name": "stdout",
     "output_type": "stream",
     "text": [
      "660 and 660 items returned\n",
      "defaultdict(<class 'collections.Counter'>, {'<= .9': Counter({True: 41184, False: 37415}), '> .9': Counter({True: 1686, False: 114})})\n"
     ]
    },
    {
     "data": {
      "text/html": [
       "<strong><a href='http://hdl.handle.net/2027/inu.30000055635324'>Basic information.</a></strong> by <em>Caribbean Development Bank </em> (1982, 46 pages) - <code>inu.30000055635324</code>"
      ],
      "text/plain": [
       "<compare_tools.utils.HTID at 0x7f7f4d832438>"
      ]
     },
     "metadata": {},
     "output_type": "display_data"
    },
    {
     "name": "stdout",
     "output_type": "stream",
     "text": [
      "60 and 60 items returned\n",
      "defaultdict(<class 'collections.Counter'>, {'<= .9': Counter({True: 41244, False: 37474}), '> .9': Counter({True: 1686, False: 114})})\n"
     ]
    },
    {
     "data": {
      "text/html": [
       "<strong><a href='http://hdl.handle.net/2027/iau.31858028718017'>The kingdom in history and prophecy, by Lewis Sperry Chafer ... introduction by C. I. Scofield, D.D.</a></strong> by <em>Chafer, Lewis Sperry 1871-1952 </em> (1915, 172 pages) - <code>iau.31858028718017</code>"
      ],
      "text/plain": [
       "<compare_tools.utils.HTID at 0x7f7f5665a7f0>"
      ]
     },
     "metadata": {},
     "output_type": "display_data"
    },
    {
     "name": "stdout",
     "output_type": "stream",
     "text": [
      "270 and 270 items returned\n",
      "defaultdict(<class 'collections.Counter'>, {'<= .9': Counter({True: 41511, False: 37728}), '> .9': Counter({True: 1689, False: 115})})\n"
     ]
    },
    {
     "data": {
      "text/html": [
       "<strong><a href='http://hdl.handle.net/2027/mdp.39015034640600'>Essays on American life and letters / Margaret Fuller ; Joel Myerson, editor.</a></strong> by <em>Fuller, Margaret 1810-1850 ,Myerson, Joel. </em> (1978, 408 pages) - <code>mdp.39015034640600</code>"
      ],
      "text/plain": [
       "<compare_tools.utils.HTID at 0x7f7f25829eb8>"
      ]
     },
     "metadata": {},
     "output_type": "display_data"
    },
    {
     "name": "stdout",
     "output_type": "stream",
     "text": [
      "990 and 990 items returned\n",
      "defaultdict(<class 'collections.Counter'>, {'<= .9': Counter({True: 42452, False: 38561}), '> .9': Counter({True: 1738, False: 118})})\n"
     ]
    },
    {
     "data": {
      "text/html": [
       "<strong><a href='http://hdl.handle.net/2027/uva.x030803630'>Elementary community civics,</a></strong> by <em>Hughes, R. O. (Ray Osgood) 1879-1959 </em> (1922, 504 pages) - <code>uva.x030803630</code>"
      ],
      "text/plain": [
       "<compare_tools.utils.HTID at 0x7f7f4d815198>"
      ]
     },
     "metadata": {},
     "output_type": "display_data"
    },
    {
     "name": "stdout",
     "output_type": "stream",
     "text": [
      "900 and 900 items returned\n",
      "defaultdict(<class 'collections.Counter'>, {'<= .9': Counter({True: 43290, False: 39298}), '> .9': Counter({True: 1800, False: 148})})\n"
     ]
    },
    {
     "data": {
      "text/html": [
       "<strong><a href='http://hdl.handle.net/2027/uc1.b4290260'>Delimitation of parliamentary and assembly constituencies order, 1966.</a></strong> by <em>India Election Commission. </em> (1967, 438 pages) - <code>uc1.b4290260</code>"
      ],
      "text/plain": [
       "<compare_tools.utils.HTID at 0x7f7f57c739b0>"
      ]
     },
     "metadata": {},
     "output_type": "display_data"
    },
    {
     "name": "stdout",
     "output_type": "stream",
     "text": [
      "960 and 960 items returned\n",
      "defaultdict(<class 'collections.Counter'>, {'<= .9': Counter({True: 44221, False: 40212}), '> .9': Counter({True: 1829, False: 151})})\n"
     ]
    },
    {
     "data": {
      "text/html": [
       "<strong><a href='http://hdl.handle.net/2027/uc2.ark:/13960/t7wm1f182'>Washington-Irvine correspondence. The official letters which passed between Washington and Brig.-Gen. William Irvine and between Irvine and others concerning military affairs in the West from 1781 to 1783.</a></strong> by <em>Butterfield, Consul Willshire 1824-1899 ,Irvine, William 1741-1804 ,Washington, George 1732-1799 </em> (1882, 452 pages) - <code>uc2.ark:/13960/t7wm1f182</code>"
      ],
      "text/plain": [
       "<compare_tools.utils.HTID at 0x7f7fd35fea20>"
      ]
     },
     "metadata": {},
     "output_type": "display_data"
    },
    {
     "name": "stdout",
     "output_type": "stream",
     "text": [
      "1260 and 1260 items returned\n",
      "defaultdict(<class 'collections.Counter'>, {'<= .9': Counter({True: 45440, False: 41223}), '> .9': Counter({True: 1870, False: 154})})\n"
     ]
    },
    {
     "data": {
      "text/html": [
       "<strong><a href='http://hdl.handle.net/2027/hvd.ah4egb'>The charges of Samuel Horsley, late Lord Bishop of St. Asaph; delivered at his several visitations of the dioceses of St. David's, Rochester, and St. Asaph.</a></strong> by <em>Horsley, Samuel 1733-1806 </em> (1813, 244 pages) - <code>hvd.ah4egb</code>"
      ],
      "text/plain": [
       "<compare_tools.utils.HTID at 0x7f7f25852198>"
      ]
     },
     "metadata": {},
     "output_type": "display_data"
    },
    {
     "name": "stdout",
     "output_type": "stream",
     "text": [
      "240 and 240 items returned\n",
      "defaultdict(<class 'collections.Counter'>, {'<= .9': Counter({True: 45678, False: 41454}), '> .9': Counter({True: 1872, False: 155})})\n"
     ]
    },
    {
     "data": {
      "text/html": [
       "<strong><a href='http://hdl.handle.net/2027/mdp.39015011545848'>Selected writings / Edward Carpenter.</a></strong> by <em>Carpenter, Edward 1844-1929 ,Greig, Noël. </em> (1984, 328 pages) - <code>mdp.39015011545848</code>"
      ],
      "text/plain": [
       "<compare_tools.utils.HTID at 0x7f7f4d3c1198>"
      ]
     },
     "metadata": {},
     "output_type": "display_data"
    },
    {
     "name": "stdout",
     "output_type": "stream",
     "text": [
      "780 and 780 items returned\n",
      "defaultdict(<class 'collections.Counter'>, {'<= .9': Counter({True: 46448, False: 42196}), '> .9': Counter({True: 1882, False: 159})})\n"
     ]
    },
    {
     "data": {
      "text/html": [
       "<strong><a href='http://hdl.handle.net/2027/uva.x001216865'>The dramatic symphony ; and, The forms of art / Andrei Biely / ; translated by Roger and Angela Keys and translated by John Elsworth.</a></strong> by <em>Bely, Andrey 1880-1934,Bely, Andrey 1880-1934</em> (1987, 200 pages) - <code>uva.x001216865</code>"
      ],
      "text/plain": [
       "<compare_tools.utils.HTID at 0x7f7f57c739b0>"
      ]
     },
     "metadata": {},
     "output_type": "display_data"
    },
    {
     "name": "stdout",
     "output_type": "stream",
     "text": [
      "390 and 390 items returned\n",
      "defaultdict(<class 'collections.Counter'>, {'<= .9': Counter({True: 46838, False: 42586}), '> .9': Counter({True: 1882, False: 159})})\n"
     ]
    },
    {
     "data": {
      "text/html": [
       "<strong><a href='http://hdl.handle.net/2027/mdp.39015065946512'>The institutions of society.</a></strong> by <em>Feibleman, James Kern 1904- </em> (1956, 416 pages) - <code>mdp.39015065946512</code>"
      ],
      "text/plain": [
       "<compare_tools.utils.HTID at 0x7f7f4d3c1208>"
      ]
     },
     "metadata": {},
     "output_type": "display_data"
    },
    {
     "name": "stdout",
     "output_type": "stream",
     "text": [
      "1020 and 1020 items returned\n",
      "defaultdict(<class 'collections.Counter'>, {'<= .9': Counter({True: 47794, False: 43533}), '> .9': Counter({True: 1946, False: 161})})\n"
     ]
    },
    {
     "data": {
      "text/html": [
       "<strong><a href='http://hdl.handle.net/2027/uc2.ark:/13960/t6251jg6z'>Story of the Isle of Man; an historical reader for the Manx schools.</a></strong> by <em>Moore, A. W. (Arthur William) 1853-1909 </em> (1901, 160 pages) - <code>uc2.ark:/13960/t6251jg6z</code>"
      ],
      "text/plain": [
       "<compare_tools.utils.HTID at 0x7f7f24bc3da0>"
      ]
     },
     "metadata": {},
     "output_type": "display_data"
    },
    {
     "name": "stdout",
     "output_type": "stream",
     "text": [
      "210 and 210 items returned\n",
      "defaultdict(<class 'collections.Counter'>, {'<= .9': Counter({True: 47988, False: 43717}), '> .9': Counter({True: 1962, False: 165})})\n"
     ]
    },
    {
     "data": {
      "text/html": [
       "<strong><a href='http://hdl.handle.net/2027/uc1.$b79514'>Systems of electric transmission and distribution; lecture delivered by Charles Proteus Steinmetz before the New York electrical society, November 16,1900</a></strong> by <em></em> (0, 30 pages) - <code>uc1.$b79514</code>"
      ],
      "text/plain": [
       "<compare_tools.utils.HTID at 0x7f7f25829e10>"
      ]
     },
     "metadata": {},
     "output_type": "display_data"
    },
    {
     "name": "stdout",
     "output_type": "stream",
     "text": [
      "60 and 60 items returned\n",
      "defaultdict(<class 'collections.Counter'>, {'<= .9': Counter({True: 48048, False: 43776}), '> .9': Counter({True: 1962, False: 165})})\n"
     ]
    },
    {
     "data": {
      "text/html": [
       "<strong><a href='http://hdl.handle.net/2027/hvd.32044079381224'>The literature of the Kymry: being a critical essay on the history of the language and literature of Wales during the twelth and two succeeding centuries;</a></strong> by <em>Stephens, Thomas 1821-1875 ,Williams, B. T. (Benjamin Thomas) 1832-1890 ,Evans, D. Silvan (Daniel Silvan) 1818-1903 ed. </em> (1876, 558 pages) - <code>hvd.32044079381224</code>"
      ],
      "text/plain": [
       "<compare_tools.utils.HTID at 0x7f7f258460b8>"
      ]
     },
     "metadata": {},
     "output_type": "display_data"
    },
    {
     "name": "stdout",
     "output_type": "stream",
     "text": [
      "1290 and 1290 items returned\n",
      "defaultdict(<class 'collections.Counter'>, {'<= .9': Counter({True: 49254, False: 44868}), '> .9': Counter({True: 2046, False: 173})})\n"
     ]
    },
    {
     "data": {
      "text/html": [
       "<strong><a href='http://hdl.handle.net/2027/uc2.ark:/13960/t0ns0kw9n'>Life of Andrew Jackson. By James Parton ...</a></strong> by <em>Parton, James 1822-1891 </em> (1879, 660 pages) - <code>uc2.ark:/13960/t0ns0kw9n</code>"
      ],
      "text/plain": [
       "<compare_tools.utils.HTID at 0x7f7f5720b3c8>"
      ]
     },
     "metadata": {},
     "output_type": "display_data"
    },
    {
     "name": "stdout",
     "output_type": "stream",
     "text": [
      "1740 and 1740 items returned\n",
      "defaultdict(<class 'collections.Counter'>, {'<= .9': Counter({True: 50919, False: 46371}), '> .9': Counter({True: 2121, False: 180})})\n"
     ]
    },
    {
     "data": {
      "text/html": [
       "<strong><a href='http://hdl.handle.net/2027/uc2.ark:/13960/t52f7nx3b'>Thoughts on the principles of taxation, with reference to a property tax, and its exceptions. By Charles Babbage, esq.</a></strong> by <em>Babbage, Charles 1791-1871 </em> (1851, 40 pages) - <code>uc2.ark:/13960/t52f7nx3b</code>"
      ],
      "text/plain": [
       "<compare_tools.utils.HTID at 0x7f7f4d892828>"
      ]
     },
     "metadata": {},
     "output_type": "display_data"
    },
    {
     "name": "stdout",
     "output_type": "stream",
     "text": [
      "30 and 30 items returned\n",
      "defaultdict(<class 'collections.Counter'>, {'<= .9': Counter({True: 50949, False: 46400}), '> .9': Counter({True: 2121, False: 181})})\n"
     ]
    },
    {
     "data": {
      "text/html": [
       "<strong><a href='http://hdl.handle.net/2027/uc1.b3993810'>Diptera of Patagonia and South Chile, based mainly on material in the British Museum (Natural History) ...</a></strong> by <em>British Museum (Natural History) Dept. of Entomology. ,Alexander, Charles P. (Charles Paul) 1889-1981 </em> (9999, 312 pages) - <code>uc1.b3993810</code>"
      ],
      "text/plain": [
       "<compare_tools.utils.HTID at 0x7f7f4d8220f0>"
      ]
     },
     "metadata": {},
     "output_type": "display_data"
    },
    {
     "name": "stdout",
     "output_type": "stream",
     "text": [
      "810 and 810 items returned\n",
      "defaultdict(<class 'collections.Counter'>, {'<= .9': Counter({True: 51684, False: 46923}), '> .9': Counter({True: 2196, False: 184})})\n"
     ]
    },
    {
     "data": {
      "text/html": [
       "<strong><a href='http://hdl.handle.net/2027/mdp.39015011425439'>Only a clod, in three vols.</a></strong> by <em>Braddon, M. E. (Mary Elizabeth) 1835-1915 </em> (1865, 336 pages) - <code>mdp.39015011425439</code>"
      ],
      "text/plain": [
       "<compare_tools.utils.HTID at 0x7f7f4d8155c0>"
      ]
     },
     "metadata": {},
     "output_type": "display_data"
    },
    {
     "name": "stdout",
     "output_type": "stream",
     "text": [
      "390 and 390 items returned\n",
      "defaultdict(<class 'collections.Counter'>, {'<= .9': Counter({True: 52074, False: 47313}), '> .9': Counter({True: 2196, False: 184})})\n"
     ]
    }
   ],
   "source": [
    "from collections import Counter, defaultdict\n",
    "\n",
    "counts = defaultdict(Counter)\n",
    "for _ in range(50):\n",
    "    j = random_neighbor_search_comparison()\n",
    "\n",
    "    for row in j.itertuples():\n",
    "        if row.sim > .9:\n",
    "            d = \"> .9\"\n",
    "        else:\n",
    "            d = \"<= .9\"\n",
    "        matched = not pd.isna(row.rank)\n",
    "        counts[d][matched] += 1\n",
    "    print(counts)"
   ]
  },
  {
   "cell_type": "markdown",
   "metadata": {},
   "source": [
    "## Summary statistics\n",
    "\n",
    "Print summary statistics for the two breakpoints that I'm using."
   ]
  },
  {
   "cell_type": "code",
   "execution_count": 51,
   "metadata": {},
   "outputs": [
    {
     "name": "stdout",
     "output_type": "stream",
     "text": [
      "For true similarity of > .9, recall by Annoy is 92.269%\n",
      "For true similarity of <= .9, recall by Annoy is 52.395%\n"
     ]
    }
   ],
   "source": [
    "for key in ['> .9', '<= .9']:\n",
    "    t = counts[key][True]\n",
    "    f = counts[key][False]\n",
    "    print(\"For true similarity of {}, recall by Annoy is {:.03%}\".format(key, t/(t+f)))"
   ]
  },
  {
   "cell_type": "markdown",
   "metadata": {},
   "source": [
    "To get matches with distances and ranks in a DataFrame, use `get_named_result_df`. This is useful in higher leel methods."
   ]
  },
  {
   "cell_type": "code",
   "execution_count": 31,
   "metadata": {},
   "outputs": [
    {
     "data": {
      "text/html": [
       "<div>\n",
       "<style scoped>\n",
       "    .dataframe tbody tr th:only-of-type {\n",
       "        vertical-align: middle;\n",
       "    }\n",
       "\n",
       "    .dataframe tbody tr th {\n",
       "        vertical-align: top;\n",
       "    }\n",
       "\n",
       "    .dataframe thead th {\n",
       "        text-align: right;\n",
       "    }\n",
       "</style>\n",
       "<table border=\"1\" class=\"dataframe\">\n",
       "  <thead>\n",
       "    <tr style=\"text-align: right;\">\n",
       "      <th></th>\n",
       "      <th>target</th>\n",
       "      <th>target_seq</th>\n",
       "      <th>match</th>\n",
       "      <th>match_seq</th>\n",
       "      <th>dist</th>\n",
       "      <th>rank</th>\n",
       "    </tr>\n",
       "  </thead>\n",
       "  <tbody>\n",
       "    <tr>\n",
       "      <th>0</th>\n",
       "      <td>mdp.39015002704941</td>\n",
       "      <td>9</td>\n",
       "      <td>mdp.39015002704941</td>\n",
       "      <td>9</td>\n",
       "      <td>0.000083</td>\n",
       "      <td>0</td>\n",
       "    </tr>\n",
       "    <tr>\n",
       "      <th>1</th>\n",
       "      <td>mdp.39015002704941</td>\n",
       "      <td>9</td>\n",
       "      <td>mdp.39015060617787</td>\n",
       "      <td>10</td>\n",
       "      <td>0.723806</td>\n",
       "      <td>1</td>\n",
       "    </tr>\n",
       "    <tr>\n",
       "      <th>2</th>\n",
       "      <td>mdp.39015002704941</td>\n",
       "      <td>9</td>\n",
       "      <td>pst.000033671451</td>\n",
       "      <td>8</td>\n",
       "      <td>0.726845</td>\n",
       "      <td>2</td>\n",
       "    </tr>\n",
       "    <tr>\n",
       "      <th>3</th>\n",
       "      <td>mdp.39015002704941</td>\n",
       "      <td>9</td>\n",
       "      <td>mdp.39015049863924</td>\n",
       "      <td>14</td>\n",
       "      <td>0.731165</td>\n",
       "      <td>3</td>\n",
       "    </tr>\n",
       "    <tr>\n",
       "      <th>4</th>\n",
       "      <td>mdp.39015002704941</td>\n",
       "      <td>9</td>\n",
       "      <td>uc1.$b322952</td>\n",
       "      <td>9</td>\n",
       "      <td>0.739236</td>\n",
       "      <td>4</td>\n",
       "    </tr>\n",
       "    <tr>\n",
       "      <th>5</th>\n",
       "      <td>mdp.39015002704941</td>\n",
       "      <td>9</td>\n",
       "      <td>mdp.39015014771615</td>\n",
       "      <td>4</td>\n",
       "      <td>0.739399</td>\n",
       "      <td>5</td>\n",
       "    </tr>\n",
       "    <tr>\n",
       "      <th>6</th>\n",
       "      <td>mdp.39015002704941</td>\n",
       "      <td>9</td>\n",
       "      <td>mdp.39015050115784</td>\n",
       "      <td>26</td>\n",
       "      <td>0.743193</td>\n",
       "      <td>6</td>\n",
       "    </tr>\n",
       "    <tr>\n",
       "      <th>7</th>\n",
       "      <td>mdp.39015002704941</td>\n",
       "      <td>9</td>\n",
       "      <td>mdp.39015009053367</td>\n",
       "      <td>17</td>\n",
       "      <td>0.744713</td>\n",
       "      <td>7</td>\n",
       "    </tr>\n",
       "    <tr>\n",
       "      <th>8</th>\n",
       "      <td>mdp.39015002704941</td>\n",
       "      <td>9</td>\n",
       "      <td>mdp.39015017926224</td>\n",
       "      <td>19</td>\n",
       "      <td>0.748099</td>\n",
       "      <td>8</td>\n",
       "    </tr>\n",
       "    <tr>\n",
       "      <th>9</th>\n",
       "      <td>mdp.39015002704941</td>\n",
       "      <td>9</td>\n",
       "      <td>mdp.39015009131031</td>\n",
       "      <td>26</td>\n",
       "      <td>0.748813</td>\n",
       "      <td>9</td>\n",
       "    </tr>\n",
       "    <tr>\n",
       "      <th>10</th>\n",
       "      <td>mdp.39015002704941</td>\n",
       "      <td>9</td>\n",
       "      <td>mdp.39015016868302</td>\n",
       "      <td>18</td>\n",
       "      <td>0.750566</td>\n",
       "      <td>10</td>\n",
       "    </tr>\n",
       "    <tr>\n",
       "      <th>11</th>\n",
       "      <td>mdp.39015002704941</td>\n",
       "      <td>9</td>\n",
       "      <td>uc1.32106002088059</td>\n",
       "      <td>15</td>\n",
       "      <td>0.751816</td>\n",
       "      <td>11</td>\n",
       "    </tr>\n",
       "    <tr>\n",
       "      <th>12</th>\n",
       "      <td>mdp.39015002704941</td>\n",
       "      <td>9</td>\n",
       "      <td>mdp.39015011560235</td>\n",
       "      <td>32</td>\n",
       "      <td>0.752278</td>\n",
       "      <td>12</td>\n",
       "    </tr>\n",
       "    <tr>\n",
       "      <th>13</th>\n",
       "      <td>mdp.39015002704941</td>\n",
       "      <td>9</td>\n",
       "      <td>mdp.39015073389226</td>\n",
       "      <td>15</td>\n",
       "      <td>0.753126</td>\n",
       "      <td>13</td>\n",
       "    </tr>\n",
       "    <tr>\n",
       "      <th>14</th>\n",
       "      <td>mdp.39015002704941</td>\n",
       "      <td>9</td>\n",
       "      <td>mdp.49015000561234</td>\n",
       "      <td>15</td>\n",
       "      <td>0.753923</td>\n",
       "      <td>14</td>\n",
       "    </tr>\n",
       "    <tr>\n",
       "      <th>15</th>\n",
       "      <td>mdp.39015002704941</td>\n",
       "      <td>9</td>\n",
       "      <td>uc1.b4099833</td>\n",
       "      <td>15</td>\n",
       "      <td>0.754656</td>\n",
       "      <td>15</td>\n",
       "    </tr>\n",
       "    <tr>\n",
       "      <th>16</th>\n",
       "      <td>mdp.39015002704941</td>\n",
       "      <td>9</td>\n",
       "      <td>mdp.39015040991591</td>\n",
       "      <td>28</td>\n",
       "      <td>0.755592</td>\n",
       "      <td>16</td>\n",
       "    </tr>\n",
       "    <tr>\n",
       "      <th>17</th>\n",
       "      <td>mdp.39015002704941</td>\n",
       "      <td>9</td>\n",
       "      <td>mdp.39015041541015</td>\n",
       "      <td>22</td>\n",
       "      <td>0.756719</td>\n",
       "      <td>17</td>\n",
       "    </tr>\n",
       "    <tr>\n",
       "      <th>18</th>\n",
       "      <td>mdp.39015002704941</td>\n",
       "      <td>9</td>\n",
       "      <td>pst.000030276277</td>\n",
       "      <td>15</td>\n",
       "      <td>0.756952</td>\n",
       "      <td>18</td>\n",
       "    </tr>\n",
       "    <tr>\n",
       "      <th>19</th>\n",
       "      <td>mdp.39015002704941</td>\n",
       "      <td>9</td>\n",
       "      <td>mdp.39015048900511</td>\n",
       "      <td>4</td>\n",
       "      <td>0.759766</td>\n",
       "      <td>19</td>\n",
       "    </tr>\n",
       "    <tr>\n",
       "      <th>20</th>\n",
       "      <td>mdp.39015002704941</td>\n",
       "      <td>9</td>\n",
       "      <td>uc1.$b105381</td>\n",
       "      <td>4</td>\n",
       "      <td>0.761214</td>\n",
       "      <td>20</td>\n",
       "    </tr>\n",
       "    <tr>\n",
       "      <th>21</th>\n",
       "      <td>mdp.39015002704941</td>\n",
       "      <td>9</td>\n",
       "      <td>mdp.39015029475350</td>\n",
       "      <td>15</td>\n",
       "      <td>0.762294</td>\n",
       "      <td>21</td>\n",
       "    </tr>\n",
       "    <tr>\n",
       "      <th>22</th>\n",
       "      <td>mdp.39015002704941</td>\n",
       "      <td>9</td>\n",
       "      <td>mdp.39015027615437</td>\n",
       "      <td>1</td>\n",
       "      <td>0.768379</td>\n",
       "      <td>22</td>\n",
       "    </tr>\n",
       "    <tr>\n",
       "      <th>23</th>\n",
       "      <td>mdp.39015002704941</td>\n",
       "      <td>9</td>\n",
       "      <td>uc1.$b799930</td>\n",
       "      <td>58</td>\n",
       "      <td>0.768521</td>\n",
       "      <td>23</td>\n",
       "    </tr>\n",
       "    <tr>\n",
       "      <th>24</th>\n",
       "      <td>mdp.39015002704941</td>\n",
       "      <td>9</td>\n",
       "      <td>uva.x000180585</td>\n",
       "      <td>15</td>\n",
       "      <td>0.770180</td>\n",
       "      <td>24</td>\n",
       "    </tr>\n",
       "  </tbody>\n",
       "</table>\n",
       "</div>"
      ],
      "text/plain": [
       "                target  target_seq               match  match_seq      dist  \\\n",
       "0   mdp.39015002704941           9  mdp.39015002704941          9  0.000083   \n",
       "1   mdp.39015002704941           9  mdp.39015060617787         10  0.723806   \n",
       "2   mdp.39015002704941           9    pst.000033671451          8  0.726845   \n",
       "3   mdp.39015002704941           9  mdp.39015049863924         14  0.731165   \n",
       "4   mdp.39015002704941           9        uc1.$b322952          9  0.739236   \n",
       "5   mdp.39015002704941           9  mdp.39015014771615          4  0.739399   \n",
       "6   mdp.39015002704941           9  mdp.39015050115784         26  0.743193   \n",
       "7   mdp.39015002704941           9  mdp.39015009053367         17  0.744713   \n",
       "8   mdp.39015002704941           9  mdp.39015017926224         19  0.748099   \n",
       "9   mdp.39015002704941           9  mdp.39015009131031         26  0.748813   \n",
       "10  mdp.39015002704941           9  mdp.39015016868302         18  0.750566   \n",
       "11  mdp.39015002704941           9  uc1.32106002088059         15  0.751816   \n",
       "12  mdp.39015002704941           9  mdp.39015011560235         32  0.752278   \n",
       "13  mdp.39015002704941           9  mdp.39015073389226         15  0.753126   \n",
       "14  mdp.39015002704941           9  mdp.49015000561234         15  0.753923   \n",
       "15  mdp.39015002704941           9        uc1.b4099833         15  0.754656   \n",
       "16  mdp.39015002704941           9  mdp.39015040991591         28  0.755592   \n",
       "17  mdp.39015002704941           9  mdp.39015041541015         22  0.756719   \n",
       "18  mdp.39015002704941           9    pst.000030276277         15  0.756952   \n",
       "19  mdp.39015002704941           9  mdp.39015048900511          4  0.759766   \n",
       "20  mdp.39015002704941           9        uc1.$b105381          4  0.761214   \n",
       "21  mdp.39015002704941           9  mdp.39015029475350         15  0.762294   \n",
       "22  mdp.39015002704941           9  mdp.39015027615437          1  0.768379   \n",
       "23  mdp.39015002704941           9        uc1.$b799930         58  0.768521   \n",
       "24  mdp.39015002704941           9      uva.x000180585         15  0.770180   \n",
       "\n",
       "    rank  \n",
       "0      0  \n",
       "1      1  \n",
       "2      2  \n",
       "3      3  \n",
       "4      4  \n",
       "5      5  \n",
       "6      6  \n",
       "7      7  \n",
       "8      8  \n",
       "9      9  \n",
       "10    10  \n",
       "11    11  \n",
       "12    12  \n",
       "13    13  \n",
       "14    14  \n",
       "15    15  \n",
       "16    16  \n",
       "17    17  \n",
       "18    18  \n",
       "19    19  \n",
       "20    20  \n",
       "21    21  \n",
       "22    22  \n",
       "23    23  \n",
       "24    24  "
      ]
     },
     "execution_count": 31,
     "metadata": {},
     "output_type": "execute_result"
    }
   ],
   "source": [
    "# The self-match is dropped, so n=5 returns 4 results. Changing\n",
    "# that in code seemed more confusing, since the n elsewhere includes\n",
    "# the self-match\n",
    "ann.get_named_result_df(mtid='mdp.39015002704628-0030', n=25)"
   ]
  },
  {
   "cell_type": "markdown",
   "metadata": {},
   "source": [
    "Metadata is in `ann.ind`"
   ]
  }
 ],
 "metadata": {
  "kernelspec": {
   "display_name": "conda_base",
   "language": "python",
   "name": "conda_base"
  },
  "language_info": {
   "codemirror_mode": {
    "name": "ipython",
    "version": 3
   },
   "file_extension": ".py",
   "mimetype": "text/x-python",
   "name": "python",
   "nbconvert_exporter": "python",
   "pygments_lexer": "ipython3",
   "version": "3.7.3"
  }
 },
 "nbformat": 4,
 "nbformat_minor": 2
}

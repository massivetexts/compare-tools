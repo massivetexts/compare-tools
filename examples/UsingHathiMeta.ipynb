{
 "cells": [
  {
   "cell_type": "markdown",
   "metadata": {},
   "source": [
    "# Using HathiMeta"
   ]
  },
  {
   "cell_type": "code",
   "execution_count": 1,
   "metadata": {},
   "outputs": [
    {
     "data": {
      "text/plain": [
       "dict_keys(['rsync_root', 'glove_data_path', 'srp_data_path', 'meta_path'])"
      ]
     },
     "execution_count": 1,
     "metadata": {},
     "output_type": "execute_result"
    }
   ],
   "source": [
    "%load_ext autoreload\n",
    "%autoreload 2\n",
    "from compare_tools.utils import HathiMeta\n",
    "\n",
    "# Load config and print keys\n",
    "import yaml\n",
    "with open('../local.yaml') as f:\n",
    "    config = yaml.safe_load(f)\n",
    "config.keys()"
   ]
  },
  {
   "cell_type": "markdown",
   "metadata": {},
   "source": [
    "## Connecting to the DB\n",
    "\n",
    "If no DB path is specified, a temporary in-memory database is created."
   ]
  },
  {
   "cell_type": "code",
   "execution_count": 6,
   "metadata": {},
   "outputs": [],
   "source": [
    "meta = HathiMeta('test.db')"
   ]
  },
  {
   "cell_type": "markdown",
   "metadata": {},
   "source": [
    "### First time: Building DB\n",
    "\n",
    "If you haven't yet ingested the [Hathifiles](https://www.hathitrust.org/hathifiles) or have a transient in-memory db, you'll need to run `create_db`:"
   ]
  },
  {
   "cell_type": "code",
   "execution_count": 3,
   "metadata": {},
   "outputs": [
    {
     "name": "stdout",
     "output_type": "stream",
     "text": [
      "0, 1, 2, 3, 4, 5, "
     ]
    }
   ],
   "source": [
    "meta.create_db(config['meta_path'])"
   ]
  },
  {
   "cell_type": "markdown",
   "metadata": {},
   "source": [
    "## Access"
   ]
  },
  {
   "cell_type": "code",
   "execution_count": 9,
   "metadata": {},
   "outputs": [
    {
     "data": {
      "text/plain": [
       "143864"
      ]
     },
     "execution_count": 9,
     "metadata": {},
     "output_type": "execute_result"
    }
   ],
   "source": [
    "len(meta)"
   ]
  },
  {
   "cell_type": "code",
   "execution_count": 8,
   "metadata": {},
   "outputs": [
    {
     "data": {
      "text/plain": [
       "htid                                               uiuo.ark:/13960/t6g20tp0c\n",
       "access                                                                 allow\n",
       "rights                                                                    pd\n",
       "ht_bib_key                                                          11639242\n",
       "description                                                             v.13\n",
       "source                                                                   UIU\n",
       "source_bib_num                                                       2420951\n",
       "oclc_num                                                            49472649\n",
       "isbn                                                                    None\n",
       "issn                                                                    None\n",
       "lccn                                                                    None\n",
       "title                      Standard shop efficiency schedules, by Henry W...\n",
       "imprint                                               Crane & company, 1910-\n",
       "rights_reason_code                                                       bib\n",
       "rights_timestamp                                         2016-09-05 03:25:13\n",
       "us_gov_doc_flag                                                            0\n",
       "rights_date_used                                                        1910\n",
       "pub_place                                                                ksu\n",
       "lang                                                                     eng\n",
       "bib_fmt                                                                   BK\n",
       "collection_code                                                        IUIUC\n",
       "content_provider_code                                               illinois\n",
       "responsible_entity_code                                             illinois\n",
       "digitization_agent_code                                                   ia\n",
       "access_profile_code                                                     open\n",
       "author                                          Jacobs, Henry William, 1874-\n",
       "Name: 0, dtype: object"
      ]
     },
     "execution_count": 8,
     "metadata": {},
     "output_type": "execute_result"
    }
   ],
   "source": [
    "meta['uiuo.ark:/13960/t6g20tp0c']"
   ]
  },
  {
   "cell_type": "code",
   "execution_count": 10,
   "metadata": {},
   "outputs": [
    {
     "data": {
      "text/plain": [
       "title          Standard shop efficiency schedules, by Henry W...\n",
       "author                              Jacobs, Henry William, 1874-\n",
       "description                                                 v.13\n",
       "Name: 0, dtype: object"
      ]
     },
     "execution_count": 10,
     "metadata": {},
     "output_type": "execute_result"
    }
   ],
   "source": [
    "meta.default_fields = ['title', 'author', 'description']\n",
    "meta['uiuo.ark:/13960/t6g20tp0c']"
   ]
  }
 ],
 "metadata": {
  "kernelspec": {
   "display_name": "Python 3",
   "language": "python",
   "name": "python3"
  },
  "language_info": {
   "codemirror_mode": {
    "name": "ipython",
    "version": 3
   },
   "file_extension": ".py",
   "mimetype": "text/x-python",
   "name": "python",
   "nbconvert_exporter": "python",
   "pygments_lexer": "ipython3",
   "version": "3.6.7"
  }
 },
 "nbformat": 4,
 "nbformat_minor": 4
}

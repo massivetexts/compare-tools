{
 "cells": [
  {
   "cell_type": "markdown",
   "metadata": {},
   "source": [
    "# Using HathiMeta"
   ]
  },
  {
   "cell_type": "code",
   "execution_count": 6,
   "metadata": {},
   "outputs": [
    {
     "name": "stdout",
     "output_type": "stream",
     "text": [
      "The autoreload extension is already loaded. To reload it, use:\n",
      "  %reload_ext autoreload\n"
     ]
    }
   ],
   "source": [
    "%load_ext autoreload\n",
    "%autoreload 2\n",
    "from compare_tools.hathimeta import HathiMeta, get_json_meta\n",
    "from compare_tools.configuration import config"
   ]
  },
  {
   "cell_type": "markdown",
   "metadata": {},
   "source": [
    "## Connecting to the DB\n",
    "\n",
    "If no DB path is specified, a temporary in-memory database is created."
   ]
  },
  {
   "cell_type": "code",
   "execution_count": 8,
   "metadata": {},
   "outputs": [
    {
     "name": "stdout",
     "output_type": "stream",
     "text": [
      "Creating DB at /data/saddl/meta.db\n"
     ]
    }
   ],
   "source": [
    "print('Creating DB at', config['metadb_path'])\n",
    "meta = HathiMeta(config['metadb_path'])"
   ]
  },
  {
   "cell_type": "markdown",
   "metadata": {},
   "source": [
    "### First time: Building DB\n",
    "\n",
    "If you haven't yet ingested the [Hathifiles](https://www.hathitrust.org/hathifiles) or have a transient in-memory db, you'll need to run `create_db`:"
   ]
  },
  {
   "cell_type": "code",
   "execution_count": 3,
   "metadata": {},
   "outputs": [
    {
     "name": "stdout",
     "output_type": "stream",
     "text": [
      "0, 1, 2, 3, 4, 5, "
     ]
    }
   ],
   "source": [
    "meta.create_db(config['meta_path'])"
   ]
  },
  {
   "cell_type": "markdown",
   "metadata": {},
   "source": [
    "## Access"
   ]
  },
  {
   "cell_type": "code",
   "execution_count": 9,
   "metadata": {},
   "outputs": [
    {
     "data": {
      "text/plain": [
       "143864"
      ]
     },
     "execution_count": 9,
     "metadata": {},
     "output_type": "execute_result"
    }
   ],
   "source": [
    "len(meta)"
   ]
  },
  {
   "cell_type": "code",
   "execution_count": 11,
   "metadata": {},
   "outputs": [
    {
     "data": {
      "text/plain": [
       "htid                                               uiuo.ark:/13960/t6g20tp0c\n",
       "access                                                                 allow\n",
       "rights                                                                    pd\n",
       "ht_bib_key                                                          11639242\n",
       "description                                                             v.13\n",
       "source                                                                   UIU\n",
       "source_bib_num                                                       2420951\n",
       "oclc_num                                                            49472649\n",
       "isbn                                                                    None\n",
       "issn                                                                    None\n",
       "lccn                                                                    None\n",
       "title                      Standard shop efficiency schedules, by Henry W...\n",
       "imprint                                               Crane & company, 1910-\n",
       "rights_reason_code                                                       bib\n",
       "rights_timestamp                                         2016-09-05 03:25:13\n",
       "us_gov_doc_flag                                                            0\n",
       "rights_date_used                                                        1910\n",
       "pub_place                                                                ksu\n",
       "lang                                                                     eng\n",
       "bib_fmt                                                                   BK\n",
       "collection_code                                                        IUIUC\n",
       "content_provider_code                                               illinois\n",
       "responsible_entity_code                                             illinois\n",
       "digitization_agent_code                                                   ia\n",
       "access_profile_code                                                     open\n",
       "author                                          Jacobs, Henry William, 1874-\n",
       "page_count                                                               800\n",
       "Name: 0, dtype: object"
      ]
     },
     "execution_count": 11,
     "metadata": {},
     "output_type": "execute_result"
    }
   ],
   "source": [
    "meta['uiuo.ark:/13960/t6g20tp0c']"
   ]
  },
  {
   "cell_type": "code",
   "execution_count": 12,
   "metadata": {},
   "outputs": [
    {
     "data": {
      "text/plain": [
       "title          Standard shop efficiency schedules, by Henry W...\n",
       "author                              Jacobs, Henry William, 1874-\n",
       "description                                                 v.13\n",
       "Name: 0, dtype: object"
      ]
     },
     "execution_count": 12,
     "metadata": {},
     "output_type": "execute_result"
    }
   ],
   "source": [
    "meta.default_fields = ['title', 'author', 'description']\n",
    "meta['uiuo.ark:/13960/t6g20tp0c']"
   ]
  },
  {
   "cell_type": "markdown",
   "metadata": {},
   "source": [
    "## Extending DB\n",
    "\n",
    "For the SADDL project, we extend the metadata with page_count info, which is available in the Extracted Features data. This is done by passing a basic DataFrame with [htid, newcol1, newcol2] to `extend_db`."
   ]
  },
  {
   "cell_type": "code",
   "execution_count": null,
   "metadata": {},
   "outputs": [],
   "source": [
    "htids = meta.get_fields(['htid'])\n",
    "htids['page_count'] = htids.htid.apply(lambda x: get_json_meta(x, config['parquet_root'])['page_count'])\n",
    "htids.head(2)"
   ]
  },
  {
   "cell_type": "code",
   "execution_count": 10,
   "metadata": {},
   "outputs": [],
   "source": [
    "# Where the magic happens\n",
    "meta.extend_db(htids)"
   ]
  },
  {
   "cell_type": "code",
   "execution_count": 14,
   "metadata": {},
   "outputs": [
    {
     "data": {
      "text/plain": [
       "htid                                  uiuo.ark:/13960/t6g20tp0c\n",
       "title         Standard shop efficiency schedules, by Henry W...\n",
       "page_count                                                  800\n",
       "Name: 0, dtype: object"
      ]
     },
     "execution_count": 14,
     "metadata": {},
     "output_type": "execute_result"
    }
   ],
   "source": [
    "meta.get_volume('uiuo.ark:/13960/t6g20tp0c', ['htid', 'title', 'page_count'])"
   ]
  }
 ],
 "metadata": {
  "kernelspec": {
   "display_name": "Python 3",
   "language": "python",
   "name": "python3"
  },
  "language_info": {
   "codemirror_mode": {
    "name": "ipython",
    "version": 3
   },
   "file_extension": ".py",
   "mimetype": "text/x-python",
   "name": "python",
   "nbconvert_exporter": "python",
   "pygments_lexer": "ipython3",
   "version": "3.6.7"
  }
 },
 "nbformat": 4,
 "nbformat_minor": 4
}

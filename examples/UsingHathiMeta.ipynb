{
 "cells": [
  {
   "cell_type": "markdown",
   "metadata": {},
   "source": [
    "# Using HathiMeta\n",
    "\n",
    "** Update, SQLite3 seems to have issues, so I replaced it with a dask+parquet backend. **"
   ]
  },
  {
   "cell_type": "code",
   "execution_count": 36,
   "metadata": {},
   "outputs": [],
   "source": [
    "import dask.dataframe as dd\n",
    "import pandas as pd"
   ]
  },
  {
   "cell_type": "code",
   "execution_count": 1,
   "metadata": {},
   "outputs": [],
   "source": [
    "%load_ext autoreload\n",
    "%autoreload 2\n",
    "from compare_tools.hathimeta import HathiMeta, get_json_meta\n",
    "from compare_tools.configuration import config\n",
    "config.update(config['full'])"
   ]
  },
  {
   "cell_type": "markdown",
   "metadata": {},
   "source": [
    "## Connecting to the Metadata store"
   ]
  },
  {
   "cell_type": "code",
   "execution_count": 37,
   "metadata": {},
   "outputs": [
    {
     "name": "stdout",
     "output_type": "stream",
     "text": [
      "Connecting to store at /data/saddl/meta.parquet\n"
     ]
    }
   ],
   "source": [
    "print('Connecting to store at', config['metadb_path'])\n",
    "meta = HathiMeta(config['metadb_path'])"
   ]
  },
  {
   "cell_type": "markdown",
   "metadata": {},
   "source": [
    "### First time: Building DB\n",
    "\n",
    "If you haven't yet ingested the [Hathifiles](https://www.hathitrust.org/hathifiles) or have a transient in-memory db, you'll need to run `create_db`:"
   ]
  },
  {
   "cell_type": "code",
   "execution_count": null,
   "metadata": {},
   "outputs": [
    {
     "name": "stdout",
     "output_type": "stream",
     "text": [
      "0, 1, 2, 3, 4, 5, 6, 7, 8, 9, 10, 11, 12, 13, 14, 15, 16, 17, 18, 19, 20, 21, 22, 23, 24, 25, 26, 27, 28, 29, 30, 31, 32, 33, 34, 35, 36, 37, 38, 39, 40, 41, 42, 43, 44, 45, 46, 47, 48, 49, 50, 51, 52, 53, 54, 55, 56, 57, 58, 59, 60, 61, 62, 63, 64, 65, 66, 67, 68, 69, 70, 71, 72, 73, 74, 75, 76, 77, 78, 79, 80, 81, 82, 83, 84, 85, 86, 87, 88, 89, 90, 91, 92, 93, 94, 95, 96, 97, 98, 99, 100, 101, 102, 103, 104, 105, 106, 107, 108, 109, 110, 111, 112, 113, 114, 115, 116, 117, 118, 119, 120, 121, 122, 123, 124, 125, 126, 127, 128, 129, 130, 131, 132, 133, 134, 135, 136, 137, 138, 139, 140, 141, 142, 143, 144, 145, 146, 147, 148, 149, 150, 151, 152, 153, 154, 155, 156, 157, 158, 159, 160, 161, 162, 163, 164, 165, 166, 167, 168, 169, 170, 171, 172, 173, 174, 175, 176, 177, 178, 179, 180, 181, 182, 183, 184, 185, 186, 187, 188, 189, 190, 191, 192, 193, 194, 195, 196, 197, 198, 199, 200, 201, 202, 203, 204, 205, 206, 207, 208, 209, 210, 211, 212, 213, 214, 215, 216, 217, 218, 219, 220, 221, 222, 223, 224, 225, 226, 227, 228, 229, 230, 231, 232, 233, 234, 235, 236, 237, 238, 239, 240, 241, 242, 243, 244, 245, 246, 247, 248, 249, 250, "
     ]
    }
   ],
   "source": [
    "meta.create_db(config['meta_path'])"
   ]
  },
  {
   "cell_type": "markdown",
   "metadata": {},
   "source": [
    "## Access"
   ]
  },
  {
   "cell_type": "code",
   "execution_count": 217,
   "metadata": {},
   "outputs": [
    {
     "data": {
      "text/plain": [
       "access                                                                 allow\n",
       "rights                                                                    pd\n",
       "ht_bib_key                                                          11639242\n",
       "description                                                             v.13\n",
       "source                                                                   UIU\n",
       "source_bib_num                                                       2420951\n",
       "oclc_num                                                            49472649\n",
       "isbn                                                                    None\n",
       "issn                                                                    None\n",
       "lccn                                                                    None\n",
       "title                      Standard shop efficiency schedules, by Henry W...\n",
       "imprint                                               Crane & company, 1910-\n",
       "rights_reason_code                                                       bib\n",
       "rights_timestamp                                         2016-09-05 03:25:13\n",
       "us_gov_doc_flag                                                            0\n",
       "rights_date_used                                                      1910.0\n",
       "pub_place                                                                ksu\n",
       "lang                                                                     eng\n",
       "bib_fmt                                                                   BK\n",
       "collection_code                                                        IUIUC\n",
       "content_provider_code                                               illinois\n",
       "responsible_entity_code                                             illinois\n",
       "digitization_agent_code                                                   ia\n",
       "access_profile_code                                                     open\n",
       "author                                          Jacobs, Henry William, 1874-\n",
       "Name: uiuo.ark:/13960/t6g20tp0c, dtype: object"
      ]
     },
     "execution_count": 217,
     "metadata": {},
     "output_type": "execute_result"
    }
   ],
   "source": [
    "meta['uiuo.ark:/13960/t6g20tp0c']"
   ]
  },
  {
   "cell_type": "code",
   "execution_count": 218,
   "metadata": {},
   "outputs": [
    {
     "data": {
      "text/plain": [
       "title          Standard shop efficiency schedules, by Henry W...\n",
       "author                              Jacobs, Henry William, 1874-\n",
       "description                                                 v.13\n",
       "Name: uiuo.ark:/13960/t6g20tp0c, dtype: object"
      ]
     },
     "execution_count": 218,
     "metadata": {},
     "output_type": "execute_result"
    }
   ],
   "source": [
    "meta.default_fields = ['title', 'author', 'description']\n",
    "meta['uiuo.ark:/13960/t6g20tp0c']"
   ]
  },
  {
   "cell_type": "markdown",
   "metadata": {},
   "source": [
    "### Get a random item"
   ]
  },
  {
   "cell_type": "code",
   "execution_count": 212,
   "metadata": {},
   "outputs": [
    {
     "data": {
      "text/plain": [
       "title          Agricultural economic report / United States D...\n",
       "author                                                      None\n",
       "description                                      no.111-120 1967\n",
       "Name: osu.32435030095483, dtype: object"
      ]
     },
     "execution_count": 212,
     "metadata": {},
     "output_type": "execute_result"
    }
   ],
   "source": [
    "meta.sample()"
   ]
  },
  {
   "cell_type": "code",
   "execution_count": 213,
   "metadata": {},
   "outputs": [
    {
     "data": {
      "text/html": [
       "<div>\n",
       "<style scoped>\n",
       "    .dataframe tbody tr th:only-of-type {\n",
       "        vertical-align: middle;\n",
       "    }\n",
       "\n",
       "    .dataframe tbody tr th {\n",
       "        vertical-align: top;\n",
       "    }\n",
       "\n",
       "    .dataframe thead th {\n",
       "        text-align: right;\n",
       "    }\n",
       "</style>\n",
       "<table border=\"1\" class=\"dataframe\">\n",
       "  <thead>\n",
       "    <tr style=\"text-align: right;\">\n",
       "      <th></th>\n",
       "      <th>title</th>\n",
       "      <th>author</th>\n",
       "      <th>description</th>\n",
       "    </tr>\n",
       "    <tr>\n",
       "      <th>htid</th>\n",
       "      <th></th>\n",
       "      <th></th>\n",
       "      <th></th>\n",
       "    </tr>\n",
       "  </thead>\n",
       "  <tbody>\n",
       "    <tr>\n",
       "      <th>wu.89098276231</th>\n",
       "      <td>A comparison of perceptions of hypertensives a...</td>\n",
       "      <td>Stright, Patricia A.</td>\n",
       "      <td>None</td>\n",
       "    </tr>\n",
       "    <tr>\n",
       "      <th>wu.89085940294</th>\n",
       "      <td>Introductory index of Norwegian handicrafts de...</td>\n",
       "      <td>Smedal, Elaine Alvine Gudrun, 1922-</td>\n",
       "      <td>None</td>\n",
       "    </tr>\n",
       "  </tbody>\n",
       "</table>\n",
       "</div>"
      ],
      "text/plain": [
       "                                                            title  \\\n",
       "htid                                                                \n",
       "wu.89098276231  A comparison of perceptions of hypertensives a...   \n",
       "wu.89085940294  Introductory index of Norwegian handicrafts de...   \n",
       "\n",
       "                                             author description  \n",
       "htid                                                             \n",
       "wu.89098276231                 Stright, Patricia A.        None  \n",
       "wu.89085940294  Smedal, Elaine Alvine Gudrun, 1922-        None  "
      ]
     },
     "execution_count": 213,
     "metadata": {},
     "output_type": "execute_result"
    }
   ],
   "source": [
    "meta.sample(2)"
   ]
  },
  {
   "cell_type": "markdown",
   "metadata": {},
   "source": [
    "## Get the full table\n",
    "\n",
    "This isn't the primary use for HathiMeta, but it may be convenient. Chunk iteration is supported."
   ]
  },
  {
   "cell_type": "code",
   "execution_count": 219,
   "metadata": {},
   "outputs": [
    {
     "data": {
      "text/plain": [
       "(8741223, 2)"
      ]
     },
     "execution_count": 219,
     "metadata": {},
     "output_type": "execute_result"
    }
   ],
   "source": [
    "meta.get_fields(fields=['title', 'description']).shape"
   ]
  },
  {
   "cell_type": "code",
   "execution_count": 230,
   "metadata": {},
   "outputs": [
    {
     "name": "stdout",
     "output_type": "stream",
     "text": [
      "0 Memorials of the life of Edward & Lydia Ann Jackson by N. Burwash ; with discourses preached in the Centenary Church, Hamilton, on the occasion of their death / by W.J. Hunter and John Potts.\n",
      "10 Official Army register for ... / Adjutant General's Office.\n",
      "20 Message to the Legislature / State of New York.\n",
      "30 South Tarawa report on the 1990 & 1995 census of population.\n",
      "40 Worcester sects; or, A history of the Roman Catholics & dissenters of Worcester ...\n",
      "50 The Yanomami Indian Park : a call for action : a report / by the Anthropology Resource Center.\n",
      "60 Annual report\n",
      "70 The functional versus the representational theories of knowledge in Locke's Essay.\n",
      "80 U.S. Forest Service research note PNW / Pacific Northwest Forest and Range Experiment Station.\n"
     ]
    }
   ],
   "source": [
    "chunks = meta.get_fields(fields=['title', 'description'], by_partition=True)\n",
    "for i, chunk in enumerate(chunks):\n",
    "    if i % 10 == 0:\n",
    "        print(i, chunk.iloc[0]['title'])"
   ]
  },
  {
   "cell_type": "markdown",
   "metadata": {},
   "source": [
    "## Extending DB\n",
    "\n",
    "For the SADDL project, we extend the metadata with page_count info, which is available in the Extracted Features data. This is done by passing a basic DataFrame with [htid, newcol1, newcol2] to `extend_db`."
   ]
  },
  {
   "cell_type": "code",
   "execution_count": null,
   "metadata": {},
   "outputs": [],
   "source": [
    "### if not precomputed, pull from EF data:\n",
    "#htids = meta.get_fields(['htid'])\n",
    "#htids['page_count'] = htids.htid.apply(lambda x: get_json_meta(x, config['parquet_root'])['page_count'])\n",
    "#htids.head(2)\n",
    "page_counts = pd.read_csv('/data/hathifiles/page_counts.csv', sep='\\t', names=['htid', 'page_count']).set_index('htid')"
   ]
  },
  {
   "cell_type": "code",
   "execution_count": 10,
   "metadata": {},
   "outputs": [],
   "source": [
    "# Where the magic happens\n",
    "meta.extend_db(page_counts)"
   ]
  },
  {
   "cell_type": "code",
   "execution_count": 52,
   "metadata": {},
   "outputs": [
    {
     "data": {
      "text/plain": [
       "title         Standard shop efficiency schedules, by Henry W...\n",
       "page_count                                                  800\n",
       "Name: uiuo.ark:/13960/t6g20tp0c, dtype: object"
      ]
     },
     "execution_count": 52,
     "metadata": {},
     "output_type": "execute_result"
    }
   ],
   "source": [
    "meta.get_volume('uiuo.ark:/13960/t6g20tp0c', ['title', 'page_count'])"
   ]
  },
  {
   "cell_type": "markdown",
   "metadata": {},
   "source": [
    "Another activity done regularly in running a normalization action on the description field and the title field."
   ]
  },
  {
   "cell_type": "code",
   "execution_count": 3,
   "metadata": {},
   "outputs": [
    {
     "data": {
      "text/plain": [
       "(8741305, 3)"
      ]
     },
     "execution_count": 3,
     "metadata": {},
     "output_type": "execute_result"
    }
   ],
   "source": [
    "from compare_tools.hathimeta import clean_description, clean_title\n",
    "to_clean = meta.get_fields(['htid', 'title', 'description'])\n",
    "# These functions are inconsistently designed, I know - clean_title is an elementwise apply,\n",
    "# where clean_description uses the vectorized string methods in Pandas, so it takes a column (Series) as input\n",
    "to_clean['clean_title'] = to_clean.title.fillna('').apply(clean_title)\n",
    "to_clean['clean_description'] = clean_description(to_clean.description)\n",
    "meta.extend_db(to_clean[['htid', 'clean_title', 'clean_description']])\n",
    "to_clean.shape"
   ]
  },
  {
   "cell_type": "markdown",
   "metadata": {},
   "source": [
    "#### Command-Line Alt\n",
    "The `apply` in the first step might be inefficient at scale, so there's a script for extracting a metadata field from all of EF which can be parallelized (minimally, because of I/O), and then the page counts can be cross-referenced later. e.g.\n",
    "\n",
    "`cat all-eng-ef-hathifiles-11-18.txt | parallel --eta -n1000 -j2 python extract_ef_meta.py {} >/data/hathifiles/page_counts.csv`"
   ]
  },
  {
   "cell_type": "code",
   "execution_count": null,
   "metadata": {},
   "outputs": [],
   "source": [
    "import pandas as pd\n",
    "import numpy as np\n",
    "pc = pd.read_csv('/data/hathifiles/page_counts.csv', sep='\\t', names=['htid', 'page_count'])\n",
    "pc.page_count = pc.page_count.replace('None',np.nan)\n",
    "meta.extend_db(pc)"
   ]
  }
 ],
 "metadata": {
  "kernelspec": {
   "display_name": "Python 3",
   "language": "python",
   "name": "python3"
  },
  "language_info": {
   "codemirror_mode": {
    "name": "ipython",
    "version": 3
   },
   "file_extension": ".py",
   "mimetype": "text/x-python",
   "name": "python",
   "nbconvert_exporter": "python",
   "pygments_lexer": "ipython3",
   "version": "3.8.8"
  }
 },
 "nbformat": 4,
 "nbformat_minor": 4
}

{
 "cells": [
  {
   "cell_type": "markdown",
   "metadata": {},
   "source": [
    "# Using HathiMeta"
   ]
  },
  {
   "cell_type": "code",
   "execution_count": null,
   "metadata": {},
   "outputs": [],
   "source": [
    "%load_ext autoreload\n",
    "%autoreload 2\n",
    "from compare_tools.hathimeta import HathiMeta, get_json_meta\n",
    "from compare_tools.configuration import config\n",
    "config.update(config['full'])"
   ]
  },
  {
   "cell_type": "markdown",
   "metadata": {},
   "source": [
    "## Connecting to the DB\n",
    "\n",
    "If no DB path is specified, a temporary in-memory database is created."
   ]
  },
  {
   "cell_type": "code",
   "execution_count": 4,
   "metadata": {},
   "outputs": [
    {
     "name": "stdout",
     "output_type": "stream",
     "text": [
      "Creating DB at /data/saddl/meta.db\n"
     ]
    }
   ],
   "source": [
    "print('Creating DB at', config['metadb_path'])\n",
    "meta = HathiMeta(config['metadb_path'])"
   ]
  },
  {
   "cell_type": "markdown",
   "metadata": {},
   "source": [
    "### First time: Building DB\n",
    "\n",
    "If you haven't yet ingested the [Hathifiles](https://www.hathitrust.org/hathifiles) or have a transient in-memory db, you'll need to run `create_db`:"
   ]
  },
  {
   "cell_type": "code",
   "execution_count": null,
   "metadata": {},
   "outputs": [
    {
     "name": "stdout",
     "output_type": "stream",
     "text": [
      "0, 1, 2, 3, 4, 5, 6, 7, 8, 9, 10, 11, 12, 13, 14, 15, 16, 17, 18, 19, 20, 21, 22, 23, 24, 25, 26, 27, 28, 29, 30, 31, 32, 33, 34, 35, 36, 37, 38, 39, 40, 41, 42, 43, 44, 45, 46, 47, 48, 49, 50, 51, 52, 53, 54, 55, 56, 57, 58, 59, 60, 61, 62, 63, 64, 65, 66, 67, 68, 69, 70, 71, 72, 73, 74, 75, 76, 77, 78, 79, 80, 81, 82, 83, 84, 85, 86, 87, 88, 89, 90, 91, 92, 93, 94, 95, 96, 97, 98, 99, 100, 101, 102, 103, 104, 105, 106, 107, 108, 109, 110, 111, 112, 113, 114, 115, 116, 117, 118, 119, 120, 121, 122, 123, 124, 125, 126, 127, 128, 129, 130, 131, 132, 133, 134, 135, 136, 137, 138, 139, 140, 141, 142, 143, 144, 145, 146, 147, 148, 149, 150, 151, 152, 153, 154, 155, 156, 157, 158, 159, 160, 161, 162, 163, 164, 165, 166, 167, 168, 169, 170, 171, 172, 173, 174, 175, 176, 177, 178, 179, 180, 181, 182, 183, 184, 185, 186, 187, 188, 189, 190, 191, 192, 193, 194, 195, 196, 197, 198, 199, 200, 201, 202, 203, 204, 205, 206, 207, 208, 209, 210, 211, 212, 213, 214, 215, 216, 217, 218, 219, 220, 221, 222, 223, 224, 225, 226, 227, 228, 229, 230, 231, 232, 233, 234, 235, 236, 237, 238, 239, 240, 241, 242, 243, 244, 245, 246, 247, 248, 249, 250, 251, 252, 253, 254, 255, 256, 257, 258, 259, 260, 261, 262, 263, 264, 265, 266, 267, 268, 269, 270, 271, 272, 273, 274, 275, 276, 277, 278, 279, 280, 281, "
     ]
    }
   ],
   "source": [
    "meta.create_db(config['meta_path'])"
   ]
  },
  {
   "cell_type": "markdown",
   "metadata": {},
   "source": [
    "## Access"
   ]
  },
  {
   "cell_type": "code",
   "execution_count": 9,
   "metadata": {},
   "outputs": [
    {
     "data": {
      "text/plain": [
       "8741305"
      ]
     },
     "execution_count": 9,
     "metadata": {},
     "output_type": "execute_result"
    }
   ],
   "source": [
    "len(meta)"
   ]
  },
  {
   "cell_type": "code",
   "execution_count": 7,
   "metadata": {},
   "outputs": [
    {
     "data": {
      "text/plain": [
       "htid                                               uiuo.ark:/13960/t6g20tp0c\n",
       "access                                                                 allow\n",
       "rights                                                                    pd\n",
       "ht_bib_key                                                          11639242\n",
       "description                                                             v.13\n",
       "source                                                                   UIU\n",
       "source_bib_num                                                       2420951\n",
       "oclc_num                                                            49472649\n",
       "isbn                                                                    None\n",
       "issn                                                                    None\n",
       "lccn                                                                    None\n",
       "title                      Standard shop efficiency schedules, by Henry W...\n",
       "imprint                                               Crane & company, 1910-\n",
       "rights_reason_code                                                       bib\n",
       "rights_timestamp                                         2016-09-05 03:25:13\n",
       "us_gov_doc_flag                                                            0\n",
       "rights_date_used                                                        1910\n",
       "pub_place                                                                ksu\n",
       "lang                                                                     eng\n",
       "bib_fmt                                                                   BK\n",
       "collection_code                                                        IUIUC\n",
       "content_provider_code                                               illinois\n",
       "responsible_entity_code                                             illinois\n",
       "digitization_agent_code                                                   ia\n",
       "access_profile_code                                                     open\n",
       "author                                          Jacobs, Henry William, 1874-\n",
       "page_count                                                               800\n",
       "Name: 0, dtype: object"
      ]
     },
     "execution_count": 7,
     "metadata": {},
     "output_type": "execute_result"
    }
   ],
   "source": [
    "meta['uiuo.ark:/13960/t6g20tp0c']"
   ]
  },
  {
   "cell_type": "code",
   "execution_count": 8,
   "metadata": {},
   "outputs": [
    {
     "data": {
      "text/plain": [
       "title          Standard shop efficiency schedules, by Henry W...\n",
       "author                              Jacobs, Henry William, 1874-\n",
       "description                                                 v.13\n",
       "Name: 0, dtype: object"
      ]
     },
     "execution_count": 8,
     "metadata": {},
     "output_type": "execute_result"
    }
   ],
   "source": [
    "meta.default_fields = ['title', 'author', 'description']\n",
    "meta['uiuo.ark:/13960/t6g20tp0c']"
   ]
  },
  {
   "cell_type": "markdown",
   "metadata": {},
   "source": [
    "### Get a random item"
   ]
  },
  {
   "cell_type": "code",
   "execution_count": 9,
   "metadata": {},
   "outputs": [
    {
     "data": {
      "text/plain": [
       "title          Aerosol technology : properties, behavior, and...\n",
       "author                                         Hinds, William C.\n",
       "description                                                 None\n",
       "Name: 0, dtype: object"
      ]
     },
     "execution_count": 9,
     "metadata": {},
     "output_type": "execute_result"
    }
   ],
   "source": [
    "meta.sample()"
   ]
  },
  {
   "cell_type": "code",
   "execution_count": 22,
   "metadata": {},
   "outputs": [
    {
     "data": {
      "text/html": [
       "<div>\n",
       "<style scoped>\n",
       "    .dataframe tbody tr th:only-of-type {\n",
       "        vertical-align: middle;\n",
       "    }\n",
       "\n",
       "    .dataframe tbody tr th {\n",
       "        vertical-align: top;\n",
       "    }\n",
       "\n",
       "    .dataframe thead th {\n",
       "        text-align: right;\n",
       "    }\n",
       "</style>\n",
       "<table border=\"1\" class=\"dataframe\">\n",
       "  <thead>\n",
       "    <tr style=\"text-align: right;\">\n",
       "      <th></th>\n",
       "      <th>title</th>\n",
       "      <th>author</th>\n",
       "      <th>description</th>\n",
       "    </tr>\n",
       "  </thead>\n",
       "  <tbody>\n",
       "    <tr>\n",
       "      <th>0</th>\n",
       "      <td>Transcript of record. Pan American Petroleum C...</td>\n",
       "      <td>Pan American Petroleum Company,</td>\n",
       "      <td>v.1</td>\n",
       "    </tr>\n",
       "    <tr>\n",
       "      <th>1</th>\n",
       "      <td>The secret toll, by Paul and Mabel Thorne.</td>\n",
       "      <td>Thorne, Paul.</td>\n",
       "      <td>None</td>\n",
       "    </tr>\n",
       "  </tbody>\n",
       "</table>\n",
       "</div>"
      ],
      "text/plain": [
       "                                               title  \\\n",
       "0  Transcript of record. Pan American Petroleum C...   \n",
       "1         The secret toll, by Paul and Mabel Thorne.   \n",
       "\n",
       "                            author description  \n",
       "0  Pan American Petroleum Company,         v.1  \n",
       "1                    Thorne, Paul.        None  "
      ]
     },
     "execution_count": 22,
     "metadata": {},
     "output_type": "execute_result"
    }
   ],
   "source": [
    "meta.sample(2)"
   ]
  },
  {
   "cell_type": "markdown",
   "metadata": {},
   "source": [
    "## Get the full table\n",
    "\n",
    "This isn't the primary use for HathiMeta, but it may be convenient. Chunk iteration is supported."
   ]
  },
  {
   "cell_type": "code",
   "execution_count": 24,
   "metadata": {},
   "outputs": [
    {
     "data": {
      "text/plain": [
       "(8741305, 2)"
      ]
     },
     "execution_count": 24,
     "metadata": {},
     "output_type": "execute_result"
    }
   ],
   "source": [
    "meta.get_fields(fields=['title', 'description']).shape"
   ]
  },
  {
   "cell_type": "code",
   "execution_count": 23,
   "metadata": {},
   "outputs": [
    {
     "name": "stdout",
     "output_type": "stream",
     "text": [
      "                                               title          description\n",
      "0  Bureau of Mines research; a summary of signifi...              1982-83\n",
      "1  Bureau of Mines research; a summary of signifi...  1971-1974 1971-1974\n",
      "2  Bureau of Mines research; a summary of signifi...  1975-1978 1975-1978\n",
      "3  Bureau of Mines research; a summary of signifi...  1979-1982 1979-1982\n",
      "4  Bureau of Mines research; a summary of signifi...  1983-1987 1983-1987\n",
      "5                     International petroleum annual                 1967\n",
      "6                     International petroleum annual                 1968\n",
      "7                     International petroleum annual                 1969\n",
      "8                     International petroleum annual                 1970\n",
      "9                     International petroleum annual                 1971\n"
     ]
    }
   ],
   "source": [
    "chunks = meta.get_fields(fields=['title', 'description'], chunksize=10)\n",
    "for chunk in chunks:\n",
    "    print(chunk)\n",
    "    break"
   ]
  },
  {
   "cell_type": "markdown",
   "metadata": {},
   "source": [
    "## Extending DB\n",
    "\n",
    "For the SADDL project, we extend the metadata with page_count info, which is available in the Extracted Features data. This is done by passing a basic DataFrame with [htid, newcol1, newcol2] to `extend_db`."
   ]
  },
  {
   "cell_type": "code",
   "execution_count": null,
   "metadata": {},
   "outputs": [],
   "source": [
    "htids = meta.get_fields(['htid'])\n",
    "htids['page_count'] = htids.htid.apply(lambda x: get_json_meta(x, config['parquet_root'])['page_count'])\n",
    "htids.head(2)"
   ]
  },
  {
   "cell_type": "code",
   "execution_count": 10,
   "metadata": {},
   "outputs": [],
   "source": [
    "# Where the magic happens\n",
    "meta.extend_db(htids)"
   ]
  },
  {
   "cell_type": "code",
   "execution_count": 14,
   "metadata": {},
   "outputs": [
    {
     "data": {
      "text/plain": [
       "htid                                  uiuo.ark:/13960/t6g20tp0c\n",
       "title         Standard shop efficiency schedules, by Henry W...\n",
       "page_count                                                  800\n",
       "Name: 0, dtype: object"
      ]
     },
     "execution_count": 14,
     "metadata": {},
     "output_type": "execute_result"
    }
   ],
   "source": [
    "meta.get_volume('uiuo.ark:/13960/t6g20tp0c', ['htid', 'title', 'page_count'])"
   ]
  },
  {
   "cell_type": "markdown",
   "metadata": {},
   "source": [
    "#### Command-Line Alt\n",
    "The `apply` in the first step might be inefficient at scale, so there's a script for extracting a metadata field from all of EF which can be parallelized (minimally, because of I/O), and then the page counts can be cross-referenced later. e.g.\n",
    "\n",
    "`cat all-eng-ef-hathifiles-11-18.txt | parallel --eta -n1000 -j2 python extract_ef_meta.py {} >/data/hathifiles/page_counts.csv`"
   ]
  },
  {
   "cell_type": "code",
   "execution_count": null,
   "metadata": {},
   "outputs": [],
   "source": [
    "import pandas as pd\n",
    "import numpy as np\n",
    "pc = pd.read_csv('/data/hathifiles/page_counts.csv', sep='\\t', names=['htid', 'page_count'])\n",
    "pc.page_count = pc.page_count.replace('None',np.nan)\n",
    "meta.extend_db(pc)"
   ]
  },
  {
   "cell_type": "code",
   "execution_count": 10,
   "metadata": {},
   "outputs": [
    {
     "data": {
      "text/plain": [
       "htid                                  uiuo.ark:/13960/t6g20tp0c\n",
       "title         Standard shop efficiency schedules, by Henry W...\n",
       "page_count                                                  800\n",
       "Name: 0, dtype: object"
      ]
     },
     "execution_count": 10,
     "metadata": {},
     "output_type": "execute_result"
    }
   ],
   "source": [
    "meta.get_volume('uiuo.ark:/13960/t6g20tp0c', ['htid', 'title', 'page_count'])"
   ]
  }
 ],
 "metadata": {
  "kernelspec": {
   "display_name": "Python 3",
   "language": "python",
   "name": "python3"
  },
  "language_info": {
   "codemirror_mode": {
    "name": "ipython",
    "version": 3
   },
   "file_extension": ".py",
   "mimetype": "text/x-python",
   "name": "python",
   "nbconvert_exporter": "python",
   "pygments_lexer": "ipython3",
   "version": "3.6.7"
  }
 },
 "nbformat": 4,
 "nbformat_minor": 4
}

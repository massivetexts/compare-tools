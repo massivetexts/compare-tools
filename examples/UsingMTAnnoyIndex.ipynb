{
 "cells": [
  {
   "cell_type": "code",
   "execution_count": 1,
   "metadata": {},
   "outputs": [],
   "source": [
    "%load_ext autoreload\n",
    "%autoreload 2"
   ]
  },
  {
   "cell_type": "markdown",
   "metadata": {},
   "source": [
    "## Using MTAnnoy Index\n",
    "\n",
    "Annoy is a library for approximate nearest neighbour searches. The MTAnnoy class makes it easier to work with HathiTrust volumes.\n",
    "\n",
    "See [CreatingMTAnnoyIndex](./CreatingMTAnnoyIndex.ipynb) for an example on building the index."
   ]
  },
  {
   "cell_type": "code",
   "execution_count": 2,
   "metadata": {},
   "outputs": [],
   "source": [
    "from compare_tools.MTAnnoy import MTAnnoy\n",
    "ann = MTAnnoy('testsetGlove3.ann', dims=300)"
   ]
  },
  {
   "cell_type": "markdown",
   "metadata": {},
   "source": [
    "Metadata is mapped with the integer IDs that Annoy uses."
   ]
  },
  {
   "cell_type": "code",
   "execution_count": 4,
   "metadata": {},
   "outputs": [
    {
     "data": {
      "text/plain": [
       "('hvd.32044020608253', 'hvd.32044020608253-0020')"
      ]
     },
     "execution_count": 4,
     "metadata": {},
     "output_type": "execute_result"
    }
   ],
   "source": [
    "ann.get_htid_by_id(30), ann.get_mtid_by_id(30)"
   ]
  },
  {
   "cell_type": "markdown",
   "metadata": {},
   "source": [
    "`get_nns_by_item` returns the named mtids (which is the HathiTrust ID with the four character chunk sequence number). However, it's likely easier to work with `get_nns_by_mtid`."
   ]
  },
  {
   "cell_type": "code",
   "execution_count": 6,
   "metadata": {},
   "outputs": [
    {
     "data": {
      "text/plain": [
       "['uc2.ark:/13960/t26975w91-0016',\n",
       " 'mdp.39015013285484-0032',\n",
       " 'uc1.$b160093-0009']"
      ]
     },
     "execution_count": 6,
     "metadata": {},
     "output_type": "execute_result"
    }
   ],
   "source": [
    "ann.get_nns_by_item(30, 3)"
   ]
  },
  {
   "cell_type": "code",
   "execution_count": 7,
   "metadata": {},
   "outputs": [
    {
     "data": {
      "text/plain": [
       "['uc2.ark:/13960/t26975w91-0016',\n",
       " 'mdp.39015013285484-0032',\n",
       " 'uc1.$b160093-0009']"
      ]
     },
     "execution_count": 7,
     "metadata": {},
     "output_type": "execute_result"
    }
   ],
   "source": [
    "ann.get_nns_by_mtid('hvd.32044020608253-0020', 3)"
   ]
  },
  {
   "cell_type": "markdown",
   "metadata": {},
   "source": [
    "MTAnnoy is not a superclass of Annoy - it just wraps it. The underlying Annoy index, memmapped on disk, is under `MTAnnoy.u`"
   ]
  },
  {
   "cell_type": "code",
   "execution_count": 6,
   "metadata": {},
   "outputs": [
    {
     "data": {
      "text/plain": [
       "(<compare_tools.MTAnnoy.MTAnnoy at 0x7f6481f2dd30>,\n",
       " <annoy.Annoy at 0x7f6472c4bf70>)"
      ]
     },
     "execution_count": 6,
     "metadata": {},
     "output_type": "execute_result"
    }
   ],
   "source": [
    "ann, ann.u"
   ]
  },
  {
   "cell_type": "code",
   "execution_count": 8,
   "metadata": {},
   "outputs": [
    {
     "data": {
      "text/plain": [
       "[47212, 17247, 58029]"
      ]
     },
     "execution_count": 8,
     "metadata": {},
     "output_type": "execute_result"
    }
   ],
   "source": [
    "ann.u.get_nns_by_item(30, 3)"
   ]
  },
  {
   "cell_type": "markdown",
   "metadata": {},
   "source": [
    "To get matches with distances and ranks in a DataFrame, use `get_named_result_df`. This is useful in higher leel methods."
   ]
  },
  {
   "cell_type": "code",
   "execution_count": 12,
   "metadata": {},
   "outputs": [
    {
     "data": {
      "text/html": [
       "<div>\n",
       "<style scoped>\n",
       "    .dataframe tbody tr th:only-of-type {\n",
       "        vertical-align: middle;\n",
       "    }\n",
       "\n",
       "    .dataframe tbody tr th {\n",
       "        vertical-align: top;\n",
       "    }\n",
       "\n",
       "    .dataframe thead th {\n",
       "        text-align: right;\n",
       "    }\n",
       "</style>\n",
       "<table border=\"1\" class=\"dataframe\">\n",
       "  <thead>\n",
       "    <tr style=\"text-align: right;\">\n",
       "      <th></th>\n",
       "      <th>target</th>\n",
       "      <th>target_seq</th>\n",
       "      <th>match</th>\n",
       "      <th>match_seq</th>\n",
       "      <th>dist</th>\n",
       "      <th>match_rank</th>\n",
       "    </tr>\n",
       "  </thead>\n",
       "  <tbody>\n",
       "    <tr>\n",
       "      <th>0</th>\n",
       "      <td>uc2.ark:/13960/t26975w91</td>\n",
       "      <td>16</td>\n",
       "      <td>mdp.39015013285484</td>\n",
       "      <td>32</td>\n",
       "      <td>0.198782</td>\n",
       "      <td>1</td>\n",
       "    </tr>\n",
       "    <tr>\n",
       "      <th>1</th>\n",
       "      <td>uc2.ark:/13960/t26975w91</td>\n",
       "      <td>16</td>\n",
       "      <td>uc1.$b160093</td>\n",
       "      <td>9</td>\n",
       "      <td>0.211221</td>\n",
       "      <td>2</td>\n",
       "    </tr>\n",
       "    <tr>\n",
       "      <th>2</th>\n",
       "      <td>uc2.ark:/13960/t26975w91</td>\n",
       "      <td>16</td>\n",
       "      <td>njp.32101067176550</td>\n",
       "      <td>22</td>\n",
       "      <td>0.217921</td>\n",
       "      <td>3</td>\n",
       "    </tr>\n",
       "    <tr>\n",
       "      <th>3</th>\n",
       "      <td>uc2.ark:/13960/t26975w91</td>\n",
       "      <td>16</td>\n",
       "      <td>uc2.ark:/13960/t5j962g70</td>\n",
       "      <td>13</td>\n",
       "      <td>0.221345</td>\n",
       "      <td>4</td>\n",
       "    </tr>\n",
       "  </tbody>\n",
       "</table>\n",
       "</div>"
      ],
      "text/plain": [
       "                     target  target_seq                     match  match_seq  \\\n",
       "0  uc2.ark:/13960/t26975w91          16        mdp.39015013285484         32   \n",
       "1  uc2.ark:/13960/t26975w91          16              uc1.$b160093          9   \n",
       "2  uc2.ark:/13960/t26975w91          16        njp.32101067176550         22   \n",
       "3  uc2.ark:/13960/t26975w91          16  uc2.ark:/13960/t5j962g70         13   \n",
       "\n",
       "       dist  match_rank  \n",
       "0  0.198782           1  \n",
       "1  0.211221           2  \n",
       "2  0.217921           3  \n",
       "3  0.221345           4  "
      ]
     },
     "execution_count": 12,
     "metadata": {},
     "output_type": "execute_result"
    }
   ],
   "source": [
    "# The self-match is dropped, so n=5 returns 4 results. Changing\n",
    "# that in code seemed more confusing, since the n elsewhere includes\n",
    "# the self-match\n",
    "ann.get_named_result_df('hvd.32044020608253-0020', n=5)"
   ]
  },
  {
   "cell_type": "markdown",
   "metadata": {},
   "source": [
    "Metadata is in `ann.ind`"
   ]
  },
  {
   "cell_type": "code",
   "execution_count": 22,
   "metadata": {},
   "outputs": [
    {
     "data": {
      "text/html": [
       "<div>\n",
       "<style scoped>\n",
       "    .dataframe tbody tr th:only-of-type {\n",
       "        vertical-align: middle;\n",
       "    }\n",
       "\n",
       "    .dataframe tbody tr th {\n",
       "        vertical-align: top;\n",
       "    }\n",
       "\n",
       "    .dataframe thead th {\n",
       "        text-align: right;\n",
       "    }\n",
       "</style>\n",
       "<table border=\"1\" class=\"dataframe\">\n",
       "  <thead>\n",
       "    <tr style=\"text-align: right;\">\n",
       "      <th></th>\n",
       "      <th>min</th>\n",
       "      <th>max</th>\n",
       "      <th>length</th>\n",
       "    </tr>\n",
       "    <tr>\n",
       "      <th>htid</th>\n",
       "      <th></th>\n",
       "      <th></th>\n",
       "      <th></th>\n",
       "    </tr>\n",
       "  </thead>\n",
       "  <tbody>\n",
       "    <tr>\n",
       "      <th>aeu.ark:/13960/t0bv8gh1j</th>\n",
       "      <td>11230</td>\n",
       "      <td>11231</td>\n",
       "      <td>2</td>\n",
       "    </tr>\n",
       "    <tr>\n",
       "      <th>aeu.ark:/13960/t0vq4jb2c</th>\n",
       "      <td>53970</td>\n",
       "      <td>53990</td>\n",
       "      <td>21</td>\n",
       "    </tr>\n",
       "  </tbody>\n",
       "</table>\n",
       "</div>"
      ],
      "text/plain": [
       "                            min    max  length\n",
       "htid                                          \n",
       "aeu.ark:/13960/t0bv8gh1j  11230  11231       2\n",
       "aeu.ark:/13960/t0vq4jb2c  53970  53990      21"
      ]
     },
     "execution_count": 22,
     "metadata": {},
     "output_type": "execute_result"
    }
   ],
   "source": [
    "ann.ind.head(2)"
   ]
  },
  {
   "cell_type": "markdown",
   "metadata": {},
   "source": [
    "## Similarity Meta"
   ]
  }
 ],
 "metadata": {
  "kernelspec": {
   "display_name": "Python 3",
   "language": "python",
   "name": "python3"
  },
  "language_info": {
   "codemirror_mode": {
    "name": "ipython",
    "version": 3
   },
   "file_extension": ".py",
   "mimetype": "text/x-python",
   "name": "python",
   "nbconvert_exporter": "python",
   "pygments_lexer": "ipython3",
   "version": "3.6.7"
  }
 },
 "nbformat": 4,
 "nbformat_minor": 2
}

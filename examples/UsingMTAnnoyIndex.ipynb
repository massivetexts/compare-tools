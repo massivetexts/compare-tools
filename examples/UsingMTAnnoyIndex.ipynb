{
 "cells": [
  {
   "cell_type": "code",
   "execution_count": 1,
   "metadata": {},
   "outputs": [],
   "source": [
    "%load_ext autoreload\n",
    "%autoreload 2"
   ]
  },
  {
   "cell_type": "markdown",
   "metadata": {},
   "source": [
    "## Using MTAnnoy Index\n",
    "\n",
    "Annoy is a library for approximate nearest neighbour searches. The MTAnnoy class makes it easier to work with HathiTrust volumes.\n",
    "\n",
    "See [CreatingMTAnnoyIndex](./CreatingMTAnnoyIndex.ipynb) for an example on building the index."
   ]
  },
  {
   "cell_type": "code",
   "execution_count": 1,
   "metadata": {},
   "outputs": [],
   "source": [
    "from compare_tools.MTAnnoy import MTAnnoy\n",
    "ann = MTAnnoy('testsetGlove3.ann', dims=300)"
   ]
  },
  {
   "cell_type": "markdown",
   "metadata": {},
   "source": [
    "Metadata is mapped with the integer IDs that Annoy uses."
   ]
  },
  {
   "cell_type": "code",
   "execution_count": 5,
   "metadata": {},
   "outputs": [
    {
     "data": {
      "text/plain": [
       "('uc1.31822023936982', 'uc1.31822023936982-0001')"
      ]
     },
     "execution_count": 5,
     "metadata": {},
     "output_type": "execute_result"
    }
   ],
   "source": [
    "ann.get_htid_by_id(30), ann.get_mtid_by_id(30)"
   ]
  },
  {
   "cell_type": "markdown",
   "metadata": {},
   "source": [
    "`get_nns_by_item` returns the named mtids (which is the HathiTrust ID with the four character chunk sequence number). However, it's likely easier to work with `get_nns_by_mtid`."
   ]
  },
  {
   "cell_type": "code",
   "execution_count": 6,
   "metadata": {},
   "outputs": [
    {
     "data": {
      "text/plain": [
       "['uc1.31822023936982-0001',\n",
       " 'inu.32000011561851-0002',\n",
       " 'nc01.ark:/13960/t4pk0nx3c-0020']"
      ]
     },
     "execution_count": 6,
     "metadata": {},
     "output_type": "execute_result"
    }
   ],
   "source": [
    "ann.get_nns_by_item(30, 3)"
   ]
  },
  {
   "cell_type": "code",
   "execution_count": 19,
   "metadata": {},
   "outputs": [
    {
     "data": {
      "text/plain": [
       "['nc01.ark:/13960/t4pk0nx3c-0020',\n",
       " 'nc01.ark:/13960/t4pk0nx3c-0002',\n",
       " 'nc01.ark:/13960/t4pk0nx3c-0014']"
      ]
     },
     "execution_count": 19,
     "metadata": {},
     "output_type": "execute_result"
    }
   ],
   "source": [
    "ann.get_nns_by_mtid('nc01.ark:/13960/t4pk0nx3c-0020', 3)"
   ]
  },
  {
   "cell_type": "markdown",
   "metadata": {},
   "source": [
    "MTAnnoy is not a superclass of Annoy - it just wraps it. The underlying Annoy index, memmapped on disk, is under `MTAnnoy.u`"
   ]
  },
  {
   "cell_type": "code",
   "execution_count": 9,
   "metadata": {},
   "outputs": [
    {
     "data": {
      "text/plain": [
       "(<compare_tools.MTAnnoy.MTAnnoy at 0x7fae5efa3518>,\n",
       " <annoy.Annoy at 0x7fae6fbb0fb0>)"
      ]
     },
     "execution_count": 9,
     "metadata": {},
     "output_type": "execute_result"
    }
   ],
   "source": [
    "ann, ann.u"
   ]
  },
  {
   "cell_type": "code",
   "execution_count": 20,
   "metadata": {},
   "outputs": [
    {
     "data": {
      "text/plain": [
       "[30, 29, 9944]"
      ]
     },
     "execution_count": 20,
     "metadata": {},
     "output_type": "execute_result"
    }
   ],
   "source": [
    "ann.u.get_nns_by_item(30, 3)"
   ]
  },
  {
   "cell_type": "markdown",
   "metadata": {},
   "source": [
    "To get matches with distances and ranks in a DataFrame, use `get_named_result_df`. This is useful in higher leel methods."
   ]
  },
  {
   "cell_type": "code",
   "execution_count": 21,
   "metadata": {},
   "outputs": [
    {
     "data": {
      "text/html": [
       "<div>\n",
       "<style scoped>\n",
       "    .dataframe tbody tr th:only-of-type {\n",
       "        vertical-align: middle;\n",
       "    }\n",
       "\n",
       "    .dataframe tbody tr th {\n",
       "        vertical-align: top;\n",
       "    }\n",
       "\n",
       "    .dataframe thead th {\n",
       "        text-align: right;\n",
       "    }\n",
       "</style>\n",
       "<table border=\"1\" class=\"dataframe\">\n",
       "  <thead>\n",
       "    <tr style=\"text-align: right;\">\n",
       "      <th></th>\n",
       "      <th>target</th>\n",
       "      <th>target_seq</th>\n",
       "      <th>match</th>\n",
       "      <th>match_seq</th>\n",
       "      <th>dist</th>\n",
       "      <th>rank</th>\n",
       "    </tr>\n",
       "  </thead>\n",
       "  <tbody>\n",
       "    <tr>\n",
       "      <th>0</th>\n",
       "      <td>nc01.ark:/13960/t4pk0nx3c</td>\n",
       "      <td>2</td>\n",
       "      <td>nc01.ark:/13960/t4pk0nx3c</td>\n",
       "      <td>2</td>\n",
       "      <td>0.000000</td>\n",
       "      <td>0</td>\n",
       "    </tr>\n",
       "    <tr>\n",
       "      <th>1</th>\n",
       "      <td>nc01.ark:/13960/t4pk0nx3c</td>\n",
       "      <td>2</td>\n",
       "      <td>nc01.ark:/13960/t4pk0nx3c</td>\n",
       "      <td>20</td>\n",
       "      <td>0.092129</td>\n",
       "      <td>1</td>\n",
       "    </tr>\n",
       "    <tr>\n",
       "      <th>2</th>\n",
       "      <td>nc01.ark:/13960/t4pk0nx3c</td>\n",
       "      <td>2</td>\n",
       "      <td>nc01.ark:/13960/t4pk0nx3c</td>\n",
       "      <td>14</td>\n",
       "      <td>0.099151</td>\n",
       "      <td>2</td>\n",
       "    </tr>\n",
       "    <tr>\n",
       "      <th>3</th>\n",
       "      <td>nc01.ark:/13960/t4pk0nx3c</td>\n",
       "      <td>2</td>\n",
       "      <td>nc01.ark:/13960/t4pk0nx3c</td>\n",
       "      <td>8</td>\n",
       "      <td>0.111370</td>\n",
       "      <td>3</td>\n",
       "    </tr>\n",
       "    <tr>\n",
       "      <th>4</th>\n",
       "      <td>nc01.ark:/13960/t4pk0nx3c</td>\n",
       "      <td>2</td>\n",
       "      <td>nc01.ark:/13960/t4pk0nx3c</td>\n",
       "      <td>10</td>\n",
       "      <td>0.116853</td>\n",
       "      <td>4</td>\n",
       "    </tr>\n",
       "  </tbody>\n",
       "</table>\n",
       "</div>"
      ],
      "text/plain": [
       "                      target  target_seq                      match  \\\n",
       "0  nc01.ark:/13960/t4pk0nx3c           2  nc01.ark:/13960/t4pk0nx3c   \n",
       "1  nc01.ark:/13960/t4pk0nx3c           2  nc01.ark:/13960/t4pk0nx3c   \n",
       "2  nc01.ark:/13960/t4pk0nx3c           2  nc01.ark:/13960/t4pk0nx3c   \n",
       "3  nc01.ark:/13960/t4pk0nx3c           2  nc01.ark:/13960/t4pk0nx3c   \n",
       "4  nc01.ark:/13960/t4pk0nx3c           2  nc01.ark:/13960/t4pk0nx3c   \n",
       "\n",
       "   match_seq      dist  rank  \n",
       "0          2  0.000000     0  \n",
       "1         20  0.092129     1  \n",
       "2         14  0.099151     2  \n",
       "3          8  0.111370     3  \n",
       "4         10  0.116853     4  "
      ]
     },
     "execution_count": 21,
     "metadata": {},
     "output_type": "execute_result"
    }
   ],
   "source": [
    "# The self-match is dropped, so n=5 returns 4 results. Changing\n",
    "# that in code seemed more confusing, since the n elsewhere includes\n",
    "# the self-match\n",
    "ann.get_named_result_df(mtid='nc01.ark:/13960/t4pk0nx3c-002', n=5)"
   ]
  },
  {
   "cell_type": "markdown",
   "metadata": {},
   "source": [
    "It can also run it for all the chunks in a volume:"
   ]
  },
  {
   "cell_type": "code",
   "execution_count": 22,
   "metadata": {},
   "outputs": [
    {
     "data": {
      "text/html": [
       "<div>\n",
       "<style scoped>\n",
       "    .dataframe tbody tr th:only-of-type {\n",
       "        vertical-align: middle;\n",
       "    }\n",
       "\n",
       "    .dataframe tbody tr th {\n",
       "        vertical-align: top;\n",
       "    }\n",
       "\n",
       "    .dataframe thead th {\n",
       "        text-align: right;\n",
       "    }\n",
       "</style>\n",
       "<table border=\"1\" class=\"dataframe\">\n",
       "  <thead>\n",
       "    <tr style=\"text-align: right;\">\n",
       "      <th></th>\n",
       "      <th>target</th>\n",
       "      <th>target_seq</th>\n",
       "      <th>match</th>\n",
       "      <th>match_seq</th>\n",
       "      <th>dist</th>\n",
       "      <th>rank</th>\n",
       "    </tr>\n",
       "  </thead>\n",
       "  <tbody>\n",
       "    <tr>\n",
       "      <th>0</th>\n",
       "      <td>nc01.ark:/13960/t4pk0nx3c</td>\n",
       "      <td>1</td>\n",
       "      <td>nc01.ark:/13960/t4pk0nx3c</td>\n",
       "      <td>1</td>\n",
       "      <td>0.000000</td>\n",
       "      <td>0</td>\n",
       "    </tr>\n",
       "    <tr>\n",
       "      <th>1</th>\n",
       "      <td>nc01.ark:/13960/t4pk0nx3c</td>\n",
       "      <td>1</td>\n",
       "      <td>nyp.33433082479092</td>\n",
       "      <td>5</td>\n",
       "      <td>0.151567</td>\n",
       "      <td>1</td>\n",
       "    </tr>\n",
       "    <tr>\n",
       "      <th>2</th>\n",
       "      <td>nc01.ark:/13960/t4pk0nx3c</td>\n",
       "      <td>1</td>\n",
       "      <td>mdp.39015063787983</td>\n",
       "      <td>6</td>\n",
       "      <td>0.156182</td>\n",
       "      <td>2</td>\n",
       "    </tr>\n",
       "    <tr>\n",
       "      <th>3</th>\n",
       "      <td>nc01.ark:/13960/t4pk0nx3c</td>\n",
       "      <td>1</td>\n",
       "      <td>uva.x001211590</td>\n",
       "      <td>1</td>\n",
       "      <td>0.168556</td>\n",
       "      <td>3</td>\n",
       "    </tr>\n",
       "    <tr>\n",
       "      <th>4</th>\n",
       "      <td>nc01.ark:/13960/t4pk0nx3c</td>\n",
       "      <td>1</td>\n",
       "      <td>mdp.39015063787983</td>\n",
       "      <td>4</td>\n",
       "      <td>0.168888</td>\n",
       "      <td>4</td>\n",
       "    </tr>\n",
       "    <tr>\n",
       "      <th>0</th>\n",
       "      <td>nc01.ark:/13960/t4pk0nx3c</td>\n",
       "      <td>2</td>\n",
       "      <td>nc01.ark:/13960/t4pk0nx3c</td>\n",
       "      <td>2</td>\n",
       "      <td>0.000000</td>\n",
       "      <td>0</td>\n",
       "    </tr>\n",
       "    <tr>\n",
       "      <th>1</th>\n",
       "      <td>nc01.ark:/13960/t4pk0nx3c</td>\n",
       "      <td>2</td>\n",
       "      <td>nc01.ark:/13960/t4pk0nx3c</td>\n",
       "      <td>20</td>\n",
       "      <td>0.092129</td>\n",
       "      <td>1</td>\n",
       "    </tr>\n",
       "    <tr>\n",
       "      <th>2</th>\n",
       "      <td>nc01.ark:/13960/t4pk0nx3c</td>\n",
       "      <td>2</td>\n",
       "      <td>nc01.ark:/13960/t4pk0nx3c</td>\n",
       "      <td>14</td>\n",
       "      <td>0.099151</td>\n",
       "      <td>2</td>\n",
       "    </tr>\n",
       "    <tr>\n",
       "      <th>3</th>\n",
       "      <td>nc01.ark:/13960/t4pk0nx3c</td>\n",
       "      <td>2</td>\n",
       "      <td>nc01.ark:/13960/t4pk0nx3c</td>\n",
       "      <td>8</td>\n",
       "      <td>0.111370</td>\n",
       "      <td>3</td>\n",
       "    </tr>\n",
       "    <tr>\n",
       "      <th>4</th>\n",
       "      <td>nc01.ark:/13960/t4pk0nx3c</td>\n",
       "      <td>2</td>\n",
       "      <td>nc01.ark:/13960/t4pk0nx3c</td>\n",
       "      <td>10</td>\n",
       "      <td>0.116853</td>\n",
       "      <td>4</td>\n",
       "    </tr>\n",
       "  </tbody>\n",
       "</table>\n",
       "</div>"
      ],
      "text/plain": [
       "                      target  target_seq                      match  \\\n",
       "0  nc01.ark:/13960/t4pk0nx3c           1  nc01.ark:/13960/t4pk0nx3c   \n",
       "1  nc01.ark:/13960/t4pk0nx3c           1         nyp.33433082479092   \n",
       "2  nc01.ark:/13960/t4pk0nx3c           1         mdp.39015063787983   \n",
       "3  nc01.ark:/13960/t4pk0nx3c           1             uva.x001211590   \n",
       "4  nc01.ark:/13960/t4pk0nx3c           1         mdp.39015063787983   \n",
       "0  nc01.ark:/13960/t4pk0nx3c           2  nc01.ark:/13960/t4pk0nx3c   \n",
       "1  nc01.ark:/13960/t4pk0nx3c           2  nc01.ark:/13960/t4pk0nx3c   \n",
       "2  nc01.ark:/13960/t4pk0nx3c           2  nc01.ark:/13960/t4pk0nx3c   \n",
       "3  nc01.ark:/13960/t4pk0nx3c           2  nc01.ark:/13960/t4pk0nx3c   \n",
       "4  nc01.ark:/13960/t4pk0nx3c           2  nc01.ark:/13960/t4pk0nx3c   \n",
       "\n",
       "   match_seq      dist  rank  \n",
       "0          1  0.000000     0  \n",
       "1          5  0.151567     1  \n",
       "2          6  0.156182     2  \n",
       "3          1  0.168556     3  \n",
       "4          4  0.168888     4  \n",
       "0          2  0.000000     0  \n",
       "1         20  0.092129     1  \n",
       "2         14  0.099151     2  \n",
       "3          8  0.111370     3  \n",
       "4         10  0.116853     4  "
      ]
     },
     "execution_count": 22,
     "metadata": {},
     "output_type": "execute_result"
    }
   ],
   "source": [
    "ann.get_named_result_df(htid='nc01.ark:/13960/t4pk0nx3c', n=5).head(10)"
   ]
  },
  {
   "cell_type": "markdown",
   "metadata": {},
   "source": [
    "Metadata is in `ann.ind`"
   ]
  },
  {
   "cell_type": "code",
   "execution_count": 23,
   "metadata": {},
   "outputs": [
    {
     "data": {
      "text/html": [
       "<div>\n",
       "<style scoped>\n",
       "    .dataframe tbody tr th:only-of-type {\n",
       "        vertical-align: middle;\n",
       "    }\n",
       "\n",
       "    .dataframe tbody tr th {\n",
       "        vertical-align: top;\n",
       "    }\n",
       "\n",
       "    .dataframe thead th {\n",
       "        text-align: right;\n",
       "    }\n",
       "</style>\n",
       "<table border=\"1\" class=\"dataframe\">\n",
       "  <thead>\n",
       "    <tr style=\"text-align: right;\">\n",
       "      <th></th>\n",
       "      <th>min</th>\n",
       "      <th>max</th>\n",
       "      <th>length</th>\n",
       "    </tr>\n",
       "    <tr>\n",
       "      <th>htid</th>\n",
       "      <th></th>\n",
       "      <th></th>\n",
       "      <th></th>\n",
       "    </tr>\n",
       "  </thead>\n",
       "  <tbody>\n",
       "    <tr>\n",
       "      <th>aeu.ark:/13960/t0cv4sg1m</th>\n",
       "      <td>5925</td>\n",
       "      <td>5925</td>\n",
       "      <td>1</td>\n",
       "    </tr>\n",
       "    <tr>\n",
       "      <th>aeu.ark:/13960/t0ft8q48g</th>\n",
       "      <td>10041</td>\n",
       "      <td>10041</td>\n",
       "      <td>1</td>\n",
       "    </tr>\n",
       "  </tbody>\n",
       "</table>\n",
       "</div>"
      ],
      "text/plain": [
       "                            min    max  length\n",
       "htid                                          \n",
       "aeu.ark:/13960/t0cv4sg1m   5925   5925       1\n",
       "aeu.ark:/13960/t0ft8q48g  10041  10041       1"
      ]
     },
     "execution_count": 23,
     "metadata": {},
     "output_type": "execute_result"
    }
   ],
   "source": [
    "ann.ind.head(2)"
   ]
  },
  {
   "cell_type": "markdown",
   "metadata": {},
   "source": [
    "A module that sums `get_named_result_df` into basic stats is provided with `ann.doc_match_stats`"
   ]
  },
  {
   "cell_type": "code",
   "execution_count": 25,
   "metadata": {},
   "outputs": [
    {
     "data": {
      "text/html": [
       "<div>\n",
       "<style scoped>\n",
       "    .dataframe tbody tr th:only-of-type {\n",
       "        vertical-align: middle;\n",
       "    }\n",
       "\n",
       "    .dataframe tbody tr th {\n",
       "        vertical-align: top;\n",
       "    }\n",
       "\n",
       "    .dataframe thead th {\n",
       "        text-align: right;\n",
       "    }\n",
       "</style>\n",
       "<table border=\"1\" class=\"dataframe\">\n",
       "  <thead>\n",
       "    <tr style=\"text-align: right;\">\n",
       "      <th></th>\n",
       "      <th>match</th>\n",
       "      <th>target</th>\n",
       "      <th>count</th>\n",
       "      <th>mean</th>\n",
       "      <th>length</th>\n",
       "      <th>prop_target</th>\n",
       "      <th>prop_match</th>\n",
       "    </tr>\n",
       "  </thead>\n",
       "  <tbody>\n",
       "    <tr>\n",
       "      <th>0</th>\n",
       "      <td>uc1.b4385719</td>\n",
       "      <td>aeu.ark:/13960/t0ft8q48g</td>\n",
       "      <td>6</td>\n",
       "      <td>0.319545</td>\n",
       "      <td>24</td>\n",
       "      <td>6.0</td>\n",
       "      <td>0.250000</td>\n",
       "    </tr>\n",
       "    <tr>\n",
       "      <th>1</th>\n",
       "      <td>mdp.39015012591510</td>\n",
       "      <td>aeu.ark:/13960/t0ft8q48g</td>\n",
       "      <td>2</td>\n",
       "      <td>0.324776</td>\n",
       "      <td>3</td>\n",
       "      <td>2.0</td>\n",
       "      <td>0.666667</td>\n",
       "    </tr>\n",
       "    <tr>\n",
       "      <th>2</th>\n",
       "      <td>uc1.b4377472</td>\n",
       "      <td>aeu.ark:/13960/t0ft8q48g</td>\n",
       "      <td>2</td>\n",
       "      <td>0.318841</td>\n",
       "      <td>30</td>\n",
       "      <td>2.0</td>\n",
       "      <td>0.066667</td>\n",
       "    </tr>\n",
       "    <tr>\n",
       "      <th>3</th>\n",
       "      <td>umn.319510008952947</td>\n",
       "      <td>aeu.ark:/13960/t0ft8q48g</td>\n",
       "      <td>1</td>\n",
       "      <td>0.337614</td>\n",
       "      <td>57</td>\n",
       "      <td>1.0</td>\n",
       "      <td>0.017544</td>\n",
       "    </tr>\n",
       "    <tr>\n",
       "      <th>4</th>\n",
       "      <td>wu.89094610227</td>\n",
       "      <td>aeu.ark:/13960/t0ft8q48g</td>\n",
       "      <td>1</td>\n",
       "      <td>0.336061</td>\n",
       "      <td>2</td>\n",
       "      <td>1.0</td>\n",
       "      <td>0.500000</td>\n",
       "    </tr>\n",
       "  </tbody>\n",
       "</table>\n",
       "</div>"
      ],
      "text/plain": [
       "                 match                    target  count      mean  length  \\\n",
       "0         uc1.b4385719  aeu.ark:/13960/t0ft8q48g      6  0.319545      24   \n",
       "1   mdp.39015012591510  aeu.ark:/13960/t0ft8q48g      2  0.324776       3   \n",
       "2         uc1.b4377472  aeu.ark:/13960/t0ft8q48g      2  0.318841      30   \n",
       "3  umn.319510008952947  aeu.ark:/13960/t0ft8q48g      1  0.337614      57   \n",
       "4       wu.89094610227  aeu.ark:/13960/t0ft8q48g      1  0.336061       2   \n",
       "\n",
       "   prop_target  prop_match  \n",
       "0          6.0    0.250000  \n",
       "1          2.0    0.666667  \n",
       "2          2.0    0.066667  \n",
       "3          1.0    0.017544  \n",
       "4          1.0    0.500000  "
      ]
     },
     "execution_count": 25,
     "metadata": {},
     "output_type": "execute_result"
    }
   ],
   "source": [
    "stats = ann.doc_match_stats(htid='aeu.ark:/13960/t0ft8q48g', n=20)\n",
    "stats.head()"
   ]
  }
 ],
 "metadata": {
  "kernelspec": {
   "display_name": "Python 3",
   "language": "python",
   "name": "python3"
  },
  "language_info": {
   "codemirror_mode": {
    "name": "ipython",
    "version": 3
   },
   "file_extension": ".py",
   "mimetype": "text/x-python",
   "name": "python",
   "nbconvert_exporter": "python",
   "pygments_lexer": "ipython3",
   "version": "3.6.7"
  }
 },
 "nbformat": 4,
 "nbformat_minor": 4
}

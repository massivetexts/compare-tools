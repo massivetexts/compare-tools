{
 "cells": [
  {
   "cell_type": "code",
   "execution_count": 1,
   "metadata": {},
   "outputs": [],
   "source": [
    "%load_ext autoreload\n",
    "%autoreload 2"
   ]
  },
  {
   "cell_type": "code",
   "execution_count": 2,
   "metadata": {},
   "outputs": [],
   "source": [
    "from compare_tools.chunk_collection import ChunkCollection\n",
    "from compare_tools.utils import VectorComparison, MTVolume, HTID\n",
    "import random"
   ]
  },
  {
   "cell_type": "code",
   "execution_count": 3,
   "metadata": {},
   "outputs": [],
   "source": [
    "# paths used in this notebook\n",
    "glove_data_path = \"/data/vectorfiles/all_Glove_testset.bin\"\n",
    "meta_path = \"../../sampling/test_dataset.csv.gz\"\n",
    "rsync_root='/data/extracted-features/'"
   ]
  },
  {
   "cell_type": "code",
   "execution_count": null,
   "metadata": {},
   "outputs": [],
   "source": [
    "corpus = ChunkCollection(glove_data_path, meta_path)"
   ]
  },
  {
   "cell_type": "code",
   "execution_count": null,
   "metadata": {},
   "outputs": [],
   "source": [
    "name = random.sample(list(corpus.htid_lookup), 1)[0]\n",
    "#name = \"njp.32101066909308\"\n",
    "vol = MTVolume(name, corpus)\n",
    "HTID(name, rsync_root=rsync_root)"
   ]
  },
  {
   "cell_type": "code",
   "execution_count": 9,
   "metadata": {},
   "outputs": [
    {
     "name": "stdout",
     "output_type": "stream",
     "text": [
      "[('nyp.33433090896170', 27), ('osu.32435014595367', 23), ('uc1.b2956704', 12), ('mdp.39015089074333', 11)]\n"
     ]
    }
   ],
   "source": [
    "neighbors = vol.neighbors(comps_per_item=20, minimum_matches=4)\n",
    "print(neighbors)"
   ]
  },
  {
   "cell_type": "code",
   "execution_count": 10,
   "metadata": {},
   "outputs": [
    {
     "name": "stderr",
     "output_type": "stream",
     "text": [
      "/opt/conda/lib/python3.6/site-packages/numpy/lib/function_base.py:3405: RuntimeWarning: Invalid value encountered in median for 300 results\n",
      "  r = func(a, **kwargs)\n"
     ]
    }
   ],
   "source": [
    "comps = [VectorComparison(name, neighbor[0], corpus, adjusted=True) for neighbor in neighbors]"
   ]
  },
  {
   "cell_type": "code",
   "execution_count": 13,
   "metadata": {},
   "outputs": [
    {
     "data": {
      "text/html": [
       "<strong><a href='http://hdl.handle.net/2027/nyp.33433090896170'>Traverse tables; computed to 4 places decimals for every [minute] of angle up to 100 of distance. For the use of surveyors and engineers. By Richard Lloyd Gurden ... Pub. with concurrence of the surveyors-general for New South Wales and Victoria.</a></strong> by <em>Gurden, Richard Lloyd. </em> (1911, 296 pages) - <code>nyp.33433090896170</code>"
      ],
      "text/plain": [
       "<python.utils.HTID at 0x7f9619e8eb00>"
      ]
     },
     "metadata": {},
     "output_type": "display_data"
    },
    {
     "name": "stderr",
     "output_type": "stream",
     "text": [
      "/opt/conda/lib/python3.6/site-packages/altair/utils/core.py:90: UserWarning: I don't know how to infer vegalite type from 'empty'.  Defaulting to nominal.\n",
      "  \"Defaulting to nominal.\".format(typ))\n"
     ]
    },
    {
     "data": {
      "application/vnd.vegalite.v3+json": {
       "$schema": "https://vega.github.io/schema/vega-lite/v3.3.0.json",
       "config": {
        "mark": {
         "tooltip": null
        },
        "view": {
         "height": 300,
         "width": 400
        }
       },
       "height": 300,
       "layer": [
        {
         "data": {
          "format": {
           "type": "json"
          },
          "url": "altair-data-d751713988987e9331980363e24189ce.json"
         },
         "encoding": {
          "color": {
           "field": "sim",
           "scale": {
            "domain": [
             -0.05,
             0.3
            ],
            "zero": false
           },
           "type": "nominal"
          },
          "tooltip": {
           "field": "sim",
           "type": "nominal"
          },
          "x": {
           "field": "left_seq",
           "type": "ordinal"
          },
          "y": {
           "field": "right_seq",
           "type": "ordinal"
          }
         },
         "mark": "rect"
        },
        {
         "data": {
          "format": {
           "type": "json"
          },
          "url": "altair-data-d751713988987e9331980363e24189ce.json"
         },
         "encoding": {
          "detail": {
           "field": "run_num",
           "type": "nominal"
          },
          "tooltip": {
           "field": "sim",
           "type": "nominal"
          },
          "x": {
           "field": "left_seq",
           "type": "ordinal"
          },
          "y": {
           "field": "right_seq",
           "type": "ordinal"
          }
         },
         "mark": {
          "color": "red",
          "type": "line"
         }
        }
       ],
       "width": 300
      },
      "image/png": "[encoded data removed]",
      "text/plain": [
       "<VegaLite 3 object>\n",
       "\n",
       "If you see this message, it means the renderer has not been properly enabled\n",
       "for the frontend that you are using. For more information, see\n",
       "https://altair-viz.github.io/user_guide/troubleshooting.html\n"
      ]
     },
     "metadata": {},
     "output_type": "display_data"
    },
    {
     "data": {
      "text/html": [
       "<strong><a href='http://hdl.handle.net/2027/osu.32435014595367'>Traverse tables; computed to 4 places decimals for every  ́of angle up to 100 of distance. For the use of surveyors and engineers. By Richard Lloyd Gurden .</a></strong> by <em>Gurden, Richard Lloyd. </em> (1888, 296 pages) - <code>osu.32435014595367</code>"
      ],
      "text/plain": [
       "<python.utils.HTID at 0x7f9619e8dc18>"
      ]
     },
     "metadata": {},
     "output_type": "display_data"
    },
    {
     "data": {
      "application/vnd.vegalite.v3+json": {
       "$schema": "https://vega.github.io/schema/vega-lite/v3.3.0.json",
       "config": {
        "mark": {
         "tooltip": null
        },
        "view": {
         "height": 300,
         "width": 400
        }
       },
       "height": 300,
       "layer": [
        {
         "data": {
          "format": {
           "type": "json"
          },
          "url": "altair-data-d751713988987e9331980363e24189ce.json"
         },
         "encoding": {
          "color": {
           "field": "sim",
           "scale": {
            "domain": [
             -0.05,
             0.3
            ],
            "zero": false
           },
           "type": "nominal"
          },
          "tooltip": {
           "field": "sim",
           "type": "nominal"
          },
          "x": {
           "field": "left_seq",
           "type": "ordinal"
          },
          "y": {
           "field": "right_seq",
           "type": "ordinal"
          }
         },
         "mark": "rect"
        },
        {
         "data": {
          "format": {
           "type": "json"
          },
          "url": "altair-data-d751713988987e9331980363e24189ce.json"
         },
         "encoding": {
          "detail": {
           "field": "run_num",
           "type": "nominal"
          },
          "tooltip": {
           "field": "sim",
           "type": "nominal"
          },
          "x": {
           "field": "left_seq",
           "type": "ordinal"
          },
          "y": {
           "field": "right_seq",
           "type": "ordinal"
          }
         },
         "mark": {
          "color": "red",
          "type": "line"
         }
        }
       ],
       "width": 300
      },
      "image/png": "[encoded data removed]",
      "text/plain": [
       "<VegaLite 3 object>\n",
       "\n",
       "If you see this message, it means the renderer has not been properly enabled\n",
       "for the frontend that you are using. For more information, see\n",
       "https://altair-viz.github.io/user_guide/troubleshooting.html\n"
      ]
     },
     "metadata": {},
     "output_type": "display_data"
    },
    {
     "data": {
      "text/html": [
       "<strong><a href='http://hdl.handle.net/2027/uc1.b2956704'>Sampūrṇa Gāndhī vaṅmaya</a></strong> by <em>Gandhi Mahatma 1869-1948 </em> (9999, 514 pages) - <code>uc1.b2956704</code>"
      ],
      "text/plain": [
       "<python.utils.HTID at 0x7f9619e9aeb8>"
      ]
     },
     "metadata": {},
     "output_type": "display_data"
    },
    {
     "data": {
      "application/vnd.vegalite.v3+json": {
       "$schema": "https://vega.github.io/schema/vega-lite/v3.3.0.json",
       "config": {
        "mark": {
         "tooltip": null
        },
        "view": {
         "height": 300,
         "width": 400
        }
       },
       "height": 300,
       "layer": [
        {
         "data": {
          "format": {
           "type": "json"
          },
          "url": "altair-data-d751713988987e9331980363e24189ce.json"
         },
         "encoding": {
          "color": {
           "field": "sim",
           "scale": {
            "domain": [
             -0.05,
             0.3
            ],
            "zero": false
           },
           "type": "nominal"
          },
          "tooltip": {
           "field": "sim",
           "type": "nominal"
          },
          "x": {
           "field": "left_seq",
           "type": "ordinal"
          },
          "y": {
           "field": "right_seq",
           "type": "ordinal"
          }
         },
         "mark": "rect"
        },
        {
         "data": {
          "format": {
           "type": "json"
          },
          "url": "altair-data-d751713988987e9331980363e24189ce.json"
         },
         "encoding": {
          "detail": {
           "field": "run_num",
           "type": "nominal"
          },
          "tooltip": {
           "field": "sim",
           "type": "nominal"
          },
          "x": {
           "field": "left_seq",
           "type": "ordinal"
          },
          "y": {
           "field": "right_seq",
           "type": "ordinal"
          }
         },
         "mark": {
          "color": "red",
          "type": "line"
         }
        }
       ],
       "width": 300
      },
      "image/png": "[encoded data removed]",
      "text/plain": [
       "<VegaLite 3 object>\n",
       "\n",
       "If you see this message, it means the renderer has not been properly enabled\n",
       "for the frontend that you are using. For more information, see\n",
       "https://altair-viz.github.io/user_guide/troubleshooting.html\n"
      ]
     },
     "metadata": {},
     "output_type": "display_data"
    },
    {
     "data": {
      "text/html": [
       "<strong><a href='http://hdl.handle.net/2027/mdp.39015089074333'>William McKinley papers</a></strong> by <em>McKinley, William 1843-1901 ,Porter, John Addison 1856-1900 ,Cortelyou, George B. (George Bruce) 1862-1940 </em> (1961, 632 pages) - <code>mdp.39015089074333</code>"
      ],
      "text/plain": [
       "<python.utils.HTID at 0x7f9619e7f198>"
      ]
     },
     "metadata": {},
     "output_type": "display_data"
    },
    {
     "data": {
      "application/vnd.vegalite.v3+json": {
       "$schema": "https://vega.github.io/schema/vega-lite/v3.3.0.json",
       "config": {
        "mark": {
         "tooltip": null
        },
        "view": {
         "height": 300,
         "width": 400
        }
       },
       "height": 300,
       "layer": [
        {
         "data": {
          "format": {
           "type": "json"
          },
          "url": "altair-data-d751713988987e9331980363e24189ce.json"
         },
         "encoding": {
          "color": {
           "field": "sim",
           "scale": {
            "domain": [
             -0.05,
             0.3
            ],
            "zero": false
           },
           "type": "nominal"
          },
          "tooltip": {
           "field": "sim",
           "type": "nominal"
          },
          "x": {
           "field": "left_seq",
           "type": "ordinal"
          },
          "y": {
           "field": "right_seq",
           "type": "ordinal"
          }
         },
         "mark": "rect"
        },
        {
         "data": {
          "format": {
           "type": "json"
          },
          "url": "altair-data-d751713988987e9331980363e24189ce.json"
         },
         "encoding": {
          "detail": {
           "field": "run_num",
           "type": "nominal"
          },
          "tooltip": {
           "field": "sim",
           "type": "nominal"
          },
          "x": {
           "field": "left_seq",
           "type": "ordinal"
          },
          "y": {
           "field": "right_seq",
           "type": "ordinal"
          }
         },
         "mark": {
          "color": "red",
          "type": "line"
         }
        }
       ],
       "width": 300
      },
      "image/png": "[encoded data removed]",
      "text/plain": [
       "<VegaLite 3 object>\n",
       "\n",
       "If you see this message, it means the renderer has not been properly enabled\n",
       "for the frontend that you are using. For more information, see\n",
       "https://altair-viz.github.io/user_guide/troubleshooting.html\n"
      ]
     },
     "metadata": {},
     "output_type": "display_data"
    }
   ],
   "source": [
    "plots = []\n",
    "for i, comp in enumerate(comps):\n",
    "    display(HTID(neighbors[i][0], rsync_root=rsync_root))\n",
    "    comp.assemble_sw_runs(threshold = 0.1)\n",
    "    p = comp.plot(\"similarity_matrix\", runs = True).properties(width=300, height=300)\n",
    "    display(p)\n",
    "    plots.append(p)"
   ]
  },
  {
   "cell_type": "markdown",
   "metadata": {},
   "source": [
    "The code below automates this procedure over the whole corpus."
   ]
  },
  {
   "cell_type": "code",
   "execution_count": null,
   "metadata": {},
   "outputs": [],
   "source": [
    "for i, row in enumerate(corpus.metadata.itertuples()):\n",
    "    vol = MTVolume(row.Index, corpus)\n",
    "    if i % 25 == 0:\n",
    "        print(i)\n",
    "    neighbors = vol.neighbors(comps_per_item=20, minimum_matches=4)\n",
    "    for neighbor in neighbors:\n",
    "        comp = VectorComparison(row.Index, neighbor[0], corpus, adjusted=True)\n",
    "        comp.assemble_sw_runs(threshold = 0.1)\n",
    "        comp.export_runs(\"runs.csv\")"
   ]
  },
  {
   "cell_type": "code",
   "execution_count": 158,
   "metadata": {},
   "outputs": [],
   "source": [
    "import altair as alt\n",
    "alt.vconcat(*plots)#.properties(width=300, height = 300)"
   ]
  }
 ],
 "metadata": {
  "kernelspec": {
   "display_name": "Python 3",
   "language": "python",
   "name": "python3"
  },
  "language_info": {
   "codemirror_mode": {
    "name": "ipython",
    "version": 3
   },
   "file_extension": ".py",
   "mimetype": "text/x-python",
   "name": "python",
   "nbconvert_exporter": "python",
   "pygments_lexer": "ipython3",
   "version": "3.6.7"
  }
 },
 "nbformat": 4,
 "nbformat_minor": 4
}

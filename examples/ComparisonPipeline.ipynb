{
 "cells": [
  {
   "cell_type": "markdown",
   "metadata": {},
   "source": [
    "# Comparison Pipeline\n",
    "\n",
    "Input:\n",
    "    For each target, a comparison candidate from Annoy\n",
    "    \n",
    "Output:\n",
    "    For each target-candidate pair, export a series of content-based stats."
   ]
  },
  {
   "cell_type": "code",
   "execution_count": 1,
   "metadata": {},
   "outputs": [],
   "source": [
    "%load_ext autoreload\n",
    "%autoreload 2\n",
    "from compare_tools.hathimeta import HathiMeta, get_json_meta\n",
    "from compare_tools.configuration import config, init_htid_args\n",
    "from compare_tools.comparison import Comparison, HTIDComparison\n",
    "from compare_tools.utils import HTID\n",
    "htid_args = init_htid_args(config)"
   ]
  },
  {
   "cell_type": "code",
   "execution_count": 2,
   "metadata": {},
   "outputs": [],
   "source": [
    "left = HTID('hvd.ah4wfm', **htid_args) # College Sermons + A Set of Parish Sermons\n",
    "right = HTID('uc2.ark:/13960/t4fn13p7f', **htid_args) # just College Sermons\n",
    "comp = HTIDComparison(left, right)"
   ]
  },
  {
   "cell_type": "markdown",
   "metadata": {},
   "source": [
    "# Stats"
   ]
  },
  {
   "cell_type": "code",
   "execution_count": 3,
   "metadata": {},
   "outputs": [
    {
     "data": {
      "text/plain": [
       "{'leftpagecount': 650,\n",
       " 'rightpagecount': 372,\n",
       " 'pageDiff': 278,\n",
       " 'pagePropDiff': 0.4276923076923077}"
      ]
     },
     "execution_count": 3,
     "metadata": {},
     "output_type": "execute_result"
    }
   ],
   "source": [
    "comp.stat_pagecounts()"
   ]
  },
  {
   "cell_type": "code",
   "execution_count": 4,
   "metadata": {},
   "outputs": [
    {
     "data": {
      "text/plain": [
       "{'srpLSimQuantile0.0': 0.002980890604722397,\n",
       " 'srpLSimQuantile0.1': 0.004821162643012888,\n",
       " 'srpLSimQuantile0.2': 0.007044619193718238,\n",
       " 'srpLSimQuantile0.3': 0.012501821534029059,\n",
       " 'srpLSimQuantile0.4': 0.014625682792797034,\n",
       " 'srpLSimQuantile0.5': 0.017877532621540015,\n",
       " 'srpLSimQuantile0.6': 0.22987318474478613,\n",
       " 'srpLSimQuantile0.7': 0.3727059124935101,\n",
       " 'srpLSimQuantile0.8': 0.3874301896602962,\n",
       " 'srpLSimQuantile0.9': 0.39520333368089494,\n",
       " 'srpRSimQuantile0.0': 0.002980890604722397,\n",
       " 'srpRSimQuantile0.1': 0.0038080200756848703,\n",
       " 'srpRSimQuantile0.2': 0.005128242407271766,\n",
       " 'srpRSimQuantile0.3': 0.006125291821976387,\n",
       " 'srpRSimQuantile0.4': 0.008291871379677018,\n",
       " 'srpRSimQuantile0.5': 0.011390809795881585,\n",
       " 'srpRSimQuantile0.6': 0.013640361102202615,\n",
       " 'srpRSimQuantile0.7': 0.014528551773676646,\n",
       " 'srpRSimQuantile0.8': 0.015742281650323497,\n",
       " 'srpRSimQuantile0.9': 0.01923474446064178}"
      ]
     },
     "execution_count": 4,
     "metadata": {},
     "output_type": "execute_result"
    }
   ],
   "source": [
    "comp.stat_quantiles('srp')"
   ]
  },
  {
   "cell_type": "code",
   "execution_count": 5,
   "metadata": {},
   "outputs": [
    {
     "data": {
      "text/plain": [
       "{'LSize': 17,\n",
       " 'RSize': 10,\n",
       " 'minSize': 10,\n",
       " 'srpMeanSim': 0.3733786594829696,\n",
       " 'srpLMeanMinSim': 0.1691424254623114,\n",
       " 'srpLTruncSim': 0.012029156007692388,\n",
       " 'srpLPropDist0020': 0.5294117647058824,\n",
       " 'srpLPropDist0030': 0.5294117647058824,\n",
       " 'srpRMeanMinSim': 0.012029156007692388,\n",
       " 'srpRTruncSim': 0.012029156007692388,\n",
       " 'srpRPropDist0020': 0.9,\n",
       " 'srpRPropDist0030': 0.9}"
      ]
     },
     "execution_count": 5,
     "metadata": {},
     "output_type": "execute_result"
    }
   ],
   "source": [
    "comp.stat_simmat('srp', thresholds=[0.02, 0.03])"
   ]
  },
  {
   "cell_type": "code",
   "execution_count": 6,
   "metadata": {},
   "outputs": [
    {
     "data": {
      "text/plain": [
       "{'SW0010Len': 10, 'SW0005Len': 10, 'SW0001Len': 10}"
      ]
     },
     "execution_count": 6,
     "metadata": {},
     "output_type": "execute_result"
    }
   ],
   "source": [
    "comp.stat_sw()"
   ]
  },
  {
   "cell_type": "code",
   "execution_count": 12,
   "metadata": {},
   "outputs": [
    {
     "data": {
      "text/plain": [
       "{'SW0010Len': 0,\n",
       " 'SW0005Len': 0,\n",
       " 'SW0004Len': 0,\n",
       " 'SW0001Len': 0,\n",
       " 'LSize': 10,\n",
       " 'RSize': 3,\n",
       " 'minSize': 3,\n",
       " 'gloveMeanSim': 0.07262974579533292,\n",
       " 'gloveLMeanMinSim': 0.06976596369485798,\n",
       " 'gloveLTruncSim': 0.05608907686437,\n",
       " 'gloveLPropDist0002': 0.0,\n",
       " 'gloveLPropDist0005': 0.0,\n",
       " 'gloveLPropDist0010': 0.0,\n",
       " 'gloveLPropDist0020': 0.0,\n",
       " 'gloveLPropDist0030': 0.0,\n",
       " 'gloveRMeanMinSim': 0.052582923681141515,\n",
       " 'gloveRTruncSim': 0.052582923681141515,\n",
       " 'gloveRPropDist0002': 0.0,\n",
       " 'gloveRPropDist0005': 0.0,\n",
       " 'gloveRPropDist0010': 0.0,\n",
       " 'gloveRPropDist0020': 0.0,\n",
       " 'gloveRPropDist0030': 0.0,\n",
       " 'left': 'yale.39002014323993',\n",
       " 'right': 'mdp.39015010204520',\n",
       " 'srpLSimQuantile0.0': 0.5203898469857141,\n",
       " 'srpLSimQuantile0.1': 0.5336641846909338,\n",
       " 'srpLSimQuantile0.2': 0.5423369559684419,\n",
       " 'srpLSimQuantile0.3': 0.5510559132354244,\n",
       " 'srpLSimQuantile0.4': 0.5610596141190138,\n",
       " 'srpLSimQuantile0.5': 0.568627292708389,\n",
       " 'srpLSimQuantile0.6': 0.5730703179610559,\n",
       " 'srpLSimQuantile0.7': 0.5788606321085752,\n",
       " 'srpLSimQuantile0.8': 0.5907725740490481,\n",
       " 'srpLSimQuantile0.9': 0.6063676742374197,\n",
       " 'srpRSimQuantile0.0': 0.5203898469857141,\n",
       " 'srpRSimQuantile0.1': 0.5262481928575445,\n",
       " 'srpRSimQuantile0.2': 0.5321065387293749,\n",
       " 'srpRSimQuantile0.3': 0.5379648846012053,\n",
       " 'srpRSimQuantile0.4': 0.5438232304730356,\n",
       " 'srpRSimQuantile0.5': 0.549681576344866,\n",
       " 'srpRSimQuantile0.6': 0.5505289811116212,\n",
       " 'srpRSimQuantile0.7': 0.5513763858783762,\n",
       " 'srpRSimQuantile0.8': 0.5522237906451314,\n",
       " 'srpRSimQuantile0.9': 0.5530711954118865,\n",
       " 'gloveLSimQuantile0.0': 0.04892066887846902,\n",
       " 'gloveLSimQuantile0.1': 0.05631389186325712,\n",
       " 'gloveLSimQuantile0.2': 0.061196032721439295,\n",
       " 'gloveLSimQuantile0.3': 0.06281264509908446,\n",
       " 'gloveLSimQuantile0.4': 0.06333010871605951,\n",
       " 'gloveLSimQuantile0.5': 0.06685896965997534,\n",
       " 'gloveLSimQuantile0.6': 0.07265026731986104,\n",
       " 'gloveLSimQuantile0.7': 0.07774126373208062,\n",
       " 'gloveLSimQuantile0.8': 0.08221054433068128,\n",
       " 'gloveLSimQuantile0.9': 0.08685622540032477,\n",
       " 'gloveRSimQuantile0.0': 0.04892066887846902,\n",
       " 'gloveRSimQuantile0.1': 0.0497608929226256,\n",
       " 'gloveRSimQuantile0.2': 0.05060111696678218,\n",
       " 'gloveRSimQuantile0.3': 0.05144134101093876,\n",
       " 'gloveRSimQuantile0.4': 0.05228156505509533,\n",
       " 'gloveRSimQuantile0.5': 0.053121789099251915,\n",
       " 'gloveRSimQuantile0.6': 0.05363869389254226,\n",
       " 'gloveRSimQuantile0.7': 0.0541555986858326,\n",
       " 'gloveRSimQuantile0.8': 0.05467250347912293,\n",
       " 'gloveRSimQuantile0.9': 0.05518940827241328}"
      ]
     },
     "execution_count": 12,
     "metadata": {},
     "output_type": "execute_result"
    }
   ],
   "source": [
    "# Get all at once - hardcoded and may be better to collect elsewhere\n",
    "stats = comp.all_stats()\n",
    "stats.update(comp.stat_quantiles('srp'))\n",
    "stats.update(comp.stat_quantiles('glove'))\n",
    "stats"
   ]
  },
  {
   "cell_type": "markdown",
   "metadata": {},
   "source": [
    "Other potential stats\n",
    "- jaccard sim\n",
    "- How many unique words are there?\n",
    "- sims by page, by SRP\n",
    "- ..."
   ]
  },
  {
   "cell_type": "markdown",
   "metadata": {},
   "source": [
    "## Example crunching"
   ]
  },
  {
   "cell_type": "code",
   "execution_count": 8,
   "metadata": {},
   "outputs": [],
   "source": [
    "import glob\n",
    "import time\n",
    "import pandas as pd\n",
    "from htrc_features import utils\n",
    "annmatches = glob.glob('/projects/saddl-main/ann-ef/matches/*')"
   ]
  },
  {
   "cell_type": "code",
   "execution_count": 9,
   "metadata": {},
   "outputs": [],
   "source": [
    "# To raise on warnings while debugging\n",
    "import warnings\n",
    "with warnings.catch_warnings():\n",
    "    warnings.simplefilter('error')\n",
    "    #do_something"
   ]
  },
  {
   "cell_type": "code",
   "execution_count": 10,
   "metadata": {},
   "outputs": [
    {
     "data": {
      "text/html": [
       "<div>\n",
       "<style scoped>\n",
       "    .dataframe tbody tr th:only-of-type {\n",
       "        vertical-align: middle;\n",
       "    }\n",
       "\n",
       "    .dataframe tbody tr th {\n",
       "        vertical-align: top;\n",
       "    }\n",
       "\n",
       "    .dataframe thead th {\n",
       "        text-align: right;\n",
       "    }\n",
       "</style>\n",
       "<table border=\"1\" class=\"dataframe\">\n",
       "  <thead>\n",
       "    <tr style=\"text-align: right;\">\n",
       "      <th></th>\n",
       "      <th>Unnamed: 0</th>\n",
       "      <th>rater</th>\n",
       "      <th>target</th>\n",
       "      <th>candidate</th>\n",
       "      <th>judgment</th>\n",
       "      <th>notes</th>\n",
       "      <th>timestamp</th>\n",
       "    </tr>\n",
       "  </thead>\n",
       "  <tbody>\n",
       "    <tr>\n",
       "      <th>0</th>\n",
       "      <td>0</td>\n",
       "      <td>Peter</td>\n",
       "      <td>hvd.32044024501652</td>\n",
       "      <td>pst.000059706786</td>\n",
       "      <td>SWDE</td>\n",
       "      <td>Mostly the same, but rebranded?</td>\n",
       "      <td>1.580929e+09</td>\n",
       "    </tr>\n",
       "    <tr>\n",
       "      <th>1</th>\n",
       "      <td>1</td>\n",
       "      <td>Peter</td>\n",
       "      <td>hvd.32044024501652</td>\n",
       "      <td>uc2.ark:/13960/fk0tq5rc3v</td>\n",
       "      <td>SWDE</td>\n",
       "      <td>NaN</td>\n",
       "      <td>1.580929e+09</td>\n",
       "    </tr>\n",
       "    <tr>\n",
       "      <th>2</th>\n",
       "      <td>2</td>\n",
       "      <td>Peter</td>\n",
       "      <td>hvd.32044024501652</td>\n",
       "      <td>uiuo.ark:/13960/t0cv4jb3w</td>\n",
       "      <td>SWSM</td>\n",
       "      <td>NaN</td>\n",
       "      <td>1.580929e+09</td>\n",
       "    </tr>\n",
       "    <tr>\n",
       "      <th>3</th>\n",
       "      <td>3</td>\n",
       "      <td>Peter</td>\n",
       "      <td>hvd.32044024501652</td>\n",
       "      <td>loc.ark:/13960/t5s75px7c</td>\n",
       "      <td>AUTHOR</td>\n",
       "      <td>NaN</td>\n",
       "      <td>1.580929e+09</td>\n",
       "    </tr>\n",
       "    <tr>\n",
       "      <th>4</th>\n",
       "      <td>4</td>\n",
       "      <td>Peter</td>\n",
       "      <td>hvd.32044024501652</td>\n",
       "      <td>uva.x001053494</td>\n",
       "      <td>SWSM</td>\n",
       "      <td>NaN</td>\n",
       "      <td>1.580929e+09</td>\n",
       "    </tr>\n",
       "  </tbody>\n",
       "</table>\n",
       "</div>"
      ],
      "text/plain": [
       "   Unnamed: 0  rater              target                  candidate judgment  \\\n",
       "0           0  Peter  hvd.32044024501652           pst.000059706786     SWDE   \n",
       "1           1  Peter  hvd.32044024501652  uc2.ark:/13960/fk0tq5rc3v     SWDE   \n",
       "2           2  Peter  hvd.32044024501652  uiuo.ark:/13960/t0cv4jb3w     SWSM   \n",
       "3           3  Peter  hvd.32044024501652   loc.ark:/13960/t5s75px7c   AUTHOR   \n",
       "4           4  Peter  hvd.32044024501652             uva.x001053494     SWSM   \n",
       "\n",
       "                             notes     timestamp  \n",
       "0  Mostly the same, but rebranded?  1.580929e+09  \n",
       "1                              NaN  1.580929e+09  \n",
       "2                              NaN  1.580929e+09  \n",
       "3                              NaN  1.580929e+09  \n",
       "4                              NaN  1.580929e+09  "
      ]
     },
     "execution_count": 10,
     "metadata": {},
     "output_type": "execute_result"
    }
   ],
   "source": [
    "handcoded = pd.read_csv('http://35.239.220.133/download')\n",
    "handcoded.head()"
   ]
  },
  {
   "cell_type": "code",
   "execution_count": null,
   "metadata": {},
   "outputs": [],
   "source": [
    "%%time\n",
    "from htrc_features import utils\n",
    "stats_collector = []\n",
    "errs = []\n",
    "for leftid, candidates in handcoded[['target', 'candidate']].groupby('target'):\n",
    "    try:\n",
    "        leftid = utils.extract_htid(leftid)\n",
    "        left = HTID(leftid, **htid_args)\n",
    "    except:\n",
    "        errs.append(('left', leftid))\n",
    "    for rightid in candidates.candidate:\n",
    "        try:\n",
    "            rightid = utils.extract_htid(rightid)\n",
    "            right = HTID(rightid, **htid_args)\n",
    "        except:\n",
    "            errs.append(('right', rightid))\n",
    "        try:\n",
    "            comp = HTIDComparison(left, right)\n",
    "            stats = comp.all_stats()\n",
    "            stats.update(comp.stat_quantiles('srp'))\n",
    "            stats.update(comp.stat_quantiles('glove'))\n",
    "            stats_collector.append(stats)\n",
    "        except KeyboardInterrupt:\n",
    "            raise\n",
    "        except:\n",
    "            errs.append(('comparison', leftid+'-'+rightid))\n",
    "pd.DataFrame(stats_collector).to_parquet('/data/saddl/handcoded.parquet', compression='snappy')"
   ]
  },
  {
   "cell_type": "code",
   "execution_count": null,
   "metadata": {},
   "outputs": [
    {
     "name": "stdout",
     "output_type": "stream",
     "text": [
      "0 0 aeu.ark:/13960/t0000vt1c 0.07594108581542969\n",
      "1000 4769 hvd.32044080919459 92.68209195137024\n",
      "2000 632 hvd.32044107274516 194.62113428115845\n",
      "3000 6302 coo.31924001127004 328.62200832366943\n",
      "4000 1224 coo.31924018276497 417.61743569374084\n",
      "5000 6969 hvd.32044097021786 527.1369841098785\n",
      "6000 3861 hvd.hc2cih 649.3356335163116\n"
     ]
    }
   ],
   "source": [
    "stats_collector = []\n",
    "i = 0 \n",
    "start = time.time()\n",
    "\n",
    "for matchfile in annmatches:\n",
    "    df = pd.read_parquet(matchfile)\n",
    "    df = df[(df.prop_target > 0.5) | (df.prop_match > 0.5)]\n",
    "    df = df[df['count'] > 1]\n",
    "    df = df[df.match != df.target]\n",
    "    \n",
    "    for target, matches in df.groupby('target'):\n",
    "        if i % 1000 == 0:\n",
    "            print(i, len(stats_collector), target, time.time()-start)\n",
    "        left = HTID(target, **htid_args)\n",
    "        \n",
    "        for match in matches['match']:\n",
    "            right = HTID(match, **htid_args)\n",
    "            comp = HTIDComparison(left, right)\n",
    "            try:\n",
    "                stats = comp.all_stats()\n",
    "                stats.update(comp.stat_quantiles('srp'))\n",
    "                stats.update(comp.stat_quantiles('glove'))\n",
    "                stats_collector.append(stats)\n",
    "            except KeyboardInterrupt:\n",
    "                raise\n",
    "            except:\n",
    "                continue\n",
    "                #print(\"Issue with \", left.htid, right.htid)\n",
    "\n",
    "        if len(stats_collector) > 10000:\n",
    "            pd.DataFrame(stats_collector).to_parquet('/data/saddl/tmp-comp-output/8' + utils.clean_htid(target) + 'andmore.parquet', compression='snappy')\n",
    "            stats_collector = []\n",
    "\n",
    "        i += 1\n",
    "pd.DataFrame(stats_collector).to_parquet('/data/saddl/tmp-comp-output/8' + utils.clean_htid(target) + 'andmore.parquet', compression='snappy')\n",
    "end = time.time()"
   ]
  },
  {
   "cell_type": "code",
   "execution_count": 11,
   "metadata": {},
   "outputs": [
    {
     "data": {
      "text/html": [
       "<div>\n",
       "<style scoped>\n",
       "    .dataframe tbody tr th:only-of-type {\n",
       "        vertical-align: middle;\n",
       "    }\n",
       "\n",
       "    .dataframe tbody tr th {\n",
       "        vertical-align: top;\n",
       "    }\n",
       "\n",
       "    .dataframe thead th {\n",
       "        text-align: right;\n",
       "    }\n",
       "</style>\n",
       "<table border=\"1\" class=\"dataframe\">\n",
       "  <thead>\n",
       "    <tr style=\"text-align: right;\">\n",
       "      <th></th>\n",
       "      <th>left</th>\n",
       "      <th>right</th>\n",
       "    </tr>\n",
       "  </thead>\n",
       "  <tbody>\n",
       "    <tr>\n",
       "      <th>0</th>\n",
       "      <td>123</td>\n",
       "      <td>345</td>\n",
       "    </tr>\n",
       "  </tbody>\n",
       "</table>\n",
       "</div>"
      ],
      "text/plain": [
       "   left  right\n",
       "0   123    345"
      ]
     },
     "execution_count": 11,
     "metadata": {},
     "output_type": "execute_result"
    }
   ],
   "source": [
    "pd.DataFrame([{'left':123, 'right':345}])"
   ]
  },
  {
   "cell_type": "markdown",
   "metadata": {},
   "source": [
    "get rough ground truth"
   ]
  },
  {
   "cell_type": "code",
   "execution_count": 9,
   "metadata": {},
   "outputs": [
    {
     "data": {
      "text/plain": [
       "'T0A1P1O0C0D2'"
      ]
     },
     "execution_count": 9,
     "metadata": {},
     "output_type": "execute_result"
    }
   ],
   "source": [
    "def judge_meta(l,r):\n",
    "    judge_code = \"\"\n",
    "    \n",
    "    if l['title'] == r['title']:\n",
    "        judge_code += \"T1\"\n",
    "    elif l['title'][:20] == r['title'][:20]:\n",
    "        judge_code += \"T2\"\n",
    "    else:\n",
    "        judge_code += \"T0\"\n",
    "        \n",
    "    for char, field in [('A', 'author'), ('P', 'rights_date_used'), ('O', 'oclc_num')]:\n",
    "        if l[field] == r[field]:\n",
    "            judge_code += char + \"1\"\n",
    "        else:\n",
    "            judge_code += char + \"0\"\n",
    "        \n",
    "    if l['page_count'] == r['page_count']: \n",
    "        judge_code += \"C1\"\n",
    "    elif abs(l['page_count'] - r['page_count']) < 10:\n",
    "        judge_code += \"C2\"\n",
    "    elif abs(l['page_count'] - r['page_count']) < 20:\n",
    "        judge_code += \"C3\"\n",
    "    else:\n",
    "        judge_code += \"C0\"\n",
    "    \n",
    "    if not l['description'] and not r['description']:\n",
    "        judge_code += \"D2\"\n",
    "    elif not l['description'] or not r['description']:\n",
    "        judge_code += \"D3\"\n",
    "    elif (l['description'] == r['description']):\n",
    "        judge_code += \"D1\"\n",
    "    else:\n",
    "        judge_code += \"D0\"\n",
    "\n",
    "    return judge_code\n",
    "\n",
    "judge_meta(left.meta().to_dict(), right.meta().to_dict())"
   ]
  },
  {
   "cell_type": "code",
   "execution_count": null,
   "metadata": {},
   "outputs": [
    {
     "name": "stdout",
     "output_type": "stream",
     "text": [
      "1000 63.76490330696106\n",
      "2000 127.59842824935913\n",
      "3000 191.3848659992218\n",
      "4000 254.9635157585144\n",
      "5000 318.5099902153015\n",
      "6000 382.25969433784485\n",
      "7000 446.05241680145264\n",
      "8000 509.6741111278534\n",
      "9000 573.5247383117676\n",
      "10000 636.906721830368\n",
      "11000 700.0996561050415\n",
      "12000 763.8884723186493\n",
      "13000 827.3452496528625\n",
      "14000 890.7076849937439\n",
      "15000 954.1151504516602\n"
     ]
    }
   ],
   "source": [
    "start = time.time()\n",
    "fields = ['title', 'author', 'rights_date_used', 'oclc_num', 'page_count', 'description']\n",
    "meta = htid_args['hathimeta']\n",
    "paths= glob.glob('/data/saddl/tmp-comp-output/*')\n",
    "\n",
    "i = 0\n",
    "\n",
    "for path in paths:\n",
    "    collector = []\n",
    "    df = pd.read_parquet(path, columns=['left', 'right'])\n",
    "    for j, row in df.iterrows():\n",
    "        lmeta = meta.get_volume(row.left, fields)\n",
    "        rmeta = meta.get_volume(row.right, fields)\n",
    "        try:\n",
    "            meta_code = judge_meta(lmeta, rmeta)\n",
    "        except:\n",
    "            print('err')\n",
    "        collector.append((row.left, row.right, meta_code))\n",
    "        i += 1\n",
    "        if i % 1000 == 0:\n",
    "            print(i, time.time()-start)\n",
    "    outpath = path.replace('tmp-comp-output', 'tmp-ground-truth')\n",
    "    pd.DataFrame(collector, columns=['left', 'right', 'meta_code']).to_parquet(outpath)\n",
    "end = time.time()"
   ]
  },
  {
   "cell_type": "code",
   "execution_count": 10,
   "metadata": {},
   "outputs": [
    {
     "ename": "NameError",
     "evalue": "name 'paths' is not defined",
     "output_type": "error",
     "traceback": [
      "\u001b[0;31m---------------------------------------------------------------------------\u001b[0m",
      "\u001b[0;31mNameError\u001b[0m                                 Traceback (most recent call last)",
      "\u001b[0;32m<ipython-input-10-c9183fd2964f>\u001b[0m in \u001b[0;36m<module>\u001b[0;34m\u001b[0m\n\u001b[1;32m      1\u001b[0m \u001b[0mi\u001b[0m \u001b[0;34m=\u001b[0m \u001b[0;36m0\u001b[0m\u001b[0;34m\u001b[0m\u001b[0;34m\u001b[0m\u001b[0m\n\u001b[0;32m----> 2\u001b[0;31m \u001b[0;32mfor\u001b[0m \u001b[0mpath\u001b[0m \u001b[0;32min\u001b[0m \u001b[0mpaths\u001b[0m\u001b[0;34m:\u001b[0m\u001b[0;34m\u001b[0m\u001b[0;34m\u001b[0m\u001b[0m\n\u001b[0m\u001b[1;32m      3\u001b[0m     \u001b[0mi\u001b[0m \u001b[0;34m+=\u001b[0m \u001b[0mpd\u001b[0m\u001b[0;34m.\u001b[0m\u001b[0mread_parquet\u001b[0m\u001b[0;34m(\u001b[0m\u001b[0mpath\u001b[0m\u001b[0;34m)\u001b[0m\u001b[0;34m.\u001b[0m\u001b[0mshape\u001b[0m\u001b[0;34m[\u001b[0m\u001b[0;36m0\u001b[0m\u001b[0;34m]\u001b[0m\u001b[0;34m\u001b[0m\u001b[0;34m\u001b[0m\u001b[0m\n\u001b[1;32m      4\u001b[0m \u001b[0mi\u001b[0m\u001b[0;34m\u001b[0m\u001b[0;34m\u001b[0m\u001b[0m\n",
      "\u001b[0;31mNameError\u001b[0m: name 'paths' is not defined"
     ]
    }
   ],
   "source": [
    "i = 0\n",
    "for path in paths:\n",
    "    i += pd.read_parquet(path).shape[0]\n",
    "i"
   ]
  },
  {
   "cell_type": "code",
   "execution_count": null,
   "metadata": {},
   "outputs": [],
   "source": []
  }
 ],
 "metadata": {
  "kernelspec": {
   "display_name": "Python 3",
   "language": "python",
   "name": "python3"
  },
  "language_info": {
   "codemirror_mode": {
    "name": "ipython",
    "version": 3
   },
   "file_extension": ".py",
   "mimetype": "text/x-python",
   "name": "python",
   "nbconvert_exporter": "python",
   "pygments_lexer": "ipython3",
   "version": "3.6.7"
  }
 },
 "nbformat": 4,
 "nbformat_minor": 4
}

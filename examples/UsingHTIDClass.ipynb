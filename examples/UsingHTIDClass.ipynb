{
 "cells": [
  {
   "cell_type": "markdown",
   "metadata": {},
   "source": [
    "## Using the HTID Class\n",
    "\n",
    "The HTID class serves as an endpoint to the various sources of volume-level information in this project. Since we use various sources of metadata, data, and features, this is meant to simplify the code access. It lazy loads and caches content when needed."
   ]
  },
  {
   "cell_type": "code",
   "execution_count": 1,
   "metadata": {},
   "outputs": [],
   "source": [
    "%load_ext autoreload\n",
    "%autoreload 2"
   ]
  },
  {
   "cell_type": "code",
   "execution_count": 8,
   "metadata": {},
   "outputs": [
    {
     "data": {
      "text/plain": [
       "dict_keys(['rsync_root', 'parquet_chunked_root', 'parquet_root', 'glove_data_path', 'srp_data_path', 'meta_path', 'metadb_path'])"
      ]
     },
     "execution_count": 8,
     "metadata": {},
     "output_type": "execute_result"
    }
   ],
   "source": [
    "from compare_tools.utils import HTID\n",
    "from compare_tools.hathimeta import HathiMeta, get_json_meta\n",
    "from compare_tools.configuration import config\n",
    "from SRP import Vector_file\n",
    "config.keys()"
   ]
  },
  {
   "cell_type": "code",
   "execution_count": 9,
   "metadata": {},
   "outputs": [
    {
     "data": {
      "text/plain": [
       "{'rsync_root': '/data/extracted-features/',\n",
       " 'parquet_chunked_root': '/data/extracted-features-parquet-chunked/',\n",
       " 'parquet_root': '/data/extracted-features-parquet/',\n",
       " 'glove_data_path': '/data/vectorfiles/all_Glove_testset.bin',\n",
       " 'srp_data_path': '/data/vectorfiles/all_SRP_testset.bin',\n",
       " 'meta_path': '/projects/saddl-main/sampling/test_dataset.csv.gz',\n",
       " 'metadb_path': '/data/saddl/meta.db'}"
      ]
     },
     "execution_count": 9,
     "metadata": {},
     "output_type": "execute_result"
    }
   ],
   "source": [
    "config"
   ]
  },
  {
   "cell_type": "code",
   "execution_count": 11,
   "metadata": {},
   "outputs": [],
   "source": [
    "# Pre-initialized objects - these aren't specific to a volume, so the HTID\n",
    "# class just calls stuff out of them\n",
    "metastore = HathiMeta(config['metadb_path'])\n",
    "glove = Vector_file(config['glove_data_path'], mode='r')\n",
    "srp = Vector_file(config['srp_data_path'], mode='r')"
   ]
  },
  {
   "cell_type": "code",
   "execution_count": 13,
   "metadata": {},
   "outputs": [],
   "source": [
    "htid_args = dict(ef_root=config['parquet_root'],\n",
    "                 ef_chunk_root=config['parquet_chunked_root'], \n",
    "                 ef_parser='parquet',\n",
    "                 hathimeta=metastore,\n",
    "                 vecfiles=[('glove', glove),('srp', srp)])"
   ]
  },
  {
   "cell_type": "code",
   "execution_count": 14,
   "metadata": {},
   "outputs": [],
   "source": [
    "htid = HTID('aeu.ark:/13960/t0000s333', **htid_args)"
   ]
  },
  {
   "cell_type": "markdown",
   "metadata": {},
   "source": [
    "## Metadata\n",
    "Metadata is loaded both from the HathiMeta database and from the Extracted Features volume. This can sometimes differ, so the class doesn't deduplicate. In other words, *don't assume* that there's only one field with a given name! The `meta` call will initialize the volume if it isn't already, so if you don't want to spare the processing cycles, don't ask for metadata or don't give ef_root on init!"
   ]
  },
  {
   "cell_type": "code",
   "execution_count": 15,
   "metadata": {},
   "outputs": [
    {
     "data": {
      "text/plain": [
       "access                                          allow\n",
       "access_profile                                   open\n",
       "access_profile_code                              open\n",
       "author                    Clark, Francis E. 1851-1927\n",
       "bib_fmt                                            BK\n",
       "bibliographic_format                               BK\n",
       "classification                     {'ddc': ['910.4']}\n",
       "collection_code                                   AEU\n",
       "content_provider_code                        ualberta\n",
       "date_created             2016-06-19T07:13:48.0676367Z\n",
       "dtype: object"
      ]
     },
     "execution_count": 15,
     "metadata": {},
     "output_type": "execute_result"
    }
   ],
   "source": [
    "htid.meta().head(10)"
   ]
  },
  {
   "cell_type": "markdown",
   "metadata": {},
   "source": [
    "## Data - Extracted Features"
   ]
  },
  {
   "cell_type": "code",
   "execution_count": 16,
   "metadata": {},
   "outputs": [
    {
     "data": {
      "text/html": [
       "<strong><a href='http://hdl.handle.net/2027/aeu.ark:/13960/t0000s333'>Fellow travellers a personnally conducted journey in three continents, with impressions of men, things and events / by Francis E. Clark.</a></strong> by <em>Clark, Francis E. (Francis Edward) 1851-1927 </em> (1898, 335 pages) - <code>aeu.ark:/13960/t0000s333</code>"
      ],
      "text/plain": [
       "<htrc_features.feature_reader.Volume at 0x7f8603a572b0>"
      ]
     },
     "execution_count": 16,
     "metadata": {},
     "output_type": "execute_result"
    }
   ],
   "source": [
    "htid.volume"
   ]
  },
  {
   "cell_type": "markdown",
   "metadata": {},
   "source": [
    "The version of the Extracted Features that I'm pointing to on my machine has case and pos dropped, so token counts will only load if you don't call that information. Your system may be different."
   ]
  },
  {
   "cell_type": "code",
   "execution_count": 17,
   "metadata": {},
   "outputs": [
    {
     "data": {
      "text/html": [
       "<div>\n",
       "<style scoped>\n",
       "    .dataframe tbody tr th:only-of-type {\n",
       "        vertical-align: middle;\n",
       "    }\n",
       "\n",
       "    .dataframe tbody tr th {\n",
       "        vertical-align: top;\n",
       "    }\n",
       "\n",
       "    .dataframe thead th {\n",
       "        text-align: right;\n",
       "    }\n",
       "</style>\n",
       "<table border=\"1\" class=\"dataframe\">\n",
       "  <thead>\n",
       "    <tr style=\"text-align: right;\">\n",
       "      <th></th>\n",
       "      <th></th>\n",
       "      <th>count</th>\n",
       "    </tr>\n",
       "    <tr>\n",
       "      <th>page</th>\n",
       "      <th>lowercase</th>\n",
       "      <th></th>\n",
       "    </tr>\n",
       "  </thead>\n",
       "  <tbody>\n",
       "    <tr>\n",
       "      <th>323</th>\n",
       "      <th>africa</th>\n",
       "      <td>4</td>\n",
       "    </tr>\n",
       "    <tr>\n",
       "      <th>132</th>\n",
       "      <th>ii</th>\n",
       "      <td>1</td>\n",
       "    </tr>\n",
       "    <tr>\n",
       "      <th>270</th>\n",
       "      <th>eupon</th>\n",
       "      <td>1</td>\n",
       "    </tr>\n",
       "    <tr>\n",
       "      <th>89</th>\n",
       "      <th>for</th>\n",
       "      <td>2</td>\n",
       "    </tr>\n",
       "    <tr>\n",
       "      <th>256</th>\n",
       "      <th>natives</th>\n",
       "      <td>1</td>\n",
       "    </tr>\n",
       "  </tbody>\n",
       "</table>\n",
       "</div>"
      ],
      "text/plain": [
       "                count\n",
       "page lowercase       \n",
       "323  africa         4\n",
       "132  ii             1\n",
       "270  eupon          1\n",
       "89   for            2\n",
       "256  natives        1"
      ]
     },
     "execution_count": 17,
     "metadata": {},
     "output_type": "execute_result"
    }
   ],
   "source": [
    "htid.volume.tokenlist(case=False, pos=False).sample(5)"
   ]
  },
  {
   "cell_type": "markdown",
   "metadata": {},
   "source": [
    "For performance, this project allows you to save pre-parsed Extracted Features using the parquet format, as above. Simplified token count information can also be saved, including a version where only *n*-sized chunks are saved. HTID can point to an endpoint for chunk-only EF volumes:"
   ]
  },
  {
   "cell_type": "code",
   "execution_count": 18,
   "metadata": {},
   "outputs": [
    {
     "data": {
      "text/html": [
       "<div>\n",
       "<style scoped>\n",
       "    .dataframe tbody tr th:only-of-type {\n",
       "        vertical-align: middle;\n",
       "    }\n",
       "\n",
       "    .dataframe tbody tr th {\n",
       "        vertical-align: top;\n",
       "    }\n",
       "\n",
       "    .dataframe thead th {\n",
       "        text-align: right;\n",
       "    }\n",
       "</style>\n",
       "<table border=\"1\" class=\"dataframe\">\n",
       "  <thead>\n",
       "    <tr style=\"text-align: right;\">\n",
       "      <th></th>\n",
       "      <th></th>\n",
       "      <th>count</th>\n",
       "    </tr>\n",
       "    <tr>\n",
       "      <th>chunk</th>\n",
       "      <th>lowercase</th>\n",
       "      <th></th>\n",
       "    </tr>\n",
       "  </thead>\n",
       "  <tbody>\n",
       "    <tr>\n",
       "      <th rowspan=\"5\" valign=\"top\">1</th>\n",
       "      <th>!</th>\n",
       "      <td>10</td>\n",
       "    </tr>\n",
       "    <tr>\n",
       "      <th>!^-^&gt;</th>\n",
       "      <td>1</td>\n",
       "    </tr>\n",
       "    <tr>\n",
       "      <th>!tiiagfciiir-iiitiww&lt;</th>\n",
       "      <td>1</td>\n",
       "    </tr>\n",
       "    <tr>\n",
       "      <th>\"</th>\n",
       "      <td>28</td>\n",
       "    </tr>\n",
       "    <tr>\n",
       "      <th>\"continued\"</th>\n",
       "      <td>1</td>\n",
       "    </tr>\n",
       "  </tbody>\n",
       "</table>\n",
       "</div>"
      ],
      "text/plain": [
       "                             count\n",
       "chunk lowercase                   \n",
       "1     !                         10\n",
       "      !^-^>                      1\n",
       "      !tiiagfciiir-iiitiww<      1\n",
       "      \"                         28\n",
       "      \"continued\"                1"
      ]
     },
     "execution_count": 18,
     "metadata": {},
     "output_type": "execute_result"
    }
   ],
   "source": [
    "chunks = htid.chunked_volume.chunked_tokenlist(case=False, pos=False, suppress_warning=True)\n",
    "chunks.head()"
   ]
  },
  {
   "cell_type": "markdown",
   "metadata": {},
   "source": [
    "*The `suppress_warning` argument suppresses a reminder that pre-chunked tokenlists are returned as they exist on disk (i.e. if it was pre-saved at 5000 words per chunk, that's what you get, even if you ask chunked_tokenlist for 8000 words per chunk!). If you're worried you'll forget that, don't suppress the warning!*\n",
    "\n",
    "These chunks are around 5000 tokens each:"
   ]
  },
  {
   "cell_type": "code",
   "execution_count": 19,
   "metadata": {},
   "outputs": [
    {
     "data": {
      "text/html": [
       "<div>\n",
       "<style scoped>\n",
       "    .dataframe tbody tr th:only-of-type {\n",
       "        vertical-align: middle;\n",
       "    }\n",
       "\n",
       "    .dataframe tbody tr th {\n",
       "        vertical-align: top;\n",
       "    }\n",
       "\n",
       "    .dataframe thead th {\n",
       "        text-align: right;\n",
       "    }\n",
       "</style>\n",
       "<table border=\"1\" class=\"dataframe\">\n",
       "  <thead>\n",
       "    <tr style=\"text-align: right;\">\n",
       "      <th></th>\n",
       "      <th>count</th>\n",
       "    </tr>\n",
       "    <tr>\n",
       "      <th>chunk</th>\n",
       "      <th></th>\n",
       "    </tr>\n",
       "  </thead>\n",
       "  <tbody>\n",
       "    <tr>\n",
       "      <th>1</th>\n",
       "      <td>4957</td>\n",
       "    </tr>\n",
       "    <tr>\n",
       "      <th>2</th>\n",
       "      <td>4973</td>\n",
       "    </tr>\n",
       "    <tr>\n",
       "      <th>3</th>\n",
       "      <td>5006</td>\n",
       "    </tr>\n",
       "    <tr>\n",
       "      <th>4</th>\n",
       "      <td>4928</td>\n",
       "    </tr>\n",
       "    <tr>\n",
       "      <th>5</th>\n",
       "      <td>4989</td>\n",
       "    </tr>\n",
       "    <tr>\n",
       "      <th>6</th>\n",
       "      <td>4959</td>\n",
       "    </tr>\n",
       "    <tr>\n",
       "      <th>7</th>\n",
       "      <td>4842</td>\n",
       "    </tr>\n",
       "    <tr>\n",
       "      <th>8</th>\n",
       "      <td>4890</td>\n",
       "    </tr>\n",
       "    <tr>\n",
       "      <th>9</th>\n",
       "      <td>4913</td>\n",
       "    </tr>\n",
       "    <tr>\n",
       "      <th>10</th>\n",
       "      <td>4979</td>\n",
       "    </tr>\n",
       "    <tr>\n",
       "      <th>11</th>\n",
       "      <td>5069</td>\n",
       "    </tr>\n",
       "    <tr>\n",
       "      <th>12</th>\n",
       "      <td>4856</td>\n",
       "    </tr>\n",
       "    <tr>\n",
       "      <th>13</th>\n",
       "      <td>4982</td>\n",
       "    </tr>\n",
       "    <tr>\n",
       "      <th>14</th>\n",
       "      <td>4977</td>\n",
       "    </tr>\n",
       "    <tr>\n",
       "      <th>15</th>\n",
       "      <td>5081</td>\n",
       "    </tr>\n",
       "    <tr>\n",
       "      <th>16</th>\n",
       "      <td>4755</td>\n",
       "    </tr>\n",
       "  </tbody>\n",
       "</table>\n",
       "</div>"
      ],
      "text/plain": [
       "       count\n",
       "chunk       \n",
       "1       4957\n",
       "2       4973\n",
       "3       5006\n",
       "4       4928\n",
       "5       4989\n",
       "6       4959\n",
       "7       4842\n",
       "8       4890\n",
       "9       4913\n",
       "10      4979\n",
       "11      5069\n",
       "12      4856\n",
       "13      4982\n",
       "14      4977\n",
       "15      5081\n",
       "16      4755"
      ]
     },
     "execution_count": 19,
     "metadata": {},
     "output_type": "execute_result"
    }
   ],
   "source": [
    "chunks.groupby(level='chunk').sum()"
   ]
  },
  {
   "cell_type": "markdown",
   "metadata": {},
   "source": [
    "# Pre-crunched Vectors\n",
    "\n",
    "Pass one or more Vectorfile objects to allow MTID-formatted vectors to be returned. Recall, these are the args that were passed:"
   ]
  },
  {
   "cell_type": "code",
   "execution_count": 20,
   "metadata": {},
   "outputs": [
    {
     "data": {
      "text/plain": [
       "[('glove', <SRP.SRP_files.Vector_file at 0x7f85928f5320>),\n",
       " ('srp', <SRP.SRP_files.Vector_file at 0x7f85928f5390>)]"
      ]
     },
     "execution_count": 20,
     "metadata": {},
     "output_type": "execute_result"
    }
   ],
   "source": [
    "htid_args['vecfiles']"
   ]
  },
  {
   "cell_type": "markdown",
   "metadata": {},
   "source": [
    "The vectors, with corresponding mtid reference, can be returned with `HTID.vectors()`. The are returned as a list, with each item a tuple of (name, mtids, numpy array of vectors).\n",
    "\n",
    "An optional argument can specified, which makes the response just a tuple of the mtid reference and numpy array."
   ]
  },
  {
   "cell_type": "code",
   "execution_count": 25,
   "metadata": {},
   "outputs": [
    {
     "data": {
      "text/plain": [
       "(['aeu.ark:/13960/t0000s333-0001',\n",
       "  'aeu.ark:/13960/t0000s333-0002',\n",
       "  'aeu.ark:/13960/t0000s333-0003',\n",
       "  'aeu.ark:/13960/t0000s333-0004',\n",
       "  'aeu.ark:/13960/t0000s333-0005',\n",
       "  'aeu.ark:/13960/t0000s333-0006',\n",
       "  'aeu.ark:/13960/t0000s333-0007',\n",
       "  'aeu.ark:/13960/t0000s333-0008',\n",
       "  'aeu.ark:/13960/t0000s333-0009',\n",
       "  'aeu.ark:/13960/t0000s333-0010',\n",
       "  'aeu.ark:/13960/t0000s333-0011',\n",
       "  'aeu.ark:/13960/t0000s333-0012',\n",
       "  'aeu.ark:/13960/t0000s333-0013',\n",
       "  'aeu.ark:/13960/t0000s333-0014',\n",
       "  'aeu.ark:/13960/t0000s333-0015',\n",
       "  'aeu.ark:/13960/t0000s333-0016'],\n",
       " array([[ -26.984823 ,  307.37292  ,   84.06194  , ..., -130.36887  ,\n",
       "           95.95985  ,  193.36221  ],\n",
       "        [ 178.0878   ,  173.55658  ,   32.863342 , ...,  -39.72213  ,\n",
       "           29.23233  ,   81.24365  ],\n",
       "        [   8.283472 ,  203.79395  ,  -61.260574 , ...,  -87.80734  ,\n",
       "          -17.250793 ,  -30.96655  ],\n",
       "        ...,\n",
       "        [  32.598274 ,  231.31816  ,   42.3752   , ...,   55.059994 ,\n",
       "         -125.438034 ,  232.36128  ],\n",
       "        [ -26.352654 ,  316.21442  ,    1.8596311, ..., -318.119    ,\n",
       "          -32.202065 ,  215.9785   ],\n",
       "        [-123.13769  ,  214.41693  ,   62.10894  , ...,  -86.2775   ,\n",
       "          -40.343334 ,  115.34879  ]], dtype=float32))"
      ]
     },
     "execution_count": 25,
     "metadata": {},
     "output_type": "execute_result"
    }
   ],
   "source": [
    "htid.vectors('srp')"
   ]
  },
  {
   "cell_type": "markdown",
   "metadata": {},
   "source": [
    "The vectors are cached after their first call. Above, where I only called vectors for 'srp', 'glove' wasn't cached or even loaded."
   ]
  }
 ],
 "metadata": {
  "kernelspec": {
   "display_name": "Python 3",
   "language": "python",
   "name": "python3"
  },
  "language_info": {
   "codemirror_mode": {
    "name": "ipython",
    "version": 3
   },
   "file_extension": ".py",
   "mimetype": "text/x-python",
   "name": "python",
   "nbconvert_exporter": "python",
   "pygments_lexer": "ipython3",
   "version": "3.6.7"
  }
 },
 "nbformat": 4,
 "nbformat_minor": 4
}

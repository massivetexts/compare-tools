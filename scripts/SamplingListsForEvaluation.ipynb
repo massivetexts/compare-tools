{
 "cells": [
  {
   "cell_type": "markdown",
   "metadata": {},
   "source": [
    "## Generating Evaluation Lists"
   ]
  },
  {
   "cell_type": "code",
   "execution_count": 32,
   "metadata": {},
   "outputs": [],
   "source": [
    "from SRP import Vector_file\n",
    "import pandas as pd\n",
    "import os\n",
    "import random\n",
    "import numpy as np\n",
    "from scipy.spatial.distance import cdist, pdist\n",
    "meta = pd.read_csv('../../sampling/test_dataset.csv.gz', low_memory=False).set_index('htid').sort_index()\n",
    "# Add index num as col, to preserve the htid index\n",
    "meta['n'] = range(1, len(meta)+1)"
   ]
  },
  {
   "cell_type": "code",
   "execution_count": 48,
   "metadata": {},
   "outputs": [],
   "source": [
    "# Fast Text Matching\n",
    "with Vector_file('fastTextVecs.bin', mode='r', dims=100) as vfile:\n",
    "    allvecs = vfile.to_matrix()"
   ]
  },
  {
   "cell_type": "code",
   "execution_count": 215,
   "metadata": {},
   "outputs": [],
   "source": [
    "def eval_list(target, meta, sim_cutoff=0.05, sim_metric='cosine', max_by_author=10, max_random=3):\n",
    "    '''\n",
    "    Return a list of works to hand-code for evaluation.\n",
    "    \n",
    "    target: A row representing the target book\n",
    "    meta: The dataframe of all metadata\n",
    "    '''\n",
    "    # Remember not to fillna, else you'll get a lot of matches for a blank field!\n",
    "    oclc_match = meta[(meta.oclc_num == target.oclc_num)]\n",
    "    lccn_match = meta[(meta.lccn == target.lccn)]\n",
    "    isbn_match = meta[meta.isbn == target.isbn]\n",
    "    title_match = meta[meta['title'] == target['title']]\n",
    "    short_title_match = meta[meta['title'].apply(lambda s: s[:30]) == target['title'][:30]]\n",
    "\n",
    "    # Fast text matches\n",
    "    results = cdist(allvecs['matrix'][target.n:target.n+1], allvecs['matrix'], metric=sim_metric)\n",
    "    sorted_results = pd.Series(results[0]).sort_values()\n",
    "    print(sorted_results.index[0])\n",
    "    top_results_i = sorted_results[sorted_results < sim_cutoff].index.tolist()\n",
    "    fasttext_match = meta.iloc[top_results_i]\n",
    "\n",
    "    init_matches = pd.concat([oclc_match, lccn_match, isbn_match, title_match, short_title_match, fasttext_match]).drop_duplicates()\n",
    "    init_matches = init_matches[init_matches.index != target.name]\n",
    "\n",
    "    # Cap number of same author results, but excluding above results\n",
    "    author_match = meta[meta['author'] == target['author']]\n",
    "    unique_amatches = author_match.index.difference(init_matches.index)\n",
    "    author_match = author_match.loc[unique_amatches].iloc[:max_by_author]\n",
    "    \n",
    "    rand_match = meta.sample(max_random)\n",
    "\n",
    "    final_matches = pd.concat([init_matches, author_match, rand_match]).drop_duplicates()\n",
    "    return final_matches"
   ]
  },
  {
   "cell_type": "code",
   "execution_count": 212,
   "metadata": {},
   "outputs": [
    {
     "data": {
      "text/html": [
       "<strong><a href='uc1.b2863834'>In the matter of the application of the Pacific Telephone and Telegraph Company, a corporation, for authority to increase certain intrastate rates and charges applicable to telephone services furnished within the State of California. And related matters. Application no. 49142, case no. 8608, 8609, [and 8690] Reporter's transcript, April 19, 1967 [-January 19, 1968]</a></strong> by <em>California Public Utilities Commission.</em> (1968.0)&nbsp;&nbsp;&nbsp;OCLC 17456585 / ISBN   / ISSN   / LCCN  "
      ],
      "text/plain": [
       "<IPython.core.display.HTML object>"
      ]
     },
     "execution_count": 212,
     "metadata": {},
     "output_type": "execute_result"
    }
   ],
   "source": [
    "from IPython.core.display import display, HTML\n",
    "\n",
    "def print_meta_row(target):\n",
    "    target = target.fillna(' ')\n",
    "    html = \"<strong><a href='%s'>%s</a></strong> by <em>%s</em> (%s)\" % (target.name, target.title, target.author, target.rights_date_used)\n",
    "    html += \"&nbsp;&nbsp;&nbsp;OCLC %s / ISBN %s / ISSN %s / LCCN %s\" % (target.oclc_num, target.isbn, target.issn, target.lccn)\n",
    "    return HTML(html)\n",
    "\n",
    "print_meta_row(target)"
   ]
  },
  {
   "cell_type": "code",
   "execution_count": 216,
   "metadata": {},
   "outputs": [
    {
     "data": {
      "text/html": [
       "<strong><a href='uiug.30112028997887'>Report to the Illinois General Assembly on Public Act 84-569.</a></strong> by <em>Illinois. Governor's Planning Council on Developmental Disabilities.</em> (1987.0)&nbsp;&nbsp;&nbsp;OCLC 13900599 / ISBN   / ISSN   / LCCN 87620514"
      ],
      "text/plain": [
       "<IPython.core.display.HTML object>"
      ]
     },
     "metadata": {},
     "output_type": "display_data"
    },
    {
     "name": "stdout",
     "output_type": "stream",
     "text": [
      "====================\n",
      "26096\n"
     ]
    },
    {
     "data": {
      "text/html": [
       "<strong><a href='ien.35559000003305'>Report to the Illinois General Assembly on Public Act 84-569.</a></strong> by <em>Illinois. Governor's Planning Council on Developmental Disabilities.</em> (1987.0)&nbsp;&nbsp;&nbsp;OCLC 13900599 / ISBN   / ISSN   / LCCN 87620514"
      ],
      "text/plain": [
       "<IPython.core.display.HTML object>"
      ]
     },
     "metadata": {},
     "output_type": "display_data"
    },
    {
     "data": {
      "text/html": [
       "<strong><a href='ien.35559001964448'>Report to the Illinois General Assembly on Public Act 84-569.</a></strong> by <em>Illinois. Governor's Planning Council on Developmental Disabilities.</em> (1987.0)&nbsp;&nbsp;&nbsp;OCLC 13900599 / ISBN   / ISSN   / LCCN 87620514"
      ],
      "text/plain": [
       "<IPython.core.display.HTML object>"
      ]
     },
     "metadata": {},
     "output_type": "display_data"
    },
    {
     "data": {
      "text/html": [
       "<strong><a href='uiug.30112028997895'>Report to the Illinois General Assembly on Public Act 84-569.</a></strong> by <em>Illinois. Governor's Planning Council on Developmental Disabilities.</em> (1987.0)&nbsp;&nbsp;&nbsp;OCLC 13900599 / ISBN   / ISSN   / LCCN 87620514"
      ],
      "text/plain": [
       "<IPython.core.display.HTML object>"
      ]
     },
     "metadata": {},
     "output_type": "display_data"
    },
    {
     "data": {
      "text/html": [
       "<strong><a href='uiug.30112037363006'>Report to the Illinois General Assembly on property tax.</a></strong> by <em>Illinois Economic and Fiscal Commission.</em> (1997.0)&nbsp;&nbsp;&nbsp;OCLC 38511173 / ISBN   / ISSN   / LCCN  "
      ],
      "text/plain": [
       "<IPython.core.display.HTML object>"
      ]
     },
     "metadata": {},
     "output_type": "display_data"
    },
    {
     "data": {
      "text/html": [
       "<strong><a href='uiug.30112057887777'>Report to the Illinois General Assembly on economic development.</a></strong> by <em>Illinois Economic and Fiscal Commission.</em> (1990.0)&nbsp;&nbsp;&nbsp;OCLC 22188342 / ISBN   / ISSN   / LCCN  "
      ],
      "text/plain": [
       "<IPython.core.display.HTML object>"
      ]
     },
     "metadata": {},
     "output_type": "display_data"
    },
    {
     "data": {
      "text/html": [
       "<strong><a href='uiug.30112070738601'>Report to the Illinois General Assembly on a preliminary plan for codification of the Illinois statutes / Legislative Reference Bureau.</a></strong> by <em>Illinois. General Assembly. Legislative Reference Bureau.</em> (1990.0)&nbsp;&nbsp;&nbsp;OCLC 25916706 / ISBN   / ISSN   / LCCN  "
      ],
      "text/plain": [
       "<IPython.core.display.HTML object>"
      ]
     },
     "metadata": {},
     "output_type": "display_data"
    },
    {
     "data": {
      "text/html": [
       "<strong><a href='uiug.30112079684590'>Report to the Illinois General Assembly on property tax.</a></strong> by <em>Illinois Economic and Fiscal Commission.</em> (1990.0)&nbsp;&nbsp;&nbsp;OCLC 21926059 / ISBN   / ISSN   / LCCN  "
      ],
      "text/plain": [
       "<IPython.core.display.HTML object>"
      ]
     },
     "metadata": {},
     "output_type": "display_data"
    },
    {
     "data": {
      "text/html": [
       "<strong><a href='umn.31951d02615750v'>Report to the Governor and to the sixty fourth General Assembly by the Board of Unemployment Compensation and Free Employment Office Advisors / issued by Dept. of Labor, Division of Placement and Unemployment Compensation.</a></strong> by <em>Illinois. Division of Unemployment Compensation.</em> (1945.0)&nbsp;&nbsp;&nbsp;OCLC 19434007 / ISBN   / ISSN   / LCCN  "
      ],
      "text/plain": [
       "<IPython.core.display.HTML object>"
      ]
     },
     "metadata": {},
     "output_type": "display_data"
    },
    {
     "data": {
      "text/html": [
       "<strong><a href='uiug.30112006743048'>Illinois transition project : transition plan development for special education students in Illinois public schools / sponsored by Governor's Planning Council on Developmental Disabilities.</a></strong> by <em>Illinois. Governor's Planning Council on Developmental Disabilities.</em> (1986.0)&nbsp;&nbsp;&nbsp;OCLC 14238884 / ISBN   / ISSN   / LCCN  "
      ],
      "text/plain": [
       "<IPython.core.display.HTML object>"
      ]
     },
     "metadata": {},
     "output_type": "display_data"
    },
    {
     "data": {
      "text/html": [
       "<strong><a href='uiug.30112023366625'>Community living alternatives for persons with developmental disabilities.</a></strong> by <em>Illinois. Governor's Planning Council on Developmental Disabilities.</em> (1977.0)&nbsp;&nbsp;&nbsp;OCLC 4800567 / ISBN   / ISSN   / LCCN  "
      ],
      "text/plain": [
       "<IPython.core.display.HTML object>"
      ]
     },
     "metadata": {},
     "output_type": "display_data"
    },
    {
     "data": {
      "text/html": [
       "<strong><a href='uiug.30112023366633'>Community living alternatives for persons with developmental disabilities.</a></strong> by <em>Illinois. Governor's Planning Council on Developmental Disabilities.</em> (1977.0)&nbsp;&nbsp;&nbsp;OCLC 4800567 / ISBN   / ISSN   / LCCN  "
      ],
      "text/plain": [
       "<IPython.core.display.HTML object>"
      ]
     },
     "metadata": {},
     "output_type": "display_data"
    },
    {
     "data": {
      "text/html": [
       "<strong><a href='uiug.30112023366641'>Community living alternatives for persons with developmental disabilities.</a></strong> by <em>Illinois. Governor's Planning Council on Developmental Disabilities.</em> (1977.0)&nbsp;&nbsp;&nbsp;OCLC 4800567 / ISBN   / ISSN   / LCCN  "
      ],
      "text/plain": [
       "<IPython.core.display.HTML object>"
      ]
     },
     "metadata": {},
     "output_type": "display_data"
    },
    {
     "data": {
      "text/html": [
       "<strong><a href='uiug.30112023366658'>Community living alternatives for persons with developmental disabilities.</a></strong> by <em>Illinois. Governor's Planning Council on Developmental Disabilities.</em> (1977.0)&nbsp;&nbsp;&nbsp;OCLC 4800567 / ISBN   / ISSN   / LCCN  "
      ],
      "text/plain": [
       "<IPython.core.display.HTML object>"
      ]
     },
     "metadata": {},
     "output_type": "display_data"
    },
    {
     "data": {
      "text/html": [
       "<strong><a href='uiug.30112026463072'>Building bridges for communication : a reference book on communication, terms, laws, and other information relating to persons with disbilities.</a></strong> by <em>Illinois. Governor's Planning Council on Developmental Disabilities.</em> (1987.0)&nbsp;&nbsp;&nbsp;OCLC 16976182 / ISBN   / ISSN   / LCCN  "
      ],
      "text/plain": [
       "<IPython.core.display.HTML object>"
      ]
     },
     "metadata": {},
     "output_type": "display_data"
    },
    {
     "data": {
      "text/html": [
       "<strong><a href='uiug.30112028997887'>Report to the Illinois General Assembly on Public Act 84-569.</a></strong> by <em>Illinois. Governor's Planning Council on Developmental Disabilities.</em> (1987.0)&nbsp;&nbsp;&nbsp;OCLC 13900599 / ISBN   / ISSN   / LCCN 87620514"
      ],
      "text/plain": [
       "<IPython.core.display.HTML object>"
      ]
     },
     "metadata": {},
     "output_type": "display_data"
    },
    {
     "data": {
      "text/html": [
       "<strong><a href='uiug.30112048506809'>Illinois transition project : transition plan development for special education students in Illinois public schools / sponsored by Governor's Planning Council on Developmental Disabilities.</a></strong> by <em>Illinois. Governor's Planning Council on Developmental Disabilities.</em> (1986.0)&nbsp;&nbsp;&nbsp;OCLC 14238884 / ISBN   / ISSN   / LCCN  "
      ],
      "text/plain": [
       "<IPython.core.display.HTML object>"
      ]
     },
     "metadata": {},
     "output_type": "display_data"
    },
    {
     "data": {
      "text/html": [
       "<strong><a href='uiug.30112118353264'>Orientation and operational manual for regional/subregional DD planning committes of the Illinois Governor's Planning Council on Developmental Disabilities.</a></strong> by <em>Illinois. Governor's Planning Council on Developmental Disabilities.</em> (1981.0)&nbsp;&nbsp;&nbsp;OCLC 13338434 / ISBN   / ISSN   / LCCN  "
      ],
      "text/plain": [
       "<IPython.core.display.HTML object>"
      ]
     },
     "metadata": {},
     "output_type": "display_data"
    },
    {
     "data": {
      "text/html": [
       "<strong><a href='uiug.30112118489308'>Illinois state plan for the developmentally disabled, 1981.</a></strong> by <em>Illinois. Governor's Planning Council on Developmental Disabilities.</em> (1980.0)&nbsp;&nbsp;&nbsp;OCLC 7309808 / ISBN   / ISSN   / LCCN  "
      ],
      "text/plain": [
       "<IPython.core.display.HTML object>"
      ]
     },
     "metadata": {},
     "output_type": "display_data"
    },
    {
     "name": "stdout",
     "output_type": "stream",
     "text": [
      "\n",
      "\n"
     ]
    },
    {
     "data": {
      "text/html": [
       "<strong><a href='mdp.39015006749868'>Modern California houses; case study houses, 1945-1962.</a></strong> by <em>McCoy, Esther.</em> (1962.0)&nbsp;&nbsp;&nbsp;OCLC 1349332 / ISBN   / ISSN   / LCCN 62017174"
      ],
      "text/plain": [
       "<IPython.core.display.HTML object>"
      ]
     },
     "metadata": {},
     "output_type": "display_data"
    },
    {
     "name": "stdout",
     "output_type": "stream",
     "text": [
      "====================\n",
      "39672\n"
     ]
    },
    {
     "data": {
      "text/html": [
       "<strong><a href='mdp.39015006812542'>Space, time and architecture; the growth of a new tradition.</a></strong> by <em>Giedion, S. 1888-1968.</em> (1944.0)&nbsp;&nbsp;&nbsp;OCLC 23182270 / ISBN   / ISSN   / LCCN  "
      ],
      "text/plain": [
       "<IPython.core.display.HTML object>"
      ]
     },
     "metadata": {},
     "output_type": "display_data"
    },
    {
     "data": {
      "text/html": [
       "<strong><a href='mdp.39015006720034'>Space, time and architecture; the growth of a new tradition.</a></strong> by <em>Giedion, S. 1888-1968.</em> (1962.0)&nbsp;&nbsp;&nbsp;OCLC 387828 / ISBN   / ISSN   / LCCN  "
      ],
      "text/plain": [
       "<IPython.core.display.HTML object>"
      ]
     },
     "metadata": {},
     "output_type": "display_data"
    },
    {
     "data": {
      "text/html": [
       "<strong><a href='mdp.39015014097888'>Space, time and architecture; the growth of a new tradition.</a></strong> by <em>Giedion, S. 1888-1968.</em> (1967.0)&nbsp;&nbsp;&nbsp;OCLC 900050 / ISBN   / ISSN   / LCCN 67017310"
      ],
      "text/plain": [
       "<IPython.core.display.HTML object>"
      ]
     },
     "metadata": {},
     "output_type": "display_data"
    },
    {
     "data": {
      "text/html": [
       "<strong><a href='mdp.39015006344850'>Space, time and architecture; the growth of a new tradition.</a></strong> by <em>Giedion, S. 1888-1968.</em> (1967.0)&nbsp;&nbsp;&nbsp;OCLC 900050 / ISBN   / ISSN   / LCCN 67017310"
      ],
      "text/plain": [
       "<IPython.core.display.HTML object>"
      ]
     },
     "metadata": {},
     "output_type": "display_data"
    },
    {
     "data": {
      "text/html": [
       "<strong><a href='wu.89080450612'>Space, time and architecture; the growth of a new tradition.</a></strong> by <em>Giedion, S. 1888-1968.</em> (1949.0)&nbsp;&nbsp;&nbsp;OCLC 1266764 / ISBN   / ISSN   / LCCN 50000062"
      ],
      "text/plain": [
       "<IPython.core.display.HTML object>"
      ]
     },
     "metadata": {},
     "output_type": "display_data"
    },
    {
     "data": {
      "text/html": [
       "<strong><a href='mdp.39015026000599'>Space, time and architecture; the growth of a new tradition.</a></strong> by <em>Giedion, S. 1888-1968.</em> (1941.0)&nbsp;&nbsp;&nbsp;OCLC 1058878 / ISBN   / ISSN   / LCCN A 41001329"
      ],
      "text/plain": [
       "<IPython.core.display.HTML object>"
      ]
     },
     "metadata": {},
     "output_type": "display_data"
    },
    {
     "data": {
      "text/html": [
       "<strong><a href='mdp.39015031773842'>Space, time and architecture; the growth of a new tradition.</a></strong> by <em>Giedion, S. 1888-1968.</em> (1967.0)&nbsp;&nbsp;&nbsp;OCLC 900050 / ISBN   / ISSN   / LCCN 67017310"
      ],
      "text/plain": [
       "<IPython.core.display.HTML object>"
      ]
     },
     "metadata": {},
     "output_type": "display_data"
    },
    {
     "data": {
      "text/html": [
       "<strong><a href='mdp.39015011971630'>Space, time and architecture; the growth of a new tradition.</a></strong> by <em>Giedion, S. 1888-1968.</em> (1967.0)&nbsp;&nbsp;&nbsp;OCLC 900050 / ISBN   / ISSN   / LCCN 67017310"
      ],
      "text/plain": [
       "<IPython.core.display.HTML object>"
      ]
     },
     "metadata": {},
     "output_type": "display_data"
    },
    {
     "data": {
      "text/html": [
       "<strong><a href='mdp.39015008791850'>Space, time and architecture; the growth of a new tradition.</a></strong> by <em>Giedion, S. 1888-1968.</em> (1947.0)&nbsp;&nbsp;&nbsp;OCLC 17500761 / ISBN   / ISSN   / LCCN  "
      ],
      "text/plain": [
       "<IPython.core.display.HTML object>"
      ]
     },
     "metadata": {},
     "output_type": "display_data"
    },
    {
     "data": {
      "text/html": [
       "<strong><a href='mdp.39015007202800'>Space, time and architecture; the growth of a new tradition.</a></strong> by <em>Giedion, S. 1888-1968.</em> (1941.0)&nbsp;&nbsp;&nbsp;OCLC 1058878 / ISBN   / ISSN   / LCCN A 41001329"
      ],
      "text/plain": [
       "<IPython.core.display.HTML object>"
      ]
     },
     "metadata": {},
     "output_type": "display_data"
    },
    {
     "data": {
      "text/html": [
       "<strong><a href='mdp.39015006750510'>Space, time and architecture; the growth of a new tradition.</a></strong> by <em>Giedion, S. 1888-1968.</em> (1967.0)&nbsp;&nbsp;&nbsp;OCLC 900050 / ISBN   / ISSN   / LCCN 67017310"
      ],
      "text/plain": [
       "<IPython.core.display.HTML object>"
      ]
     },
     "metadata": {},
     "output_type": "display_data"
    },
    {
     "data": {
      "text/html": [
       "<strong><a href='mdp.39015030481579'>Space, time and architecture; the growth of a new tradition.</a></strong> by <em>Giedion, S. 1888-1968.</em> (1949.0)&nbsp;&nbsp;&nbsp;OCLC 1266764 / ISBN   / ISSN   / LCCN 50000062"
      ],
      "text/plain": [
       "<IPython.core.display.HTML object>"
      ]
     },
     "metadata": {},
     "output_type": "display_data"
    },
    {
     "data": {
      "text/html": [
       "<strong><a href='mdp.39015031114070'>Space, time, and architecture; the growth of a new tradition.</a></strong> by <em>Giedion, S. 1888-1968.</em> (1954.0)&nbsp;&nbsp;&nbsp;OCLC 1018255 / ISBN   / ISSN   / LCCN 54006326"
      ],
      "text/plain": [
       "<IPython.core.display.HTML object>"
      ]
     },
     "metadata": {},
     "output_type": "display_data"
    },
    {
     "data": {
      "text/html": [
       "<strong><a href='mdp.39015031114062'>Space, time, and architecture; the growth of a new tradition.</a></strong> by <em>Giedion, S. 1888-1968.</em> (1954.0)&nbsp;&nbsp;&nbsp;OCLC 1018255 / ISBN   / ISSN   / LCCN 54006326"
      ],
      "text/plain": [
       "<IPython.core.display.HTML object>"
      ]
     },
     "metadata": {},
     "output_type": "display_data"
    },
    {
     "data": {
      "text/html": [
       "<strong><a href='mdp.39015012241249'>Space, time, and architecture; the growth of a new tradition / Sigfried Giedion.</a></strong> by <em>Giedion, S. 1888-1968.</em> (1959.0)&nbsp;&nbsp;&nbsp;OCLC 28522566 / ISBN   / ISSN   / LCCN  "
      ],
      "text/plain": [
       "<IPython.core.display.HTML object>"
      ]
     },
     "metadata": {},
     "output_type": "display_data"
    },
    {
     "data": {
      "text/html": [
       "<strong><a href='uva.x000604799'>A Decade of new architecture = Dix ans d'architecture contemporaine / edited by S. Giedion.</a></strong> by <em>Giedion, S. 1888-1968.</em> (1979.0)&nbsp;&nbsp;&nbsp;OCLC 5624818 / ISBN 3262000558 / ISSN   / LCCN  "
      ],
      "text/plain": [
       "<IPython.core.display.HTML object>"
      ]
     },
     "metadata": {},
     "output_type": "display_data"
    },
    {
     "data": {
      "text/html": [
       "<strong><a href='uc1.b4313189'>Architecture, you and me; the diary of a development.</a></strong> by <em>Giedion, S. 1888-1968.</em> (1958.0)&nbsp;&nbsp;&nbsp;OCLC 356541 / ISBN   / ISSN   / LCCN 58006578/L"
      ],
      "text/plain": [
       "<IPython.core.display.HTML object>"
      ]
     },
     "metadata": {},
     "output_type": "display_data"
    },
    {
     "data": {
      "text/html": [
       "<strong><a href='mdp.39015007243192'>Architecture, you and me; the diary of a development.</a></strong> by <em>Giedion, S. 1888-1968.</em> (1958.0)&nbsp;&nbsp;&nbsp;OCLC 356541 / ISBN   / ISSN   / LCCN 58006578/L"
      ],
      "text/plain": [
       "<IPython.core.display.HTML object>"
      ]
     },
     "metadata": {},
     "output_type": "display_data"
    },
    {
     "data": {
      "text/html": [
       "<strong><a href='mdp.39015009269872'>Architecture, you and me; the diary of a development.</a></strong> by <em>Giedion, S. 1888-1968.</em> (1958.0)&nbsp;&nbsp;&nbsp;OCLC 356541 / ISBN   / ISSN   / LCCN 58006578/L"
      ],
      "text/plain": [
       "<IPython.core.display.HTML object>"
      ]
     },
     "metadata": {},
     "output_type": "display_data"
    },
    {
     "data": {
      "text/html": [
       "<strong><a href='mdp.39015006727963'>Richard Neutra.</a></strong> by <em>McCoy, Esther.</em> (1960.0)&nbsp;&nbsp;&nbsp;OCLC 305756 / ISBN   / ISSN   / LCCN 60013309"
      ],
      "text/plain": [
       "<IPython.core.display.HTML object>"
      ]
     },
     "metadata": {},
     "output_type": "display_data"
    },
    {
     "data": {
      "text/html": [
       "<strong><a href='mdp.39015006749850'>Case study houses, 1945-1962 / by Esther McCoy.</a></strong> by <em>McCoy, Esther.</em> (1977.0)&nbsp;&nbsp;&nbsp;OCLC 3273868 / ISBN 0912158719,0912158700. (pbk.) / ISSN   / LCCN 77014499"
      ],
      "text/plain": [
       "<IPython.core.display.HTML object>"
      ]
     },
     "metadata": {},
     "output_type": "display_data"
    },
    {
     "data": {
      "text/html": [
       "<strong><a href='mdp.39015006749868'>Modern California houses; case study houses, 1945-1962.</a></strong> by <em>McCoy, Esther.</em> (1962.0)&nbsp;&nbsp;&nbsp;OCLC 1349332 / ISBN   / ISSN   / LCCN 62017174"
      ],
      "text/plain": [
       "<IPython.core.display.HTML object>"
      ]
     },
     "metadata": {},
     "output_type": "display_data"
    },
    {
     "data": {
      "text/html": [
       "<strong><a href='mdp.39015006754173'>Five California architects / Esther McCoy ; chapter on Greene and Greene By Randell L. Makinson.</a></strong> by <em>McCoy, Esther.</em> (1975.0)&nbsp;&nbsp;&nbsp;OCLC 1365902 / ISBN 0275717208 (pbk.) :,0275466906. / ISSN   / LCCN 74019818"
      ],
      "text/plain": [
       "<IPython.core.display.HTML object>"
      ]
     },
     "metadata": {},
     "output_type": "display_data"
    },
    {
     "data": {
      "text/html": [
       "<strong><a href='mdp.39015006790326'>Richard Neutra.</a></strong> by <em>McCoy, Esther.</em> (1960.0)&nbsp;&nbsp;&nbsp;OCLC 305756 / ISBN   / ISSN   / LCCN 60013309"
      ],
      "text/plain": [
       "<IPython.core.display.HTML object>"
      ]
     },
     "metadata": {},
     "output_type": "display_data"
    },
    {
     "data": {
      "text/html": [
       "<strong><a href='mdp.39015006799939'>Five California architects / Esther McCoy ; chapter on Greene and Greene By Randell L. Makinson.</a></strong> by <em>McCoy, Esther.</em> (1975.0)&nbsp;&nbsp;&nbsp;OCLC 1365902 / ISBN 0275717208 (pbk.) :,0275466906. / ISSN   / LCCN 74019818"
      ],
      "text/plain": [
       "<IPython.core.display.HTML object>"
      ]
     },
     "metadata": {},
     "output_type": "display_data"
    },
    {
     "data": {
      "text/html": [
       "<strong><a href='mdp.39015007171989'>The second generation / Esther McCoy ; introduction by Cesar Pelli.</a></strong> by <em>McCoy, Esther.</em> (1984.0)&nbsp;&nbsp;&nbsp;OCLC 9827477 / ISBN 0879051191 : / ISSN   / LCCN 83014898"
      ],
      "text/plain": [
       "<IPython.core.display.HTML object>"
      ]
     },
     "metadata": {},
     "output_type": "display_data"
    },
    {
     "data": {
      "text/html": [
       "<strong><a href='mdp.39015007209698'>Five California architects / Esther McCoy ; chapter on Greene and Greene By Randell L. Makinson.</a></strong> by <em>McCoy, Esther.</em> (1975.0)&nbsp;&nbsp;&nbsp;OCLC 1365902 / ISBN 0275717208 (pbk.) :,0275466906. / ISSN   / LCCN 74019818"
      ],
      "text/plain": [
       "<IPython.core.display.HTML object>"
      ]
     },
     "metadata": {},
     "output_type": "display_data"
    },
    {
     "data": {
      "text/html": [
       "<strong><a href='mdp.39015013192953'>Five California architects.</a></strong> by <em>McCoy, Esther.</em> (1960.0)&nbsp;&nbsp;&nbsp;OCLC 513581 / ISBN   / ISSN   / LCCN 60010551"
      ],
      "text/plain": [
       "<IPython.core.display.HTML object>"
      ]
     },
     "metadata": {},
     "output_type": "display_data"
    },
    {
     "data": {
      "text/html": [
       "<strong><a href='mdp.39015018297872'>Case study houses, 1945-1962 / by Esther McCoy.</a></strong> by <em>McCoy, Esther.</em> (1977.0)&nbsp;&nbsp;&nbsp;OCLC 3273868 / ISBN 0912158719,0912158700. (pbk.) / ISSN   / LCCN 77014499"
      ],
      "text/plain": [
       "<IPython.core.display.HTML object>"
      ]
     },
     "metadata": {},
     "output_type": "display_data"
    },
    {
     "name": "stdout",
     "output_type": "stream",
     "text": [
      "\n",
      "\n"
     ]
    },
    {
     "data": {
      "text/html": [
       "<strong><a href='uc1.b4539497'>An interstate approach to juvenile delinquency research and training; a survey. William T. Adams, project coordinator. Assisted by Peter A. List.</a></strong> by <em>Western Interstate Commission for Higher Education.</em> (1963.0)&nbsp;&nbsp;&nbsp;OCLC 4738069 / ISBN   / ISSN   / LCCN 63064178"
      ],
      "text/plain": [
       "<IPython.core.display.HTML object>"
      ]
     },
     "metadata": {},
     "output_type": "display_data"
    },
    {
     "name": "stdout",
     "output_type": "stream",
     "text": [
      "====================\n",
      "113786\n"
     ]
    },
    {
     "data": {
      "text/html": [
       "<strong><a href='uc1.b4539509'>How children learn [by] John Holt.</a></strong> by <em>Holt, John Caldwell, 1923-1985.</em> (1967.0)&nbsp;&nbsp;&nbsp;OCLC 182802 / ISBN   / ISSN   / LCCN 67030105"
      ],
      "text/plain": [
       "<IPython.core.display.HTML object>"
      ]
     },
     "metadata": {},
     "output_type": "display_data"
    },
    {
     "data": {
      "text/html": [
       "<strong><a href='mdp.39015026985112'>How children learn / John Holt.</a></strong> by <em>Holt, John Caldwell, 1923-1985.</em> (1983.0)&nbsp;&nbsp;&nbsp;OCLC 8786109 / ISBN 0440538416 (pbk.),0440038359 / ISSN   / LCCN 82017311"
      ],
      "text/plain": [
       "<IPython.core.display.HTML object>"
      ]
     },
     "metadata": {},
     "output_type": "display_data"
    },
    {
     "data": {
      "text/html": [
       "<strong><a href='uc1.b3973363'>How children learn / John Holt.</a></strong> by <em>Holt, John Caldwell, 1923-1985.</em> (1970.0)&nbsp;&nbsp;&nbsp;OCLC 2102272 / ISBN   / ISSN   / LCCN  "
      ],
      "text/plain": [
       "<IPython.core.display.HTML object>"
      ]
     },
     "metadata": {},
     "output_type": "display_data"
    },
    {
     "data": {
      "text/html": [
       "<strong><a href='mdp.49015000458894'>How children learn / John Holt.</a></strong> by <em>Holt, John Caldwell, 1923-1985.</em> (1982.0)&nbsp;&nbsp;&nbsp;OCLC 226067949 / ISBN 0440538416 :,0440038359 : / ISSN   / LCCN 82017311"
      ],
      "text/plain": [
       "<IPython.core.display.HTML object>"
      ]
     },
     "metadata": {},
     "output_type": "display_data"
    },
    {
     "data": {
      "text/html": [
       "<strong><a href='mdp.39076007023562'>How children fail [by] John Holt. Introd. by Allan Fromme.</a></strong> by <em>Holt, John Caldwell, 1923-1985.</em> (1964.0)&nbsp;&nbsp;&nbsp;OCLC 175206 / ISBN   / ISSN   / LCCN 64025046"
      ],
      "text/plain": [
       "<IPython.core.display.HTML object>"
      ]
     },
     "metadata": {},
     "output_type": "display_data"
    },
    {
     "data": {
      "text/html": [
       "<strong><a href='mdp.39015016292420'>How children fail [by] John Holt. Introd. by Allan Fromme.</a></strong> by <em>Holt, John Caldwell, 1923-1985.</em> (1965.0)&nbsp;&nbsp;&nbsp;OCLC 1045133 / ISBN   / ISSN   / LCCN  "
      ],
      "text/plain": [
       "<IPython.core.display.HTML object>"
      ]
     },
     "metadata": {},
     "output_type": "display_data"
    },
    {
     "data": {
      "text/html": [
       "<strong><a href='mdp.49015000528902'>How children fail / John Holt.</a></strong> by <em>Holt, John Caldwell, 1923-1985.</em> (1982.0)&nbsp;&nbsp;&nbsp;OCLC 7947264 / ISBN 0440538378 (pbk.) / ISSN   / LCCN 81017335"
      ],
      "text/plain": [
       "<IPython.core.display.HTML object>"
      ]
     },
     "metadata": {},
     "output_type": "display_data"
    },
    {
     "data": {
      "text/html": [
       "<strong><a href='mdp.39015008805668'>How children fail / John Holt.</a></strong> by <em>Holt, John Caldwell, 1923-1985.</em> (1982.0)&nbsp;&nbsp;&nbsp;OCLC 8109348 / ISBN 0440038340 / ISSN   / LCCN 81019566"
      ],
      "text/plain": [
       "<IPython.core.display.HTML object>"
      ]
     },
     "metadata": {},
     "output_type": "display_data"
    },
    {
     "data": {
      "text/html": [
       "<strong><a href='mdp.39015003817544'>Meeting the West's health manpower needs.</a></strong> by <em>Western Interstate Commission for Higher Education.</em> (1960.0)&nbsp;&nbsp;&nbsp;OCLC 3222459 / ISBN   / ISSN   / LCCN  "
      ],
      "text/plain": [
       "<IPython.core.display.HTML object>"
      ]
     },
     "metadata": {},
     "output_type": "display_data"
    },
    {
     "data": {
      "text/html": [
       "<strong><a href='mdp.39015012339084'>The college teacher shortage; what you can do</a></strong> by <em>Western Interstate Commission for Higher Education.</em> (1963.0)&nbsp;&nbsp;&nbsp;OCLC 6036927 / ISBN   / ISSN   / LCCN 64063385"
      ],
      "text/plain": [
       "<IPython.core.display.HTML object>"
      ]
     },
     "metadata": {},
     "output_type": "display_data"
    },
    {
     "data": {
      "text/html": [
       "<strong><a href='mdp.39015031979571'>Yardsticks and formulas in university budgeting; report of a Seminar on the Budgeting Process for Higher Education in Western States.</a></strong> by <em>Western Interstate Commission for Higher Education.</em> (1959.0)&nbsp;&nbsp;&nbsp;OCLC 6055901 / ISBN   / ISSN   / LCCN 59063178"
      ],
      "text/plain": [
       "<IPython.core.display.HTML object>"
      ]
     },
     "metadata": {},
     "output_type": "display_data"
    },
    {
     "data": {
      "text/html": [
       "<strong><a href='mdp.39015070520658'>The West's medical manpower needs.</a></strong> by <em>Western Interstate Commission for Higher Education.</em> (1959.0)&nbsp;&nbsp;&nbsp;OCLC 6387928 / ISBN   / ISSN   / LCCN  "
      ],
      "text/plain": [
       "<IPython.core.display.HTML object>"
      ]
     },
     "metadata": {},
     "output_type": "display_data"
    },
    {
     "data": {
      "text/html": [
       "<strong><a href='mdp.39015072126447'>Fact book on Western higher education.</a></strong> by <em>Western Interstate Commission for Higher Education.</em> (9999.0)&nbsp;&nbsp;&nbsp;OCLC 6301665 / ISBN   / ISSN   / LCCN 63063252"
      ],
      "text/plain": [
       "<IPython.core.display.HTML object>"
      ]
     },
     "metadata": {},
     "output_type": "display_data"
    },
    {
     "data": {
      "text/html": [
       "<strong><a href='mdp.39015072207403'>A regional staff development program; an overview of the program administered by the Western Interstate Commission for Higher Education, January 1961 to September 1965.</a></strong> by <em>Western Interstate Commission for Higher Education.</em> (1965.0)&nbsp;&nbsp;&nbsp;OCLC 36514167 / ISBN   / ISSN   / LCCN 66063260"
      ],
      "text/plain": [
       "<IPython.core.display.HTML object>"
      ]
     },
     "metadata": {},
     "output_type": "display_data"
    },
    {
     "data": {
      "text/html": [
       "<strong><a href='mdp.39015072282083'>Nurses for the West.</a></strong> by <em>Western Interstate Commission for Higher Education.</em> (1959.0)&nbsp;&nbsp;&nbsp;OCLC 6417569 / ISBN   / ISSN   / LCCN 60062969"
      ],
      "text/plain": [
       "<IPython.core.display.HTML object>"
      ]
     },
     "metadata": {},
     "output_type": "display_data"
    },
    {
     "data": {
      "text/html": [
       "<strong><a href='pst.000022833464'>Defining clinical content [of] graduate nursing programs.</a></strong> by <em>Western Interstate Commission for Higher Education.</em> (1967.0)&nbsp;&nbsp;&nbsp;OCLC 251133 / ISBN   / ISSN   / LCCN 68066872 //r86"
      ],
      "text/plain": [
       "<IPython.core.display.HTML object>"
      ]
     },
     "metadata": {},
     "output_type": "display_data"
    },
    {
     "data": {
      "text/html": [
       "<strong><a href='pst.000022834676'>Defining clinical content [of] graduate nursing programs.</a></strong> by <em>Western Interstate Commission for Higher Education.</em> (1967.0)&nbsp;&nbsp;&nbsp;OCLC 251133 / ISBN   / ISSN   / LCCN 68066872 //r86"
      ],
      "text/plain": [
       "<IPython.core.display.HTML object>"
      ]
     },
     "metadata": {},
     "output_type": "display_data"
    },
    {
     "data": {
      "text/html": [
       "<strong><a href='pst.000022834768'>Defining clinical content [of] graduate nursing programs.</a></strong> by <em>Western Interstate Commission for Higher Education.</em> (1967.0)&nbsp;&nbsp;&nbsp;OCLC 251133 / ISBN   / ISSN   / LCCN 68066872 //r86"
      ],
      "text/plain": [
       "<IPython.core.display.HTML object>"
      ]
     },
     "metadata": {},
     "output_type": "display_data"
    },
    {
     "name": "stdout",
     "output_type": "stream",
     "text": [
      "\n",
      "\n"
     ]
    },
    {
     "data": {
      "text/html": [
       "<strong><a href='hvd.32044097066211'>Graded lessons in English ...</a></strong> by <em>Reed, Alonzo, -1899.</em> (1902.0)&nbsp;&nbsp;&nbsp;OCLC 77802664 / ISBN   / ISSN   / LCCN  "
      ],
      "text/plain": [
       "<IPython.core.display.HTML object>"
      ]
     },
     "metadata": {},
     "output_type": "display_data"
    },
    {
     "name": "stdout",
     "output_type": "stream",
     "text": [
      "====================\n",
      "15028\n"
     ]
    },
    {
     "data": {
      "text/html": [
       "<strong><a href='hvd.32044097066229'>Higher lessons in English : a work on English grammar and composition : in which the science of the language is made tributary to the art of expression : a course of practical lessons carefully graded, and adapted to every day use in the school-room / by Alonzo Reed and Brainerd Kellogg.</a></strong> by <em>Reed, Alonzo, -1899.</em> (1902.0)&nbsp;&nbsp;&nbsp;OCLC 223107683,230929558 / ISBN   / ISSN   / LCCN  "
      ],
      "text/plain": [
       "<IPython.core.display.HTML object>"
      ]
     },
     "metadata": {},
     "output_type": "display_data"
    },
    {
     "data": {
      "text/html": [
       "<strong><a href='hvd.32044102854254'>Higher lessons in English : a work on English grammar and composition : in which the science of the language is made tributary to the art of expression : a course of practical lessons carefully graded, and adapted to every day use in the school-room / by Alonzo Reed and Brainerd Kellogg.</a></strong> by <em>Reed, Alonzo, -1899.</em> (1878.0)&nbsp;&nbsp;&nbsp;OCLC 223107669,230929555 / ISBN   / ISSN   / LCCN  "
      ],
      "text/plain": [
       "<IPython.core.display.HTML object>"
      ]
     },
     "metadata": {},
     "output_type": "display_data"
    },
    {
     "data": {
      "text/html": [
       "<strong><a href='hvd.32044097051874'>Higher lessons in English : a work on English grammar and composition : in which the science of the language is made tributary to the art of expression : a course of practical lessons carefully graded, and adapted to every day use in the school-room / by Alonzo Reed and Brainerd Kellogg.</a></strong> by <em>Reed, Alonzo, -1899.</em> (1883.0)&nbsp;&nbsp;&nbsp;OCLC 11392403 / ISBN   / ISSN   / LCCN  "
      ],
      "text/plain": [
       "<IPython.core.display.HTML object>"
      ]
     },
     "metadata": {},
     "output_type": "display_data"
    },
    {
     "data": {
      "text/html": [
       "<strong><a href='uc2.ark:/13960/t6vx0f74z'>Higher lessons in English : a work on English grammar and composition, in which the science of the language is made tributary to the art of expression : a course of practical lessons carefully graded, and adapted to every day use in the school-room / by Alonzo Reed and Brainerd Kellogg.</a></strong> by <em>Reed, Alonzo, -1899.</em> (1885.0)&nbsp;&nbsp;&nbsp;OCLC 7411940 / ISBN   / ISSN   / LCCN 11017893"
      ],
      "text/plain": [
       "<IPython.core.display.HTML object>"
      ]
     },
     "metadata": {},
     "output_type": "display_data"
    },
    {
     "data": {
      "text/html": [
       "<strong><a href='uc1.b3146104'>Higher lessons in English : a work on English grammar and composition, in which the science of the language is made tributary to the art of expression : a course of practical lessons carefully graded, and adapted to every day use in the school-room / by Alonzo Reed and Brainerd Kellogg.</a></strong> by <em>Reed, Alonzo, -1899.</em> (1885.0)&nbsp;&nbsp;&nbsp;OCLC 7411940 / ISBN   / ISSN   / LCCN 11017893"
      ],
      "text/plain": [
       "<IPython.core.display.HTML object>"
      ]
     },
     "metadata": {},
     "output_type": "display_data"
    },
    {
     "data": {
      "text/html": [
       "<strong><a href='chi.21110094'>Higher lessons in English : a work on English grammar and composition, in which the science of the language is made tributary to the art of expression : a course of practical lessons carefully graded, and adapted to everyday use in the school-room / by Alonzo Reed and Brainerd Kellogg.</a></strong> by <em>Reed, Alonzo, -1899.</em> (1885.0)&nbsp;&nbsp;&nbsp;OCLC 15064338 / ISBN   / ISSN   / LCCN  "
      ],
      "text/plain": [
       "<IPython.core.display.HTML object>"
      ]
     },
     "metadata": {},
     "output_type": "display_data"
    },
    {
     "data": {
      "text/html": [
       "<strong><a href='hvd.32044097075998'>Higher lessons in English : a work on English grammar and composition, in which the science of the language is made tributary to the art of expression : a course of practical lessons carefully graded, and adapted to everyday use in the school-room / by Alonzo Reed and Brainerd Kellogg.</a></strong> by <em>Reed, Alonzo, -1899.</em> (1904.0)&nbsp;&nbsp;&nbsp;OCLC 15229330 / ISBN   / ISSN   / LCCN  "
      ],
      "text/plain": [
       "<IPython.core.display.HTML object>"
      ]
     },
     "metadata": {},
     "output_type": "display_data"
    },
    {
     "data": {
      "text/html": [
       "<strong><a href='hvd.32044097053086'>Higher lessons in English : a work on English grammar and composition, in which the science of the language is made tributary to the art of expression : a course of practical lessons carefully graded, and adapted to everyday use in the school-room / by Alonzo Reed and Brainerd Kellogg.</a></strong> by <em>Reed, Alonzo, -1899.</em> (1889.0)&nbsp;&nbsp;&nbsp;OCLC 6825463 / ISBN   / ISSN   / LCCN  "
      ],
      "text/plain": [
       "<IPython.core.display.HTML object>"
      ]
     },
     "metadata": {},
     "output_type": "display_data"
    },
    {
     "data": {
      "text/html": [
       "<strong><a href='hvd.32044097073068'>Higher lessons in English : a work on English grammar and composition, in which the science of the language is made tributary to the art of expression : a course of practical lessons carefully graded and adapted to every-day use in the school-room / by Alonzo Reed and Brainerd Kellogg.</a></strong> by <em>Reed, Alonzo, -1899.</em> (1907.0)&nbsp;&nbsp;&nbsp;OCLC 3659556 / ISBN   / ISSN   / LCCN  "
      ],
      "text/plain": [
       "<IPython.core.display.HTML object>"
      ]
     },
     "metadata": {},
     "output_type": "display_data"
    },
    {
     "data": {
      "text/html": [
       "<strong><a href='uc2.ark:/13960/t6445n77b'>Higher lessons in English : a work on English grammar and composition, in which the science of the language is made tributary to the art of expression ... / by Alonzo Reed and Brainerd Kellogg.</a></strong> by <em>Reed, Alonzo, -1899.</em> (1896.0)&nbsp;&nbsp;&nbsp;OCLC 19935880 / ISBN   / ISSN   / LCCN  "
      ],
      "text/plain": [
       "<IPython.core.display.HTML object>"
      ]
     },
     "metadata": {},
     "output_type": "display_data"
    },
    {
     "data": {
      "text/html": [
       "<strong><a href='uc1.$b306998'>Higher lessons in English : a work on English grammar and composition, in which the science of the language is made tributary to the art of expression ... / by Alonzo Reed and Brainerd Kellogg.</a></strong> by <em>Reed, Alonzo, -1899.</em> (1896.0)&nbsp;&nbsp;&nbsp;OCLC 19935880 / ISBN   / ISSN   / LCCN  "
      ],
      "text/plain": [
       "<IPython.core.display.HTML object>"
      ]
     },
     "metadata": {},
     "output_type": "display_data"
    },
    {
     "data": {
      "text/html": [
       "<strong><a href='hvd.32044097043558'>Higher lessons in English : a work on English grammar and composition, in which the science of the language is made tributary to the art of expression / by Alonzo Reed and Brainerd Kellogg.</a></strong> by <em>Reed, Alonzo, -1899.</em> (1913.0)&nbsp;&nbsp;&nbsp;OCLC 5623312 / ISBN   / ISSN   / LCCN  "
      ],
      "text/plain": [
       "<IPython.core.display.HTML object>"
      ]
     },
     "metadata": {},
     "output_type": "display_data"
    },
    {
     "data": {
      "text/html": [
       "<strong><a href='uiug.30112059678265'>Word lessons : a complete speller adapted for use in the higher primary, intermediate, and grammar grades : designed to teach the correct spelling, pronunciation, and use of such words only as are most common in current literature, and as are most likely to be misspelled, mispronounced, or misused, and to awaken new interest in the study of synonyms and of word-analysis / by Alonzo Reed.</a></strong> by <em>Reed, Alonzo, -1899.</em> (1894.0)&nbsp;&nbsp;&nbsp;OCLC 16532112 / ISBN   / ISSN   / LCCN  "
      ],
      "text/plain": [
       "<IPython.core.display.HTML object>"
      ]
     },
     "metadata": {},
     "output_type": "display_data"
    },
    {
     "data": {
      "text/html": [
       "<strong><a href='hvd.32044097066203'>Word lessons : a complete speller adapted for use in the higher primary, intermediate, and grammar grades : designed to teach the correct spelling, pronunciation and use of such words only as are most common in current literature, and as are most likely to be misspelled, mispronounced, or misused, and to awaken new interest in the study of synonyms and of word analysis / by Alonzo Reed.</a></strong> by <em>Reed, Alonzo, -1899.</em> (1902.0)&nbsp;&nbsp;&nbsp;OCLC 16531782 / ISBN   / ISSN   / LCCN  "
      ],
      "text/plain": [
       "<IPython.core.display.HTML object>"
      ]
     },
     "metadata": {},
     "output_type": "display_data"
    },
    {
     "data": {
      "text/html": [
       "<strong><a href='nyp.33433069252892'>Word lessons : a complete speller adapted for use in the higher primary, intermediate, and grammar grades : designed to teach the correct spelling, pronunciation and use of such words only as are most common in current literature, and as are most likely to be misspelled, mispronounced, or misused, and to awaken new interest in the study of synonyms and of word analysis / by Alonzo Reed.</a></strong> by <em>Reed, Alonzo, -1899.</em> (1905.0)&nbsp;&nbsp;&nbsp;OCLC 16913342 / ISBN   / ISSN   / LCCN  "
      ],
      "text/plain": [
       "<IPython.core.display.HTML object>"
      ]
     },
     "metadata": {},
     "output_type": "display_data"
    },
    {
     "data": {
      "text/html": [
       "<strong><a href='hvd.32044097076400'>Word lessons : a complete speller adapted for use in the higher primary, intermediate, and grammar grades : designed to teach the correct spelling, pronunciation and use of such words only as are most common in current literature, and as are most likely to be misspelled, mispronounced, or misused, and to awaken new interest in the study of synonyms and of word analysis / by Alonzo Reed.</a></strong> by <em>Reed, Alonzo, -1899.</em> (1905.0)&nbsp;&nbsp;&nbsp;OCLC 16913342 / ISBN   / ISSN   / LCCN  "
      ],
      "text/plain": [
       "<IPython.core.display.HTML object>"
      ]
     },
     "metadata": {},
     "output_type": "display_data"
    },
    {
     "data": {
      "text/html": [
       "<strong><a href='uc1.$b307000'>Introductory language work; a simple, varied, and pleasing, but methodical series of exercises in English to precede the study of technical grammar. By Alonzo Reed ...</a></strong> by <em>Reed, Alonzo, -1899.</em> (1898.0)&nbsp;&nbsp;&nbsp;OCLC 4266730 / ISBN   / ISSN   / LCCN c  98000272"
      ],
      "text/plain": [
       "<IPython.core.display.HTML object>"
      ]
     },
     "metadata": {},
     "output_type": "display_data"
    },
    {
     "data": {
      "text/html": [
       "<strong><a href='uc2.ark:/13960/t8jd4tn9d'>Introductory language work; a simple, varied, and pleasing, but methodical series of exercises in English to precede the study of technical grammar. By Alonzo Reed ...</a></strong> by <em>Reed, Alonzo, -1899.</em> (1898.0)&nbsp;&nbsp;&nbsp;OCLC 4266730 / ISBN   / ISSN   / LCCN c  98000272"
      ],
      "text/plain": [
       "<IPython.core.display.HTML object>"
      ]
     },
     "metadata": {},
     "output_type": "display_data"
    },
    {
     "data": {
      "text/html": [
       "<strong><a href='uc1.$b306999'>Introductory language work : a simple, varied, and pleasing, but methodical, series of exercises in English to precede the study of technical grammar / by Alonzo Reed.</a></strong> by <em>Reed, Alonzo, -1899.</em> (1891.0)&nbsp;&nbsp;&nbsp;OCLC 15231555 / ISBN   / ISSN   / LCCN  "
      ],
      "text/plain": [
       "<IPython.core.display.HTML object>"
      ]
     },
     "metadata": {},
     "output_type": "display_data"
    },
    {
     "data": {
      "text/html": [
       "<strong><a href='hvd.32044097053854'>Introductory language work : a simple, varied, and pleasing, but methodical, series of exercises in English to precede the study of technical grammar / by Alonzo Reed.</a></strong> by <em>Reed, Alonzo, -1899.</em> (1891.0)&nbsp;&nbsp;&nbsp;OCLC 223105663,230929309 / ISBN   / ISSN   / LCCN  "
      ],
      "text/plain": [
       "<IPython.core.display.HTML object>"
      ]
     },
     "metadata": {},
     "output_type": "display_data"
    },
    {
     "data": {
      "text/html": [
       "<strong><a href='uc2.ark:/13960/t6736qx54'>Introductory language work : a simple, varied, and pleasing, but methodical, series of exercises in English to precede the study of technical grammar / by Alonzo Reed.</a></strong> by <em>Reed, Alonzo, -1899.</em> (1891.0)&nbsp;&nbsp;&nbsp;OCLC 15231555 / ISBN   / ISSN   / LCCN  "
      ],
      "text/plain": [
       "<IPython.core.display.HTML object>"
      ]
     },
     "metadata": {},
     "output_type": "display_data"
    },
    {
     "data": {
      "text/html": [
       "<strong><a href='hvd.32044102855335'>Graded lessons in English : an elementary English grammar : consisting of one hundred practical lessons : carefully graded and adapted to the class room / by Alonzo Reed and Brainerd Kellogg.</a></strong> by <em>Reed, Alonzo, -1899.</em> (1879.0)&nbsp;&nbsp;&nbsp;OCLC 223107646,230929552 / ISBN   / ISSN   / LCCN  "
      ],
      "text/plain": [
       "<IPython.core.display.HTML object>"
      ]
     },
     "metadata": {},
     "output_type": "display_data"
    },
    {
     "data": {
      "text/html": [
       "<strong><a href='hvd.32044097052393'>Graded lessons in English : an elementary English grammar : consisting of one hundred practical lessons, carefully graded and adapted to the class room / by Alonzo Reed and Brainerd Kellogg.</a></strong> by <em>Reed, Alonzo, -1899.</em> (1886.0)&nbsp;&nbsp;&nbsp;OCLC 15095448 / ISBN   / ISSN   / LCCN  "
      ],
      "text/plain": [
       "<IPython.core.display.HTML object>"
      ]
     },
     "metadata": {},
     "output_type": "display_data"
    },
    {
     "data": {
      "text/html": [
       "<strong><a href='hvd.32044097063838'>Graded lessons in English : an elementary English grammar : consisting of one hundred practical lessons : carefully graded and adapted to the class-room / by Alonzo Reed and Brainerd Kellogg.</a></strong> by <em>Reed, Alonzo, -1899.</em> (1894.0)&nbsp;&nbsp;&nbsp;OCLC 223107717,230929561 / ISBN   / ISSN   / LCCN  "
      ],
      "text/plain": [
       "<IPython.core.display.HTML object>"
      ]
     },
     "metadata": {},
     "output_type": "display_data"
    },
    {
     "data": {
      "text/html": [
       "<strong><a href='hvd.32044097056204'>Graded lessons in English : an elementary English grammar : consisting of one hundred practical lessons : carefully graded and adapted to the class-room / by Alonzo Reed and Brainerd Kellogg.</a></strong> by <em>Reed, Alonzo, -1899.</em> (1901.0)&nbsp;&nbsp;&nbsp;OCLC 223107703,230929559 / ISBN   / ISSN   / LCCN  "
      ],
      "text/plain": [
       "<IPython.core.display.HTML object>"
      ]
     },
     "metadata": {},
     "output_type": "display_data"
    },
    {
     "data": {
      "text/html": [
       "<strong><a href='hvd.32044097063291'>Introductory language work; a simple, varied, and pleasing, but methodical, series of exercises in English to precede the study of technical grammar.</a></strong> by <em>Reed, Alonzo, -1899.</em> (1893.0)&nbsp;&nbsp;&nbsp;OCLC 57312675 / ISBN   / ISSN   / LCCN  "
      ],
      "text/plain": [
       "<IPython.core.display.HTML object>"
      ]
     },
     "metadata": {},
     "output_type": "display_data"
    },
    {
     "data": {
      "text/html": [
       "<strong><a href='hvd.hn5axd'>A key containing diagrams of the sentences given for analysis in Reed and Kellogg's graded lessons in English, and higher lessons in English, by Alonzo Reed, and Brainard Kellogg.</a></strong> by <em>Reed, Alonzo, -1899.</em> (1894.0)&nbsp;&nbsp;&nbsp;OCLC 40063796 / ISBN   / ISSN   / LCCN  "
      ],
      "text/plain": [
       "<IPython.core.display.HTML object>"
      ]
     },
     "metadata": {},
     "output_type": "display_data"
    },
    {
     "data": {
      "text/html": [
       "<strong><a href='hvd.32044097071781'>Graded lessons in English : an elementary English grammar, consisting of one hundred practical lessons carefully graded and adapted to the class-room / by Alonzo Reed and Brainerd Kellogg.</a></strong> by <em>Reed, Alonzo, -1899.</em> (1909.0)&nbsp;&nbsp;&nbsp;OCLC 19837381 / ISBN   / ISSN   / LCCN  "
      ],
      "text/plain": [
       "<IPython.core.display.HTML object>"
      ]
     },
     "metadata": {},
     "output_type": "display_data"
    },
    {
     "data": {
      "text/html": [
       "<strong><a href='uc1.$b306997'>Graded lessons in English : An elementary English grammar, consisting of one hundred practical lessons, carefully graded and adapted to the class-room / By Alonzo Reed and Brainerd Kellogg.</a></strong> by <em>Reed, Alonzo, -1899.</em> (1906.0)&nbsp;&nbsp;&nbsp;OCLC 11410280 / ISBN   / ISSN   / LCCN  "
      ],
      "text/plain": [
       "<IPython.core.display.HTML object>"
      ]
     },
     "metadata": {},
     "output_type": "display_data"
    },
    {
     "data": {
      "text/html": [
       "<strong><a href='uc2.ark:/13960/t0qr4s492'>Graded lessons in English : An elementary English grammar, consisting of one hundred practical lessons, carefully graded and adapted to the class-room / By Alonzo Reed and Brainerd Kellogg.</a></strong> by <em>Reed, Alonzo, -1899.</em> (1906.0)&nbsp;&nbsp;&nbsp;OCLC 11410280 / ISBN   / ISSN   / LCCN  "
      ],
      "text/plain": [
       "<IPython.core.display.HTML object>"
      ]
     },
     "metadata": {},
     "output_type": "display_data"
    },
    {
     "data": {
      "text/html": [
       "<strong><a href='hvd.32044097052278'>Graded lessons in English; an elementary English grammar consisting of one hundred practical lessons, carefully graded and adapted to the class room, by Alonzo Reed, and Brainerd Kellogg.</a></strong> by <em>Reed, Alonzo, -1899.</em> (1880.0)&nbsp;&nbsp;&nbsp;OCLC 5623182 / ISBN   / ISSN   / LCCN  "
      ],
      "text/plain": [
       "<IPython.core.display.HTML object>"
      ]
     },
     "metadata": {},
     "output_type": "display_data"
    },
    {
     "data": {
      "text/html": [
       "<strong><a href='uc1.$b306996'>Graded lessons in English; an elementary English grammar consisting of one hundred practical lessons, carefully graded and adapted to the class room, by Alonzo Reed, and Brainerd Kellogg.</a></strong> by <em>Reed, Alonzo, -1899.</em> (1880.0)&nbsp;&nbsp;&nbsp;OCLC 5623182 / ISBN   / ISSN   / LCCN  "
      ],
      "text/plain": [
       "<IPython.core.display.HTML object>"
      ]
     },
     "metadata": {},
     "output_type": "display_data"
    },
    {
     "data": {
      "text/html": [
       "<strong><a href='uc2.ark:/13960/t7zk59g81'>Graded lessons in English; an elementary English grammar consisting of one hundred practical lessons, carefully graded and adapted to the class room, by Alonzo Reed, and Brainerd Kellogg.</a></strong> by <em>Reed, Alonzo, -1899.</em> (1880.0)&nbsp;&nbsp;&nbsp;OCLC 5623182 / ISBN   / ISSN   / LCCN  "
      ],
      "text/plain": [
       "<IPython.core.display.HTML object>"
      ]
     },
     "metadata": {},
     "output_type": "display_data"
    },
    {
     "data": {
      "text/html": [
       "<strong><a href='hvd.32044097053094'>A key, containing diagrams of the sentences given for analysis : in Reed and Kellogg's Graded lessons in English, and Higher lessons in English / by Alonzo Reed, and Brainerd Kellogg.</a></strong> by <em>Reed, Alonzo, -1899.</em> (1889.0)&nbsp;&nbsp;&nbsp;OCLC 223107612,230929548 / ISBN   / ISSN   / LCCN  "
      ],
      "text/plain": [
       "<IPython.core.display.HTML object>"
      ]
     },
     "metadata": {},
     "output_type": "display_data"
    },
    {
     "data": {
      "text/html": [
       "<strong><a href='coo1.ark:/13960/t9d516n9f'>Word lessons. A complete speller adapted for use in the higher, primary, intermediate, and grammar grades. By Alonzo Reed.</a></strong> by <em>Reed, Alonzo, -1899.</em> (1895.0)&nbsp;&nbsp;&nbsp;OCLC 5626318 / ISBN   / ISSN   / LCCN ca 17003270"
      ],
      "text/plain": [
       "<IPython.core.display.HTML object>"
      ]
     },
     "metadata": {},
     "output_type": "display_data"
    },
    {
     "data": {
      "text/html": [
       "<strong><a href='hvd.32044097051882'>Elementary English grammar : consisting of one hundred practical lessons, carefully graded and adapted to the class-room / by Alonzo Reed and Brainerd Kellogg.</a></strong> by <em>Reed, Alonzo, -1899.</em> (1883.0)&nbsp;&nbsp;&nbsp;OCLC 24370499,40064197 / ISBN   / ISSN   / LCCN  "
      ],
      "text/plain": [
       "<IPython.core.display.HTML object>"
      ]
     },
     "metadata": {},
     "output_type": "display_data"
    },
    {
     "data": {
      "text/html": [
       "<strong><a href='hvd.32044097066500'>A high school grammar : dealing with the science of the English language, the history of the parts of speech, the philosophy of the changes these have undergone, and present usage respecting forms in dispute / by Alonzo Reed and Brainerd Kellogg.</a></strong> by <em>Reed, Alonzo, -1899.</em> (1900.0)&nbsp;&nbsp;&nbsp;OCLC 223105749,405638687 / ISBN   / ISSN   / LCCN 00003552"
      ],
      "text/plain": [
       "<IPython.core.display.HTML object>"
      ]
     },
     "metadata": {},
     "output_type": "display_data"
    },
    {
     "data": {
      "text/html": [
       "<strong><a href='uc1.$b307102'>Word lessons. A complete speller adapted for use in the higher primary, intermediate, and grammar grades. By Alonzo Reed.</a></strong> by <em>Reed, Alonzo, -1899.</em> (1884.0)&nbsp;&nbsp;&nbsp;OCLC 8977092 / ISBN   / ISSN   / LCCN ca 17003271"
      ],
      "text/plain": [
       "<IPython.core.display.HTML object>"
      ]
     },
     "metadata": {},
     "output_type": "display_data"
    },
    {
     "data": {
      "text/html": [
       "<strong><a href='nyp.33433069252900'>Word lessons. A complete speller adapted for use in the higher primary, intermediate, and grammar grades. By Alonzo Reed.</a></strong> by <em>Reed, Alonzo, -1899.</em> (1884.0)&nbsp;&nbsp;&nbsp;OCLC 8977092 / ISBN   / ISSN   / LCCN ca 17003271"
      ],
      "text/plain": [
       "<IPython.core.display.HTML object>"
      ]
     },
     "metadata": {},
     "output_type": "display_data"
    },
    {
     "data": {
      "text/html": [
       "<strong><a href='uc2.ark:/13960/t5cc0zk9x'>Word lessons. A complete speller adapted for use in the higher primary, intermediate, and grammar grades. By Alonzo Reed.</a></strong> by <em>Reed, Alonzo, -1899.</em> (1884.0)&nbsp;&nbsp;&nbsp;OCLC 8977092 / ISBN   / ISSN   / LCCN ca 17003271"
      ],
      "text/plain": [
       "<IPython.core.display.HTML object>"
      ]
     },
     "metadata": {},
     "output_type": "display_data"
    },
    {
     "data": {
      "text/html": [
       "<strong><a href='hvd.hn5xfb'>An elementary English grammar, consisting of one hundred practical lessons, carefully graded and adapted to the class-room, by Alonzo Reed an Brainard Kellogg.</a></strong> by <em>Reed, Alonzo, -1899.</em> (1898.0)&nbsp;&nbsp;&nbsp;OCLC 79841148 / ISBN   / ISSN   / LCCN  "
      ],
      "text/plain": [
       "<IPython.core.display.HTML object>"
      ]
     },
     "metadata": {},
     "output_type": "display_data"
    },
    {
     "data": {
      "text/html": [
       "<strong><a href='hvd.32044097052922'>Word lessons, a complete speller adapted for use in the higher primary, intermediate, and grammar grades.</a></strong> by <em>Reed, Alonzo, -1899.</em> (1888.0)&nbsp;&nbsp;&nbsp;OCLC 35038191 / ISBN   / ISSN   / LCCN  "
      ],
      "text/plain": [
       "<IPython.core.display.HTML object>"
      ]
     },
     "metadata": {},
     "output_type": "display_data"
    },
    {
     "data": {
      "text/html": [
       "<strong><a href='hvd.32044097071773'>Word lessons : for intermediate and grammar grades : designed to teach the correct spelling, pronunciation ... / by Alonzo Reed.</a></strong> by <em>Reed, Alonzo, -1899.</em> (1909.0)&nbsp;&nbsp;&nbsp;OCLC 223107596,405639776 / ISBN   / ISSN   / LCCN 09019087"
      ],
      "text/plain": [
       "<IPython.core.display.HTML object>"
      ]
     },
     "metadata": {},
     "output_type": "display_data"
    },
    {
     "data": {
      "text/html": [
       "<strong><a href='hvd.hn2f9e'>Word lessons; a complete speller adapted for use in the higher primary, intermediate, and grammar grades.</a></strong> by <em>Reed, Alonzo, -1899.</em> (1904.0)&nbsp;&nbsp;&nbsp;OCLC 8977096 / ISBN   / ISSN   / LCCN  "
      ],
      "text/plain": [
       "<IPython.core.display.HTML object>"
      ]
     },
     "metadata": {},
     "output_type": "display_data"
    },
    {
     "data": {
      "text/html": [
       "<strong><a href='hvd.32044097076004'>Word lessons; a complete speller adapted for use in the higher primary, intermediate, and grammar grades.</a></strong> by <em>Reed, Alonzo, -1899.</em> (1904.0)&nbsp;&nbsp;&nbsp;OCLC 8977096 / ISBN   / ISSN   / LCCN  "
      ],
      "text/plain": [
       "<IPython.core.display.HTML object>"
      ]
     },
     "metadata": {},
     "output_type": "display_data"
    },
    {
     "data": {
      "text/html": [
       "<strong><a href='hvd.32044097052096'>Work on English grammar & composition.</a></strong> by <em>Reed, Alonzo, -1899.</em> (1881.0)&nbsp;&nbsp;&nbsp;OCLC 81365127 / ISBN   / ISSN   / LCCN  "
      ],
      "text/plain": [
       "<IPython.core.display.HTML object>"
      ]
     },
     "metadata": {},
     "output_type": "display_data"
    },
    {
     "data": {
      "text/html": [
       "<strong><a href='hvd.32044097063309'>Word lessons ...</a></strong> by <em>Reed, Alonzo, -1899.</em> (1893.0)&nbsp;&nbsp;&nbsp;OCLC 223160730 / ISBN   / ISSN   / LCCN  "
      ],
      "text/plain": [
       "<IPython.core.display.HTML object>"
      ]
     },
     "metadata": {},
     "output_type": "display_data"
    },
    {
     "data": {
      "text/html": [
       "<strong><a href='hvd.32044097066211'>Graded lessons in English ...</a></strong> by <em>Reed, Alonzo, -1899.</em> (1902.0)&nbsp;&nbsp;&nbsp;OCLC 77802664 / ISBN   / ISSN   / LCCN  "
      ],
      "text/plain": [
       "<IPython.core.display.HTML object>"
      ]
     },
     "metadata": {},
     "output_type": "display_data"
    },
    {
     "data": {
      "text/html": [
       "<strong><a href='hvd.32044097066492'>Introductory language work.</a></strong> by <em>Reed, Alonzo, -1899.</em> (1900.0)&nbsp;&nbsp;&nbsp;OCLC 223160703 / ISBN   / ISSN   / LCCN  "
      ],
      "text/plain": [
       "<IPython.core.display.HTML object>"
      ]
     },
     "metadata": {},
     "output_type": "display_data"
    },
    {
     "data": {
      "text/html": [
       "<strong><a href='hvd.32044097069256'>Graded lessons in English. By Alonzo Reed and Brainerd Kellogg.</a></strong> by <em>Reed, Alonzo, -1899.</em> (1911.0)&nbsp;&nbsp;&nbsp;OCLC 82737279 / ISBN   / ISSN   / LCCN  "
      ],
      "text/plain": [
       "<IPython.core.display.HTML object>"
      ]
     },
     "metadata": {},
     "output_type": "display_data"
    },
    {
     "name": "stdout",
     "output_type": "stream",
     "text": [
      "\n",
      "\n"
     ]
    },
    {
     "data": {
      "text/html": [
       "<strong><a href='inu.32000009090608'>The lonely plough.</a></strong> by <em>Holme, Constance.</em> (1950.0)&nbsp;&nbsp;&nbsp;OCLC 1220283 / ISBN   / ISSN   / LCCN  "
      ],
      "text/plain": [
       "<IPython.core.display.HTML object>"
      ]
     },
     "metadata": {},
     "output_type": "display_data"
    },
    {
     "name": "stdout",
     "output_type": "stream",
     "text": [
      "====================\n",
      "28246\n"
     ]
    },
    {
     "data": {
      "text/html": [
       "<strong><a href='uc2.ark:/13960/t52f7rw91'>The lonely plough.</a></strong> by <em>Holme, Constance.</em> (1914.0)&nbsp;&nbsp;&nbsp;OCLC 1042381 / ISBN   / ISSN   / LCCN  "
      ],
      "text/plain": [
       "<IPython.core.display.HTML object>"
      ]
     },
     "metadata": {},
     "output_type": "display_data"
    },
    {
     "data": {
      "text/html": [
       "<strong><a href='uiug.30112106213009'>The lonely plough.</a></strong> by <em>Holme, Constance.</em> (1914.0)&nbsp;&nbsp;&nbsp;OCLC 1042381 / ISBN   / ISSN   / LCCN  "
      ],
      "text/plain": [
       "<IPython.core.display.HTML object>"
      ]
     },
     "metadata": {},
     "output_type": "display_data"
    },
    {
     "data": {
      "text/html": [
       "<strong><a href='inu.32000009121114'>Extracts from Lincoln's state papers.</a></strong> by <em>United States. President (1861-1865 : Lincoln)</em> (1896.0)&nbsp;&nbsp;&nbsp;OCLC 8393629 / ISBN   / ISSN   / LCCN  "
      ],
      "text/plain": [
       "<IPython.core.display.HTML object>"
      ]
     },
     "metadata": {},
     "output_type": "display_data"
    },
    {
     "data": {
      "text/html": [
       "<strong><a href='inu.32000009090608'>The lonely plough.</a></strong> by <em>Holme, Constance.</em> (1950.0)&nbsp;&nbsp;&nbsp;OCLC 1220283 / ISBN   / ISSN   / LCCN  "
      ],
      "text/plain": [
       "<IPython.core.display.HTML object>"
      ]
     },
     "metadata": {},
     "output_type": "display_data"
    },
    {
     "data": {
      "text/html": [
       "<strong><a href='mdp.39015012979566'>The trumpet in the dust, by Constance Holme.</a></strong> by <em>Holme, Constance.</em> (1933.0)&nbsp;&nbsp;&nbsp;OCLC 365360 / ISBN   / ISSN   / LCCN 33027134"
      ],
      "text/plain": [
       "<IPython.core.display.HTML object>"
      ]
     },
     "metadata": {},
     "output_type": "display_data"
    },
    {
     "data": {
      "text/html": [
       "<strong><a href='mdp.39015012979574'>Crump folk going home, by Constance Holme.</a></strong> by <em>Holme, Constance.</em> (1934.0)&nbsp;&nbsp;&nbsp;OCLC 3906847 / ISBN   / ISSN   / LCCN 34027228"
      ],
      "text/plain": [
       "<IPython.core.display.HTML object>"
      ]
     },
     "metadata": {},
     "output_type": "display_data"
    },
    {
     "data": {
      "text/html": [
       "<strong><a href='mdp.39015012979582'>He-who-came? By Constance Holme.</a></strong> by <em>Holme, Constance.</em> (1936.0)&nbsp;&nbsp;&nbsp;OCLC 2057999 / ISBN   / ISSN   / LCCN 36027339"
      ],
      "text/plain": [
       "<IPython.core.display.HTML object>"
      ]
     },
     "metadata": {},
     "output_type": "display_data"
    },
    {
     "data": {
      "text/html": [
       "<strong><a href='mdp.39015012979590'>The lonely plough, by Constance Holme.</a></strong> by <em>Holme, Constance.</em> (1947.0)&nbsp;&nbsp;&nbsp;OCLC 39377276 / ISBN   / ISSN   / LCCN  "
      ],
      "text/plain": [
       "<IPython.core.display.HTML object>"
      ]
     },
     "metadata": {},
     "output_type": "display_data"
    },
    {
     "data": {
      "text/html": [
       "<strong><a href='mdp.39015012979673'>The wisdom of the simple, and other stories, by Constance Holme.</a></strong> by <em>Holme, Constance.</em> (1937.0)&nbsp;&nbsp;&nbsp;OCLC 985060 / ISBN   / ISSN   / LCCN 37028540"
      ],
      "text/plain": [
       "<IPython.core.display.HTML object>"
      ]
     },
     "metadata": {},
     "output_type": "display_data"
    },
    {
     "data": {
      "text/html": [
       "<strong><a href='mdp.39015019973786'>The things which belong-- by Constance Holme.</a></strong> by <em>Holme, Constance.</em> (1934.0)&nbsp;&nbsp;&nbsp;OCLC 28898306 / ISBN   / ISSN   / LCCN 34028417"
      ],
      "text/plain": [
       "<IPython.core.display.HTML object>"
      ]
     },
     "metadata": {},
     "output_type": "display_data"
    },
    {
     "data": {
      "text/html": [
       "<strong><a href='mdp.39015031234910'>The old road from Spain, by Constance Holme.</a></strong> by <em>Holme, Constance.</em> (1932.0)&nbsp;&nbsp;&nbsp;OCLC 1238054 / ISBN   / ISSN   / LCCN 32026956"
      ],
      "text/plain": [
       "<IPython.core.display.HTML object>"
      ]
     },
     "metadata": {},
     "output_type": "display_data"
    },
    {
     "data": {
      "text/html": [
       "<strong><a href='mdp.39015031234928'>The splendid fairing ... by Constance Holme.</a></strong> by <em>Holme, Constance.</em> (1933.0)&nbsp;&nbsp;&nbsp;OCLC 3555843 / ISBN   / ISSN   / LCCN 34027030"
      ],
      "text/plain": [
       "<IPython.core.display.HTML object>"
      ]
     },
     "metadata": {},
     "output_type": "display_data"
    },
    {
     "data": {
      "text/html": [
       "<strong><a href='nyp.33433112047752'>The splendid fairing, by Constance Holme ...</a></strong> by <em>Holme, Constance.</em> (1919.0)&nbsp;&nbsp;&nbsp;OCLC 37256236 / ISBN   / ISSN   / LCCN  "
      ],
      "text/plain": [
       "<IPython.core.display.HTML object>"
      ]
     },
     "metadata": {},
     "output_type": "display_data"
    },
    {
     "name": "stdout",
     "output_type": "stream",
     "text": [
      "\n",
      "\n"
     ]
    },
    {
     "data": {
      "text/html": [
       "<strong><a href='coo1.ark:/13960/t5r78wp3m'>Elementary physiology / By Benjamin Moore.</a></strong> by <em>Moore, Benjamin, 1867?-1922.</em> (1899.0)&nbsp;&nbsp;&nbsp;OCLC 62552796 / ISBN   / ISSN   / LCCN  "
      ],
      "text/plain": [
       "<IPython.core.display.HTML object>"
      ]
     },
     "metadata": {},
     "output_type": "display_data"
    },
    {
     "name": "stdout",
     "output_type": "stream",
     "text": [
      "====================\n",
      "6982\n"
     ]
    },
    {
     "data": {
      "text/html": [
       "<strong><a href='nnc2.ark:/13960/t1ng5b42k'>Elementary physiology / By Benjamin Moore.</a></strong> by <em>Moore, Benjamin, 1867?-1922.</em> (1899.0)&nbsp;&nbsp;&nbsp;OCLC 62552796 / ISBN   / ISSN   / LCCN  "
      ],
      "text/plain": [
       "<IPython.core.display.HTML object>"
      ]
     },
     "metadata": {},
     "output_type": "display_data"
    },
    {
     "data": {
      "text/html": [
       "<strong><a href='coo1.ark:/13960/t5r78wr5g'>Manual of corporate management, with forms; full and correct information for the conduct and transaction of all kinds of corporate business, from organization, adoption of by-laws, to winding up proceedings ... by T. Carl Spelling ...</a></strong> by <em>Spelling, Thomas Carl, 1853-</em> (1904.0)&nbsp;&nbsp;&nbsp;OCLC 5910506 / ISBN   / ISSN   / LCCN 04021909"
      ],
      "text/plain": [
       "<IPython.core.display.HTML object>"
      ]
     },
     "metadata": {},
     "output_type": "display_data"
    },
    {
     "data": {
      "text/html": [
       "<strong><a href='nyp.33433022990216'>Manual of corporate management, with forms, by T. Carl Spelling ...</a></strong> by <em>Spelling, Thomas Carl, 1853-</em> (1914.0)&nbsp;&nbsp;&nbsp;OCLC 5910476 / ISBN   / ISSN   / LCCN 14021977"
      ],
      "text/plain": [
       "<IPython.core.display.HTML object>"
      ]
     },
     "metadata": {},
     "output_type": "display_data"
    },
    {
     "data": {
      "text/html": [
       "<strong><a href='coo.31924019347172'>Manual of corporate management, with forms, by T. Carl Spelling ...</a></strong> by <em>Spelling, Thomas Carl, 1853-</em> (1919.0)&nbsp;&nbsp;&nbsp;OCLC 1963299 / ISBN   / ISSN   / LCCN 19008413//r34"
      ],
      "text/plain": [
       "<IPython.core.display.HTML object>"
      ]
     },
     "metadata": {},
     "output_type": "display_data"
    },
    {
     "data": {
      "text/html": [
       "<strong><a href='aeu.ark:/13960/t08w5df5b'>The origin and nature of life by Benjamin Moore.</a></strong> by <em>Moore, Benjamin, 1867?-1922.</em> (1913.0)&nbsp;&nbsp;&nbsp;OCLC 551370554 / ISBN 0665994362 / ISSN   / LCCN  "
      ],
      "text/plain": [
       "<IPython.core.display.HTML object>"
      ]
     },
     "metadata": {},
     "output_type": "display_data"
    },
    {
     "data": {
      "text/html": [
       "<strong><a href='coo1.ark:/13960/t3rv14n70'>Elementary physiology and anatomy.</a></strong> by <em>Moore, Benjamin, 1867?-1922.</em> (1904.0)&nbsp;&nbsp;&nbsp;OCLC 20705113 / ISBN   / ISSN   / LCCN  "
      ],
      "text/plain": [
       "<IPython.core.display.HTML object>"
      ]
     },
     "metadata": {},
     "output_type": "display_data"
    },
    {
     "data": {
      "text/html": [
       "<strong><a href='coo1.ark:/13960/t56d6f540'>The dawn of the health age, by Benjamin Moore ...</a></strong> by <em>Moore, Benjamin, 1867?-1922.</em> (1911.0)&nbsp;&nbsp;&nbsp;OCLC 11300154 / ISBN   / ISSN   / LCCN a  11002806"
      ],
      "text/plain": [
       "<IPython.core.display.HTML object>"
      ]
     },
     "metadata": {},
     "output_type": "display_data"
    },
    {
     "data": {
      "text/html": [
       "<strong><a href='coo1.ark:/13960/t5r78wp3m'>Elementary physiology / By Benjamin Moore.</a></strong> by <em>Moore, Benjamin, 1867?-1922.</em> (1899.0)&nbsp;&nbsp;&nbsp;OCLC 62552796 / ISBN   / ISSN   / LCCN  "
      ],
      "text/plain": [
       "<IPython.core.display.HTML object>"
      ]
     },
     "metadata": {},
     "output_type": "display_data"
    },
    {
     "data": {
      "text/html": [
       "<strong><a href='coo1.ark:/13960/t6nz8qj8r'>Biochemistry; a study of the origin, reactions, and equilibria of living matter. By Benjamin Moore.</a></strong> by <em>Moore, Benjamin, 1867?-1922.</em> (1921.0)&nbsp;&nbsp;&nbsp;OCLC 5965024 / ISBN   / ISSN   / LCCN sg 21000117"
      ],
      "text/plain": [
       "<IPython.core.display.HTML object>"
      ]
     },
     "metadata": {},
     "output_type": "display_data"
    },
    {
     "data": {
      "text/html": [
       "<strong><a href='hvd.32044011799483'>The origin and nature of life, by Benjamin Moore.</a></strong> by <em>Moore, Benjamin, 1867?-1922.</em> (1913.0)&nbsp;&nbsp;&nbsp;OCLC 376269 / ISBN   / ISSN   / LCCN 13007636"
      ],
      "text/plain": [
       "<IPython.core.display.HTML object>"
      ]
     },
     "metadata": {},
     "output_type": "display_data"
    },
    {
     "data": {
      "text/html": [
       "<strong><a href='hvd.32044097031900'>Elementary physiology.</a></strong> by <em>Moore, Benjamin, 1867?-1922.</em> (1899.0)&nbsp;&nbsp;&nbsp;OCLC 14799929 / ISBN   / ISSN   / LCCN  "
      ],
      "text/plain": [
       "<IPython.core.display.HTML object>"
      ]
     },
     "metadata": {},
     "output_type": "display_data"
    },
    {
     "data": {
      "text/html": [
       "<strong><a href='hvd.hc2mwl'>Biochemistry, a study of the origin, reactions, and equilibria of living matter.</a></strong> by <em>Moore, Benjamin, 1867?-1922.</em> (1921.0)&nbsp;&nbsp;&nbsp;OCLC 12823286 / ISBN   / ISSN   / LCCN  "
      ],
      "text/plain": [
       "<IPython.core.display.HTML object>"
      ]
     },
     "metadata": {},
     "output_type": "display_data"
    },
    {
     "data": {
      "text/html": [
       "<strong><a href='hvd.hn1bk2'>Elementary physiology.</a></strong> by <em>Moore, Benjamin, 1867?-1922.</em> (1899.0)&nbsp;&nbsp;&nbsp;OCLC 14799929 / ISBN   / ISSN   / LCCN  "
      ],
      "text/plain": [
       "<IPython.core.display.HTML object>"
      ]
     },
     "metadata": {},
     "output_type": "display_data"
    },
    {
     "data": {
      "text/html": [
       "<strong><a href='ncs1.ark:/13960/t37085326'>The origin and nature of life, by Benjamin Moore.</a></strong> by <em>Moore, Benjamin, 1867?-1922.</em> (1913.0)&nbsp;&nbsp;&nbsp;OCLC 376269 / ISBN   / ISSN   / LCCN 13007636"
      ],
      "text/plain": [
       "<IPython.core.display.HTML object>"
      ]
     },
     "metadata": {},
     "output_type": "display_data"
    },
    {
     "name": "stdout",
     "output_type": "stream",
     "text": [
      "\n",
      "\n"
     ]
    },
    {
     "data": {
      "text/html": [
       "<strong><a href='hvd.ah56kq'>The Bible of to-day: a course of lectures / by John W. Chadwick.</a></strong> by <em>Chadwick, John White, 1840-1904.</em> (1891.0)&nbsp;&nbsp;&nbsp;OCLC 4220794 / ISBN   / ISSN   / LCCN  "
      ],
      "text/plain": [
       "<IPython.core.display.HTML object>"
      ]
     },
     "metadata": {},
     "output_type": "display_data"
    },
    {
     "name": "stdout",
     "output_type": "stream",
     "text": [
      "====================\n",
      "17083\n"
     ]
    },
    {
     "data": {
      "text/html": [
       "<strong><a href='hvd.ah56kr'>The Bible of to-day; a course of lectures, by John W. Chadwick...</a></strong> by <em>Chadwick, John White, 1840-1904.</em> (1879.0)&nbsp;&nbsp;&nbsp;OCLC 1485098 / ISBN   / ISSN   / LCCN  "
      ],
      "text/plain": [
       "<IPython.core.display.HTML object>"
      ]
     },
     "metadata": {},
     "output_type": "display_data"
    },
    {
     "data": {
      "text/html": [
       "<strong><a href='hvd.ah56ks'>The Bible of to-day; a course of lectures, by John W. Chadwick...</a></strong> by <em>Chadwick, John White, 1840-1904.</em> (1879.0)&nbsp;&nbsp;&nbsp;OCLC 1485098 / ISBN   / ISSN   / LCCN  "
      ],
      "text/plain": [
       "<IPython.core.display.HTML object>"
      ]
     },
     "metadata": {},
     "output_type": "display_data"
    },
    {
     "data": {
      "text/html": [
       "<strong><a href='yale.39002088444527'>The Bible of to-day; a course of lectures, by John W. Chadwick...</a></strong> by <em>Chadwick, John White, 1840-1904.</em> (1879.0)&nbsp;&nbsp;&nbsp;OCLC 1485098 / ISBN   / ISSN   / LCCN  "
      ],
      "text/plain": [
       "<IPython.core.display.HTML object>"
      ]
     },
     "metadata": {},
     "output_type": "display_data"
    },
    {
     "data": {
      "text/html": [
       "<strong><a href='hvd.hn5ci1'>The Bible of to-day; a course of lectures, by John W. Chadwick.</a></strong> by <em>Chadwick, John White, 1840-1904.</em> (1887.0)&nbsp;&nbsp;&nbsp;OCLC 4021766 / ISBN   / ISSN   / LCCN 34004763"
      ],
      "text/plain": [
       "<IPython.core.display.HTML object>"
      ]
     },
     "metadata": {},
     "output_type": "display_data"
    },
    {
     "data": {
      "text/html": [
       "<strong><a href='hvd.hwjq8r'>The Bible of to-day : a course of lectures / by John W. Chadwick.</a></strong> by <em>Chadwick, John White, 1840-1904.</em> (1878.0)&nbsp;&nbsp;&nbsp;OCLC 5047061 / ISBN   / ISSN   / LCCN  "
      ],
      "text/plain": [
       "<IPython.core.display.HTML object>"
      ]
     },
     "metadata": {},
     "output_type": "display_data"
    },
    {
     "data": {
      "text/html": [
       "<strong><a href='wu.89097229702'>The man Jesus a course of lectures / by John White Chadwick.</a></strong> by <em>Chadwick, John White, 1840-1904.</em> (1881.0)&nbsp;&nbsp;&nbsp;OCLC 3904850 / ISBN 0790516330 (microfiche) / ISSN   / LCCN 33031221"
      ],
      "text/plain": [
       "<IPython.core.display.HTML object>"
      ]
     },
     "metadata": {},
     "output_type": "display_data"
    },
    {
     "data": {
      "text/html": [
       "<strong><a href='mdp.39015062389542'>The man Jesus a course of lectures / by John White Chadwick.</a></strong> by <em>Chadwick, John White, 1840-1904.</em> (1881.0)&nbsp;&nbsp;&nbsp;OCLC 3904850 / ISBN 0790516330 (microfiche) / ISSN   / LCCN 33031221"
      ],
      "text/plain": [
       "<IPython.core.display.HTML object>"
      ]
     },
     "metadata": {},
     "output_type": "display_data"
    },
    {
     "data": {
      "text/html": [
       "<strong><a href='hvd.hwrrbj'>The man Jesus a course of lectures / by John White Chadwick.</a></strong> by <em>Chadwick, John White, 1840-1904.</em> (1881.0)&nbsp;&nbsp;&nbsp;OCLC 3904850 / ISBN 0790516330 (microfiche) / ISSN   / LCCN 33031221"
      ],
      "text/plain": [
       "<IPython.core.display.HTML object>"
      ]
     },
     "metadata": {},
     "output_type": "display_data"
    },
    {
     "data": {
      "text/html": [
       "<strong><a href='loc.ark:/13960/t52f8zz0f'>The man Jesus a course of lectures / by John White Chadwick.</a></strong> by <em>Chadwick, John White, 1840-1904.</em> (1881.0)&nbsp;&nbsp;&nbsp;OCLC 3904850 / ISBN 0790516330 (microfiche) / ISSN   / LCCN 33031221"
      ],
      "text/plain": [
       "<IPython.core.display.HTML object>"
      ]
     },
     "metadata": {},
     "output_type": "display_data"
    },
    {
     "data": {
      "text/html": [
       "<strong><a href='coo1.ark:/13960/t0ms4xm21'>William Ellery Channing, minister of religion / by John White Chadwick.</a></strong> by <em>Chadwick, John White, 1840-1904.</em> (1903.0)&nbsp;&nbsp;&nbsp;OCLC 654748 / ISBN   / ISSN   / LCCN 03005962"
      ],
      "text/plain": [
       "<IPython.core.display.HTML object>"
      ]
     },
     "metadata": {},
     "output_type": "display_data"
    },
    {
     "data": {
      "text/html": [
       "<strong><a href='coo1.ark:/13960/t3xs6979d'>Old and new Unitarian belief, by John White Chadwick.</a></strong> by <em>Chadwick, John White, 1840-1904.</em> (1894.0)&nbsp;&nbsp;&nbsp;OCLC 2326478 / ISBN   / ISSN   / LCCN 31024948"
      ],
      "text/plain": [
       "<IPython.core.display.HTML object>"
      ]
     },
     "metadata": {},
     "output_type": "display_data"
    },
    {
     "data": {
      "text/html": [
       "<strong><a href='coo1.ark:/13960/t7dr3f448'>Theodore Parker, preacher and reformer,</a></strong> by <em>Chadwick, John White, 1840-1904.</em> (1900.0)&nbsp;&nbsp;&nbsp;OCLC 634781 / ISBN 9780403009251,0403009251 / ISSN   / LCCN 00004996"
      ],
      "text/plain": [
       "<IPython.core.display.HTML object>"
      ]
     },
     "metadata": {},
     "output_type": "display_data"
    },
    {
     "data": {
      "text/html": [
       "<strong><a href='hvd.32044011304417'>Theodore Parker, preacher and reformer,</a></strong> by <em>Chadwick, John White, 1840-1904.</em> (1900.0)&nbsp;&nbsp;&nbsp;OCLC 634781 / ISBN 9780403009251,0403009251 / ISSN   / LCCN 00004996"
      ],
      "text/plain": [
       "<IPython.core.display.HTML object>"
      ]
     },
     "metadata": {},
     "output_type": "display_data"
    },
    {
     "data": {
      "text/html": [
       "<strong><a href='hvd.32044011693629'>William Ellery Channing, minister of religion / by John White Chadwick.</a></strong> by <em>Chadwick, John White, 1840-1904.</em> (1903.0)&nbsp;&nbsp;&nbsp;OCLC 654748 / ISBN   / ISSN   / LCCN 03005962"
      ],
      "text/plain": [
       "<IPython.core.display.HTML object>"
      ]
     },
     "metadata": {},
     "output_type": "display_data"
    },
    {
     "data": {
      "text/html": [
       "<strong><a href='hvd.32044017080441'>Later poems, by John White Chadwick ...</a></strong> by <em>Chadwick, John White, 1840-1904.</em> (1905.0)&nbsp;&nbsp;&nbsp;OCLC 2952941 / ISBN   / ISSN   / LCCN 05009068"
      ],
      "text/plain": [
       "<IPython.core.display.HTML object>"
      ]
     },
     "metadata": {},
     "output_type": "display_data"
    },
    {
     "data": {
      "text/html": [
       "<strong><a href='hvd.32044022664031'>Theodore Parker, preacher and reformer,</a></strong> by <em>Chadwick, John White, 1840-1904.</em> (1900.0)&nbsp;&nbsp;&nbsp;OCLC 634781 / ISBN 9780403009251,0403009251 / ISSN   / LCCN 00004996"
      ],
      "text/plain": [
       "<IPython.core.display.HTML object>"
      ]
     },
     "metadata": {},
     "output_type": "display_data"
    },
    {
     "data": {
      "text/html": [
       "<strong><a href='hvd.32044029883881'>Cap'n Chadwick, Marblehead skipper and shoemaker, by John White Chadwick.</a></strong> by <em>Chadwick, John White, 1840-1904.</em> (1906.0)&nbsp;&nbsp;&nbsp;OCLC 3068601 / ISBN   / ISSN   / LCCN 06035723"
      ],
      "text/plain": [
       "<IPython.core.display.HTML object>"
      ]
     },
     "metadata": {},
     "output_type": "display_data"
    },
    {
     "data": {
      "text/html": [
       "<strong><a href='hvd.32044038421400'>In Nazareth town, a Christmas fantasy, and other poems, by John W. Chadwick.</a></strong> by <em>Chadwick, John White, 1840-1904.</em> (1883.0)&nbsp;&nbsp;&nbsp;OCLC 3760453 / ISBN   / ISSN   / LCCN 21018310"
      ],
      "text/plain": [
       "<IPython.core.display.HTML object>"
      ]
     },
     "metadata": {},
     "output_type": "display_data"
    },
    {
     "data": {
      "text/html": [
       "<strong><a href='hvd.32044038421418'>A book of poems, by John W. Chadwick.</a></strong> by <em>Chadwick, John White, 1840-1904.</em> (1876.0)&nbsp;&nbsp;&nbsp;OCLC 2675438 / ISBN   / ISSN   / LCCN 13018256"
      ],
      "text/plain": [
       "<IPython.core.display.HTML object>"
      ]
     },
     "metadata": {},
     "output_type": "display_data"
    },
    {
     "name": "stdout",
     "output_type": "stream",
     "text": [
      "\n",
      "\n"
     ]
    },
    {
     "data": {
      "text/html": [
       "<strong><a href='wu.89054433909'>A letter from George Inness to Ripley Hitchcock.</a></strong> by <em>Inness, George, 1825-1894.</em> (1928.0)&nbsp;&nbsp;&nbsp;OCLC 2357568 / ISBN   / ISSN   / LCCN  "
      ],
      "text/plain": [
       "<IPython.core.display.HTML object>"
      ]
     },
     "metadata": {},
     "output_type": "display_data"
    },
    {
     "name": "stdout",
     "output_type": "stream",
     "text": [
      "====================\n",
      "105587\n"
     ]
    },
    {
     "data": {
      "text/html": [
       "<strong><a href='uc1.b3240977'>Chiaroscuro; fragments of autobiography.</a></strong> by <em>John, Augustus, 1878-1961.</em> (1952.0)&nbsp;&nbsp;&nbsp;OCLC 736477 / ISBN   / ISSN   / LCCN 52009055"
      ],
      "text/plain": [
       "<IPython.core.display.HTML object>"
      ]
     },
     "metadata": {},
     "output_type": "display_data"
    },
    {
     "data": {
      "text/html": [
       "<strong><a href='wu.89054433917'>Chiaroscuro; fragments of autobiography.</a></strong> by <em>John, Augustus, 1878-1961.</em> (1952.0)&nbsp;&nbsp;&nbsp;OCLC 736477 / ISBN   / ISSN   / LCCN 52009055"
      ],
      "text/plain": [
       "<IPython.core.display.HTML object>"
      ]
     },
     "metadata": {},
     "output_type": "display_data"
    },
    {
     "data": {
      "text/html": [
       "<strong><a href='mdp.39015031973962'>Chiaroscuro; fragments of autobiography: first series.</a></strong> by <em>John, Augustus, 1878-1961.</em> (1952.0)&nbsp;&nbsp;&nbsp;OCLC 776063 / ISBN   / ISSN   / LCCN 52002666/L"
      ],
      "text/plain": [
       "<IPython.core.display.HTML object>"
      ]
     },
     "metadata": {},
     "output_type": "display_data"
    },
    {
     "data": {
      "text/html": [
       "<strong><a href='gri.ark:/13960/t2d82j10n'>An exhibition of eighteen pictures by the American master of landscape painting, the late George Inness, N.A. ... : at Henry Reinhardt's Galleries ... Chicago, Ill., during March, nineteen-eleven.</a></strong> by <em>Inness, George, 1825-1894.</em> (1911.0)&nbsp;&nbsp;&nbsp;OCLC 78625635 / ISBN   / ISSN   / LCCN  "
      ],
      "text/plain": [
       "<IPython.core.display.HTML object>"
      ]
     },
     "metadata": {},
     "output_type": "display_data"
    },
    {
     "data": {
      "text/html": [
       "<strong><a href='gri.ark:/13960/t3b02qx27'>Exhibition of the paintings left by the late G. Inness : held by arrangement between the American Fine Arts Society and the executors of the Innes estate : commencing December 27, 1894.</a></strong> by <em>Inness, George, 1825-1894.</em> (1894.0)&nbsp;&nbsp;&nbsp;OCLC 79696993 / ISBN   / ISSN   / LCCN  "
      ],
      "text/plain": [
       "<IPython.core.display.HTML object>"
      ]
     },
     "metadata": {},
     "output_type": "display_data"
    },
    {
     "data": {
      "text/html": [
       "<strong><a href='gri.ark:/13960/t7tn0nf88'>Fifty paintings by George Inness; introduction by Elliott Daingerfield.</a></strong> by <em>Inness, George, 1825-1894.</em> (1913.0)&nbsp;&nbsp;&nbsp;OCLC 2064554 / ISBN   / ISSN   / LCCN 13004813"
      ],
      "text/plain": [
       "<IPython.core.display.HTML object>"
      ]
     },
     "metadata": {},
     "output_type": "display_data"
    },
    {
     "data": {
      "text/html": [
       "<strong><a href='hvd.32044033630435'>Fifty paintings by George Inness; introduction by Elliott Daingerfield.</a></strong> by <em>Inness, George, 1825-1894.</em> (1913.0)&nbsp;&nbsp;&nbsp;OCLC 2064554 / ISBN   / ISSN   / LCCN 13004813"
      ],
      "text/plain": [
       "<IPython.core.display.HTML object>"
      ]
     },
     "metadata": {},
     "output_type": "display_data"
    },
    {
     "data": {
      "text/html": [
       "<strong><a href='hvd.32044108413071'>Fifty paintings by George Inness; introduction by Elliott Daingerfield.</a></strong> by <em>Inness, George, 1825-1894.</em> (1913.0)&nbsp;&nbsp;&nbsp;OCLC 2064554 / ISBN   / ISSN   / LCCN 13004813"
      ],
      "text/plain": [
       "<IPython.core.display.HTML object>"
      ]
     },
     "metadata": {},
     "output_type": "display_data"
    },
    {
     "data": {
      "text/html": [
       "<strong><a href='mdp.39015009421200'>George Inness / Nicolai Cikovsky, Jr., Michael Quick ; organized by Michael Quick.</a></strong> by <em>Inness, George, 1825-1894.</em> (1985.0)&nbsp;&nbsp;&nbsp;OCLC 11532656 / ISBN 0064307107 (Harper & Row) / ISSN   / LCCN 84028836"
      ],
      "text/plain": [
       "<IPython.core.display.HTML object>"
      ]
     },
     "metadata": {},
     "output_type": "display_data"
    },
    {
     "data": {
      "text/html": [
       "<strong><a href='mdp.39015058090997'>George Inness and the visionary landscape / Adrienne Baxter Bell.</a></strong> by <em>Inness, George, 1825-1894.</em> (2003.0)&nbsp;&nbsp;&nbsp;OCLC 52375154 / ISBN 1887149139 (NAD : pbk.),1887149112 (NAD : hardback),0807615250 / ISSN   / LCCN 2003055060"
      ],
      "text/plain": [
       "<IPython.core.display.HTML object>"
      ]
     },
     "metadata": {},
     "output_type": "display_data"
    },
    {
     "data": {
      "text/html": [
       "<strong><a href='mdp.39015060067710'>George Inness and the visionary landscape / Adrienne Baxter Bell.</a></strong> by <em>Inness, George, 1825-1894.</em> (2003.0)&nbsp;&nbsp;&nbsp;OCLC 52375154 / ISBN 1887149139 (NAD : pbk.),1887149112 (NAD : hardback),0807615250 / ISSN   / LCCN 2003055060"
      ],
      "text/plain": [
       "<IPython.core.display.HTML object>"
      ]
     },
     "metadata": {},
     "output_type": "display_data"
    },
    {
     "data": {
      "text/html": [
       "<strong><a href='njp.32101068050911'>Retrospective and comparative exhibition of paintings by the late George Inness, N.A. and a few examples by the late A.H. Wyant, N.A. from the George H. Anslie [i.e. Ainslie] Collection ... New York : Detroit Museum of Art, Nov. 1st to Nov. 30th inclusive, 1913.</a></strong> by <em>Inness, George, 1825-1894.</em> (1913.0)&nbsp;&nbsp;&nbsp;OCLC 78439740 / ISBN   / ISSN   / LCCN  "
      ],
      "text/plain": [
       "<IPython.core.display.HTML object>"
      ]
     },
     "metadata": {},
     "output_type": "display_data"
    },
    {
     "data": {
      "text/html": [
       "<strong><a href='pst.000049990362'>George Inness, the 1880s and 1890s / essay by Leo G. Mazow ; with commentaries by Rachael Ziady DeLue.</a></strong> by <em>Inness, George, 1825-1894.</em> (1999.0)&nbsp;&nbsp;&nbsp;OCLC 41348395 / ISBN   / ISSN   / LCCN  "
      ],
      "text/plain": [
       "<IPython.core.display.HTML object>"
      ]
     },
     "metadata": {},
     "output_type": "display_data"
    },
    {
     "name": "stdout",
     "output_type": "stream",
     "text": [
      "\n",
      "\n"
     ]
    },
    {
     "data": {
      "text/html": [
       "<strong><a href='wu.89097201263'>Hymns of faith and hope : second series / by Horatius Bonar.</a></strong> by <em>Bonar, Horatius, 1808-1889.</em> (1868.0)&nbsp;&nbsp;&nbsp;OCLC 7336407 / ISBN   / ISSN   / LCCN  "
      ],
      "text/plain": [
       "<IPython.core.display.HTML object>"
      ]
     },
     "metadata": {},
     "output_type": "display_data"
    },
    {
     "name": "stdout",
     "output_type": "stream",
     "text": [
      "====================\n",
      "141950\n"
     ]
    },
    {
     "data": {
      "text/html": [
       "<strong><a href='wu.89097201271'>Hymns of faith and hope / by Horatius Bonar.</a></strong> by <em>Bonar, Horatius, 1808-1889.</em> (1857.0)&nbsp;&nbsp;&nbsp;OCLC 817840 / ISBN   / ISSN   / LCCN  "
      ],
      "text/plain": [
       "<IPython.core.display.HTML object>"
      ]
     },
     "metadata": {},
     "output_type": "display_data"
    },
    {
     "data": {
      "text/html": [
       "<strong><a href='pst.000053017727'>Hymns of faith and hope / by Horatius Bonar.</a></strong> by <em>Bonar, Horatius, 1808-1889.</em> (1862.0)&nbsp;&nbsp;&nbsp;OCLC 316820105 / ISBN   / ISSN   / LCCN  "
      ],
      "text/plain": [
       "<IPython.core.display.HTML object>"
      ]
     },
     "metadata": {},
     "output_type": "display_data"
    },
    {
     "data": {
      "text/html": [
       "<strong><a href='hvd.32044054123401'>Hymns of faith and hope / by Horatius Bonar.</a></strong> by <em>Bonar, Horatius, 1808-1889.</em> (1857.0)&nbsp;&nbsp;&nbsp;OCLC 817840 / ISBN   / ISSN   / LCCN  "
      ],
      "text/plain": [
       "<IPython.core.display.HTML object>"
      ]
     },
     "metadata": {},
     "output_type": "display_data"
    },
    {
     "data": {
      "text/html": [
       "<strong><a href='hvd.ah5frc'>Hymns of faith and hope / by Horatius Bonar.</a></strong> by <em>Bonar, Horatius, 1808-1889.</em> (1857.0)&nbsp;&nbsp;&nbsp;OCLC 817840 / ISBN   / ISSN   / LCCN  "
      ],
      "text/plain": [
       "<IPython.core.display.HTML object>"
      ]
     },
     "metadata": {},
     "output_type": "display_data"
    },
    {
     "data": {
      "text/html": [
       "<strong><a href='nyp.33433068272552'>Hymns of faith and hope / by Horatius Bonar.</a></strong> by <em>Bonar, Horatius, 1808-1889.</em> (1857.0)&nbsp;&nbsp;&nbsp;OCLC 817840 / ISBN   / ISSN   / LCCN  "
      ],
      "text/plain": [
       "<IPython.core.display.HTML object>"
      ]
     },
     "metadata": {},
     "output_type": "display_data"
    },
    {
     "data": {
      "text/html": [
       "<strong><a href='umn.31951002060661h'>Hymns of faith and hope/ by Horatius Bonar.--</a></strong> by <em>Bonar, Horatius, 1808-1889.</em> (1868.0)&nbsp;&nbsp;&nbsp;OCLC 62414920 / ISBN   / ISSN   / LCCN  "
      ],
      "text/plain": [
       "<IPython.core.display.HTML object>"
      ]
     },
     "metadata": {},
     "output_type": "display_data"
    },
    {
     "data": {
      "text/html": [
       "<strong><a href='njp.32101066455328'>Hymns of faith and hope. By Horatius Bonar ... [1st]-3d series.</a></strong> by <em>Bonar, Horatius, 1808-1889.</em> (1866.0)&nbsp;&nbsp;&nbsp;OCLC 14720256 / ISBN   / ISSN   / LCCN  "
      ],
      "text/plain": [
       "<IPython.core.display.HTML object>"
      ]
     },
     "metadata": {},
     "output_type": "display_data"
    },
    {
     "data": {
      "text/html": [
       "<strong><a href='njp.32101066455302'>Hymns of faith and hope. By Horatius Bonar ... [1st]-3d series.</a></strong> by <em>Bonar, Horatius, 1808-1889.</em> (1866.0)&nbsp;&nbsp;&nbsp;OCLC 14720256 / ISBN   / ISSN   / LCCN  "
      ],
      "text/plain": [
       "<IPython.core.display.HTML object>"
      ]
     },
     "metadata": {},
     "output_type": "display_data"
    },
    {
     "data": {
      "text/html": [
       "<strong><a href='uc2.ark:/13960/t1fj2hp5z'>Hymns of faith and hope / by Horatius Bonar.  Second series.</a></strong> by <em>Bonar, Horatius, 1808-1889.</em> (1872.0)&nbsp;&nbsp;&nbsp;OCLC 23921603 / ISBN   / ISSN   / LCCN  "
      ],
      "text/plain": [
       "<IPython.core.display.HTML object>"
      ]
     },
     "metadata": {},
     "output_type": "display_data"
    },
    {
     "data": {
      "text/html": [
       "<strong><a href='hvd.32044077958486'>Hymns of faith and hope.</a></strong> by <em>Bonar, Horatius, 1808-1889.</em> (1866.0)&nbsp;&nbsp;&nbsp;OCLC 817944 / ISBN   / ISSN   / LCCN  "
      ],
      "text/plain": [
       "<IPython.core.display.HTML object>"
      ]
     },
     "metadata": {},
     "output_type": "display_data"
    },
    {
     "data": {
      "text/html": [
       "<strong><a href='uc2.ark:/13960/t3223001j'>Hymns of faith and hope.</a></strong> by <em>Bonar, Horatius, 1808-1889.</em> (1866.0)&nbsp;&nbsp;&nbsp;OCLC 817944 / ISBN   / ISSN   / LCCN  "
      ],
      "text/plain": [
       "<IPython.core.display.HTML object>"
      ]
     },
     "metadata": {},
     "output_type": "display_data"
    },
    {
     "data": {
      "text/html": [
       "<strong><a href='uiuo.ark:/13960/t87h4xk71'>Hymns of faith and hope : First series / by Horatius Bonar.</a></strong> by <em>Bonar, Horatius, 1808-1889.</em> (1869.0)&nbsp;&nbsp;&nbsp;OCLC 318452182 / ISBN   / ISSN   / LCCN  "
      ],
      "text/plain": [
       "<IPython.core.display.HTML object>"
      ]
     },
     "metadata": {},
     "output_type": "display_data"
    },
    {
     "data": {
      "text/html": [
       "<strong><a href='uiug.30112087621782'>Hymns of faith and hope : First series / by Horatius Bonar.</a></strong> by <em>Bonar, Horatius, 1808-1889.</em> (1869.0)&nbsp;&nbsp;&nbsp;OCLC 318452182 / ISBN   / ISSN   / LCCN  "
      ],
      "text/plain": [
       "<IPython.core.display.HTML object>"
      ]
     },
     "metadata": {},
     "output_type": "display_data"
    },
    {
     "data": {
      "text/html": [
       "<strong><a href='uc1.31175035221624'>Hymns of faith and hope. First series / by Horatius Bonar.</a></strong> by <em>Bonar, Horatius, 1808-1889.</em> (1871.0)&nbsp;&nbsp;&nbsp;OCLC 28901741 / ISBN   / ISSN   / LCCN  "
      ],
      "text/plain": [
       "<IPython.core.display.HTML object>"
      ]
     },
     "metadata": {},
     "output_type": "display_data"
    },
    {
     "data": {
      "text/html": [
       "<strong><a href='uiuo.ark:/13960/t6n05vh85'>Hymns of faith and hope : Second series / by Horatius Bonar.</a></strong> by <em>Bonar, Horatius, 1808-1889.</em> (1869.0)&nbsp;&nbsp;&nbsp;OCLC 10292464 / ISBN   / ISSN   / LCCN  "
      ],
      "text/plain": [
       "<IPython.core.display.HTML object>"
      ]
     },
     "metadata": {},
     "output_type": "display_data"
    },
    {
     "data": {
      "text/html": [
       "<strong><a href='mdp.39015063880853'>Light and truth: or, Bible thoughts and themes. The Lesser epistles. By Horatius Bonar, D.D.</a></strong> by <em>Bonar, Horatius, 1808-1889.</em> (1883.0)&nbsp;&nbsp;&nbsp;OCLC 38213037 / ISBN   / ISSN   / LCCN  "
      ],
      "text/plain": [
       "<IPython.core.display.HTML object>"
      ]
     },
     "metadata": {},
     "output_type": "display_data"
    },
    {
     "data": {
      "text/html": [
       "<strong><a href='hvd.hwilkm'>Hymns of faith and hope. Second series / by Horatius Bonar.</a></strong> by <em>Bonar, Horatius, 1808-1889.</em> (1864.0)&nbsp;&nbsp;&nbsp;OCLC 24886165 / ISBN   / ISSN   / LCCN  "
      ],
      "text/plain": [
       "<IPython.core.display.HTML object>"
      ]
     },
     "metadata": {},
     "output_type": "display_data"
    },
    {
     "data": {
      "text/html": [
       "<strong><a href='nyp.33433068272636'>Hymns of faith and hope. Second series / Horatius Bonar.</a></strong> by <em>Bonar, Horatius, 1808-1889.</em> (1862.0)&nbsp;&nbsp;&nbsp;OCLC 7070398 / ISBN   / ISSN   / LCCN  "
      ],
      "text/plain": [
       "<IPython.core.display.HTML object>"
      ]
     },
     "metadata": {},
     "output_type": "display_data"
    },
    {
     "data": {
      "text/html": [
       "<strong><a href='hvd.ah4y88'>Hymns of faith and hope. Second series / Horatius Bonar.</a></strong> by <em>Bonar, Horatius, 1808-1889.</em> (1862.0)&nbsp;&nbsp;&nbsp;OCLC 7070398 / ISBN   / ISSN   / LCCN  "
      ],
      "text/plain": [
       "<IPython.core.display.HTML object>"
      ]
     },
     "metadata": {},
     "output_type": "display_data"
    },
    {
     "data": {
      "text/html": [
       "<strong><a href='hvd.hn364y'>Hymns of faith and hope. Second series / Horatius Bonar.</a></strong> by <em>Bonar, Horatius, 1808-1889.</em> (1862.0)&nbsp;&nbsp;&nbsp;OCLC 7070398 / ISBN   / ISSN   / LCCN  "
      ],
      "text/plain": [
       "<IPython.core.display.HTML object>"
      ]
     },
     "metadata": {},
     "output_type": "display_data"
    },
    {
     "data": {
      "text/html": [
       "<strong><a href='uiug.30112114018481'>Words to the winners of souls / by Horatius Bonar.</a></strong> by <em>Bonar, Horatius, 1808-1889.</em> (1859.0)&nbsp;&nbsp;&nbsp;OCLC 15021115 / ISBN   / ISSN   / LCCN  "
      ],
      "text/plain": [
       "<IPython.core.display.HTML object>"
      ]
     },
     "metadata": {},
     "output_type": "display_data"
    },
    {
     "data": {
      "text/html": [
       "<strong><a href='wu.89097201412'>Words to the winners of souls / by Horatius Bonar.</a></strong> by <em>Bonar, Horatius, 1808-1889.</em> (9999.0)&nbsp;&nbsp;&nbsp;OCLC 51066558 / ISBN   / ISSN   / LCCN  "
      ],
      "text/plain": [
       "<IPython.core.display.HTML object>"
      ]
     },
     "metadata": {},
     "output_type": "display_data"
    },
    {
     "data": {
      "text/html": [
       "<strong><a href='mdp.39015063628682'>Light & truth: or, bible thoughts & themes. The gospels. By Horatius Bonar...</a></strong> by <em>Bonar, Horatius, 1808-1889.</em> (1881.0)&nbsp;&nbsp;&nbsp;OCLC 68142282 / ISBN   / ISSN   / LCCN  "
      ],
      "text/plain": [
       "<IPython.core.display.HTML object>"
      ]
     },
     "metadata": {},
     "output_type": "display_data"
    },
    {
     "data": {
      "text/html": [
       "<strong><a href='hvd.hnnzd3'>Hymns of faith and hope. Series 1-3.</a></strong> by <em>Bonar, Horatius, 1808-1889.</em> (1886.0)&nbsp;&nbsp;&nbsp;OCLC 236092617 / ISBN   / ISSN   / LCCN  "
      ],
      "text/plain": [
       "<IPython.core.display.HTML object>"
      ]
     },
     "metadata": {},
     "output_type": "display_data"
    },
    {
     "data": {
      "text/html": [
       "<strong><a href='hvd.hnnzd2'>Hymns of faith and hope. Series 1-3.</a></strong> by <em>Bonar, Horatius, 1808-1889.</em> (1886.0)&nbsp;&nbsp;&nbsp;OCLC 236092617 / ISBN   / ISSN   / LCCN  "
      ],
      "text/plain": [
       "<IPython.core.display.HTML object>"
      ]
     },
     "metadata": {},
     "output_type": "display_data"
    },
    {
     "data": {
      "text/html": [
       "<strong><a href='hvd.hwilm2'>Hymns of faith and hope [First series]</a></strong> by <em>Bonar, Horatius, 1808-1889.</em> (1864.0)&nbsp;&nbsp;&nbsp;OCLC 817845 / ISBN   / ISSN   / LCCN  "
      ],
      "text/plain": [
       "<IPython.core.display.HTML object>"
      ]
     },
     "metadata": {},
     "output_type": "display_data"
    },
    {
     "data": {
      "text/html": [
       "<strong><a href='hvd.32044077958452'>Hymns of faith and hope [First series]</a></strong> by <em>Bonar, Horatius, 1808-1889.</em> (1860.0)&nbsp;&nbsp;&nbsp;OCLC 817837 / ISBN   / ISSN   / LCCN  "
      ],
      "text/plain": [
       "<IPython.core.display.HTML object>"
      ]
     },
     "metadata": {},
     "output_type": "display_data"
    },
    {
     "data": {
      "text/html": [
       "<strong><a href='hvd.32044077958460'>Hymns of faith and hope [First series]</a></strong> by <em>Bonar, Horatius, 1808-1889.</em> (1864.0)&nbsp;&nbsp;&nbsp;OCLC 817845 / ISBN   / ISSN   / LCCN  "
      ],
      "text/plain": [
       "<IPython.core.display.HTML object>"
      ]
     },
     "metadata": {},
     "output_type": "display_data"
    },
    {
     "data": {
      "text/html": [
       "<strong><a href='hvd.hnnzd7'>Hymns of faith and hope. Series 1-3.</a></strong> by <em>Bonar, Horatius, 1808-1889.</em> (1886.0)&nbsp;&nbsp;&nbsp;OCLC 236092617 / ISBN   / ISSN   / LCCN  "
      ],
      "text/plain": [
       "<IPython.core.display.HTML object>"
      ]
     },
     "metadata": {},
     "output_type": "display_data"
    },
    {
     "data": {
      "text/html": [
       "<strong><a href='nyp.33433068249584'>God's way of peace : a book for the anxious / by Horatius Bonar.</a></strong> by <em>Bonar, Horatius, 1808-1889.</em> (1899.0)&nbsp;&nbsp;&nbsp;OCLC 34203595 / ISBN   / ISSN   / LCCN  "
      ],
      "text/plain": [
       "<IPython.core.display.HTML object>"
      ]
     },
     "metadata": {},
     "output_type": "display_data"
    },
    {
     "data": {
      "text/html": [
       "<strong><a href='nc01.ark:/13960/t9572kj9j'>God's way of peace : a book for the anxious / by Horatius Bonar.</a></strong> by <em>Bonar, Horatius, 1808-1889.</em> (1861.0)&nbsp;&nbsp;&nbsp;OCLC 4948737 / ISBN   / ISSN   / LCCN  "
      ],
      "text/plain": [
       "<IPython.core.display.HTML object>"
      ]
     },
     "metadata": {},
     "output_type": "display_data"
    },
    {
     "data": {
      "text/html": [
       "<strong><a href='nyp.33433068249733'>God's way of peace: a book for the anxious. By Horatius Bonar ...</a></strong> by <em>Bonar, Horatius, 1808-1889.</em> (1870.0)&nbsp;&nbsp;&nbsp;OCLC 38118541 / ISBN   / ISSN   / LCCN  "
      ],
      "text/plain": [
       "<IPython.core.display.HTML object>"
      ]
     },
     "metadata": {},
     "output_type": "display_data"
    },
    {
     "data": {
      "text/html": [
       "<strong><a href='mdp.39015063594454'>God's way of peace; a book for the anxious. By Horatius Bonar ...</a></strong> by <em>Bonar, Horatius, 1808-1889.</em> (1878.0)&nbsp;&nbsp;&nbsp;OCLC 27293550 / ISBN   / ISSN   / LCCN  "
      ],
      "text/plain": [
       "<IPython.core.display.HTML object>"
      ]
     },
     "metadata": {},
     "output_type": "display_data"
    },
    {
     "data": {
      "text/html": [
       "<strong><a href='inu.30000118854193'>The night of weeping : or, Words for the suffering families of God / by the Rev. Horatius Bonar.</a></strong> by <em>Bonar, Horatius, 1808-1889.</em> (1849.0)&nbsp;&nbsp;&nbsp;OCLC 6959671 / ISBN   / ISSN   / LCCN  "
      ],
      "text/plain": [
       "<IPython.core.display.HTML object>"
      ]
     },
     "metadata": {},
     "output_type": "display_data"
    },
    {
     "data": {
      "text/html": [
       "<strong><a href='hvd.hwiljx'>Hymns of faith and hope. 1st series.</a></strong> by <em>Bonar, Horatius, 1808-1889.</em> (1871.0)&nbsp;&nbsp;&nbsp;OCLC 36787144 / ISBN   / ISSN   / LCCN  "
      ],
      "text/plain": [
       "<IPython.core.display.HTML object>"
      ]
     },
     "metadata": {},
     "output_type": "display_data"
    },
    {
     "data": {
      "text/html": [
       "<strong><a href='uc2.ark:/13960/t6tx3883p'>The night of weeping : or, Words for the suffering family of God / by the Rev. Horatius Bonar.</a></strong> by <em>Bonar, Horatius, 1808-1889.</em> (1852.0)&nbsp;&nbsp;&nbsp;OCLC 317593760 / ISBN   / ISSN   / LCCN  "
      ],
      "text/plain": [
       "<IPython.core.display.HTML object>"
      ]
     },
     "metadata": {},
     "output_type": "display_data"
    },
    {
     "data": {
      "text/html": [
       "<strong><a href='njp.32101065102186'>Lyra consolationis; or, Hymns for the day of sorrow & weariness; ed. by Horatius Bonar.</a></strong> by <em>Bonar, Horatius, 1808-1889.</em> (1866.0)&nbsp;&nbsp;&nbsp;OCLC 6207477 / ISBN   / ISSN   / LCCN  "
      ],
      "text/plain": [
       "<IPython.core.display.HTML object>"
      ]
     },
     "metadata": {},
     "output_type": "display_data"
    },
    {
     "data": {
      "text/html": [
       "<strong><a href='hvd.ah4yvc'>Until the day break : and other hymns and poems left behind / by Horatius Bonar.</a></strong> by <em>Bonar, Horatius, 1808-1889.</em> (1890.0)&nbsp;&nbsp;&nbsp;OCLC 6911056 / ISBN   / ISSN   / LCCN  "
      ],
      "text/plain": [
       "<IPython.core.display.HTML object>"
      ]
     },
     "metadata": {},
     "output_type": "display_data"
    },
    {
     "data": {
      "text/html": [
       "<strong><a href='hvd.32044077958478'>Hymns of faith and hope. First series.</a></strong> by <em>Bonar, Horatius, 1808-1889.</em> (1865.0)&nbsp;&nbsp;&nbsp;OCLC 817850 / ISBN   / ISSN   / LCCN  "
      ],
      "text/plain": [
       "<IPython.core.display.HTML object>"
      ]
     },
     "metadata": {},
     "output_type": "display_data"
    },
    {
     "data": {
      "text/html": [
       "<strong><a href='uiug.30112112380552'>The night of weeping : or, words for the suffering family of God / by Horatius Bonar.</a></strong> by <em>Bonar, Horatius, 1808-1889.</em> (1846.0)&nbsp;&nbsp;&nbsp;OCLC 9273752 / ISBN   / ISSN   / LCCN  "
      ],
      "text/plain": [
       "<IPython.core.display.HTML object>"
      ]
     },
     "metadata": {},
     "output_type": "display_data"
    },
    {
     "data": {
      "text/html": [
       "<strong><a href='hvd.hn5d61'>Light and truth : or, Bible thoughts and themes: the Revelation / by Horatius Bonar.</a></strong> by <em>Bonar, Horatius, 1808-1889.</em> (1872.0)&nbsp;&nbsp;&nbsp;OCLC 13298594 / ISBN   / ISSN   / LCCN  "
      ],
      "text/plain": [
       "<IPython.core.display.HTML object>"
      ]
     },
     "metadata": {},
     "output_type": "display_data"
    },
    {
     "data": {
      "text/html": [
       "<strong><a href='nnc1.cr60032391'>Light and truth, or, Bible thoughts and themes. Old Testament / Horatius Bonar.</a></strong> by <em>Bonar, Horatius, 1808-1889.</em> (1869.0)&nbsp;&nbsp;&nbsp;OCLC 221853884 / ISBN   / ISSN   / LCCN  "
      ],
      "text/plain": [
       "<IPython.core.display.HTML object>"
      ]
     },
     "metadata": {},
     "output_type": "display_data"
    },
    {
     "data": {
      "text/html": [
       "<strong><a href='mdp.39015035081358'>Light and truth: or, Bible thoughts and themes. Old Testament. By Horatius Bonar ...</a></strong> by <em>Bonar, Horatius, 1808-1889.</em> (1881.0)&nbsp;&nbsp;&nbsp;OCLC 26787119 / ISBN   / ISSN   / LCCN  "
      ],
      "text/plain": [
       "<IPython.core.display.HTML object>"
      ]
     },
     "metadata": {},
     "output_type": "display_data"
    },
    {
     "data": {
      "text/html": [
       "<strong><a href='uiuo.ark:/13960/t19k9251p'>The morning of joy ; being a sequel to The night of weeping ... By the Rev. Horatius Bonar.</a></strong> by <em>Bonar, Horatius, 1808-1889.</em> (1854.0)&nbsp;&nbsp;&nbsp;OCLC 2496046 / ISBN   / ISSN   / LCCN 39017816"
      ],
      "text/plain": [
       "<IPython.core.display.HTML object>"
      ]
     },
     "metadata": {},
     "output_type": "display_data"
    },
    {
     "data": {
      "text/html": [
       "<strong><a href='nnc1.50213959'>The night of weeping, or, Words for the suffering family of God ... / by the Rev. Horatius Bonar ; from the third London edition.</a></strong> by <em>Bonar, Horatius, 1808-1889.</em> (1847.0)&nbsp;&nbsp;&nbsp;OCLC 505272409 / ISBN   / ISSN   / LCCN  "
      ],
      "text/plain": [
       "<IPython.core.display.HTML object>"
      ]
     },
     "metadata": {},
     "output_type": "display_data"
    },
    {
     "data": {
      "text/html": [
       "<strong><a href='mdp.39015063633161'>Light & truth: or, Bible thoughts & themes. The Revelation. By Horatius Bonar...</a></strong> by <em>Bonar, Horatius, 1808-1889.</em> (1883.0)&nbsp;&nbsp;&nbsp;OCLC 68139042 / ISBN   / ISSN   / LCCN  "
      ],
      "text/plain": [
       "<IPython.core.display.HTML object>"
      ]
     },
     "metadata": {},
     "output_type": "display_data"
    },
    {
     "data": {
      "text/html": [
       "<strong><a href='nnc1.50197231'>Man, his religion and his world / by Horatius Bonar.</a></strong> by <em>Bonar, Horatius, 1808-1889.</em> (1851.0)&nbsp;&nbsp;&nbsp;OCLC 20228887 / ISBN   / ISSN   / LCCN  "
      ],
      "text/plain": [
       "<IPython.core.display.HTML object>"
      ]
     },
     "metadata": {},
     "output_type": "display_data"
    },
    {
     "data": {
      "text/html": [
       "<strong><a href='njp.32101066133917'>The morning of joy : being a sequel to The night of weeping / by Horatius Bonar.</a></strong> by <em>Bonar, Horatius, 1808-1889.</em> (1863.0)&nbsp;&nbsp;&nbsp;OCLC 31141961 / ISBN   / ISSN   / LCCN  "
      ],
      "text/plain": [
       "<IPython.core.display.HTML object>"
      ]
     },
     "metadata": {},
     "output_type": "display_data"
    },
    {
     "data": {
      "text/html": [
       "<strong><a href='uiug.30112064594846'>The morning of joy : being a sequel to The night of weeping / by Horatius Bonar.</a></strong> by <em>Bonar, Horatius, 1808-1889.</em> (1852.0)&nbsp;&nbsp;&nbsp;OCLC 35653352 / ISBN   / ISSN   / LCCN  "
      ],
      "text/plain": [
       "<IPython.core.display.HTML object>"
      ]
     },
     "metadata": {},
     "output_type": "display_data"
    },
    {
     "data": {
      "text/html": [
       "<strong><a href='nnc1.cr60029498'>Does God care for our great cities? : the question and the answer from the book of Jonah ; a word for the Paris mission / by Horatius Bonar.</a></strong> by <em>Bonar, Horatius, 1808-1889.</em> (1880.0)&nbsp;&nbsp;&nbsp;OCLC 31339880 / ISBN   / ISSN   / LCCN  "
      ],
      "text/plain": [
       "<IPython.core.display.HTML object>"
      ]
     },
     "metadata": {},
     "output_type": "display_data"
    },
    {
     "data": {
      "text/html": [
       "<strong><a href='coo1.ark:/13960/t4dn4pq3t'>My old letters.</a></strong> by <em>Bonar, Horatius, 1808-1889.</em> (1878.0)&nbsp;&nbsp;&nbsp;OCLC 4879424 / ISBN   / ISSN   / LCCN  "
      ],
      "text/plain": [
       "<IPython.core.display.HTML object>"
      ]
     },
     "metadata": {},
     "output_type": "display_data"
    },
    {
     "data": {
      "text/html": [
       "<strong><a href='hvd.32044017211392'>Hymns / by Horatius Bonar ; selected and arranged by his son, H. N. Bonar, with a brief history of some of the hymns.</a></strong> by <em>Bonar, Horatius, 1808-1889.</em> (1904.0)&nbsp;&nbsp;&nbsp;OCLC 4745451 / ISBN   / ISSN   / LCCN  "
      ],
      "text/plain": [
       "<IPython.core.display.HTML object>"
      ]
     },
     "metadata": {},
     "output_type": "display_data"
    },
    {
     "data": {
      "text/html": [
       "<strong><a href='hvd.ah5eii'>The New Jerusalem : a hymn of the olden time.</a></strong> by <em>Bonar, Horatius, 1808-1889.</em> (1852.0)&nbsp;&nbsp;&nbsp;OCLC 9721577 / ISBN   / ISSN   / LCCN  "
      ],
      "text/plain": [
       "<IPython.core.display.HTML object>"
      ]
     },
     "metadata": {},
     "output_type": "display_data"
    },
    {
     "data": {
      "text/html": [
       "<strong><a href='hvd.ah5rmx'>The white fields of France : or, The story of Mr. M'All's mission to the working-men of Paris and Lyons / by Horatius Bonar.</a></strong> by <em>Bonar, Horatius, 1808-1889.</em> (1880.0)&nbsp;&nbsp;&nbsp;OCLC 6173957 / ISBN   / ISSN   / LCCN  "
      ],
      "text/plain": [
       "<IPython.core.display.HTML object>"
      ]
     },
     "metadata": {},
     "output_type": "display_data"
    },
    {
     "data": {
      "text/html": [
       "<strong><a href='hvd.hn615l'>The morning of joy; being a sequel to The night of weeping.</a></strong> by <em>Bonar, Horatius, 1808-1889.</em> (1851.0)&nbsp;&nbsp;&nbsp;OCLC 237219195 / ISBN   / ISSN   / LCCN  "
      ],
      "text/plain": [
       "<IPython.core.display.HTML object>"
      ]
     },
     "metadata": {},
     "output_type": "display_data"
    },
    {
     "data": {
      "text/html": [
       "<strong><a href='iau.31858049673936'>Horatius Bonar, D. D. : a memorial.</a></strong> by <em>Bonar, Horatius, 1808-1889.</em> (1889.0)&nbsp;&nbsp;&nbsp;OCLC 14639990 / ISBN   / ISSN   / LCCN  "
      ],
      "text/plain": [
       "<IPython.core.display.HTML object>"
      ]
     },
     "metadata": {},
     "output_type": "display_data"
    },
    {
     "data": {
      "text/html": [
       "<strong><a href='loc.ark:/13960/t6543vn9q'>The morning of joy; being a sequel to The night of weeping</a></strong> by <em>Bonar, Horatius, 1808-1889.</em> (1854.0)&nbsp;&nbsp;&nbsp;OCLC   / ISBN   / ISSN   / LCCN 39017816"
      ],
      "text/plain": [
       "<IPython.core.display.HTML object>"
      ]
     },
     "metadata": {},
     "output_type": "display_data"
    },
    {
     "data": {
      "text/html": [
       "<strong><a href='mdp.39015008869201'>Kelso tracts. ...</a></strong> by <em>Bonar, Horatius, 1808-1889.</em> (1851.0)&nbsp;&nbsp;&nbsp;OCLC 34509402 / ISBN   / ISSN   / LCCN  "
      ],
      "text/plain": [
       "<IPython.core.display.HTML object>"
      ]
     },
     "metadata": {},
     "output_type": "display_data"
    },
    {
     "data": {
      "text/html": [
       "<strong><a href='mdp.39015014819273'>The desert of Sinai:</a></strong> by <em>Bonar, Horatius, 1808-1889.</em> (1857.0)&nbsp;&nbsp;&nbsp;OCLC 4573027 / ISBN   / ISSN   / LCCN 34041147"
      ],
      "text/plain": [
       "<IPython.core.display.HTML object>"
      ]
     },
     "metadata": {},
     "output_type": "display_data"
    },
    {
     "data": {
      "text/html": [
       "<strong><a href='miun.ajh0520.0001.001'>Earth's morning ...</a></strong> by <em>Bonar, Horatius, 1808-1889.</em> (1875.0)&nbsp;&nbsp;&nbsp;OCLC 4676928 / ISBN   / ISSN   / LCCN  "
      ],
      "text/plain": [
       "<IPython.core.display.HTML object>"
      ]
     },
     "metadata": {},
     "output_type": "display_data"
    },
    {
     "name": "stdout",
     "output_type": "stream",
     "text": [
      "\n",
      "\n"
     ]
    },
    {
     "data": {
      "text/html": [
       "<strong><a href='uc1.$b192968'>Some notable surveyors & map-makers of the sixteenth, seventeenth, & eighteenth centuries and their work; a study in the history of cartography, by Sir Herbert George Fordham</a></strong> by <em>Fordham, Herbert George, Sir, 1854-1929.</em> (1929.0)&nbsp;&nbsp;&nbsp;OCLC 817552 / ISBN   / ISSN   / LCCN 26003978"
      ],
      "text/plain": [
       "<IPython.core.display.HTML object>"
      ]
     },
     "metadata": {},
     "output_type": "display_data"
    },
    {
     "name": "stdout",
     "output_type": "stream",
     "text": [
      "====================\n",
      "91622\n"
     ]
    },
    {
     "data": {
      "text/html": [
       "<strong><a href='mdp.39015050652141'>Some notable surveyors & map-makers of the sixteenth, seventeenth, & eighteenth centuries and their work; a study in the history of cartography, by Sir Herbert George Fordham</a></strong> by <em>Fordham, Herbert George, Sir, 1854-1929.</em> (1929.0)&nbsp;&nbsp;&nbsp;OCLC 817552 / ISBN   / ISSN   / LCCN 26003978"
      ],
      "text/plain": [
       "<IPython.core.display.HTML object>"
      ]
     },
     "metadata": {},
     "output_type": "display_data"
    },
    {
     "data": {
      "text/html": [
       "<strong><a href='uc1.$b193082'>South-east Asia between two worlds.</a></strong> by <em>Mende, Tibor.</em> (1955.0)&nbsp;&nbsp;&nbsp;OCLC 2144443 / ISBN   / ISSN   / LCCN 55027955"
      ],
      "text/plain": [
       "<IPython.core.display.HTML object>"
      ]
     },
     "metadata": {},
     "output_type": "display_data"
    },
    {
     "data": {
      "text/html": [
       "<strong><a href='uc1.b4539776'>South-east Asia between two worlds.</a></strong> by <em>Mende, Tibor.</em> (1955.0)&nbsp;&nbsp;&nbsp;OCLC 2636729 / ISBN   / ISSN   / LCCN 55014779"
      ],
      "text/plain": [
       "<IPython.core.display.HTML object>"
      ]
     },
     "metadata": {},
     "output_type": "display_data"
    },
    {
     "data": {
      "text/html": [
       "<strong><a href='mdp.39015065605589'>South-east Asia between two worlds.</a></strong> by <em>Mende, Tibor.</em> (1955.0)&nbsp;&nbsp;&nbsp;OCLC 2144443 / ISBN   / ISSN   / LCCN 55027955"
      ],
      "text/plain": [
       "<IPython.core.display.HTML object>"
      ]
     },
     "metadata": {},
     "output_type": "display_data"
    },
    {
     "data": {
      "text/html": [
       "<strong><a href='coo.31924029590928'>Studies in carto-bibliography, British and French, and in the bibliography of itineraries and road-books.</a></strong> by <em>Fordham, Herbert George, Sir, 1854-1929.</em> (1969.0)&nbsp;&nbsp;&nbsp;OCLC 63742 / ISBN 0712903925 / ISSN   / LCCN 72453805"
      ],
      "text/plain": [
       "<IPython.core.display.HTML object>"
      ]
     },
     "metadata": {},
     "output_type": "display_data"
    },
    {
     "data": {
      "text/html": [
       "<strong><a href='coo1.ark:/13960/t98633c80'>Maps, their history, characteristics and uses; a handbook for teachers, by Sir Herbert George Fordham.</a></strong> by <em>Fordham, Herbert George, Sir, 1854-1929.</em> (1921.0)&nbsp;&nbsp;&nbsp;OCLC 2285236 / ISBN   / ISSN   / LCCN 21015855"
      ],
      "text/plain": [
       "<IPython.core.display.HTML object>"
      ]
     },
     "metadata": {},
     "output_type": "display_data"
    },
    {
     "data": {
      "text/html": [
       "<strong><a href='hvd.32044014471247'>Notes on the cartography of the counties of England & Wales: a paper read in the geographical section at the meeting of the British association for the advancement of science, at Dublin, September, 1908, a bibliography of works of reference relating to British and French topography and cartography, [by Herbert George Fordham ...]</a></strong> by <em>Fordham, Herbert George, Sir, 1854-1929.</em> (1908.0)&nbsp;&nbsp;&nbsp;OCLC 39031560 / ISBN   / ISSN   / LCCN  "
      ],
      "text/plain": [
       "<IPython.core.display.HTML object>"
      ]
     },
     "metadata": {},
     "output_type": "display_data"
    },
    {
     "data": {
      "text/html": [
       "<strong><a href='inu.30000029281437'>Notes on British and Irish itineraries and road-books.</a></strong> by <em>Fordham, Herbert George, Sir, 1854-1929.</em> (1912.0)&nbsp;&nbsp;&nbsp;OCLC 24260503 / ISBN   / ISSN   / LCCN 12024413"
      ],
      "text/plain": [
       "<IPython.core.display.HTML object>"
      ]
     },
     "metadata": {},
     "output_type": "display_data"
    },
    {
     "data": {
      "text/html": [
       "<strong><a href='mdp.39015021082345'>Notes on the itineraries, road-books and road-maps of France. A paper read in the Geographical section at the meeting of the British association for the advancement of science, held at Southampton, August-September, 1925.</a></strong> by <em>Fordham, Herbert George, Sir, 1854-1929.</em> (1926.0)&nbsp;&nbsp;&nbsp;OCLC 7798578 / ISBN   / ISSN   / LCCN 43035075"
      ],
      "text/plain": [
       "<IPython.core.display.HTML object>"
      ]
     },
     "metadata": {},
     "output_type": "display_data"
    },
    {
     "data": {
      "text/html": [
       "<strong><a href='mdp.39015021082352'>The road-books & itineraries of Great Britain, 1570 to 1850. A catalogue with an introduction and a bibliography, by Sir Herbert George Fordham ...</a></strong> by <em>Fordham, Herbert George, Sir, 1854-1929.</em> (1924.0)&nbsp;&nbsp;&nbsp;OCLC 8990265 / ISBN   / ISSN   / LCCN 24013595"
      ],
      "text/plain": [
       "<IPython.core.display.HTML object>"
      ]
     },
     "metadata": {},
     "output_type": "display_data"
    },
    {
     "data": {
      "text/html": [
       "<strong><a href='mdp.39015023145678'>The road-books & itineraries of Ireland, 1647 to 1850; a catalogue,</a></strong> by <em>Fordham, Herbert George, Sir, 1854-1929.</em> (1923.0)&nbsp;&nbsp;&nbsp;OCLC 9874162 / ISBN   / ISSN   / LCCN 23015671"
      ],
      "text/plain": [
       "<IPython.core.display.HTML object>"
      ]
     },
     "metadata": {},
     "output_type": "display_data"
    },
    {
     "data": {
      "text/html": [
       "<strong><a href='mdp.39015024832704'>Maps, their history, characteristics and uses; a hand-book for teachers,</a></strong> by <em>Fordham, Herbert George, Sir, 1854-1929.</em> (1927.0)&nbsp;&nbsp;&nbsp;OCLC 485575 / ISBN   / ISSN   / LCCN 29001647"
      ],
      "text/plain": [
       "<IPython.core.display.HTML object>"
      ]
     },
     "metadata": {},
     "output_type": "display_data"
    },
    {
     "data": {
      "text/html": [
       "<strong><a href='mdp.39015028102708'>An address on the \"Evolution of the maps of the British Isles\" delivered in the Whitworth hall of the University of Manchester, January 26th, 1923 (during the loan exhibition of old maps, January 25th to 31st)</a></strong> by <em>Fordham, Herbert George, Sir, 1854-1929.</em> (1923.0)&nbsp;&nbsp;&nbsp;OCLC 7532583 / ISBN   / ISSN   / LCCN  "
      ],
      "text/plain": [
       "<IPython.core.display.HTML object>"
      ]
     },
     "metadata": {},
     "output_type": "display_data"
    },
    {
     "data": {
      "text/html": [
       "<strong><a href='mdp.39015033541858'>Notes on British and Irish itineraries and road-books.</a></strong> by <em>Fordham, Herbert George, Sir, 1854-1929.</em> (1912.0)&nbsp;&nbsp;&nbsp;OCLC 24260503 / ISBN   / ISSN   / LCCN 12024413"
      ],
      "text/plain": [
       "<IPython.core.display.HTML object>"
      ]
     },
     "metadata": {},
     "output_type": "display_data"
    },
    {
     "name": "stdout",
     "output_type": "stream",
     "text": [
      "\n",
      "\n"
     ]
    },
    {
     "data": {
      "text/html": [
       "<strong><a href='wu.89041991738'>Field crop technology in the Punjab, India, by I.J. Singh, R.H. Day and S.S. Johl.</a></strong> by <em>Singh, Inderjit, 1941-</em> (1968.0)&nbsp;&nbsp;&nbsp;OCLC 556233 / ISBN   / ISSN   / LCCN  "
      ],
      "text/plain": [
       "<IPython.core.display.HTML object>"
      ]
     },
     "metadata": {},
     "output_type": "display_data"
    },
    {
     "name": "stdout",
     "output_type": "stream",
     "text": [
      "====================\n",
      "139301\n"
     ]
    },
    {
     "data": {
      "text/html": [
       "<strong><a href='wu.89041998683'>Greenhouse chrysanthemums: a guide for beginners, by H. G. Witham Fogg; decorations by Denise Brown.</a></strong> by <em>Fogg, H. G. Witham</em> (1966.0)&nbsp;&nbsp;&nbsp;OCLC 2224585 / ISBN   / ISSN   / LCCN 66066039"
      ],
      "text/plain": [
       "<IPython.core.display.HTML object>"
      ]
     },
     "metadata": {},
     "output_type": "display_data"
    },
    {
     "data": {
      "text/html": [
       "<strong><a href='inu.30000095859215'>A dynamic multi-commodity model of the agricultural sector : a regional application in Brazil / Inderjit Singh and Choong Yong Ahn.</a></strong> by <em>Singh, Inderjit, 1941-</em> (1978.0)&nbsp;&nbsp;&nbsp;OCLC 277217887 / ISBN   / ISSN   / LCCN  "
      ],
      "text/plain": [
       "<IPython.core.display.HTML object>"
      ]
     },
     "metadata": {},
     "output_type": "display_data"
    },
    {
     "data": {
      "text/html": [
       "<strong><a href='mdp.39015035109274'>Financing of small industry / Inderjit Singh, N. S. Gupta.</a></strong> by <em>Singh, Inderjit, 1941-</em> (1977.0)&nbsp;&nbsp;&nbsp;OCLC 3628014 / ISBN   / ISSN   / LCCN 77903519"
      ],
      "text/plain": [
       "<IPython.core.display.HTML object>"
      ]
     },
     "metadata": {},
     "output_type": "display_data"
    },
    {
     "data": {
      "text/html": [
       "<strong><a href='mdp.39015055379203'>Tenancy in South Asia / Inderjit Singh.</a></strong> by <em>Singh, Inderjit, 1941-</em> (1988.0)&nbsp;&nbsp;&nbsp;OCLC 18106195 / ISBN 0821310917 (pbk.) / ISSN   / LCCN 88017384"
      ],
      "text/plain": [
       "<IPython.core.display.HTML object>"
      ]
     },
     "metadata": {},
     "output_type": "display_data"
    },
    {
     "data": {
      "text/html": [
       "<strong><a href='uc1.31822015520794'>China : industrial policies for an economy in transition / Inderjit Singh</a></strong> by <em>Singh, Inderjit, 1941-</em> (1992.0)&nbsp;&nbsp;&nbsp;OCLC 24845908 / ISBN 0821319787 / ISSN   / LCCN 91041238"
      ],
      "text/plain": [
       "<IPython.core.display.HTML object>"
      ]
     },
     "metadata": {},
     "output_type": "display_data"
    },
    {
     "data": {
      "text/html": [
       "<strong><a href='uc1.32106009398303'>The great ascent : the rural poor in South Asia / Inderjit Singh.</a></strong> by <em>Singh, Inderjit, 1941-</em> (1990.0)&nbsp;&nbsp;&nbsp;OCLC 22242936 / ISBN 0801839548 / ISSN   / LCCN 90-5122"
      ],
      "text/plain": [
       "<IPython.core.display.HTML object>"
      ]
     },
     "metadata": {},
     "output_type": "display_data"
    },
    {
     "data": {
      "text/html": [
       "<strong><a href='uiug.30112019022208'>Small farmers in South Asia : their characteristics, productivity, and efficiency / Inderjit Singh.</a></strong> by <em>Singh, Inderjit, 1941-</em> (1988.0)&nbsp;&nbsp;&nbsp;OCLC 18070009 / ISBN 0821310909 (pbk.) / ISSN   / LCCN  "
      ],
      "text/plain": [
       "<IPython.core.display.HTML object>"
      ]
     },
     "metadata": {},
     "output_type": "display_data"
    },
    {
     "data": {
      "text/html": [
       "<strong><a href='wu.89010811255'>A recursive programming model of traditional agriculture in transition : a case study of Punjab, India.</a></strong> by <em>Singh, Inderjit, 1941-</em> (1971.0)&nbsp;&nbsp;&nbsp;OCLC 48201727 / ISBN   / ISSN   / LCCN  "
      ],
      "text/plain": [
       "<IPython.core.display.HTML object>"
      ]
     },
     "metadata": {},
     "output_type": "display_data"
    },
    {
     "data": {
      "text/html": [
       "<strong><a href='wu.89011460672'>A recursive programming model of traditional agriculture in transition : a case study of Punjab, India.</a></strong> by <em>Singh, Inderjit, 1941-</em> (1971.0)&nbsp;&nbsp;&nbsp;OCLC 48201727 / ISBN   / ISSN   / LCCN  "
      ],
      "text/plain": [
       "<IPython.core.display.HTML object>"
      ]
     },
     "metadata": {},
     "output_type": "display_data"
    },
    {
     "data": {
      "text/html": [
       "<strong><a href='wu.89031388341'>Small farmers and the landless in South Asia / prepared by Inderjit Singh.</a></strong> by <em>Singh, Inderjit, 1941-</em> (1979.0)&nbsp;&nbsp;&nbsp;OCLC 6774428 / ISBN   / ISSN   / LCCN 83219608"
      ],
      "text/plain": [
       "<IPython.core.display.HTML object>"
      ]
     },
     "metadata": {},
     "output_type": "display_data"
    },
    {
     "data": {
      "text/html": [
       "<strong><a href='wu.89041991738'>Field crop technology in the Punjab, India, by I.J. Singh, R.H. Day and S.S. Johl.</a></strong> by <em>Singh, Inderjit, 1941-</em> (1968.0)&nbsp;&nbsp;&nbsp;OCLC 556233 / ISBN   / ISSN   / LCCN  "
      ],
      "text/plain": [
       "<IPython.core.display.HTML object>"
      ]
     },
     "metadata": {},
     "output_type": "display_data"
    },
    {
     "name": "stdout",
     "output_type": "stream",
     "text": [
      "\n",
      "\n"
     ]
    },
    {
     "data": {
      "text/html": [
       "<strong><a href='nyp.33433067353536'>Mexico: its peasants and its priests; or, Adventures and historical researches in Mexico and its silver mines during parts of the years 1851-52-53-54, with an expose of the fabulous characters of the story of the conquest of Mexico by Cortez. By Robert A. Wilson ... with engravings.</a></strong> by <em>Wilson, Robert Anderson, 1812-1872.</em> (1856.0)&nbsp;&nbsp;&nbsp;OCLC 2480770 / ISBN   / ISSN   / LCCN  "
      ],
      "text/plain": [
       "<IPython.core.display.HTML object>"
      ]
     },
     "metadata": {},
     "output_type": "display_data"
    },
    {
     "name": "stdout",
     "output_type": "stream",
     "text": [
      "====================\n",
      "78999\n"
     ]
    },
    {
     "data": {
      "text/html": [
       "<strong><a href='yale.39002005504163'>Mexico: its peasants and its priests; or, Adventures and historical researches in Mexico and its silver mines during parts of the years 1851-52-53-54, with an expose of the fabulous characters of the story of the conquest of Mexico by Cortez. By Robert A. Wilson ... with engravings.</a></strong> by <em>Wilson, Robert Anderson, 1812-1872.</em> (1856.0)&nbsp;&nbsp;&nbsp;OCLC 2480770 / ISBN   / ISSN   / LCCN  "
      ],
      "text/plain": [
       "<IPython.core.display.HTML object>"
      ]
     },
     "metadata": {},
     "output_type": "display_data"
    },
    {
     "data": {
      "text/html": [
       "<strong><a href='nyp.33433067355028'>Our strength and their strength. The North West Territory, and other papers chiefly relating to the Dominion of Canada ...</a></strong> by <em>Dawson, Aeneas McDonell, 1810-1894.</em> (1870.0)&nbsp;&nbsp;&nbsp;OCLC 11242150,13851423 / ISBN   / ISSN   / LCCN 05030356"
      ],
      "text/plain": [
       "<IPython.core.display.HTML object>"
      ]
     },
     "metadata": {},
     "output_type": "display_data"
    },
    {
     "data": {
      "text/html": [
       "<strong><a href='hvd.hnqn1q'>Our strength and their strength. The North West Territory, and other papers chiefly relating to the Dominion of Canada ...</a></strong> by <em>Dawson, Aeneas McDonell, 1810-1894.</em> (1870.0)&nbsp;&nbsp;&nbsp;OCLC 11242150,13851423 / ISBN   / ISSN   / LCCN 05030356"
      ],
      "text/plain": [
       "<IPython.core.display.HTML object>"
      ]
     },
     "metadata": {},
     "output_type": "display_data"
    },
    {
     "data": {
      "text/html": [
       "<strong><a href='coo1.ark:/13960/t3ws97k11'>A new history of the conquest of Mexico : In which Las Casas' denunciations of the popular historians of that war are fully vindicated.</a></strong> by <em>Wilson, Robert Anderson, 1812-1872.</em> (1859.0)&nbsp;&nbsp;&nbsp;OCLC 1427448,9642461 / ISBN 0524049769 (microfiche) / ISSN   / LCCN 02005001"
      ],
      "text/plain": [
       "<IPython.core.display.HTML object>"
      ]
     },
     "metadata": {},
     "output_type": "display_data"
    },
    {
     "data": {
      "text/html": [
       "<strong><a href='coo1.ark:/13960/t6pz5rt02'>Mexico and its religion; with incidents of travel in that country during parts of years 1851-52-53-54, and historical notices of events, connected with places visited. By Robert A. Wilson.</a></strong> by <em>Wilson, Robert Anderson, 1812-1872.</em> (1855.0)&nbsp;&nbsp;&nbsp;OCLC 3900109 / ISBN   / ISSN   / LCCN 02004814"
      ],
      "text/plain": [
       "<IPython.core.display.HTML object>"
      ]
     },
     "metadata": {},
     "output_type": "display_data"
    },
    {
     "data": {
      "text/html": [
       "<strong><a href='gri.ark:/13960/t5jb0d58n'>Mexico and its religion; with incidents of travel in that country during parts of years 1851-52-53-54, and historical notices of events, connected with places visited. By Robert A. Wilson.</a></strong> by <em>Wilson, Robert Anderson, 1812-1872.</em> (1855.0)&nbsp;&nbsp;&nbsp;OCLC 3900109 / ISBN   / ISSN   / LCCN 02004814"
      ],
      "text/plain": [
       "<IPython.core.display.HTML object>"
      ]
     },
     "metadata": {},
     "output_type": "display_data"
    },
    {
     "data": {
      "text/html": [
       "<strong><a href='gri.ark:/13960/t7mp8xz2x'>A new history of the conquest of Mexico : In which Las Casas' denunciations of the popular historians of that war are fully vindicated.</a></strong> by <em>Wilson, Robert Anderson, 1812-1872.</em> (1859.0)&nbsp;&nbsp;&nbsp;OCLC 1427448,9642461 / ISBN 0524049769 (microfiche) / ISSN   / LCCN 02005001"
      ],
      "text/plain": [
       "<IPython.core.display.HTML object>"
      ]
     },
     "metadata": {},
     "output_type": "display_data"
    },
    {
     "data": {
      "text/html": [
       "<strong><a href='hvd.32044004337887'>A new history of the conquest of Mexico : In which Las Casas' denunciations of the popular historians of that war are fully vindicated.</a></strong> by <em>Wilson, Robert Anderson, 1812-1872.</em> (1859.0)&nbsp;&nbsp;&nbsp;OCLC 1427448,9642461 / ISBN 0524049769 (microfiche) / ISSN   / LCCN 02005001"
      ],
      "text/plain": [
       "<IPython.core.display.HTML object>"
      ]
     },
     "metadata": {},
     "output_type": "display_data"
    },
    {
     "data": {
      "text/html": [
       "<strong><a href='hvd.32044037724333'>Mexico and its religion; with incidents of travel in that country during parts of years 1851-52-53-54, and historical notices of events, connected with places visited. By Robert A. Wilson.</a></strong> by <em>Wilson, Robert Anderson, 1812-1872.</em> (1855.0)&nbsp;&nbsp;&nbsp;OCLC 3900109 / ISBN   / ISSN   / LCCN 02004814"
      ],
      "text/plain": [
       "<IPython.core.display.HTML object>"
      ]
     },
     "metadata": {},
     "output_type": "display_data"
    },
    {
     "data": {
      "text/html": [
       "<strong><a href='hvd.32044042778142'>A new history of the conquest of Mexico : In which Las Casas' denunciations of the popular historians of that war are fully vindicated.</a></strong> by <em>Wilson, Robert Anderson, 1812-1872.</em> (1859.0)&nbsp;&nbsp;&nbsp;OCLC 1427448,9642461 / ISBN 0524049769 (microfiche) / ISSN   / LCCN 02005001"
      ],
      "text/plain": [
       "<IPython.core.display.HTML object>"
      ]
     },
     "metadata": {},
     "output_type": "display_data"
    },
    {
     "data": {
      "text/html": [
       "<strong><a href='loc.ark:/13960/t3dz1f26j'>Mexico and its religion; with incidents of travel in that country during parts of years 1851-52-53-54, and historical notices of events, connected with places visited. By Robert A. Wilson.</a></strong> by <em>Wilson, Robert Anderson, 1812-1872.</em> (1855.0)&nbsp;&nbsp;&nbsp;OCLC 3900109 / ISBN   / ISSN   / LCCN 02004814"
      ],
      "text/plain": [
       "<IPython.core.display.HTML object>"
      ]
     },
     "metadata": {},
     "output_type": "display_data"
    },
    {
     "data": {
      "text/html": [
       "<strong><a href='nyp.33433067333207'>A new history of the conquest of Mexico : In which Las Casas' denunciations of the popular historians of that war are fully vindicated.</a></strong> by <em>Wilson, Robert Anderson, 1812-1872.</em> (1859.0)&nbsp;&nbsp;&nbsp;OCLC 1427448,9642461 / ISBN 0524049769 (microfiche) / ISSN   / LCCN 02005001"
      ],
      "text/plain": [
       "<IPython.core.display.HTML object>"
      ]
     },
     "metadata": {},
     "output_type": "display_data"
    },
    {
     "data": {
      "text/html": [
       "<strong><a href='nyp.33433067333215'>A new history of the conquest of Mexico : In which Las Casas' denunciations of the popular historians of that war are fully vindicated.</a></strong> by <em>Wilson, Robert Anderson, 1812-1872.</em> (1859.0)&nbsp;&nbsp;&nbsp;OCLC 1427448,9642461 / ISBN 0524049769 (microfiche) / ISSN   / LCCN 02005001"
      ],
      "text/plain": [
       "<IPython.core.display.HTML object>"
      ]
     },
     "metadata": {},
     "output_type": "display_data"
    },
    {
     "name": "stdout",
     "output_type": "stream",
     "text": [
      "\n",
      "\n"
     ]
    },
    {
     "data": {
      "text/html": [
       "<strong><a href='nyp.33433075931695'>Primary elections; a study of the history and tendencies of primary election legislation, by C. Edward Merriam ...</a></strong> by <em>Merriam, Charles Edward, 1874-1953.</em> (1908.0)&nbsp;&nbsp;&nbsp;OCLC 2178681 / ISBN   / ISSN   / LCCN 08033814"
      ],
      "text/plain": [
       "<IPython.core.display.HTML object>"
      ]
     },
     "metadata": {},
     "output_type": "display_data"
    },
    {
     "name": "stdout",
     "output_type": "stream",
     "text": [
      "====================\n",
      "80919\n"
     ]
    },
    {
     "data": {
      "text/html": [
       "<strong><a href='hvd.32044011698677'>Primary elections; a study of the history and tendencies of primary election legislation, by C. Edward Merriam ...</a></strong> by <em>Merriam, Charles Edward, 1874-1953.</em> (1908.0)&nbsp;&nbsp;&nbsp;OCLC 2178681 / ISBN   / ISSN   / LCCN 08033814"
      ],
      "text/plain": [
       "<IPython.core.display.HTML object>"
      ]
     },
     "metadata": {},
     "output_type": "display_data"
    },
    {
     "data": {
      "text/html": [
       "<strong><a href='mdp.39015030799178'>Primary elections; a study of the history and tendencies of primary election legislation, by C. Edward Merriam ...</a></strong> by <em>Merriam, Charles Edward, 1874-1953.</em> (1908.0)&nbsp;&nbsp;&nbsp;OCLC 2178681 / ISBN   / ISSN   / LCCN 08033814"
      ],
      "text/plain": [
       "<IPython.core.display.HTML object>"
      ]
     },
     "metadata": {},
     "output_type": "display_data"
    },
    {
     "data": {
      "text/html": [
       "<strong><a href='nyp.33433075932685'>History of senatorial elections in Iowa, by Dan Elbert Clark ...</a></strong> by <em>Clark, Dan Elbert, 1884-1956.</em> (1912.0)&nbsp;&nbsp;&nbsp;OCLC 4258954 / ISBN   / ISSN   / LCCN 12033336"
      ],
      "text/plain": [
       "<IPython.core.display.HTML object>"
      ]
     },
     "metadata": {},
     "output_type": "display_data"
    },
    {
     "data": {
      "text/html": [
       "<strong><a href='hvd.32044018982363'>History of senatorial elections in Iowa, by Dan Elbert Clark ...</a></strong> by <em>Clark, Dan Elbert, 1884-1956.</em> (1912.0)&nbsp;&nbsp;&nbsp;OCLC 4258954 / ISBN   / ISSN   / LCCN 12033336"
      ],
      "text/plain": [
       "<IPython.core.display.HTML object>"
      ]
     },
     "metadata": {},
     "output_type": "display_data"
    },
    {
     "data": {
      "text/html": [
       "<strong><a href='uc2.ark:/13960/t9571ft36'>History of senatorial elections in Iowa, by Dan Elbert Clark ...</a></strong> by <em>Clark, Dan Elbert, 1884-1956.</em> (1912.0)&nbsp;&nbsp;&nbsp;OCLC 4258954 / ISBN   / ISSN   / LCCN 12033336"
      ],
      "text/plain": [
       "<IPython.core.display.HTML object>"
      ]
     },
     "metadata": {},
     "output_type": "display_data"
    },
    {
     "data": {
      "text/html": [
       "<strong><a href='coo1.ark:/13960/t76t17d5x'>A history of American political theories, by C. Edward Merriam.</a></strong> by <em>Merriam, Charles Edward, 1874-1953.</em> (1903.0)&nbsp;&nbsp;&nbsp;OCLC 2580899 / ISBN   / ISSN   / LCCN 03004767"
      ],
      "text/plain": [
       "<IPython.core.display.HTML object>"
      ]
     },
     "metadata": {},
     "output_type": "display_data"
    },
    {
     "data": {
      "text/html": [
       "<strong><a href='coo1.ark:/13960/t7gq7g81t'>Primary elections : a study of the history and tendencies of primary election legislation / by C. Edward Merriam.</a></strong> by <em>Merriam, Charles Edward, 1874-1953.</em> (1909.0)&nbsp;&nbsp;&nbsp;OCLC 3921000 / ISBN   / ISSN   / LCCN 12022039"
      ],
      "text/plain": [
       "<IPython.core.display.HTML object>"
      ]
     },
     "metadata": {},
     "output_type": "display_data"
    },
    {
     "data": {
      "text/html": [
       "<strong><a href='coo1.ark:/13960/t86h5rv3p'>The American party system; an introduction to the study of political parties in the United States.</a></strong> by <em>Merriam, Charles Edward, 1874-1953.</em> (1923.0)&nbsp;&nbsp;&nbsp;OCLC 986766 / ISBN   / ISSN   / LCCN 22010249"
      ],
      "text/plain": [
       "<IPython.core.display.HTML object>"
      ]
     },
     "metadata": {},
     "output_type": "display_data"
    },
    {
     "data": {
      "text/html": [
       "<strong><a href='coo1.ark:/13960/t9183w47d'>Report of an investigation of the municipal revenues of Chicago, by Charles Edward Merriam.</a></strong> by <em>Merriam, Charles Edward, 1874-1953.</em> (1906.0)&nbsp;&nbsp;&nbsp;OCLC 5950644 / ISBN   / ISSN   / LCCN 06031626"
      ],
      "text/plain": [
       "<IPython.core.display.HTML object>"
      ]
     },
     "metadata": {},
     "output_type": "display_data"
    },
    {
     "data": {
      "text/html": [
       "<strong><a href='coo1.ark:/13960/t97662m0p'>American political ideas; studies in the development of American political thought 1865-1917,</a></strong> by <em>Merriam, Charles Edward, 1874-1953.</em> (1920.0)&nbsp;&nbsp;&nbsp;OCLC 1555335 / ISBN   / ISSN   / LCCN 20018416"
      ],
      "text/plain": [
       "<IPython.core.display.HTML object>"
      ]
     },
     "metadata": {},
     "output_type": "display_data"
    },
    {
     "data": {
      "text/html": [
       "<strong><a href='hvd.32044019576826'>Primary elections : a study of the history and tendencies of primary election legislation / by C. Edward Merriam.</a></strong> by <em>Merriam, Charles Edward, 1874-1953.</em> (1909.0)&nbsp;&nbsp;&nbsp;OCLC 3921000 / ISBN   / ISSN   / LCCN 12022039"
      ],
      "text/plain": [
       "<IPython.core.display.HTML object>"
      ]
     },
     "metadata": {},
     "output_type": "display_data"
    },
    {
     "data": {
      "text/html": [
       "<strong><a href='hvd.32044020043634'>American political ideas; studies in the development of American political thought 1865-1917,</a></strong> by <em>Merriam, Charles Edward, 1874-1953.</em> (1920.0)&nbsp;&nbsp;&nbsp;OCLC 1555335 / ISBN   / ISSN   / LCCN 20018416"
      ],
      "text/plain": [
       "<IPython.core.display.HTML object>"
      ]
     },
     "metadata": {},
     "output_type": "display_data"
    },
    {
     "data": {
      "text/html": [
       "<strong><a href='hvd.32044031641053'>American political ideas; studies in the development of American political thought 1865-1917,</a></strong> by <em>Merriam, Charles Edward, 1874-1953.</em> (1920.0)&nbsp;&nbsp;&nbsp;OCLC 1555335 / ISBN   / ISSN   / LCCN 20018416"
      ],
      "text/plain": [
       "<IPython.core.display.HTML object>"
      ]
     },
     "metadata": {},
     "output_type": "display_data"
    },
    {
     "data": {
      "text/html": [
       "<strong><a href='hvd.hntf88'>Report of an investigation of the municipal revenues of Chicago, by Charles Edward Merriam.</a></strong> by <em>Merriam, Charles Edward, 1874-1953.</em> (1906.0)&nbsp;&nbsp;&nbsp;OCLC 5950644 / ISBN   / ISSN   / LCCN 06031626"
      ],
      "text/plain": [
       "<IPython.core.display.HTML object>"
      ]
     },
     "metadata": {},
     "output_type": "display_data"
    },
    {
     "data": {
      "text/html": [
       "<strong><a href='inu.30000089433779'>A history of American political theories / by C. Edward Merriam.</a></strong> by <em>Merriam, Charles Edward, 1874-1953.</em> (1906.0)&nbsp;&nbsp;&nbsp;OCLC 30609081 / ISBN   / ISSN   / LCCN  "
      ],
      "text/plain": [
       "<IPython.core.display.HTML object>"
      ]
     },
     "metadata": {},
     "output_type": "display_data"
    },
    {
     "name": "stdout",
     "output_type": "stream",
     "text": [
      "\n",
      "\n"
     ]
    },
    {
     "data": {
      "text/html": [
       "<strong><a href='nnc1.1000502162'>The Normans in Europe / by A.H. Johnson.</a></strong> by <em>Johnson, A. H. 1845-1927.</em> (1899.0)&nbsp;&nbsp;&nbsp;OCLC 16977629 / ISBN   / ISSN   / LCCN  "
      ],
      "text/plain": [
       "<IPython.core.display.HTML object>"
      ]
     },
     "metadata": {},
     "output_type": "display_data"
    },
    {
     "name": "stdout",
     "output_type": "stream",
     "text": [
      "====================\n",
      "117312\n"
     ]
    },
    {
     "data": {
      "text/html": [
       "<strong><a href='hvd.hn5bsz'>The Normans in Europe / by A.H. Johnson.</a></strong> by <em>Johnson, A. H. 1845-1927.</em> (1884.0)&nbsp;&nbsp;&nbsp;OCLC 11905160 / ISBN   / ISSN   / LCCN  "
      ],
      "text/plain": [
       "<IPython.core.display.HTML object>"
      ]
     },
     "metadata": {},
     "output_type": "display_data"
    },
    {
     "data": {
      "text/html": [
       "<strong><a href='uc2.ark:/13960/t1bk19m44'>John Henry Smith, a humorous romance of outdoor life by Frederick Upham Adams ... illustrated for Mr. Smith by A. B. Frost.</a></strong> by <em>Adams, Frederick Upham, 1859-1921.</em> (1905.0)&nbsp;&nbsp;&nbsp;OCLC 674927 / ISBN   / ISSN   / LCCN 05016520"
      ],
      "text/plain": [
       "<IPython.core.display.HTML object>"
      ]
     },
     "metadata": {},
     "output_type": "display_data"
    },
    {
     "data": {
      "text/html": [
       "<strong><a href='nnc1.1002144603'>John Henry Smith, a humorous romance of outdoor life by Frederick Upham Adams ... illustrated for Mr. Smith by A. B. Frost.</a></strong> by <em>Adams, Frederick Upham, 1859-1921.</em> (1909.0)&nbsp;&nbsp;&nbsp;OCLC 4551502 / ISBN   / ISSN   / LCCN  "
      ],
      "text/plain": [
       "<IPython.core.display.HTML object>"
      ]
     },
     "metadata": {},
     "output_type": "display_data"
    },
    {
     "data": {
      "text/html": [
       "<strong><a href='uc2.ark:/13960/t8w951s75'>John Henry Smith, a humorous romance of outdoor life by Frederick Upham Adams ... illustrated for Mr. Smith by A. B. Frost.</a></strong> by <em>Adams, Frederick Upham, 1859-1921.</em> (1905.0)&nbsp;&nbsp;&nbsp;OCLC 674927 / ISBN   / ISSN   / LCCN 05016520"
      ],
      "text/plain": [
       "<IPython.core.display.HTML object>"
      ]
     },
     "metadata": {},
     "output_type": "display_data"
    },
    {
     "data": {
      "text/html": [
       "<strong><a href='mdp.39076005084707'>John Henry Smith : a humorous romance of outdoor life / by Frederick Upham Adams.</a></strong> by <em>Adams, Frederick Upham, 1859-1921.</em> (1905.0)&nbsp;&nbsp;&nbsp;OCLC 10176444 / ISBN   / ISSN   / LCCN  "
      ],
      "text/plain": [
       "<IPython.core.display.HTML object>"
      ]
     },
     "metadata": {},
     "output_type": "display_data"
    },
    {
     "data": {
      "text/html": [
       "<strong><a href='uc2.ark:/13960/t08w39n4j'>The bottom of the well / by Frederick Upham Adams ; illustrations by Alex O. Levy.</a></strong> by <em>Adams, Frederick Upham, 1859-1921.</em> (1906.0)&nbsp;&nbsp;&nbsp;OCLC 8882514 / ISBN   / ISSN   / LCCN 6-15736"
      ],
      "text/plain": [
       "<IPython.core.display.HTML object>"
      ]
     },
     "metadata": {},
     "output_type": "display_data"
    },
    {
     "data": {
      "text/html": [
       "<strong><a href='osu.32435018454140'>The bottom of the well / by Frederick Upham Adams ; illustrations by Alex O. Levy.</a></strong> by <em>Adams, Frederick Upham, 1859-1921.</em> (1906.0)&nbsp;&nbsp;&nbsp;OCLC 8882514 / ISBN   / ISSN   / LCCN 6-15736"
      ],
      "text/plain": [
       "<IPython.core.display.HTML object>"
      ]
     },
     "metadata": {},
     "output_type": "display_data"
    },
    {
     "data": {
      "text/html": [
       "<strong><a href='aeu.ark:/13960/t3b01t04z'>John Burt by Frederick Upham Adams.</a></strong> by <em>Adams, Frederick Upham, 1859-1921.</em> (1903.0)&nbsp;&nbsp;&nbsp;OCLC 848243565 / ISBN 0665734700 / ISSN   / LCCN  "
      ],
      "text/plain": [
       "<IPython.core.display.HTML object>"
      ]
     },
     "metadata": {},
     "output_type": "display_data"
    },
    {
     "data": {
      "text/html": [
       "<strong><a href='aeu.ark:/13960/t4nk4pj32'>John Burt by Frederick Upham Adams.</a></strong> by <em>Adams, Frederick Upham, 1859-1921.</em> (1905.0)&nbsp;&nbsp;&nbsp;OCLC 861676087 / ISBN 0665786638 / ISSN   / LCCN  "
      ],
      "text/plain": [
       "<IPython.core.display.HTML object>"
      ]
     },
     "metadata": {},
     "output_type": "display_data"
    },
    {
     "data": {
      "text/html": [
       "<strong><a href='coo1.ark:/13960/t18k7wn86'>The history of the Worshipful Company of the drapers of London; preceded by an introduction on London and her gilds up to the close of the XVth century. By Rev. A. H. Johnson.</a></strong> by <em>Johnson, A. H. 1845-1927.</em> (1914.0)&nbsp;&nbsp;&nbsp;OCLC 741984 / ISBN   / ISSN   / LCCN 15027918"
      ],
      "text/plain": [
       "<IPython.core.display.HTML object>"
      ]
     },
     "metadata": {},
     "output_type": "display_data"
    },
    {
     "data": {
      "text/html": [
       "<strong><a href='coo1.ark:/13960/t1gj0330h'>Europe in the sixteenth century, 1494-1598, by A.H. Johnson ...</a></strong> by <em>Johnson, A. H. 1845-1927.</em> (1898.0)&nbsp;&nbsp;&nbsp;OCLC 18711188 / ISBN   / ISSN   / LCCN  "
      ],
      "text/plain": [
       "<IPython.core.display.HTML object>"
      ]
     },
     "metadata": {},
     "output_type": "display_data"
    },
    {
     "data": {
      "text/html": [
       "<strong><a href='coo1.ark:/13960/t22b9kd45'>Europe in the sixteenth century, 1494-1598 / by A.H. Johnson.</a></strong> by <em>Johnson, A. H. 1845-1927.</em> (1909.0)&nbsp;&nbsp;&nbsp;OCLC 2516769 / ISBN   / ISSN   / LCCN  "
      ],
      "text/plain": [
       "<IPython.core.display.HTML object>"
      ]
     },
     "metadata": {},
     "output_type": "display_data"
    },
    {
     "data": {
      "text/html": [
       "<strong><a href='coo1.ark:/13960/t3611m02m'>The age of the enlightened despot, 1660-1789, by A. H. Johnson ... With eleven maps.</a></strong> by <em>Johnson, A. H. 1845-1927.</em> (1911.0)&nbsp;&nbsp;&nbsp;OCLC 592894 / ISBN   / ISSN   / LCCN  "
      ],
      "text/plain": [
       "<IPython.core.display.HTML object>"
      ]
     },
     "metadata": {},
     "output_type": "display_data"
    },
    {
     "data": {
      "text/html": [
       "<strong><a href='coo1.ark:/13960/t45q5hj99'>The history of the Worshipful Company of the drapers of London; preceded by an introduction on London and her gilds up to the close of the XVth century. By Rev. A. H. Johnson.</a></strong> by <em>Johnson, A. H. 1845-1927.</em> (1914.0)&nbsp;&nbsp;&nbsp;OCLC 741984 / ISBN   / ISSN   / LCCN 15027918"
      ],
      "text/plain": [
       "<IPython.core.display.HTML object>"
      ]
     },
     "metadata": {},
     "output_type": "display_data"
    },
    {
     "data": {
      "text/html": [
       "<strong><a href='coo1.ark:/13960/t4hm5th28'>The history of the Worshipful Company of the drapers of London; preceded by an introduction on London and her gilds up to the close of the XVth century. By Rev. A. H. Johnson.</a></strong> by <em>Johnson, A. H. 1845-1927.</em> (1914.0)&nbsp;&nbsp;&nbsp;OCLC 741984 / ISBN   / ISSN   / LCCN 15027918"
      ],
      "text/plain": [
       "<IPython.core.display.HTML object>"
      ]
     },
     "metadata": {},
     "output_type": "display_data"
    },
    {
     "data": {
      "text/html": [
       "<strong><a href='coo1.ark:/13960/t6446883p'>Europe in the sixteenth century, 1494-1598, by A.H. Johnson ...</a></strong> by <em>Johnson, A. H. 1845-1927.</em> (1903.0)&nbsp;&nbsp;&nbsp;OCLC 4041126 / ISBN   / ISSN   / LCCN  "
      ],
      "text/plain": [
       "<IPython.core.display.HTML object>"
      ]
     },
     "metadata": {},
     "output_type": "display_data"
    },
    {
     "data": {
      "text/html": [
       "<strong><a href='coo1.ark:/13960/t73v05c7n'>The history of the Worshipful Company of the drapers of London; preceded by an introduction on London and her gilds up to the close of the XVth century. By Rev. A. H. Johnson.</a></strong> by <em>Johnson, A. H. 1845-1927.</em> (1914.0)&nbsp;&nbsp;&nbsp;OCLC 741984 / ISBN   / ISSN   / LCCN 15027918"
      ],
      "text/plain": [
       "<IPython.core.display.HTML object>"
      ]
     },
     "metadata": {},
     "output_type": "display_data"
    },
    {
     "data": {
      "text/html": [
       "<strong><a href='coo1.ark:/13960/t9z03pr3p'>The disappearance of the small landowner / by Arthur H. Johnson.</a></strong> by <em>Johnson, A. H. 1845-1927.</em> (1909.0)&nbsp;&nbsp;&nbsp;OCLC 1592036 / ISBN   / ISSN   / LCCN 10007529"
      ],
      "text/plain": [
       "<IPython.core.display.HTML object>"
      ]
     },
     "metadata": {},
     "output_type": "display_data"
    },
    {
     "data": {
      "text/html": [
       "<strong><a href='hvd.32044046628004'>The disappearance of the small landowner / by Arthur H. Johnson.</a></strong> by <em>Johnson, A. H. 1845-1927.</em> (1909.0)&nbsp;&nbsp;&nbsp;OCLC 1592036 / ISBN   / ISSN   / LCCN 10007529"
      ],
      "text/plain": [
       "<IPython.core.display.HTML object>"
      ]
     },
     "metadata": {},
     "output_type": "display_data"
    },
    {
     "name": "stdout",
     "output_type": "stream",
     "text": [
      "\n",
      "\n"
     ]
    },
    {
     "data": {
      "text/html": [
       "<strong><a href='hvd.32044081326183'>History of the North-west. By Alexander Begg ...</a></strong> by <em>Begg, Alexander, 1839-1897.</em> (1895.0)&nbsp;&nbsp;&nbsp;OCLC 1964647 / ISBN   / ISSN   / LCCN 02001979 /rev."
      ],
      "text/plain": [
       "<IPython.core.display.HTML object>"
      ]
     },
     "metadata": {},
     "output_type": "display_data"
    },
    {
     "name": "stdout",
     "output_type": "stream",
     "text": [
      "====================\n",
      "79010\n"
     ]
    },
    {
     "data": {
      "text/html": [
       "<strong><a href='coo1.ark:/13960/t5j97c76g'>History of the North-west. By Alexander Begg ...</a></strong> by <em>Begg, Alexander, 1839-1897.</em> (1895.0)&nbsp;&nbsp;&nbsp;OCLC 1964647 / ISBN   / ISSN   / LCCN 02001979 /rev."
      ],
      "text/plain": [
       "<IPython.core.display.HTML object>"
      ]
     },
     "metadata": {},
     "output_type": "display_data"
    },
    {
     "data": {
      "text/html": [
       "<strong><a href='coo1.ark:/13960/t6tx4j57z'>History of the North-west. By Alexander Begg ...</a></strong> by <em>Begg, Alexander, 1839-1897.</em> (1895.0)&nbsp;&nbsp;&nbsp;OCLC 1964647 / ISBN   / ISSN   / LCCN 02001979 /rev."
      ],
      "text/plain": [
       "<IPython.core.display.HTML object>"
      ]
     },
     "metadata": {},
     "output_type": "display_data"
    },
    {
     "data": {
      "text/html": [
       "<strong><a href='coo1.ark:/13960/t84j1q413'>History of the North-west. By Alexander Begg ...</a></strong> by <em>Begg, Alexander, 1839-1897.</em> (1895.0)&nbsp;&nbsp;&nbsp;OCLC 1964647 / ISBN   / ISSN   / LCCN 02001979 /rev."
      ],
      "text/plain": [
       "<IPython.core.display.HTML object>"
      ]
     },
     "metadata": {},
     "output_type": "display_data"
    },
    {
     "data": {
      "text/html": [
       "<strong><a href='hvd.32044098661085'>History of the North-west. By Alexander Begg ...</a></strong> by <em>Begg, Alexander, 1839-1897.</em> (1895.0)&nbsp;&nbsp;&nbsp;OCLC 1964647 / ISBN   / ISSN   / LCCN 02001979 /rev."
      ],
      "text/plain": [
       "<IPython.core.display.HTML object>"
      ]
     },
     "metadata": {},
     "output_type": "display_data"
    },
    {
     "data": {
      "text/html": [
       "<strong><a href='hvd.32044098661101'>History of the North-west. By Alexander Begg ...</a></strong> by <em>Begg, Alexander, 1839-1897.</em> (1895.0)&nbsp;&nbsp;&nbsp;OCLC 1964647 / ISBN   / ISSN   / LCCN 02001979 /rev."
      ],
      "text/plain": [
       "<IPython.core.display.HTML object>"
      ]
     },
     "metadata": {},
     "output_type": "display_data"
    },
    {
     "data": {
      "text/html": [
       "<strong><a href='mdp.39015070266666'>History of the North-west. By Alexander Begg ...</a></strong> by <em>Begg, Alexander, 1839-1897.</em> (1895.0)&nbsp;&nbsp;&nbsp;OCLC 1964647 / ISBN   / ISSN   / LCCN 02001979 /rev."
      ],
      "text/plain": [
       "<IPython.core.display.HTML object>"
      ]
     },
     "metadata": {},
     "output_type": "display_data"
    },
    {
     "data": {
      "text/html": [
       "<strong><a href='mdp.39015070266674'>History of the North-west. By Alexander Begg ...</a></strong> by <em>Begg, Alexander, 1839-1897.</em> (1895.0)&nbsp;&nbsp;&nbsp;OCLC 1964647 / ISBN   / ISSN   / LCCN 02001979 /rev."
      ],
      "text/plain": [
       "<IPython.core.display.HTML object>"
      ]
     },
     "metadata": {},
     "output_type": "display_data"
    },
    {
     "data": {
      "text/html": [
       "<strong><a href='mdp.39015070266682'>History of the North-west. By Alexander Begg ...</a></strong> by <em>Begg, Alexander, 1839-1897.</em> (1895.0)&nbsp;&nbsp;&nbsp;OCLC 1964647 / ISBN   / ISSN   / LCCN 02001979 /rev."
      ],
      "text/plain": [
       "<IPython.core.display.HTML object>"
      ]
     },
     "metadata": {},
     "output_type": "display_data"
    },
    {
     "data": {
      "text/html": [
       "<strong><a href='uc1.$b723240'>History of the North-west. By Alexander Begg ...</a></strong> by <em>Begg, Alexander, 1839-1897.</em> (1895.0)&nbsp;&nbsp;&nbsp;OCLC 1964647 / ISBN   / ISSN   / LCCN 02001979 /rev."
      ],
      "text/plain": [
       "<IPython.core.display.HTML object>"
      ]
     },
     "metadata": {},
     "output_type": "display_data"
    },
    {
     "data": {
      "text/html": [
       "<strong><a href='uc1.$b723241'>History of the North-west. By Alexander Begg ...</a></strong> by <em>Begg, Alexander, 1839-1897.</em> (1895.0)&nbsp;&nbsp;&nbsp;OCLC 1964647 / ISBN   / ISSN   / LCCN 02001979 /rev."
      ],
      "text/plain": [
       "<IPython.core.display.HTML object>"
      ]
     },
     "metadata": {},
     "output_type": "display_data"
    },
    {
     "data": {
      "text/html": [
       "<strong><a href='yale.39002071239348'>History of the North-west. By Alexander Begg ...</a></strong> by <em>Begg, Alexander, 1839-1897.</em> (1895.0)&nbsp;&nbsp;&nbsp;OCLC 1964647 / ISBN   / ISSN   / LCCN 02001979 /rev."
      ],
      "text/plain": [
       "<IPython.core.display.HTML object>"
      ]
     },
     "metadata": {},
     "output_type": "display_data"
    },
    {
     "data": {
      "text/html": [
       "<strong><a href='nyp.33433067359376'>Three years in the Klondike, by Jeremiah Lynch ....</a></strong> by <em>Lynch, Jeremiah, 1849-1917.</em> (1904.0)&nbsp;&nbsp;&nbsp;OCLC 3636930 / ISBN   / ISSN   / LCCN 04021651 //r85"
      ],
      "text/plain": [
       "<IPython.core.display.HTML object>"
      ]
     },
     "metadata": {},
     "output_type": "display_data"
    },
    {
     "data": {
      "text/html": [
       "<strong><a href='uc1.$b630596'>Three years in the Klondike, by Jeremiah Lynch ....</a></strong> by <em>Lynch, Jeremiah, 1849-1917.</em> (1904.0)&nbsp;&nbsp;&nbsp;OCLC 3636930 / ISBN   / ISSN   / LCCN 04021651 //r85"
      ],
      "text/plain": [
       "<IPython.core.display.HTML object>"
      ]
     },
     "metadata": {},
     "output_type": "display_data"
    },
    {
     "data": {
      "text/html": [
       "<strong><a href='hvd.32044081331878'>Three years in the Klondike, by Jeremiah Lynch ....</a></strong> by <em>Lynch, Jeremiah, 1849-1917.</em> (1904.0)&nbsp;&nbsp;&nbsp;OCLC 3636930 / ISBN   / ISSN   / LCCN 04021651 //r85"
      ],
      "text/plain": [
       "<IPython.core.display.HTML object>"
      ]
     },
     "metadata": {},
     "output_type": "display_data"
    },
    {
     "data": {
      "text/html": [
       "<strong><a href='mdp.39015027940009'>Three years in the Klondike / Edited by Dale L. Morgan.</a></strong> by <em>Lynch, Jeremiah, 1849-1917.</em> (1967.0)&nbsp;&nbsp;&nbsp;OCLC 391542 / ISBN   / ISSN   / LCCN 68000770"
      ],
      "text/plain": [
       "<IPython.core.display.HTML object>"
      ]
     },
     "metadata": {},
     "output_type": "display_data"
    },
    {
     "data": {
      "text/html": [
       "<strong><a href='uva.x000455245'>Three years in the Klondike / Edited by Dale L. Morgan.</a></strong> by <em>Lynch, Jeremiah, 1849-1917.</em> (1967.0)&nbsp;&nbsp;&nbsp;OCLC 391542 / ISBN   / ISSN   / LCCN 68000770"
      ],
      "text/plain": [
       "<IPython.core.display.HTML object>"
      ]
     },
     "metadata": {},
     "output_type": "display_data"
    },
    {
     "data": {
      "text/html": [
       "<strong><a href='aeu.ark:/13960/t2f77h56s'>The great North-West of Canada</a></strong> by <em>Begg, Alexander, 1839-1897.</em> (1885.0)&nbsp;&nbsp;&nbsp;OCLC 861483777 / ISBN 0665583540 / ISSN   / LCCN  "
      ],
      "text/plain": [
       "<IPython.core.display.HTML object>"
      ]
     },
     "metadata": {},
     "output_type": "display_data"
    },
    {
     "data": {
      "text/html": [
       "<strong><a href='aeu.ark:/13960/t3902tb31'>History of the North-West by Alexander Begg.</a></strong> by <em>Begg, Alexander, 1839-1897.</em> (1894.0)&nbsp;&nbsp;&nbsp;OCLC 719963837 / ISBN 0665300271 (v. 1) / ISSN   / LCCN  "
      ],
      "text/plain": [
       "<IPython.core.display.HTML object>"
      ]
     },
     "metadata": {},
     "output_type": "display_data"
    },
    {
     "data": {
      "text/html": [
       "<strong><a href='aeu.ark:/13960/t56d6jb9w'>History of the North-West by Alexander Begg.</a></strong> by <em>Begg, Alexander, 1839-1897.</em> (1895.0)&nbsp;&nbsp;&nbsp;OCLC 719963860 / ISBN 0665300298 (v. 3) / ISSN   / LCCN  "
      ],
      "text/plain": [
       "<IPython.core.display.HTML object>"
      ]
     },
     "metadata": {},
     "output_type": "display_data"
    },
    {
     "data": {
      "text/html": [
       "<strong><a href='aeu.ark:/13960/t6rx9zd8t'>History of the North-West by Alexander Begg.</a></strong> by <em>Begg, Alexander, 1839-1897.</em> (1894.0)&nbsp;&nbsp;&nbsp;OCLC 719963837 / ISBN 0665300271 (v. 1) / ISSN   / LCCN  "
      ],
      "text/plain": [
       "<IPython.core.display.HTML object>"
      ]
     },
     "metadata": {},
     "output_type": "display_data"
    },
    {
     "data": {
      "text/html": [
       "<strong><a href='hvd.32044081303471'>The creation of Manitoba, or, A history of the Red river troubles / by Alexander Begg.</a></strong> by <em>Begg, Alexander, 1839-1897.</em> (1871.0)&nbsp;&nbsp;&nbsp;OCLC 13850700,3866857 / ISBN   / ISSN   / LCCN 01006701 //r"
      ],
      "text/plain": [
       "<IPython.core.display.HTML object>"
      ]
     },
     "metadata": {},
     "output_type": "display_data"
    },
    {
     "data": {
      "text/html": [
       "<strong><a href='hvd.32044081326183'>History of the North-west. By Alexander Begg ...</a></strong> by <em>Begg, Alexander, 1839-1897.</em> (1895.0)&nbsp;&nbsp;&nbsp;OCLC 1964647 / ISBN   / ISSN   / LCCN 02001979 /rev."
      ],
      "text/plain": [
       "<IPython.core.display.HTML object>"
      ]
     },
     "metadata": {},
     "output_type": "display_data"
    },
    {
     "data": {
      "text/html": [
       "<strong><a href='hvd.hnpu1k'>Ten years in Winnipeg. A narration of the principal events in the history of the city of Winnipeg from the year A.D. 1870 to the year A.D. 1879, inclusive, by Alexander Begg, and Walter R. Nursey.</a></strong> by <em>Begg, Alexander, 1839-1897.</em> (1879.0)&nbsp;&nbsp;&nbsp;OCLC 4519290 / ISBN   / ISSN   / LCCN 02019241 //r38"
      ],
      "text/plain": [
       "<IPython.core.display.HTML object>"
      ]
     },
     "metadata": {},
     "output_type": "display_data"
    },
    {
     "data": {
      "text/html": [
       "<strong><a href='hvd.hwqw3p'>Dot it down : a story of life in the Northwest / by Alexander Begg.</a></strong> by <em>Begg, Alexander, 1839-1897.</em> (1871.0)&nbsp;&nbsp;&nbsp;OCLC 10546257,13850706 / ISBN   / ISSN   / LCCN nuc87340355"
      ],
      "text/plain": [
       "<IPython.core.display.HTML object>"
      ]
     },
     "metadata": {},
     "output_type": "display_data"
    },
    {
     "data": {
      "text/html": [
       "<strong><a href='inu.32000009306038'>The great Canadian North West: its past history, present condition, and glorious prospects. By Alexander Begg.</a></strong> by <em>Begg, Alexander, 1839-1897.</em> (1881.0)&nbsp;&nbsp;&nbsp;OCLC 10044950 / ISBN   / ISSN   / LCCN 07032888 //r"
      ],
      "text/plain": [
       "<IPython.core.display.HTML object>"
      ]
     },
     "metadata": {},
     "output_type": "display_data"
    },
    {
     "data": {
      "text/html": [
       "<strong><a href='mdp.39015027929556'>The creation of Manitoba:</a></strong> by <em>Begg, Alexander, 1839-1897.</em> (1871.0)&nbsp;&nbsp;&nbsp;OCLC 3866857 / ISBN   / ISSN   / LCCN 01006701"
      ],
      "text/plain": [
       "<IPython.core.display.HTML object>"
      ]
     },
     "metadata": {},
     "output_type": "display_data"
    },
    {
     "name": "stdout",
     "output_type": "stream",
     "text": [
      "\n",
      "\n"
     ]
    },
    {
     "data": {
      "text/html": [
       "<strong><a href='uiuo.ark:/13960/t13n26h0h'>Lincoln's own stories.</a></strong> by <em>Gross, Anthony, 1862-</em> (1912.0)&nbsp;&nbsp;&nbsp;OCLC 41396007 / ISBN   / ISSN   / LCCN 53050778"
      ],
      "text/plain": [
       "<IPython.core.display.HTML object>"
      ]
     },
     "metadata": {},
     "output_type": "display_data"
    },
    {
     "name": "stdout",
     "output_type": "stream",
     "text": [
      "====================\n",
      "128058\n"
     ]
    },
    {
     "data": {
      "text/html": [
       "<strong><a href='coo1.ark:/13960/t5k93s21k'>Lincoln's own stories.</a></strong> by <em>Gross, Anthony, 1862-</em> (1912.0)&nbsp;&nbsp;&nbsp;OCLC 41396007 / ISBN   / ISSN   / LCCN 53050778"
      ],
      "text/plain": [
       "<IPython.core.display.HTML object>"
      ]
     },
     "metadata": {},
     "output_type": "display_data"
    },
    {
     "data": {
      "text/html": [
       "<strong><a href='mdp.39015001947897'>Lincoln's own stories.</a></strong> by <em>Gross, Anthony, 1862-</em> (1912.0)&nbsp;&nbsp;&nbsp;OCLC 41396007 / ISBN   / ISSN   / LCCN 53050778"
      ],
      "text/plain": [
       "<IPython.core.display.HTML object>"
      ]
     },
     "metadata": {},
     "output_type": "display_data"
    },
    {
     "data": {
      "text/html": [
       "<strong><a href='uiuo.ark:/13960/t13n41b2x'>UST cumulative index 1971-75 : cummulative index to United States treaties and other international agreements 1971-1975 : 22 UST-26 UST, TIAS nos. 7035-8224 / compiled by Igor I. Kavass and Adolf Sprudzs.</a></strong> by <em>Kavass, Igor I.</em> (1977.0)&nbsp;&nbsp;&nbsp;OCLC 11964666 / ISBN   / ISSN   / LCCN  "
      ],
      "text/plain": [
       "<IPython.core.display.HTML object>"
      ]
     },
     "metadata": {},
     "output_type": "display_data"
    },
    {
     "data": {
      "text/html": [
       "<strong><a href='uiuo.ark:/13960/t7vm6458q'>UST cumulative index 1971-75 : cummulative index to United States treaties and other international agreements 1971-1975 : 22 UST-26 UST, TIAS nos. 7035-8224 / compiled by Igor I. Kavass and Adolf Sprudzs.</a></strong> by <em>Kavass, Igor I.</em> (1977.0)&nbsp;&nbsp;&nbsp;OCLC 11964666 / ISBN   / ISSN   / LCCN  "
      ],
      "text/plain": [
       "<IPython.core.display.HTML object>"
      ]
     },
     "metadata": {},
     "output_type": "display_data"
    },
    {
     "data": {
      "text/html": [
       "<strong><a href='uiuo.ark:/13960/t5db9ww5k'>UST cumulative index 1971-75 : cummulative index to United States treaties and other international agreements 1971-1975 : 22 UST-26 UST, TIAS nos. 7035-8224 / compiled by Igor I. Kavass and Adolf Sprudzs.</a></strong> by <em>Kavass, Igor I.</em> (1977.0)&nbsp;&nbsp;&nbsp;OCLC 11964666 / ISBN   / ISSN   / LCCN  "
      ],
      "text/plain": [
       "<IPython.core.display.HTML object>"
      ]
     },
     "metadata": {},
     "output_type": "display_data"
    },
    {
     "data": {
      "text/html": [
       "<strong><a href='uiuo.ark:/13960/t42r5q19g'>UST cumulative index 1971-75 : cummulative index to United States treaties and other international agreements 1971-1975 : 22 UST-26 UST, TIAS nos. 7035-8224 / compiled by Igor I. Kavass and Adolf Sprudzs.</a></strong> by <em>Kavass, Igor I.</em> (1977.0)&nbsp;&nbsp;&nbsp;OCLC 11964666 / ISBN   / ISSN   / LCCN  "
      ],
      "text/plain": [
       "<IPython.core.display.HTML object>"
      ]
     },
     "metadata": {},
     "output_type": "display_data"
    },
    {
     "data": {
      "text/html": [
       "<strong><a href='uiuo.ark:/13960/t2t45k060'>UST cumulative index 1971-75 : cummulative index to United States treaties and other international agreements 1971-1975 : 22 UST-26 UST, TIAS nos. 7035-8224 / compiled by Igor I. Kavass and Adolf Sprudzs.</a></strong> by <em>Kavass, Igor I.</em> (1977.0)&nbsp;&nbsp;&nbsp;OCLC 11964666 / ISBN   / ISSN   / LCCN  "
      ],
      "text/plain": [
       "<IPython.core.display.HTML object>"
      ]
     },
     "metadata": {},
     "output_type": "display_data"
    },
    {
     "data": {
      "text/html": [
       "<strong><a href='uiuo.ark:/13960/t6350hr3m'>UST cumulative index 1971-75 : cummulative index to United States treaties and other international agreements 1971-1975 : 22 UST-26 UST, TIAS nos. 7035-8224 / compiled by Igor I. Kavass and Adolf Sprudzs.</a></strong> by <em>Kavass, Igor I.</em> (1977.0)&nbsp;&nbsp;&nbsp;OCLC 11964666 / ISBN   / ISSN   / LCCN  "
      ],
      "text/plain": [
       "<IPython.core.display.HTML object>"
      ]
     },
     "metadata": {},
     "output_type": "display_data"
    },
    {
     "data": {
      "text/html": [
       "<strong><a href='uiuo.ark:/13960/t57d4rd6c'>UST cumulative index 1971-75 : cummulative index to United States treaties and other international agreements 1971-1975 : 22 UST-26 UST, TIAS nos. 7035-8224 / compiled by Igor I. Kavass and Adolf Sprudzs.</a></strong> by <em>Kavass, Igor I.</em> (1977.0)&nbsp;&nbsp;&nbsp;OCLC 11964666 / ISBN   / ISSN   / LCCN  "
      ],
      "text/plain": [
       "<IPython.core.display.HTML object>"
      ]
     },
     "metadata": {},
     "output_type": "display_data"
    },
    {
     "data": {
      "text/html": [
       "<strong><a href='uiuo.ark:/13960/t13n41c2c'>UST cumulative index 1971-75 : cummulative index to United States treaties and other international agreements 1971-1975 : 22 UST-26 UST, TIAS nos. 7035-8224 / compiled by Igor I. Kavass and Adolf Sprudzs.</a></strong> by <em>Kavass, Igor I.</em> (1977.0)&nbsp;&nbsp;&nbsp;OCLC 11964666 / ISBN   / ISSN   / LCCN  "
      ],
      "text/plain": [
       "<IPython.core.display.HTML object>"
      ]
     },
     "metadata": {},
     "output_type": "display_data"
    },
    {
     "data": {
      "text/html": [
       "<strong><a href='uiuo.ark:/13960/t0ht4h553'>UST cumulative index 1971-75 : cummulative index to United States treaties and other international agreements 1971-1975 : 22 UST-26 UST, TIAS nos. 7035-8224 / compiled by Igor I. Kavass and Adolf Sprudzs.</a></strong> by <em>Kavass, Igor I.</em> (1977.0)&nbsp;&nbsp;&nbsp;OCLC 11964666 / ISBN   / ISSN   / LCCN  "
      ],
      "text/plain": [
       "<IPython.core.display.HTML object>"
      ]
     },
     "metadata": {},
     "output_type": "display_data"
    },
    {
     "data": {
      "text/html": [
       "<strong><a href='uiuo.ark:/13960/t3806zm6x'>UST cumulative index 1971-75 : cummulative index to United States treaties and other international agreements 1971-1975 : 22 UST-26 UST, TIAS nos. 7035-8224 / compiled by Igor I. Kavass and Adolf Sprudzs.</a></strong> by <em>Kavass, Igor I.</em> (1977.0)&nbsp;&nbsp;&nbsp;OCLC 11964666 / ISBN   / ISSN   / LCCN  "
      ],
      "text/plain": [
       "<IPython.core.display.HTML object>"
      ]
     },
     "metadata": {},
     "output_type": "display_data"
    },
    {
     "data": {
      "text/html": [
       "<strong><a href='uiuo.ark:/13960/t8ff5nc06'>UST cumulative index 1971-75 : cummulative index to United States treaties and other international agreements 1971-1975 : 22 UST-26 UST, TIAS nos. 7035-8224 / compiled by Igor I. Kavass and Adolf Sprudzs.</a></strong> by <em>Kavass, Igor I.</em> (1977.0)&nbsp;&nbsp;&nbsp;OCLC 11964666 / ISBN   / ISSN   / LCCN  "
      ],
      "text/plain": [
       "<IPython.core.display.HTML object>"
      ]
     },
     "metadata": {},
     "output_type": "display_data"
    },
    {
     "data": {
      "text/html": [
       "<strong><a href='uiuo.ark:/13960/t3127rc1s'>UST cumulative index 1971-75 : cummulative index to United States treaties and other international agreements 1971-1975 : 22 UST-26 UST, TIAS nos. 7035-8224 / compiled by Igor I. Kavass and Adolf Sprudzs.</a></strong> by <em>Kavass, Igor I.</em> (1977.0)&nbsp;&nbsp;&nbsp;OCLC 11964666 / ISBN   / ISSN   / LCCN  "
      ],
      "text/plain": [
       "<IPython.core.display.HTML object>"
      ]
     },
     "metadata": {},
     "output_type": "display_data"
    },
    {
     "data": {
      "text/html": [
       "<strong><a href='uiuo.ark:/13960/t3224s811'>UST cumulative index 1971-75 : cummulative index to United States treaties and other international agreements 1971-1975 : 22 UST-26 UST, TIAS nos. 7035-8224 / compiled by Igor I. Kavass and Adolf Sprudzs.</a></strong> by <em>Kavass, Igor I.</em> (1977.0)&nbsp;&nbsp;&nbsp;OCLC 11964666 / ISBN   / ISSN   / LCCN  "
      ],
      "text/plain": [
       "<IPython.core.display.HTML object>"
      ]
     },
     "metadata": {},
     "output_type": "display_data"
    },
    {
     "data": {
      "text/html": [
       "<strong><a href='uiuo.ark:/13960/t3gx65w5p'>UST cumulative index 1971-75 : cummulative index to United States treaties and other international agreements 1971-1975 : 22 UST-26 UST, TIAS nos. 7035-8224 / compiled by Igor I. Kavass and Adolf Sprudzs.</a></strong> by <em>Kavass, Igor I.</em> (1977.0)&nbsp;&nbsp;&nbsp;OCLC 11964666 / ISBN   / ISSN   / LCCN  "
      ],
      "text/plain": [
       "<IPython.core.display.HTML object>"
      ]
     },
     "metadata": {},
     "output_type": "display_data"
    },
    {
     "data": {
      "text/html": [
       "<strong><a href='uiuo.ark:/13960/t0fv0fc55'>UST cumulative index 1971-75 : cummulative index to United States treaties and other international agreements 1971-1975 : 22 UST-26 UST, TIAS nos. 7035-8224 / compiled by Igor I. Kavass and Adolf Sprudzs.</a></strong> by <em>Kavass, Igor I.</em> (1977.0)&nbsp;&nbsp;&nbsp;OCLC 11964666 / ISBN   / ISSN   / LCCN  "
      ],
      "text/plain": [
       "<IPython.core.display.HTML object>"
      ]
     },
     "metadata": {},
     "output_type": "display_data"
    },
    {
     "data": {
      "text/html": [
       "<strong><a href='uiuo.ark:/13960/t9s19v644'>UST cumulative index 1971-75 : cummulative index to United States treaties and other international agreements 1971-1975 : 22 UST-26 UST, TIAS nos. 7035-8224 / compiled by Igor I. Kavass and Adolf Sprudzs.</a></strong> by <em>Kavass, Igor I.</em> (1977.0)&nbsp;&nbsp;&nbsp;OCLC 11964666 / ISBN   / ISSN   / LCCN  "
      ],
      "text/plain": [
       "<IPython.core.display.HTML object>"
      ]
     },
     "metadata": {},
     "output_type": "display_data"
    },
    {
     "data": {
      "text/html": [
       "<strong><a href='uiuo.ark:/13960/t14n1273n'>UST cumulative index 1971-75 : cummulative index to United States treaties and other international agreements 1971-1975 : 22 UST-26 UST, TIAS nos. 7035-8224 / compiled by Igor I. Kavass and Adolf Sprudzs.</a></strong> by <em>Kavass, Igor I.</em> (1977.0)&nbsp;&nbsp;&nbsp;OCLC 11964666 / ISBN   / ISSN   / LCCN  "
      ],
      "text/plain": [
       "<IPython.core.display.HTML object>"
      ]
     },
     "metadata": {},
     "output_type": "display_data"
    },
    {
     "data": {
      "text/html": [
       "<strong><a href='uiuo.ark:/13960/t5q835x0r'>UST cumulative index 1971-75 : cummulative index to United States treaties and other international agreements 1971-1975 : 22 UST-26 UST, TIAS nos. 7035-8224 / compiled by Igor I. Kavass and Adolf Sprudzs.</a></strong> by <em>Kavass, Igor I.</em> (1977.0)&nbsp;&nbsp;&nbsp;OCLC 11964666 / ISBN   / ISSN   / LCCN  "
      ],
      "text/plain": [
       "<IPython.core.display.HTML object>"
      ]
     },
     "metadata": {},
     "output_type": "display_data"
    },
    {
     "data": {
      "text/html": [
       "<strong><a href='uc1.b4517085'>UST cumulative index. Supplement 2 : cumulative index to United States treaties and other international agreements, [1976-1979] : 27 UST-31 UST, TIAS nos. 8225-9697 / compiled by Igor I. Kavass and Adolf Sprudzs.</a></strong> by <em>Kavass, Igor I.</em> (1985.0)&nbsp;&nbsp;&nbsp;OCLC 12661353 / ISBN 0930342011 / ISSN   / LCCN  "
      ],
      "text/plain": [
       "<IPython.core.display.HTML object>"
      ]
     },
     "metadata": {},
     "output_type": "display_data"
    },
    {
     "data": {
      "text/html": [
       "<strong><a href='hvd.hwwuub'>Lincoln's own stories, collected and ed. by Anthony Gross.</a></strong> by <em>Gross, Anthony, 1862-</em> (1912.0)&nbsp;&nbsp;&nbsp;OCLC 2821729 / ISBN   / ISSN   / LCCN 12025336"
      ],
      "text/plain": [
       "<IPython.core.display.HTML object>"
      ]
     },
     "metadata": {},
     "output_type": "display_data"
    },
    {
     "data": {
      "text/html": [
       "<strong><a href='mdp.39015026643430'>Lincoln's own stories, collected and ed. by Anthony Gross.</a></strong> by <em>Gross, Anthony, 1862-</em> (1912.0)&nbsp;&nbsp;&nbsp;OCLC 2821729 / ISBN   / ISSN   / LCCN 12025336"
      ],
      "text/plain": [
       "<IPython.core.display.HTML object>"
      ]
     },
     "metadata": {},
     "output_type": "display_data"
    },
    {
     "data": {
      "text/html": [
       "<strong><a href='nyp.33433082337456'>Lincoln's own stories, collected and ed. by Anthony Gross.</a></strong> by <em>Gross, Anthony, 1862-</em> (1912.0)&nbsp;&nbsp;&nbsp;OCLC 2821729 / ISBN   / ISSN   / LCCN 12025336"
      ],
      "text/plain": [
       "<IPython.core.display.HTML object>"
      ]
     },
     "metadata": {},
     "output_type": "display_data"
    },
    {
     "data": {
      "text/html": [
       "<strong><a href='pst.000028192374'>Lincoln's own stories / collected and ed. by Anthony Gross.</a></strong> by <em>Gross, Anthony, 1862-</em> (1912.0)&nbsp;&nbsp;&nbsp;OCLC   / ISBN   / ISSN   / LCCN  "
      ],
      "text/plain": [
       "<IPython.core.display.HTML object>"
      ]
     },
     "metadata": {},
     "output_type": "display_data"
    },
    {
     "data": {
      "text/html": [
       "<strong><a href='uc1.$b540301'>Lincoln's own stories, collected and ed. by Anthony Gross.</a></strong> by <em>Gross, Anthony, 1862-</em> (1912.0)&nbsp;&nbsp;&nbsp;OCLC 2821729 / ISBN   / ISSN   / LCCN 12025336"
      ],
      "text/plain": [
       "<IPython.core.display.HTML object>"
      ]
     },
     "metadata": {},
     "output_type": "display_data"
    },
    {
     "data": {
      "text/html": [
       "<strong><a href='uc1.b3286407'>Lincoln's own stories, collected and ed. by Anthony Gross.</a></strong> by <em>Gross, Anthony, 1862-</em> (1912.0)&nbsp;&nbsp;&nbsp;OCLC 2821729 / ISBN   / ISSN   / LCCN 12025336"
      ],
      "text/plain": [
       "<IPython.core.display.HTML object>"
      ]
     },
     "metadata": {},
     "output_type": "display_data"
    },
    {
     "data": {
      "text/html": [
       "<strong><a href='uc1.b4400575'>Lincoln's own stories, collected and ed. by Anthony Gross.</a></strong> by <em>Gross, Anthony, 1862-</em> (1912.0)&nbsp;&nbsp;&nbsp;OCLC 2821729 / ISBN   / ISSN   / LCCN 12025336"
      ],
      "text/plain": [
       "<IPython.core.display.HTML object>"
      ]
     },
     "metadata": {},
     "output_type": "display_data"
    },
    {
     "data": {
      "text/html": [
       "<strong><a href='uc2.ark:/13960/t3rv0dd9r'>Lincoln's own stories, collected and ed. by Anthony Gross.</a></strong> by <em>Gross, Anthony, 1862-</em> (1912.0)&nbsp;&nbsp;&nbsp;OCLC 2821729 / ISBN   / ISSN   / LCCN 12025336"
      ],
      "text/plain": [
       "<IPython.core.display.HTML object>"
      ]
     },
     "metadata": {},
     "output_type": "display_data"
    },
    {
     "data": {
      "text/html": [
       "<strong><a href='uiuo.ark:/13960/t13n26h0h'>Lincoln's own stories.</a></strong> by <em>Gross, Anthony, 1862-</em> (1912.0)&nbsp;&nbsp;&nbsp;OCLC 41396007 / ISBN   / ISSN   / LCCN 53050778"
      ],
      "text/plain": [
       "<IPython.core.display.HTML object>"
      ]
     },
     "metadata": {},
     "output_type": "display_data"
    },
    {
     "name": "stdout",
     "output_type": "stream",
     "text": [
      "\n",
      "\n"
     ]
    },
    {
     "data": {
      "text/html": [
       "<strong><a href='mdp.39015047625069'>An elementary course of civil engineering, for the use of cadets of the United States' Military Academy / by D.H. Mahan.</a></strong> by <em>Mahan, D. H. 1802-1871.</em> (1861.0)&nbsp;&nbsp;&nbsp;OCLC 15860909 / ISBN   / ISSN   / LCCN  "
      ],
      "text/plain": [
       "<IPython.core.display.HTML object>"
      ]
     },
     "metadata": {},
     "output_type": "display_data"
    },
    {
     "name": "stdout",
     "output_type": "stream",
     "text": [
      "====================\n",
      "19832\n"
     ]
    },
    {
     "data": {
      "text/html": [
       "<strong><a href='uc2.ark:/13960/t58c9td05'>An elementary course of civil engineering, for the use of cadets of the United States' Military Academy / by D.H. Mahan.</a></strong> by <em>Mahan, D. H. 1802-1871.</em> (1861.0)&nbsp;&nbsp;&nbsp;OCLC 15860909 / ISBN   / ISSN   / LCCN  "
      ],
      "text/plain": [
       "<IPython.core.display.HTML object>"
      ]
     },
     "metadata": {},
     "output_type": "display_data"
    },
    {
     "data": {
      "text/html": [
       "<strong><a href='hvd.32044091840736'>An elementary course of civil engineering : for the use of the cadets of the United States' Military academy / By D. H. Mahan.</a></strong> by <em>Mahan, D. H. 1802-1871.</em> (1837.0)&nbsp;&nbsp;&nbsp;OCLC 475385,6764522 / ISBN   / ISSN   / LCCN 03003378"
      ],
      "text/plain": [
       "<IPython.core.display.HTML object>"
      ]
     },
     "metadata": {},
     "output_type": "display_data"
    },
    {
     "data": {
      "text/html": [
       "<strong><a href='hvd.32044091995027'>An elementary course of civil engineering for the use of cadets of the United States' military academy, by D.H. Mahan.</a></strong> by <em>Mahan, D. H. 1802-1871.</em> (1852.0)&nbsp;&nbsp;&nbsp;OCLC 3764757 / ISBN   / ISSN   / LCCN 03003380"
      ],
      "text/plain": [
       "<IPython.core.display.HTML object>"
      ]
     },
     "metadata": {},
     "output_type": "display_data"
    },
    {
     "data": {
      "text/html": [
       "<strong><a href='hvd.hn5ixu'>An elementary course of civil engineering for the use of cadets of the United States' military academy.</a></strong> by <em>Mahan, D. H. 1802-1871.</em> (1863.0)&nbsp;&nbsp;&nbsp;OCLC 235888341 / ISBN   / ISSN   / LCCN  "
      ],
      "text/plain": [
       "<IPython.core.display.HTML object>"
      ]
     },
     "metadata": {},
     "output_type": "display_data"
    },
    {
     "data": {
      "text/html": [
       "<strong><a href='mdp.39015051097452'>An elementary course of civil engineering, for the use of cadets of the United States Military Academy. By D.H. Mahan ...</a></strong> by <em>Mahan, D. H. 1802-1871.</em> (1846.0)&nbsp;&nbsp;&nbsp;OCLC 8872072 / ISBN   / ISSN   / LCCN 03003377"
      ],
      "text/plain": [
       "<IPython.core.display.HTML object>"
      ]
     },
     "metadata": {},
     "output_type": "display_data"
    },
    {
     "data": {
      "text/html": [
       "<strong><a href='mdp.39015067184443'>An elementary course of civil engineering, for the use of cadets of the United States' military academy. By D. H. Mahan ...</a></strong> by <em>Mahan, D. H. 1802-1871.</em> (1871.0)&nbsp;&nbsp;&nbsp;OCLC 2957881 / ISBN   / ISSN   / LCCN  "
      ],
      "text/plain": [
       "<IPython.core.display.HTML object>"
      ]
     },
     "metadata": {},
     "output_type": "display_data"
    },
    {
     "data": {
      "text/html": [
       "<strong><a href='mdp.39015067184591'>An elementary course of civil engineering, for the use of the cadets of the United States military academy. By D. H. Mahan.</a></strong> by <em>Mahan, D. H. 1802-1871.</em> (1846.0)&nbsp;&nbsp;&nbsp;OCLC 8872072 / ISBN   / ISSN   / LCCN 03003377"
      ],
      "text/plain": [
       "<IPython.core.display.HTML object>"
      ]
     },
     "metadata": {},
     "output_type": "display_data"
    },
    {
     "data": {
      "text/html": [
       "<strong><a href='miun.ajq6756.0001.001'>An elementary course of civil engineering, for the use of cadets of the United States' military academy. By D. H. Mahan ...</a></strong> by <em>Mahan, D. H. 1802-1871.</em> (1871.0)&nbsp;&nbsp;&nbsp;OCLC 2957881 / ISBN   / ISSN   / LCCN  "
      ],
      "text/plain": [
       "<IPython.core.display.HTML object>"
      ]
     },
     "metadata": {},
     "output_type": "display_data"
    },
    {
     "data": {
      "text/html": [
       "<strong><a href='nnc1.cu50540513'>An elementary course of civil engineering, for the use of the cadets of the U.S. military academy.</a></strong> by <em>Mahan, D. H. 1802-1871.</em> (1871.0)&nbsp;&nbsp;&nbsp;OCLC 20848694 / ISBN   / ISSN   / LCCN  "
      ],
      "text/plain": [
       "<IPython.core.display.HTML object>"
      ]
     },
     "metadata": {},
     "output_type": "display_data"
    },
    {
     "data": {
      "text/html": [
       "<strong><a href='nyp.33433062629120'>An elementary course of civil engineering, for the use of cadets of the United States' Military Academy. By D. H. Mahan.</a></strong> by <em>Mahan, D. H. 1802-1871.</em> (1857.0)&nbsp;&nbsp;&nbsp;OCLC 3213334 / ISBN   / ISSN   / LCCN  "
      ],
      "text/plain": [
       "<IPython.core.display.HTML object>"
      ]
     },
     "metadata": {},
     "output_type": "display_data"
    },
    {
     "data": {
      "text/html": [
       "<strong><a href='nyp.33433062629138'>An elementary course of civil engineering, for the use of cadets of the United States' Military Academy.</a></strong> by <em>Mahan, D. H. 1802-1871.</em> (1872.0)&nbsp;&nbsp;&nbsp;OCLC 39719137 / ISBN   / ISSN   / LCCN  "
      ],
      "text/plain": [
       "<IPython.core.display.HTML object>"
      ]
     },
     "metadata": {},
     "output_type": "display_data"
    },
    {
     "data": {
      "text/html": [
       "<strong><a href='nyp.33433066365515'>An elementary course of civil engineering : for the use of the cadets of the United States' Military academy / By D. H. Mahan.</a></strong> by <em>Mahan, D. H. 1802-1871.</em> (1837.0)&nbsp;&nbsp;&nbsp;OCLC 475385,6764522 / ISBN   / ISSN   / LCCN 03003378"
      ],
      "text/plain": [
       "<IPython.core.display.HTML object>"
      ]
     },
     "metadata": {},
     "output_type": "display_data"
    },
    {
     "data": {
      "text/html": [
       "<strong><a href='nyp.33433087553354'>An elementary course of civil engineering, for the use of the cadets of the United States' Military Academy. By D. H. Mahan.</a></strong> by <em>Mahan, D. H. 1802-1871.</em> (1838.0)&nbsp;&nbsp;&nbsp;OCLC 3213319 / ISBN   / ISSN   / LCCN  "
      ],
      "text/plain": [
       "<IPython.core.display.HTML object>"
      ]
     },
     "metadata": {},
     "output_type": "display_data"
    },
    {
     "data": {
      "text/html": [
       "<strong><a href='nyp.33433087553362'>An elementary course of civil engineering for the use of cadets of the United States' military academy, by D.H. Mahan.</a></strong> by <em>Mahan, D. H. 1802-1871.</em> (1852.0)&nbsp;&nbsp;&nbsp;OCLC 3764757 / ISBN   / ISSN   / LCCN 03003380"
      ],
      "text/plain": [
       "<IPython.core.display.HTML object>"
      ]
     },
     "metadata": {},
     "output_type": "display_data"
    },
    {
     "data": {
      "text/html": [
       "<strong><a href='nyp.33433087553370'>An elementary course of civil engineering, for the use of cadets of the United States Military Academy. By D.H. Mahan ...</a></strong> by <em>Mahan, D. H. 1802-1871.</em> (1846.0)&nbsp;&nbsp;&nbsp;OCLC 8872072 / ISBN   / ISSN   / LCCN 03003377"
      ],
      "text/plain": [
       "<IPython.core.display.HTML object>"
      ]
     },
     "metadata": {},
     "output_type": "display_data"
    },
    {
     "data": {
      "text/html": [
       "<strong><a href='nyp.33433087553388'>An elementary course of civil engineering, for the use of cadets of the United States' military academy, by D. H. Mahan.</a></strong> by <em>Mahan, D. H. 1802-1871.</em> (1854.0)&nbsp;&nbsp;&nbsp;OCLC 2413571 / ISBN   / ISSN   / LCCN 17025049"
      ],
      "text/plain": [
       "<IPython.core.display.HTML object>"
      ]
     },
     "metadata": {},
     "output_type": "display_data"
    },
    {
     "data": {
      "text/html": [
       "<strong><a href='nyp.33433087553396'>An elementary course of civil engineering for the use of cadets of the United States' Military Academy, By D.H. Mahan ...</a></strong> by <em>Mahan, D. H. 1802-1871.</em> (1861.0)&nbsp;&nbsp;&nbsp;OCLC 35777806 / ISBN   / ISSN   / LCCN  "
      ],
      "text/plain": [
       "<IPython.core.display.HTML object>"
      ]
     },
     "metadata": {},
     "output_type": "display_data"
    },
    {
     "data": {
      "text/html": [
       "<strong><a href='uc1.b3111082'>An elementary course of civil engineering : for the use of cadets of the United States' Military Academy / by D.H. Mahan.</a></strong> by <em>Mahan, D. H. 1802-1871.</em> (1849.0)&nbsp;&nbsp;&nbsp;OCLC 23166637 / ISBN   / ISSN   / LCCN  "
      ],
      "text/plain": [
       "<IPython.core.display.HTML object>"
      ]
     },
     "metadata": {},
     "output_type": "display_data"
    },
    {
     "data": {
      "text/html": [
       "<strong><a href='uc2.ark:/13960/t5cc0wb2k'>An elementary course of civil engineering : for the use of cadets of the United States' Military Academy / by D.H. Mahan.</a></strong> by <em>Mahan, D. H. 1802-1871.</em> (1849.0)&nbsp;&nbsp;&nbsp;OCLC 23166637 / ISBN   / ISSN   / LCCN  "
      ],
      "text/plain": [
       "<IPython.core.display.HTML object>"
      ]
     },
     "metadata": {},
     "output_type": "display_data"
    },
    {
     "data": {
      "text/html": [
       "<strong><a href='umn.31951000954455v'>An elementary course of civil engineering for the use of cadets to the United States of military academy.</a></strong> by <em>Mahan, D. H. 1802-1871.</em> (1867.0)&nbsp;&nbsp;&nbsp;OCLC 793578834 / ISBN   / ISSN   / LCCN  "
      ],
      "text/plain": [
       "<IPython.core.display.HTML object>"
      ]
     },
     "metadata": {},
     "output_type": "display_data"
    },
    {
     "data": {
      "text/html": [
       "<strong><a href='umn.31951000954462y'>An elementary course of civil engineering for the use of cadets to the United States of military academy.</a></strong> by <em>Mahan, D. H. 1802-1871.</em> (1870.0)&nbsp;&nbsp;&nbsp;OCLC 62617366 / ISBN   / ISSN   / LCCN  "
      ],
      "text/plain": [
       "<IPython.core.display.HTML object>"
      ]
     },
     "metadata": {},
     "output_type": "display_data"
    },
    {
     "data": {
      "text/html": [
       "<strong><a href='wu.89078517166'>An elementary course of civil engineering for the use of cadets of the United States' military academy, by D.H. Mahan.</a></strong> by <em>Mahan, D. H. 1802-1871.</em> (1852.0)&nbsp;&nbsp;&nbsp;OCLC 3764757 / ISBN   / ISSN   / LCCN 03003380"
      ],
      "text/plain": [
       "<IPython.core.display.HTML object>"
      ]
     },
     "metadata": {},
     "output_type": "display_data"
    },
    {
     "data": {
      "text/html": [
       "<strong><a href='wu.89080455090'>An elementary course of civil engineering : for the use of cadets of the United States' military academy / by D.H. Mahan.</a></strong> by <em>Mahan, D. H. 1802-1871.</em> (1867.0)&nbsp;&nbsp;&nbsp;OCLC 23022416 / ISBN   / ISSN   / LCCN  "
      ],
      "text/plain": [
       "<IPython.core.display.HTML object>"
      ]
     },
     "metadata": {},
     "output_type": "display_data"
    },
    {
     "data": {
      "text/html": [
       "<strong><a href='hvd.hn5j28'>The story of the Philippines : a popular account of the islands from their discovery by Magellan to the capture by Dewey / by Amos K. Fiske.</a></strong> by <em>Fiske, Amos Kidder, 1842-1921.</em> (1898.0)&nbsp;&nbsp;&nbsp;OCLC 3301958 / ISBN   / ISSN   / LCCN  "
      ],
      "text/plain": [
       "<IPython.core.display.HTML object>"
      ]
     },
     "metadata": {},
     "output_type": "display_data"
    },
    {
     "data": {
      "text/html": [
       "<strong><a href='miun.ade3375.0001.001'>The story of the Philippines : a popular account of the islands from their discovery by Magellan to the capture by Dewey / by Amos K. Fiske.</a></strong> by <em>Fiske, Amos Kidder, 1842-1921.</em> (1898.0)&nbsp;&nbsp;&nbsp;OCLC 3301958 / ISBN   / ISSN   / LCCN  "
      ],
      "text/plain": [
       "<IPython.core.display.HTML object>"
      ]
     },
     "metadata": {},
     "output_type": "display_data"
    },
    {
     "data": {
      "text/html": [
       "<strong><a href='coo1.ark:/13960/t8tb1p97z'>The story of the Philippines : a popular account of the islands from their discovery by Magellan to the capture by Dewey / by Amos K. Fiske.</a></strong> by <em>Fiske, Amos Kidder, 1842-1921.</em> (1898.0)&nbsp;&nbsp;&nbsp;OCLC 5267836 / ISBN   / ISSN   / LCCN 05008844"
      ],
      "text/plain": [
       "<IPython.core.display.HTML object>"
      ]
     },
     "metadata": {},
     "output_type": "display_data"
    },
    {
     "data": {
      "text/html": [
       "<strong><a href='hvd.32044014221014'>The story of the Philippines : a popular account of the islands from their discovery by Magellan to the capture by Dewey / by Amos K. Fiske.</a></strong> by <em>Fiske, Amos Kidder, 1842-1921.</em> (1898.0)&nbsp;&nbsp;&nbsp;OCLC 5267836 / ISBN   / ISSN   / LCCN 05008844"
      ],
      "text/plain": [
       "<IPython.core.display.HTML object>"
      ]
     },
     "metadata": {},
     "output_type": "display_data"
    },
    {
     "data": {
      "text/html": [
       "<strong><a href='mdp.39015047626307'>The story of the Philippines : a popular account of the islands from their discovery by Magellan to the capture by Dewey / by Amos K. Fiske.</a></strong> by <em>Fiske, Amos Kidder, 1842-1921.</em> (1898.0)&nbsp;&nbsp;&nbsp;OCLC 3301958 / ISBN   / ISSN   / LCCN  "
      ],
      "text/plain": [
       "<IPython.core.display.HTML object>"
      ]
     },
     "metadata": {},
     "output_type": "display_data"
    },
    {
     "data": {
      "text/html": [
       "<strong><a href='nyp.33433082437041'>The story of the Philippines : a popular account of the islands from their discovery by Magellan to the capture by Dewey / by Amos K. Fiske.</a></strong> by <em>Fiske, Amos Kidder, 1842-1921.</em> (1898.0)&nbsp;&nbsp;&nbsp;OCLC 5267836 / ISBN   / ISSN   / LCCN 05008844"
      ],
      "text/plain": [
       "<IPython.core.display.HTML object>"
      ]
     },
     "metadata": {},
     "output_type": "display_data"
    },
    {
     "data": {
      "text/html": [
       "<strong><a href='hvd.32044024191066'>The West Indies : a history of the islands of the West Indian archipelago, together with an account of their physical characteristics, natural resources, and present condition / by Amos Kidder Fiske.</a></strong> by <em>Fiske, Amos Kidder, 1842-1921.</em> (1899.0)&nbsp;&nbsp;&nbsp;OCLC 3172372 / ISBN   / ISSN   / LCCN 99000700"
      ],
      "text/plain": [
       "<IPython.core.display.HTML object>"
      ]
     },
     "metadata": {},
     "output_type": "display_data"
    },
    {
     "data": {
      "text/html": [
       "<strong><a href='hvd.hwwj4l'>The West Indies : a history of the islands of the West Indian archipelago, together with an account of their physical characteristics, natural resources, and present condition / by Amos Kidder Fiske.</a></strong> by <em>Fiske, Amos Kidder, 1842-1921.</em> (1899.0)&nbsp;&nbsp;&nbsp;OCLC 3172372 / ISBN   / ISSN   / LCCN 99000700"
      ],
      "text/plain": [
       "<IPython.core.display.HTML object>"
      ]
     },
     "metadata": {},
     "output_type": "display_data"
    },
    {
     "data": {
      "text/html": [
       "<strong><a href='uc1.b3118620'>The West Indies : a history of the islands of the West Indian archipelago, together with an account of their physical characteristics, natural resources, and present condition / by Amos Kidder Fiske.</a></strong> by <em>Fiske, Amos Kidder, 1842-1921.</em> (1899.0)&nbsp;&nbsp;&nbsp;OCLC 3172372 / ISBN   / ISSN   / LCCN 99000700"
      ],
      "text/plain": [
       "<IPython.core.display.HTML object>"
      ]
     },
     "metadata": {},
     "output_type": "display_data"
    },
    {
     "data": {
      "text/html": [
       "<strong><a href='hvd.hwwjdf'>The West Indies; a history of the islands of the West Indian archipelago, together with an account of their physical characteristics, natural resources, and present condition.</a></strong> by <em>Fiske, Amos Kidder, 1842-1921.</em> (1902.0)&nbsp;&nbsp;&nbsp;OCLC 24227328 / ISBN   / ISSN   / LCCN  "
      ],
      "text/plain": [
       "<IPython.core.display.HTML object>"
      ]
     },
     "metadata": {},
     "output_type": "display_data"
    },
    {
     "data": {
      "text/html": [
       "<strong><a href='uc2.ark:/13960/t6nz8jz06'>The West Indies; a history of the islands of the West Indian archipelago, together with an account of their physical characteristics, natural resources, and present condition.</a></strong> by <em>Fiske, Amos Kidder, 1842-1921.</em> (1902.0)&nbsp;&nbsp;&nbsp;OCLC 24227328 / ISBN   / ISSN   / LCCN  "
      ],
      "text/plain": [
       "<IPython.core.display.HTML object>"
      ]
     },
     "metadata": {},
     "output_type": "display_data"
    },
    {
     "data": {
      "text/html": [
       "<strong><a href='txu.059173022922829'>The West Indies; a history of the islands of the West Indian archipelago, together with an account of their physical characteristics, natural resources, and present condition.</a></strong> by <em>Fiske, Amos Kidder, 1842-1921.</em> (1902.0)&nbsp;&nbsp;&nbsp;OCLC 24227328 / ISBN   / ISSN   / LCCN  "
      ],
      "text/plain": [
       "<IPython.core.display.HTML object>"
      ]
     },
     "metadata": {},
     "output_type": "display_data"
    },
    {
     "data": {
      "text/html": [
       "<strong><a href='nyp.33433081701009'>The West Indies; a history of the islands of the West Indian archipelago, together with an account of their physical characteristics, natural resources, and present condition.</a></strong> by <em>Fiske, Amos Kidder, 1842-1921.</em> (1902.0)&nbsp;&nbsp;&nbsp;OCLC 24227328 / ISBN   / ISSN   / LCCN  "
      ],
      "text/plain": [
       "<IPython.core.display.HTML object>"
      ]
     },
     "metadata": {},
     "output_type": "display_data"
    },
    {
     "data": {
      "text/html": [
       "<strong><a href='loc.ark:/13960/t3ws9gn5r'>The West Indies; a history of the islands of the West Indian archipelago, together with an account of their physical characteristics, natural resources, and present condition,</a></strong> by <em>Fiske, Amos Kidder, 1842-1921.</em> (1911.0)&nbsp;&nbsp;&nbsp;OCLC   / ISBN   / ISSN   / LCCN 21007149"
      ],
      "text/plain": [
       "<IPython.core.display.HTML object>"
      ]
     },
     "metadata": {},
     "output_type": "display_data"
    },
    {
     "data": {
      "text/html": [
       "<strong><a href='mdp.39015019045767'>The West Indies; a history of the islands of the West Indian archipelago, together with an account of their physical characteristics, natural resources, and present condition,</a></strong> by <em>Fiske, Amos Kidder, 1842-1921.</em> (1911.0)&nbsp;&nbsp;&nbsp;OCLC 9092595 / ISBN   / ISSN   / LCCN 21007149"
      ],
      "text/plain": [
       "<IPython.core.display.HTML object>"
      ]
     },
     "metadata": {},
     "output_type": "display_data"
    },
    {
     "data": {
      "text/html": [
       "<strong><a href='hvd.hwwj4k'>The West Indies; a history of the islands of the West Indian archipelago, together with an account of their physical characteristics, natural resources, and present condition,</a></strong> by <em>Fiske, Amos Kidder, 1842-1921.</em> (1911.0)&nbsp;&nbsp;&nbsp;OCLC 9092595 / ISBN   / ISSN   / LCCN 21007149"
      ],
      "text/plain": [
       "<IPython.core.display.HTML object>"
      ]
     },
     "metadata": {},
     "output_type": "display_data"
    },
    {
     "data": {
      "text/html": [
       "<strong><a href='dul1.ark:/13960/t8kd2p445'>Beyond the bourn; reports of a traveller returned from \"The undiscovered country,\" submitted to the world by Amos K. Fiske ...</a></strong> by <em>Fiske, Amos Kidder, 1842-1921.</em> (1891.0)&nbsp;&nbsp;&nbsp;OCLC 5748255 / ISBN   / ISSN   / LCCN 06041111"
      ],
      "text/plain": [
       "<IPython.core.display.HTML object>"
      ]
     },
     "metadata": {},
     "output_type": "display_data"
    },
    {
     "data": {
      "text/html": [
       "<strong><a href='hvd.32044038423414'>Beyond the bourn; reports of a traveller returned from \"The undiscovered country,\" submitted to the world by Amos K. Fiske ...</a></strong> by <em>Fiske, Amos Kidder, 1842-1921.</em> (1891.0)&nbsp;&nbsp;&nbsp;OCLC 5748255 / ISBN   / ISSN   / LCCN 06041111"
      ],
      "text/plain": [
       "<IPython.core.display.HTML object>"
      ]
     },
     "metadata": {},
     "output_type": "display_data"
    },
    {
     "data": {
      "text/html": [
       "<strong><a href='coo1.ark:/13960/t2v418k18'>A treatise on civil engineering, by D. H. Mahan.</a></strong> by <em>Mahan, D. H. 1802-1871.</em> (1880.0)&nbsp;&nbsp;&nbsp;OCLC 39719306 / ISBN   / ISSN   / LCCN 32000066"
      ],
      "text/plain": [
       "<IPython.core.display.HTML object>"
      ]
     },
     "metadata": {},
     "output_type": "display_data"
    },
    {
     "data": {
      "text/html": [
       "<strong><a href='dul1.ark:/13960/t0ns1j02k'>Summary of the course of permanent fortification and of the attack and defence of permanent works, for the use of the cadets of the U.S. Military academy. By D. H. Mahan.</a></strong> by <em>Mahan, D. H. 1802-1871.</em> (1862.0)&nbsp;&nbsp;&nbsp;OCLC 6366035 / ISBN   / ISSN   / LCCN  "
      ],
      "text/plain": [
       "<IPython.core.display.HTML object>"
      ]
     },
     "metadata": {},
     "output_type": "display_data"
    },
    {
     "data": {
      "text/html": [
       "<strong><a href='dul1.ark:/13960/t2v41hv65'>A treatise on field fortification, containing instructions on the methods of laying out, constructing, defending, and attacking intrenchments; with the general outlines also of the arrangement, the attack and defence of permanent fortifications. By D. H. Mahan.</a></strong> by <em>Mahan, D. H. 1802-1871.</em> (1862.0)&nbsp;&nbsp;&nbsp;OCLC 2229288 / ISBN   / ISSN   / LCCN 07029294"
      ],
      "text/plain": [
       "<IPython.core.display.HTML object>"
      ]
     },
     "metadata": {},
     "output_type": "display_data"
    },
    {
     "data": {
      "text/html": [
       "<strong><a href='dul1.ark:/13960/t8ff4jn62'>An elementary treatise on advanced-guard, out-post, and detachment service of troops, and the manner of posting and handling them in presence of an enemy. Intended as a supplement to the system of tactics adopted for the military service of the United States, and especially for the use of officers of militia and volunteers. By D. H. Mahan.</a></strong> by <em>Mahan, D. H. 1802-1871.</em> (1861.0)&nbsp;&nbsp;&nbsp;OCLC 4844308 / ISBN   / ISSN   / LCCN 18010646"
      ],
      "text/plain": [
       "<IPython.core.display.HTML object>"
      ]
     },
     "metadata": {},
     "output_type": "display_data"
    },
    {
     "data": {
      "text/html": [
       "<strong><a href='dul1.ark:/13960/t8w95xs5z'>Summary of the course of permanent fortification and of the attack and defence of permanent works, for the use of the cadets of the U.S. Military Academy. Ed. presented to War Dept., C. S. A., by Blanton Duncan.</a></strong> by <em>Mahan, D. H. 1802-1871.</em> (1863.0)&nbsp;&nbsp;&nbsp;OCLC 41405872 / ISBN   / ISSN   / LCCN  "
      ],
      "text/plain": [
       "<IPython.core.display.HTML object>"
      ]
     },
     "metadata": {},
     "output_type": "display_data"
    },
    {
     "data": {
      "text/html": [
       "<strong><a href='gri.ark:/13960/t1vd8vq55'>A treatise on civil engineering. By D.H. Mahan.</a></strong> by <em>Mahan, D. H. 1802-1871.</em> (1873.0)&nbsp;&nbsp;&nbsp;OCLC 5340333 / ISBN   / ISSN   / LCCN 03003382"
      ],
      "text/plain": [
       "<IPython.core.display.HTML object>"
      ]
     },
     "metadata": {},
     "output_type": "display_data"
    },
    {
     "data": {
      "text/html": [
       "<strong><a href='hvd.32044009912098'>Permanent fortifications. Revised and enlarged by James Mercur.</a></strong> by <em>Mahan, D. H. 1802-1871.</em> (1894.0)&nbsp;&nbsp;&nbsp;OCLC 82478905 / ISBN   / ISSN   / LCCN  "
      ],
      "text/plain": [
       "<IPython.core.display.HTML object>"
      ]
     },
     "metadata": {},
     "output_type": "display_data"
    },
    {
     "data": {
      "text/html": [
       "<strong><a href='hvd.32044019799543'>Advanced-guard, out-post, and detachment service of troops, with the essential principles of strategy, and grand tactics, for the use of officers of the militia and volunteers, by D.H. Mahan ...</a></strong> by <em>Mahan, D. H. 1802-1871.</em> (1863.0)&nbsp;&nbsp;&nbsp;OCLC 38754255 / ISBN   / ISSN   / LCCN  "
      ],
      "text/plain": [
       "<IPython.core.display.HTML object>"
      ]
     },
     "metadata": {},
     "output_type": "display_data"
    },
    {
     "data": {
      "text/html": [
       "<strong><a href='hvd.32044021174891'>An elementary course of military engineering / by D.H. Mahan.</a></strong> by <em>Mahan, D. H. 1802-1871.</em> (1865.0)&nbsp;&nbsp;&nbsp;OCLC 22036283 / ISBN   / ISSN   / LCCN  "
      ],
      "text/plain": [
       "<IPython.core.display.HTML object>"
      ]
     },
     "metadata": {},
     "output_type": "display_data"
    },
    {
     "data": {
      "text/html": [
       "<strong><a href='hvd.32044050501626'>Summary of the course of permanent fortification and of the attack and defence of permanent works, for the use of the cadets of the U.S. military academy, by D.H. Mahan.</a></strong> by <em>Mahan, D. H. 1802-1871.</em> (1850.0)&nbsp;&nbsp;&nbsp;OCLC 6924120 / ISBN   / ISSN   / LCCN  "
      ],
      "text/plain": [
       "<IPython.core.display.HTML object>"
      ]
     },
     "metadata": {},
     "output_type": "display_data"
    },
    {
     "name": "stdout",
     "output_type": "stream",
     "text": [
      "\n",
      "\n"
     ]
    },
    {
     "data": {
      "text/html": [
       "<strong><a href='mdp.39015059200439'>Figures traced in light : on cinematic staging / David Bordwell.</a></strong> by <em>Bordwell, David.</em> (2005.0)&nbsp;&nbsp;&nbsp;OCLC 54111417 / ISBN 0520241975 (pbk. : alk. paper),0520232267 (alk. paper) / ISSN   / LCCN 2004001354"
      ],
      "text/plain": [
       "<IPython.core.display.HTML object>"
      ]
     },
     "metadata": {},
     "output_type": "display_data"
    },
    {
     "name": "stdout",
     "output_type": "stream",
     "text": [
      "====================\n",
      "61791\n"
     ]
    },
    {
     "data": {
      "text/html": [
       "<strong><a href='mdp.39015059208291'>The New Testament : its background, growth, and content / Bruce Manning Metzger.</a></strong> by <em>Metzger, Bruce Manning.</em> (2003.0)&nbsp;&nbsp;&nbsp;OCLC 51336685 / ISBN 0687052637 (alk. paper) / ISSN   / LCCN 2002155575"
      ],
      "text/plain": [
       "<IPython.core.display.HTML object>"
      ]
     },
     "metadata": {},
     "output_type": "display_data"
    },
    {
     "data": {
      "text/html": [
       "<strong><a href='mdp.39015003752360'>Filmguide to La passion de Jeanne d'Arc.</a></strong> by <em>Bordwell, David.</em> (1973.0)&nbsp;&nbsp;&nbsp;OCLC 623418 / ISBN 9780253393012 (lib. bdg.),0253393019 (lib. bdg.),9780253393029 (pbk.),0253393027 (pbk.) / ISSN   / LCCN 72088634"
      ],
      "text/plain": [
       "<IPython.core.display.HTML object>"
      ]
     },
     "metadata": {},
     "output_type": "display_data"
    },
    {
     "data": {
      "text/html": [
       "<strong><a href='mdp.39015011024125'>Narration in the fiction film / David Bordwell.</a></strong> by <em>Bordwell, David.</em> (1985.0)&nbsp;&nbsp;&nbsp;OCLC 12052530 / ISBN 0299101703 : / ISSN   / LCCN 84040491"
      ],
      "text/plain": [
       "<IPython.core.display.HTML object>"
      ]
     },
     "metadata": {},
     "output_type": "display_data"
    },
    {
     "data": {
      "text/html": [
       "<strong><a href='mdp.39015015330718'>Making meaning : inference and rhetoric in the interpretation of cinema / David Bordwell.</a></strong> by <em>Bordwell, David.</em> (1989.0)&nbsp;&nbsp;&nbsp;OCLC 19266019 / ISBN 0674543351 (alk. paper) / ISSN   / LCCN 89030324"
      ],
      "text/plain": [
       "<IPython.core.display.HTML object>"
      ]
     },
     "metadata": {},
     "output_type": "display_data"
    },
    {
     "data": {
      "text/html": [
       "<strong><a href='mdp.39015020377167'>Film art : an introduction / David Bordwell, Kristin Thompson.</a></strong> by <em>Bordwell, David.</em> (1977.0)&nbsp;&nbsp;&nbsp;OCLC 4570449 / ISBN 0201005662 / ISSN   / LCCN 78018633"
      ],
      "text/plain": [
       "<IPython.core.display.HTML object>"
      ]
     },
     "metadata": {},
     "output_type": "display_data"
    },
    {
     "data": {
      "text/html": [
       "<strong><a href='mdp.39015033117469'>The cinema of Eisenstein / David Bordwell.</a></strong> by <em>Bordwell, David.</em> (1993.0)&nbsp;&nbsp;&nbsp;OCLC 27186936 / ISBN 067413138X (pbk. : alk. paper),0674131371 (cloth : alk. paper) / ISSN   / LCCN 92045678"
      ],
      "text/plain": [
       "<IPython.core.display.HTML object>"
      ]
     },
     "metadata": {},
     "output_type": "display_data"
    },
    {
     "data": {
      "text/html": [
       "<strong><a href='mdp.39015039923118'>On the history of film style / David Bordwell.</a></strong> by <em>Bordwell, David.</em> (1997.0)&nbsp;&nbsp;&nbsp;OCLC 36498830 / ISBN 0674634292 (pbk. : alk. paper),0674634284 (cloth : alk. paper) / ISSN   / LCCN 97004016"
      ],
      "text/plain": [
       "<IPython.core.display.HTML object>"
      ]
     },
     "metadata": {},
     "output_type": "display_data"
    },
    {
     "data": {
      "text/html": [
       "<strong><a href='mdp.39015059200439'>Figures traced in light : on cinematic staging / David Bordwell.</a></strong> by <em>Bordwell, David.</em> (2005.0)&nbsp;&nbsp;&nbsp;OCLC 54111417 / ISBN 0520241975 (pbk. : alk. paper),0520232267 (alk. paper) / ISSN   / LCCN 2004001354"
      ],
      "text/plain": [
       "<IPython.core.display.HTML object>"
      ]
     },
     "metadata": {},
     "output_type": "display_data"
    },
    {
     "data": {
      "text/html": [
       "<strong><a href='mdp.39076000654140'>French impressionist cinema : film culture, film theory, and film style / David Bordwell.</a></strong> by <em>Bordwell, David.</em> (1980.0)&nbsp;&nbsp;&nbsp;OCLC 6087880 / ISBN 0405129025 / ISSN   / LCCN 79006668"
      ],
      "text/plain": [
       "<IPython.core.display.HTML object>"
      ]
     },
     "metadata": {},
     "output_type": "display_data"
    },
    {
     "data": {
      "text/html": [
       "<strong><a href='uc1.32106001674438'>Filmguide to La passion de Jeanne d'Arc.</a></strong> by <em>Bordwell, David.</em> (1973.0)&nbsp;&nbsp;&nbsp;OCLC 623418 / ISBN 9780253393012 (lib. bdg.),0253393019 (lib. bdg.),9780253393029 (pbk.),0253393027 (pbk.) / ISSN   / LCCN 72088634"
      ],
      "text/plain": [
       "<IPython.core.display.HTML object>"
      ]
     },
     "metadata": {},
     "output_type": "display_data"
    },
    {
     "data": {
      "text/html": [
       "<strong><a href='uc1.32106007384073'>Film art : an introduction / David Bordwell, Kristin Thompson.</a></strong> by <em>Bordwell, David.</em> (1986.0)&nbsp;&nbsp;&nbsp;OCLC 12418771 / ISBN 0394352378 / ISSN   / LCCN 85018198"
      ],
      "text/plain": [
       "<IPython.core.display.HTML object>"
      ]
     },
     "metadata": {},
     "output_type": "display_data"
    },
    {
     "name": "stdout",
     "output_type": "stream",
     "text": [
      "\n",
      "\n"
     ]
    },
    {
     "data": {
      "text/html": [
       "<strong><a href='njp.32101047150121'>Essays on the pursuit of truth and on the progress on knowledge.</a></strong> by <em>Bailey, Samuel, 1791-1870.</em> (1844.0)&nbsp;&nbsp;&nbsp;OCLC 4428260 / ISBN   / ISSN   / LCCN 13011888"
      ],
      "text/plain": [
       "<IPython.core.display.HTML object>"
      ]
     },
     "metadata": {},
     "output_type": "display_data"
    },
    {
     "name": "stdout",
     "output_type": "stream",
     "text": [
      "====================\n",
      "134721\n"
     ]
    },
    {
     "data": {
      "text/html": [
       "<strong><a href='uc2.ark:/13960/t7mp4zd91'>Essays on the pursuit of truth and on the progress on knowledge.</a></strong> by <em>Bailey, Samuel, 1791-1870.</em> (1844.0)&nbsp;&nbsp;&nbsp;OCLC 4428260 / ISBN   / ISSN   / LCCN 13011888"
      ],
      "text/plain": [
       "<IPython.core.display.HTML object>"
      ]
     },
     "metadata": {},
     "output_type": "display_data"
    },
    {
     "data": {
      "text/html": [
       "<strong><a href='hvd.32044084582071'>Essays on the pursuit of truth, on the progress of knowledge, and on the fundamental principle of all evidence and expectation / by the author of Essays on the formation and publication of opinions.</a></strong> by <em>Bailey, Samuel, 1791-1870.</em> (1829.0)&nbsp;&nbsp;&nbsp;OCLC 4428216 / ISBN   / ISSN   / LCCN  "
      ],
      "text/plain": [
       "<IPython.core.display.HTML object>"
      ]
     },
     "metadata": {},
     "output_type": "display_data"
    },
    {
     "data": {
      "text/html": [
       "<strong><a href='hvd.hntug7'>Essays on the pursuit of truth, on the progress of knowledge, and the fundamental principle of all evidence and expectaion. By the author of Essays on the formation and publication of opinions.</a></strong> by <em>Bailey, Samuel, 1791-1870.</em> (1831.0)&nbsp;&nbsp;&nbsp;OCLC 2422030 / ISBN   / ISSN   / LCCN 13011887"
      ],
      "text/plain": [
       "<IPython.core.display.HTML object>"
      ]
     },
     "metadata": {},
     "output_type": "display_data"
    },
    {
     "data": {
      "text/html": [
       "<strong><a href='umn.31951002093343y'>Essays on the pursuit of truth, on the progress of knowledge, and the fundamental principle of all evidence and expectaion. By the author of Essays on the formation and publication of opinions.</a></strong> by <em>Bailey, Samuel, 1791-1870.</em> (1831.0)&nbsp;&nbsp;&nbsp;OCLC 2422030 / ISBN   / ISSN   / LCCN 13011887"
      ],
      "text/plain": [
       "<IPython.core.display.HTML object>"
      ]
     },
     "metadata": {},
     "output_type": "display_data"
    },
    {
     "data": {
      "text/html": [
       "<strong><a href='uva.x000683057'>What makes a friend? Definitions and opinions from various sources, collected and comp. by Volney Streamer ...</a></strong> by <em>Streamer, Volney, 1850-1915,</em> (1909.0)&nbsp;&nbsp;&nbsp;OCLC 21663766 / ISBN   / ISSN   / LCCN  "
      ],
      "text/plain": [
       "<IPython.core.display.HTML object>"
      ]
     },
     "metadata": {},
     "output_type": "display_data"
    },
    {
     "data": {
      "text/html": [
       "<strong><a href='njp.32101047164320'>What makes a friend? Definitions and opinions from various sources, collected and comp. by Volney Streamer ...</a></strong> by <em>Streamer, Volney, 1850-1915,</em> (1894.0)&nbsp;&nbsp;&nbsp;OCLC 42376163 / ISBN   / ISSN   / LCCN  "
      ],
      "text/plain": [
       "<IPython.core.display.HTML object>"
      ]
     },
     "metadata": {},
     "output_type": "display_data"
    },
    {
     "data": {
      "text/html": [
       "<strong><a href='hvd.hn1hzh'>What makes a friend? Definitions and opinions from various sources, collected and comp. by Volney Streamer.</a></strong> by <em>Streamer, Volney, 1850-1915,</em> (1907.0)&nbsp;&nbsp;&nbsp;OCLC 7444541 / ISBN   / ISSN   / LCCN 07012891"
      ],
      "text/plain": [
       "<IPython.core.display.HTML object>"
      ]
     },
     "metadata": {},
     "output_type": "display_data"
    },
    {
     "data": {
      "text/html": [
       "<strong><a href='loc.ark:/13960/t10p2d52w'>What makes a friend? : Definitions and opinions from various sources / collected and comp. by Volney Streamer.</a></strong> by <em>Streamer, Volney, 1850-1915,</em> (1904.0)&nbsp;&nbsp;&nbsp;OCLC 7075854 / ISBN   / ISSN   / LCCN 04028983"
      ],
      "text/plain": [
       "<IPython.core.display.HTML object>"
      ]
     },
     "metadata": {},
     "output_type": "display_data"
    },
    {
     "data": {
      "text/html": [
       "<strong><a href='hvd.32044084662782'>What makes a friend? : Definitions and opinions from various sources / collected and comp. by Volney Streamer.</a></strong> by <em>Streamer, Volney, 1850-1915,</em> (1904.0)&nbsp;&nbsp;&nbsp;OCLC 7075854 / ISBN   / ISSN   / LCCN 04028983"
      ],
      "text/plain": [
       "<IPython.core.display.HTML object>"
      ]
     },
     "metadata": {},
     "output_type": "display_data"
    },
    {
     "data": {
      "text/html": [
       "<strong><a href='coo1.ark:/13960/t6c25g23k'>Letters on the philosophy of the human mind ; first series / Samuel Bailey.</a></strong> by <em>Bailey, Samuel, 1791-1870.</em> (1846.0)&nbsp;&nbsp;&nbsp;OCLC 7414692 / ISBN   / ISSN   / LCCN  "
      ],
      "text/plain": [
       "<IPython.core.display.HTML object>"
      ]
     },
     "metadata": {},
     "output_type": "display_data"
    },
    {
     "data": {
      "text/html": [
       "<strong><a href='dul1.ark:/13960/t0gt6gb8t'>A critical dissertation on the nature, measures, and causes of value; chiefly in reference to the writing of Mr. Ricardo and his followers. By the author of Essays on the formation and publication of opinions, &c. &c.</a></strong> by <em>Bailey, Samuel, 1791-1870.</em> (1825.0)&nbsp;&nbsp;&nbsp;OCLC 4064412 / ISBN   / ISSN   / LCCN 05022870"
      ],
      "text/plain": [
       "<IPython.core.display.HTML object>"
      ]
     },
     "metadata": {},
     "output_type": "display_data"
    },
    {
     "data": {
      "text/html": [
       "<strong><a href='dul1.ark:/13960/t21c2vj35'>A letter to a political economist : occasioned by an article in the Westminster review on the subject of value / by the author of the Critical dissertation on value therein reviewed.</a></strong> by <em>Bailey, Samuel, 1791-1870.</em> (1826.0)&nbsp;&nbsp;&nbsp;OCLC 7143010 / ISBN   / ISSN   / LCCN  "
      ],
      "text/plain": [
       "<IPython.core.display.HTML object>"
      ]
     },
     "metadata": {},
     "output_type": "display_data"
    },
    {
     "data": {
      "text/html": [
       "<strong><a href='hvd.32044009705583'>A critical dissertation on the nature, measures, and causes of value; chiefly in reference to the writing of Mr. Ricardo and his followers. By the author of Essays on the formation and publication of opinions, &c. &c.</a></strong> by <em>Bailey, Samuel, 1791-1870.</em> (1825.0)&nbsp;&nbsp;&nbsp;OCLC 4064412 / ISBN   / ISSN   / LCCN 05022870"
      ],
      "text/plain": [
       "<IPython.core.display.HTML object>"
      ]
     },
     "metadata": {},
     "output_type": "display_data"
    },
    {
     "data": {
      "text/html": [
       "<strong><a href='hvd.32044028544757'>Questions in political economy, politics, morals, metaphysics, polite literature, and other branches of knowledge : for discussion in literary societies, or for private study. With remarks under each question, original and selected / by the author of Essays on the formation and publication of opinions.</a></strong> by <em>Bailey, Samuel, 1791-1870.</em> (1823.0)&nbsp;&nbsp;&nbsp;OCLC 7142961 / ISBN   / ISSN   / LCCN 36024874"
      ],
      "text/plain": [
       "<IPython.core.display.HTML object>"
      ]
     },
     "metadata": {},
     "output_type": "display_data"
    },
    {
     "data": {
      "text/html": [
       "<strong><a href='hvd.32044084596758'>A review of Berkeley's Theory of vision, designed to show the unsoundness of that celebrated speculation. By Samuel Bailey.</a></strong> by <em>Bailey, Samuel, 1791-1870.</em> (1842.0)&nbsp;&nbsp;&nbsp;OCLC 1738447 / ISBN   / ISSN   / LCCN 45040014"
      ],
      "text/plain": [
       "<IPython.core.display.HTML object>"
      ]
     },
     "metadata": {},
     "output_type": "display_data"
    },
    {
     "data": {
      "text/html": [
       "<strong><a href='hvd.32044084626696'>The theory of reasoning. By Samuel Bailey.</a></strong> by <em>Bailey, Samuel, 1791-1870.</em> (1852.0)&nbsp;&nbsp;&nbsp;OCLC 4455067 / ISBN   / ISSN   / LCCN 09033078"
      ],
      "text/plain": [
       "<IPython.core.display.HTML object>"
      ]
     },
     "metadata": {},
     "output_type": "display_data"
    },
    {
     "data": {
      "text/html": [
       "<strong><a href='hvd.32044084630185'>Letters on the philosophy of the human mind. First-[second] series.</a></strong> by <em>Bailey, Samuel, 1791-1870.</em> (1858.0)&nbsp;&nbsp;&nbsp;OCLC 612418410,6310320 / ISBN   / ISSN   / LCCN  "
      ],
      "text/plain": [
       "<IPython.core.display.HTML object>"
      ]
     },
     "metadata": {},
     "output_type": "display_data"
    },
    {
     "data": {
      "text/html": [
       "<strong><a href='hvd.32044084630193'>Letters on the philosophy of the human mind. First-[second] series.</a></strong> by <em>Bailey, Samuel, 1791-1870.</em> (1858.0)&nbsp;&nbsp;&nbsp;OCLC 612418410,6310320 / ISBN   / ISSN   / LCCN  "
      ],
      "text/plain": [
       "<IPython.core.display.HTML object>"
      ]
     },
     "metadata": {},
     "output_type": "display_data"
    },
    {
     "data": {
      "text/html": [
       "<strong><a href='hvd.32044086733839'>On the received text of Shakespeare's dramatic writings and its improvement / by Samuel Bailey.</a></strong> by <em>Bailey, Samuel, 1791-1870.</em> (1866.0)&nbsp;&nbsp;&nbsp;OCLC 4555517 / ISBN   / ISSN   / LCCN 18004853"
      ],
      "text/plain": [
       "<IPython.core.display.HTML object>"
      ]
     },
     "metadata": {},
     "output_type": "display_data"
    },
    {
     "name": "stdout",
     "output_type": "stream",
     "text": [
      "\n",
      "\n"
     ]
    },
    {
     "data": {
      "text/html": [
       "<strong><a href='mdp.39015005914182'>The good old days; a history of American morals and manners as seen through the Sears, Roebuck catalogs 1905 to the present, by David L. Cohn. With an introduction by Sinclair Lewis.</a></strong> by <em>Cohn, David L. 1896-1960.</em> (1940.0)&nbsp;&nbsp;&nbsp;OCLC 423691 / ISBN   / ISSN   / LCCN 40027261"
      ],
      "text/plain": [
       "<IPython.core.display.HTML object>"
      ]
     },
     "metadata": {},
     "output_type": "display_data"
    },
    {
     "name": "stdout",
     "output_type": "stream",
     "text": [
      "====================\n",
      "39020\n"
     ]
    },
    {
     "data": {
      "text/html": [
       "<strong><a href='miun.acp2830.0001.001'>The good old days; a history of American morals and manners as seen through the Sears, Roebuck catalogs 1905 to the present, by David L. Cohn. With an introduction by Sinclair Lewis.</a></strong> by <em>Cohn, David L. 1896-1960.</em> (1940.0)&nbsp;&nbsp;&nbsp;OCLC 423691 / ISBN   / ISSN   / LCCN 40027261"
      ],
      "text/plain": [
       "<IPython.core.display.HTML object>"
      ]
     },
     "metadata": {},
     "output_type": "display_data"
    },
    {
     "data": {
      "text/html": [
       "<strong><a href='mdp.39015005914620'>Government and the news media : comparative dimensions / by Dan Nimmo and Michael W. Mansfield.</a></strong> by <em>Nimmo, Dan D.</em> (1982.0)&nbsp;&nbsp;&nbsp;OCLC 13643525 / ISBN 0918954363 / ISSN   / LCCN 82073859"
      ],
      "text/plain": [
       "<IPython.core.display.HTML object>"
      ]
     },
     "metadata": {},
     "output_type": "display_data"
    },
    {
     "data": {
      "text/html": [
       "<strong><a href='mdp.39015004860451'>Love in America; an informal study of manners and morals in American marriage, by David L. Cohn.</a></strong> by <em>Cohn, David L. 1896-1960.</em> (1943.0)&nbsp;&nbsp;&nbsp;OCLC 1233823 / ISBN   / ISSN   / LCCN 43005986"
      ],
      "text/plain": [
       "<IPython.core.display.HTML object>"
      ]
     },
     "metadata": {},
     "output_type": "display_data"
    },
    {
     "data": {
      "text/html": [
       "<strong><a href='mdp.39015005914182'>The good old days; a history of American morals and manners as seen through the Sears, Roebuck catalogs 1905 to the present, by David L. Cohn. With an introduction by Sinclair Lewis.</a></strong> by <em>Cohn, David L. 1896-1960.</em> (1940.0)&nbsp;&nbsp;&nbsp;OCLC 423691 / ISBN   / ISSN   / LCCN 40027261"
      ],
      "text/plain": [
       "<IPython.core.display.HTML object>"
      ]
     },
     "metadata": {},
     "output_type": "display_data"
    },
    {
     "data": {
      "text/html": [
       "<strong><a href='mdp.39015020230473'>Combustion on wheels, an informal history of the automobile age ...</a></strong> by <em>Cohn, David L. 1896-1960.</em> (1944.0)&nbsp;&nbsp;&nbsp;OCLC 568051 / ISBN   / ISSN   / LCCN 44009565"
      ],
      "text/plain": [
       "<IPython.core.display.HTML object>"
      ]
     },
     "metadata": {},
     "output_type": "display_data"
    },
    {
     "data": {
      "text/html": [
       "<strong><a href='mdp.39015020745280'>The fabulous Democrats; a history of the Democratic Party in text and pictures. With a foreword by Sam Rayburn.</a></strong> by <em>Cohn, David L. 1896-1960.</em> (1956.0)&nbsp;&nbsp;&nbsp;OCLC 1068706 / ISBN   / ISSN   / LCCN 56006616/L"
      ],
      "text/plain": [
       "<IPython.core.display.HTML object>"
      ]
     },
     "metadata": {},
     "output_type": "display_data"
    },
    {
     "data": {
      "text/html": [
       "<strong><a href='mdp.39015028304361'>Picking America's pockets;</a></strong> by <em>Cohn, David L. 1896-1960.</em> (1936.0)&nbsp;&nbsp;&nbsp;OCLC 598835 / ISBN   / ISSN   / LCCN 36028760"
      ],
      "text/plain": [
       "<IPython.core.display.HTML object>"
      ]
     },
     "metadata": {},
     "output_type": "display_data"
    },
    {
     "data": {
      "text/html": [
       "<strong><a href='uc1.$b42190'>This is the story, by David L. Cohn, illustrated by Steinberg.</a></strong> by <em>Cohn, David L. 1896-1960.</em> (1947.0)&nbsp;&nbsp;&nbsp;OCLC 648881 / ISBN   / ISSN   / LCCN 47001227"
      ],
      "text/plain": [
       "<IPython.core.display.HTML object>"
      ]
     },
     "metadata": {},
     "output_type": "display_data"
    },
    {
     "data": {
      "text/html": [
       "<strong><a href='uc1.$b564131'>The fabulous Democrats; a history of the Democratic Party in text and pictures. With a foreword by Sam Rayburn.</a></strong> by <em>Cohn, David L. 1896-1960.</em> (1956.0)&nbsp;&nbsp;&nbsp;OCLC 1068706 / ISBN   / ISSN   / LCCN 56006616/L"
      ],
      "text/plain": [
       "<IPython.core.display.HTML object>"
      ]
     },
     "metadata": {},
     "output_type": "display_data"
    },
    {
     "data": {
      "text/html": [
       "<strong><a href='uc1.$b60467'>God shakes creation.</a></strong> by <em>Cohn, David L. 1896-1960.</em> (1935.0)&nbsp;&nbsp;&nbsp;OCLC 1344331 / ISBN   / ISSN   / LCCN 35021898"
      ],
      "text/plain": [
       "<IPython.core.display.HTML object>"
      ]
     },
     "metadata": {},
     "output_type": "display_data"
    },
    {
     "data": {
      "text/html": [
       "<strong><a href='uc1.$b756212'>Combustion on wheels, an informal history of the automobile age ...</a></strong> by <em>Cohn, David L. 1896-1960.</em> (1944.0)&nbsp;&nbsp;&nbsp;OCLC 568051 / ISBN   / ISSN   / LCCN 44009565"
      ],
      "text/plain": [
       "<IPython.core.display.HTML object>"
      ]
     },
     "metadata": {},
     "output_type": "display_data"
    },
    {
     "data": {
      "text/html": [
       "<strong><a href='uc1.b3428873'>The life and times of King Cotton.</a></strong> by <em>Cohn, David L. 1896-1960.</em> (1956.0)&nbsp;&nbsp;&nbsp;OCLC 234176 / ISBN   / ISSN   / LCCN 56010457"
      ],
      "text/plain": [
       "<IPython.core.display.HTML object>"
      ]
     },
     "metadata": {},
     "output_type": "display_data"
    },
    {
     "name": "stdout",
     "output_type": "stream",
     "text": [
      "\n",
      "\n"
     ]
    }
   ],
   "source": [
    "target = meta.iloc[i]\n",
    "target[['title', 'author', 'description', 'oclc_num', 'access', 'rights_date_used']]\n",
    "\n",
    "random_targets = np.random.randint(meta.shape[0], size=20)\n",
    "\n",
    "for target_i in random_targets:\n",
    "        target = meta.iloc[target_i]\n",
    "        display(print_meta_row(target))\n",
    "        print('=' * 20)\n",
    "        results = eval_list(target, meta, max_random=0)\n",
    "\n",
    "        for htid, result in results.iterrows():\n",
    "            display(print_meta_row(result))\n",
    "        print('\\n')"
   ]
  },
  {
   "cell_type": "code",
   "execution_count": null,
   "metadata": {},
   "outputs": [],
   "source": []
  }
 ],
 "metadata": {
  "kernelspec": {
   "display_name": "Python 3",
   "language": "python",
   "name": "python3"
  },
  "language_info": {
   "codemirror_mode": {
    "name": "ipython",
    "version": 3
   },
   "file_extension": ".py",
   "mimetype": "text/x-python",
   "name": "python",
   "nbconvert_exporter": "python",
   "pygments_lexer": "ipython3",
   "version": "3.6.7"
  }
 },
 "nbformat": 4,
 "nbformat_minor": 4
}

{
 "cells": [
  {
   "cell_type": "markdown",
   "metadata": {},
   "source": [
    "## Generating Evaluation Lists"
   ]
  },
  {
   "cell_type": "code",
   "execution_count": 1,
   "metadata": {},
   "outputs": [],
   "source": [
    "from SRP import Vector_file\n",
    "import pandas as pd\n",
    "import os\n",
    "import random\n",
    "import numpy as np\n",
    "from scipy.spatial.distance import cdist, pdist\n",
    "meta = pd.read_csv('../../sampling/test_dataset.csv.gz', low_memory=False).set_index('htid').sort_index()\n",
    "# Add index num as col, to preserve the htid index\n",
    "meta['n'] = range(0, len(meta))\n",
    "# TEMP - only look at full view texts\n",
    "meta = meta.query('access == \"allow\"')"
   ]
  },
  {
   "cell_type": "code",
   "execution_count": 2,
   "metadata": {},
   "outputs": [],
   "source": [
    "# Fast Text Matching\n",
    "with Vector_file('fastTextVecs.bin', mode='r', dims=100) as vfile:\n",
    "    allvecs = vfile.to_matrix()\n",
    "    \n",
    "# ADJUSTING TO TRIMMED DATASET\n",
    "name_ref = pd.Series(allvecs['names']).reset_index().set_index(0)['index'][meta.index]\n",
    "allvecs['names'] = pd.Series(allvecs['names'])[name_ref.values].tolist()\n",
    "allvecs['matrix'] = allvecs['matrix'][name_ref.values]\n",
    "name_ref = pd.Series(allvecs['names']).reset_index().set_index(0)['index']"
   ]
  },
  {
   "cell_type": "code",
   "execution_count": 3,
   "metadata": {},
   "outputs": [],
   "source": [
    "def eval_list(target, meta, sim_cutoff=0.05, sim_metric='cosine', max_by_author=10, max_random=3, exclude_target=True):\n",
    "    '''\n",
    "    Return a list of works to hand-code for evaluation.\n",
    "    \n",
    "    target: A row representing the target book\n",
    "    meta: The dataframe of all metadata\n",
    "    '''\n",
    "    # Remember not to fillna, else you'll get a lot of matches for a blank field!\n",
    "    oclc_match = meta[(meta.oclc_num == target.oclc_num)]\n",
    "    lccn_match = meta[(meta.lccn == target.lccn)]\n",
    "    isbn_match = meta[meta.isbn == target.isbn]\n",
    "    title_match = meta[meta['title'] == target['title']]\n",
    "    short_title_match = meta[meta['title'].apply(lambda s: s[:30]) == target['title'][:30]]\n",
    "\n",
    "    # Fast text matches\n",
    "    target_n = name_ref[[target.name]].values\n",
    "    results = cdist(allvecs['matrix'][target_n], allvecs['matrix'], metric=sim_metric)\n",
    "    sorted_results = pd.Series(results[0]).sort_values()\n",
    "    top_results_i = sorted_results[sorted_results < sim_cutoff].index.tolist()\n",
    "    fasttext_match = meta.loc[name_ref[top_results_i].index.values]\n",
    "\n",
    "    init_matches = pd.concat([oclc_match, lccn_match, isbn_match, title_match, short_title_match, fasttext_match]).drop_duplicates()\n",
    "    if exclude_target:\n",
    "        init_matches = init_matches[init_matches.index != target.name]\n",
    "\n",
    "    # Cap number of same author results, but excluding above results\n",
    "    author_match = meta[meta['author'] == target['author']]\n",
    "    unique_amatches = author_match.index.difference(init_matches.index)\n",
    "    author_match = author_match.loc[unique_amatches].iloc[:max_by_author]\n",
    "    \n",
    "    rand_match = meta.sample(max_random)\n",
    "\n",
    "    final_matches = pd.concat([init_matches, author_match, rand_match]).drop_duplicates()\n",
    "    return final_matches"
   ]
  },
  {
   "cell_type": "code",
   "execution_count": 4,
   "metadata": {},
   "outputs": [
    {
     "data": {
      "text/html": [
       "<strong><a href='https://babel.hathitrust.org/cgi/pt?id=hvd.32044086813524&view=thumb&seq=1' target='_blank'>Essays in the history of religious thought in the West / by Brooke Foss Westcott.</a></strong> by <em>Westcott, Brooke Foss, 1825-1901.</em> (1891.0)<br/>&nbsp;&nbsp;&nbsp;&nbsp;&nbsp;&nbsp;<strong>hvd.32044086813524</strong> OCLC 1062864,4310380 / ISBN 0837006740 : / ISSN   / LCCN 06025885"
      ],
      "text/plain": [
       "<IPython.core.display.HTML object>"
      ]
     },
     "execution_count": 4,
     "metadata": {},
     "output_type": "execute_result"
    }
   ],
   "source": [
    "from IPython.core.display import display, HTML\n",
    "\n",
    "def print_meta_row(target):\n",
    "    target = target.fillna(' ')\n",
    "    html = \"<strong><a href='https://babel.hathitrust.org/cgi/pt?id=%s&view=thumb&seq=1' target='_blank'>%s</a></strong> by <em>%s</em> (%s)<br/>\" % (target.name, target.title, target.author, target.rights_date_used)\n",
    "    html += \"&nbsp;&nbsp;&nbsp;&nbsp;&nbsp;&nbsp;<strong>%s</strong> OCLC %s / ISBN %s / ISSN %s / LCCN %s\" % (target.name, target.oclc_num, target.isbn, target.issn, target.lccn)\n",
    "    #for i in range(10, 15):\n",
    "    #    html += \"<img src='https://babel.hathitrust.org/cgi/imgsrv/thumbnail?id=%s;seq=%d;width=250;rotation=0'>\" % (target.name, i)\n",
    "    return HTML(html)\n",
    "\n",
    "print_meta_row(meta.sample(1).iloc[0])"
   ]
  },
  {
   "cell_type": "code",
   "execution_count": 5,
   "metadata": {},
   "outputs": [],
   "source": [
    "def get_page_count(htid):\n",
    "    from htrc_features import utils\n",
    "    import ujson as json\n",
    "    path = '/data/extracted-features-parquet/' + utils.id_to_rsync(htid).replace('json.bz2', 'meta.json')\n",
    "    with open(path, 'r', encoding='utf-8') as f:\n",
    "        pcount = json.load(f)['page_count']\n",
    "    return pcount"
   ]
  },
  {
   "cell_type": "code",
   "execution_count": 248,
   "metadata": {},
   "outputs": [],
   "source": [
    "random_targets = np.random.randint(meta.shape[0], size=40)\n",
    "\n",
    "with pd.ExcelWriter('output.xlsx') as writer:\n",
    "    for target_i in random_targets:\n",
    "            target = meta.iloc[target_i]\n",
    "            results = eval_list(target, meta, max_random=0, exclude_target=False)\n",
    "            df = results[['title', 'author', 'description', 'rights_date_used', 'oclc_num', 'isbn', 'issn', 'lccn']].reset_index().copy()\n",
    "            df['page_count'] = df.htid.apply(get_page_count)\n",
    "            df['link'] = df.htid.apply(lambda x: '=HYPERLINK(\"https://babel.hathitrust.org/cgi/pt?id=%s&view=thumb&seq=1\", \"link\")' % x)\n",
    "            df[\"relationship\"] = \"\"\n",
    "            df[\"notes\"] = \"\"\n",
    "            df.loc[0, 'relationship'] = \"TARGET\"\n",
    "            df.to_excel(writer, sheet_name=target.name.replace(':', '').replace('/', ''))"
   ]
  },
  {
   "cell_type": "markdown",
   "metadata": {},
   "source": [
    "# Export for rating interface"
   ]
  },
  {
   "cell_type": "code",
   "execution_count": 103,
   "metadata": {},
   "outputs": [
    {
     "data": {
      "text/plain": [
       "'236028094'"
      ]
     },
     "execution_count": 103,
     "metadata": {},
     "output_type": "execute_result"
    }
   ],
   "source": [
    "data['target']['oclc_num']"
   ]
  },
  {
   "cell_type": "code",
   "execution_count": 110,
   "metadata": {},
   "outputs": [
    {
     "data": {
      "text/plain": [
       "False"
      ]
     },
     "execution_count": 110,
     "metadata": {},
     "output_type": "execute_result"
    }
   ],
   "source": [
    "import numpy as np\n",
    "isinstance(data['target']['oclc_num'], float) and np.isnan(data['target']['oclc_num'])"
   ]
  },
  {
   "cell_type": "code",
   "execution_count": 117,
   "metadata": {},
   "outputs": [
    {
     "data": {
      "text/plain": [
       "title               Bird-killing as a method in ornithology. By Re...\n",
       "author                                Robbins, Reginald C. 1871-1955.\n",
       "description                                                       NaN\n",
       "rights_date_used                                                 1901\n",
       "oclc_num                                                      1249185\n",
       "isbn                                                              NaN\n",
       "issn                                                              NaN\n",
       "lccn                                                         03008575\n",
       "Name: hvd.32044107218935, dtype: object"
      ]
     },
     "execution_count": 117,
     "metadata": {},
     "output_type": "execute_result"
    }
   ],
   "source": [
    "target.rename(columns={'oclc_num', 'oclc', 'enum'})"
   ]
  },
  {
   "cell_type": "code",
   "execution_count": 116,
   "metadata": {},
   "outputs": [],
   "source": [
    "from htrc_features import utils\n",
    "import simplejson as json\n",
    "\n",
    "class NpEncoder(json.JSONEncoder):\n",
    "    ''' JSON module doesn't understand numpy - this encodes them'''\n",
    "    def default(self, obj):\n",
    "        if isinstance(obj, np.integer):\n",
    "            return int(obj)\n",
    "        elif isinstance(obj, np.floating):\n",
    "            return float(obj)\n",
    "        elif isinstance(obj, np.ndarray):\n",
    "            return obj.tolist()\n",
    "        else:\n",
    "            return super(NpEncoder, self).default(obj)\n",
    "        \n",
    "random_targets = np.random.randint(meta.shape[0], size=20)\n",
    "\n",
    "for target_i in random_targets:\n",
    "    rselect = ['title', 'author', 'description', 'rights_date_used',\n",
    "               'oclc_num', 'isbn', 'issn', 'lccn']\n",
    "    target = meta.iloc[target_i][rselect]\n",
    "    results = eval_list(target, meta, max_random=0, exclude_target=True)\n",
    "\n",
    "    df = results[rselect].reset_index().copy()\n",
    "    df['page_count'] = df.htid.apply(get_page_count)\n",
    "           \n",
    "    data = {}\n",
    "    data['target'] = df.iloc[0].to_dict()\n",
    "    data['data'] = []\n",
    "    for i, row in df.iloc[1:].iterrows():\n",
    "        data['data'].append(row.to_dict())\n",
    "\n",
    "    with open('/data/saddl/rating-candidates/batch1/%s.json' % utils.clean_htid(data['target']['htid']), mode='w') as f:\n",
    "        json.dump(data, f, cls=NpEncoder, ignore_nan=True)"
   ]
  },
  {
   "cell_type": "code",
   "execution_count": null,
   "metadata": {},
   "outputs": [],
   "source": [
    "random_targets = np.random.randint(meta.shape[0], size=20)\n",
    "\n",
    "for target_i in random_targets:\n",
    "        target = meta.iloc[target_i]\n",
    "        display(print_meta_row(target))\n",
    "        print('=' * 20)\n",
    "        results = eval_list(target, meta, max_random=0)\n",
    "\n",
    "        for htid, result in results.iterrows():\n",
    "            display(print_meta_row(result))\n",
    "        print('\\n')"
   ]
  }
 ],
 "metadata": {
  "kernelspec": {
   "display_name": "Python 3",
   "language": "python",
   "name": "python3"
  },
  "language_info": {
   "codemirror_mode": {
    "name": "ipython",
    "version": 3
   },
   "file_extension": ".py",
   "mimetype": "text/x-python",
   "name": "python",
   "nbconvert_exporter": "python",
   "pygments_lexer": "ipython3",
   "version": "3.6.7"
  }
 },
 "nbformat": 4,
 "nbformat_minor": 4
}

{
 "cells": [
  {
   "cell_type": "markdown",
   "metadata": {},
   "source": [
    "# Generating Fake Books for Training\n",
    "\n",
    "It is difficult to infer anthology contents and other whole/part relationships at large scales. This notebook generates fake books to mimic those relationships.\n",
    "\n",
    "Specifically, it generates:\n",
    "\n",
    "- Input: Multi-volume works; Output: Fake single volume of work\n",
    "- Input: A long single volume work; Output: Multiple fake volumes for parts of work (not yet implemented)\n",
    "- Input: Multiple works by the same author; Output: An 'works'-style anthology\n",
    "\n",
    "#### Workflow information\n",
    "As of Apr 2020, the process for running this is \n",
    "- Generate the files and ground truth by running this notebook\n",
    "- Convert the `fake` files to Vector_files, using `vectorization.py`\n",
    "- Concatenate the Vector_files with the real data, using the concatenate script in compare_tools"
   ]
  },
  {
   "cell_type": "code",
   "execution_count": 22,
   "metadata": {},
   "outputs": [],
   "source": [
    "from gensim.models import KeyedVectors\n",
    "wem_model = KeyedVectors.load('/data/glove/glove.840B-300d.wv', mmap='r')"
   ]
  },
  {
   "cell_type": "code",
   "execution_count": 48,
   "metadata": {},
   "outputs": [],
   "source": [
    "vecs = wem_model[['a','b','c']]\n",
    "weights = [1,2,3]\n",
    "a = np.average(vecs, weights=weights, axis=0)[:10] * sum(weights)\n",
    "b = np.dot(vecs.T, weights)[:10]"
   ]
  },
  {
   "cell_type": "code",
   "execution_count": 49,
   "metadata": {},
   "outputs": [
    {
     "data": {
      "text/plain": [
       "<matplotlib.axes._subplots.AxesSubplot at 0x7f0cba443518>"
      ]
     },
     "execution_count": 49,
     "metadata": {},
     "output_type": "execute_result"
    },
    {
     "data": {
      "image/png": "[encoded data removed]",
      "text/plain": [
       "<Figure size 432x288 with 1 Axes>"
      ]
     },
     "metadata": {
      "needs_background": "light"
     },
     "output_type": "display_data"
    }
   ],
   "source": [
    "ax = pd.Series(a).plot()\n",
    "pd.Series(b).plot(ax=ax)"
   ]
  },
  {
   "cell_type": "code",
   "execution_count": 45,
   "metadata": {},
   "outputs": [
    {
     "data": {
      "text/plain": [
       "<matplotlib.axes._subplots.AxesSubplot at 0x7f0cba45cb00>"
      ]
     },
     "execution_count": 45,
     "metadata": {},
     "output_type": "execute_result"
    },
    {
     "data": {
      "image/png": "[encoded data removed]",
      "text/plain": [
       "<Figure size 432x288 with 1 Axes>"
      ]
     },
     "metadata": {
      "needs_background": "light"
     },
     "output_type": "display_data"
    }
   ],
   "source": [
    "pd.Series(b).plot()"
   ]
  },
  {
   "cell_type": "code",
   "execution_count": 32,
   "metadata": {},
   "outputs": [
    {
     "data": {
      "text/plain": [
       "array([ True,  True,  True,  True,  True,  True,  True,  True,  True,\n",
       "        True,  True,  True,  True,  True,  True,  True,  True,  True,\n",
       "        True,  True,  True,  True,  True,  True,  True,  True,  True,\n",
       "        True,  True,  True,  True,  True,  True,  True,  True,  True,\n",
       "        True,  True,  True,  True,  True,  True,  True,  True,  True,\n",
       "        True,  True,  True,  True,  True,  True,  True,  True,  True,\n",
       "        True,  True,  True,  True,  True,  True,  True,  True,  True,\n",
       "        True,  True,  True,  True,  True,  True,  True,  True,  True,\n",
       "        True,  True,  True,  True,  True,  True,  True,  True,  True,\n",
       "        True,  True,  True,  True,  True,  True,  True,  True,  True,\n",
       "        True,  True,  True,  True,  True,  True,  True,  True,  True,\n",
       "        True,  True,  True,  True,  True,  True,  True,  True,  True,\n",
       "        True,  True,  True,  True,  True,  True,  True,  True,  True,\n",
       "        True,  True,  True,  True,  True,  True,  True,  True,  True,\n",
       "        True,  True,  True,  True,  True,  True,  True,  True,  True,\n",
       "        True,  True,  True,  True,  True,  True,  True,  True,  True,\n",
       "        True,  True,  True,  True,  True,  True,  True,  True,  True,\n",
       "        True,  True,  True,  True,  True,  True,  True,  True,  True,\n",
       "        True,  True,  True,  True,  True,  True,  True,  True,  True,\n",
       "        True,  True,  True,  True,  True,  True,  True,  True,  True,\n",
       "        True,  True,  True,  True,  True,  True,  True,  True,  True,\n",
       "        True,  True,  True,  True,  True,  True,  True,  True,  True,\n",
       "        True,  True,  True,  True,  True,  True,  True,  True,  True,\n",
       "        True,  True,  True,  True,  True,  True,  True,  True,  True,\n",
       "        True,  True,  True,  True,  True,  True,  True,  True,  True,\n",
       "        True,  True,  True,  True,  True,  True,  True,  True,  True,\n",
       "        True,  True,  True,  True,  True,  True,  True,  True,  True,\n",
       "        True,  True,  True,  True,  True,  True,  True,  True,  True,\n",
       "        True,  True,  True,  True,  True,  True,  True,  True,  True,\n",
       "        True,  True,  True,  True,  True,  True,  True,  True,  True,\n",
       "        True,  True,  True,  True,  True,  True,  True,  True,  True,\n",
       "        True,  True,  True,  True,  True,  True,  True,  True,  True,\n",
       "        True,  True,  True,  True,  True,  True,  True,  True,  True,\n",
       "        True,  True,  True])"
      ]
     },
     "execution_count": 32,
     "metadata": {},
     "output_type": "execute_result"
    }
   ],
   "source": [
    "import numpy as np\n",
    "np.dot(wem_model[['a','b','c']].T, [1,0,0]) == wem_model['a']"
   ]
  },
  {
   "cell_type": "code",
   "execution_count": 1,
   "metadata": {},
   "outputs": [
    {
     "data": {
      "text/plain": [
       "0.10     56.0\n",
       "0.20    124.0\n",
       "0.30    192.0\n",
       "0.40    248.0\n",
       "0.50    302.0\n",
       "0.60    352.0\n",
       "0.70    410.0\n",
       "0.75    444.0\n",
       "0.80    488.0\n",
       "0.85    538.0\n",
       "0.90    612.0\n",
       "0.95    742.0\n",
       "Name: page_count, dtype: float64"
      ]
     },
     "execution_count": 1,
     "metadata": {},
     "output_type": "execute_result"
    }
   ],
   "source": [
    "%load_ext autoreload\n",
    "%autoreload 2\n",
    "import pandas as pd\n",
    "import numpy as np\n",
    "from compare_tools import fakebook\n",
    "from compare_tools.hathimeta import clean_description\n",
    "from htrc_features import Volume\n",
    "meta = pd.read_csv('../../sampling/test_dataset.csv.gz', low_memory=False)\n",
    "ground_truth = []\n",
    "meta.page_count.quantile([.1,.2,.3,.4,.5,.6,.7,.75, .8, .85, .9, .95])"
   ]
  },
  {
   "cell_type": "markdown",
   "metadata": {},
   "source": [
    "## Combining Books\n",
    "\n",
    "Antology Criteria - multiple works by an author that are different and relatively short.\n",
    "\n",
    "Combined Volumes criteria - multiple works that look to be parts of a sequential set."
   ]
  },
  {
   "cell_type": "markdown",
   "metadata": {},
   "source": [
    "### Anthologies\n",
    "\n",
    "Choose one book and patch it with other books where the title seems notably different."
   ]
  },
  {
   "cell_type": "code",
   "execution_count": 2,
   "metadata": {},
   "outputs": [
    {
     "data": {
      "text/plain": [
       "(39124, 27)"
      ]
     },
     "execution_count": 2,
     "metadata": {},
     "output_type": "execute_result"
    }
   ],
   "source": [
    "pool = meta[meta.page_count < meta.page_count.quantile(.4)]\n",
    "pool = pool.drop_duplicates(['author', 'title'])\n",
    "acounts = pool.groupby('author').title.count()\n",
    "pool = pool[pool.author.isin(acounts[acounts > 2].index)]\n",
    "pool.shape"
   ]
  },
  {
   "cell_type": "markdown",
   "metadata": {},
   "source": [
    "Choose 1 author and return all their books."
   ]
  },
  {
   "cell_type": "code",
   "execution_count": null,
   "metadata": {},
   "outputs": [
    {
     "name": "stdout",
     "output_type": "stream",
     "text": [
      "100 Aldan, Daisy.\n",
      "200 American Municipal Association.\n",
      "300 Association of State Universities and Land-Grant Colleges.\n",
      "400 Baldwin, Richard E.\n",
      "500 Barzun, Jacques, 1907-\n",
      "600 Bengough, J. W. 1851-1923.\n",
      "700 Birney, William, 1819-1907.\n",
      "800 Borchard, Edwin Montefiore, 1884-1951.\n",
      "900 Brainerd, Ezra, 1844-1924.\n",
      "1000 Brooks, Stewart M.\n",
      "1100 Burk, W. Herbert 1867-1933.\n",
      "1200 Caldwell, Esther.\n",
      "1300 Carnegie Institute. Department of Fine Arts.\n"
     ]
    }
   ],
   "source": [
    "i = 0\n",
    "for groupname, subset in pool.groupby('author'):\n",
    "    to_combine1 = fakebook.anthology_sample(subset)\n",
    "    to_combine2 = fakebook.anthology_sample(subset)\n",
    "    \n",
    "    new_ids = []\n",
    "    # Check if there's an OVERLAP relationship\n",
    "    overlap = set(to_combine1).intersection(to_combine2)\n",
    "    if (len(overlap) < 1) or (len(overlap) > 2):\n",
    "        # Don't bother making the second fake doc\n",
    "        to_combine2 = []\n",
    "    \n",
    "    for to_combine in [to_combine1, to_combine2]:\n",
    "        if len(to_combine) > 1:\n",
    "            try:\n",
    "                volmeta, tl = fakebook.combine_books(to_combine)\n",
    "            except KeyboardInterrupt:\n",
    "                raise\n",
    "            except:\n",
    "                continue\n",
    "\n",
    "            new_ids.append(volmeta['id'])\n",
    "            fakebook.save_fake_vol(volmeta, tl, '/data/saddl/fakebooks/')\n",
    "            for source_htid in volmeta['source_htids']:\n",
    "                ground_truth.append(dict(left=volmeta['id'], right=source_htid, judgment='CONTAINS', notes='fake anthology'))\n",
    "                ground_truth.append(dict(left=source_htid, right=volmeta['id'], judgment='PARTOF', notes='fake anthology'))\n",
    "        i += 1\n",
    "        if i % 100 == 0:\n",
    "            print(i, groupname)\n",
    "            \n",
    "    if len(new_ids) == 2:\n",
    "        ground_truth.append(dict(left=new_ids[1], right=new_ids[0], judgment='OVERLAPS', notes='fake overlap'))\n",
    "        ground_truth.append(dict(left=new_ids[0], right=new_ids[1], judgment='OVERLAPS', notes='fake overlap'))"
   ]
  },
  {
   "cell_type": "markdown",
   "metadata": {},
   "source": [
    "### Multi-volume sets"
   ]
  },
  {
   "cell_type": "code",
   "execution_count": null,
   "metadata": {},
   "outputs": [],
   "source": [
    "pool = meta[meta.page_count < meta.page_count.quantile(.6)]\n",
    "pool = pool[~pool.description.isna()]\n",
    "pool = pool[clean_description(pool.description).str.contains('^v\\.\\d\\d?$')]\n",
    "# Filter to author/title pairs that have more than one volume\n",
    "pool = pool.groupby(['author', 'title']).filter(lambda x: x.description.unique().shape[0] > 1)\n",
    "pool = pool.copy()\n",
    "pool['descint'] = clean_description(pool.description).str.replace('v.', '').astype(int)\n",
    "# Filter further, to author/title pairs that have consecutively numbered volumes\n",
    "def has_consecutive_v(x):\n",
    "    sorted_v_ints = x.descint.sort_values()\n",
    "    cumulative_run_length = ((sorted_v_ints - 1) == sorted_v_ints.shift(1))\n",
    "    return cumulative_run_length.any()\n",
    "pool = pool.groupby(['author', 'title']).filter(has_consecutive_v)\n",
    "pool.shape"
   ]
  },
  {
   "cell_type": "code",
   "execution_count": null,
   "metadata": {},
   "outputs": [],
   "source": [
    "i = 0\n",
    "for groupname, subset in pool.groupby(['author', 'title']):\n",
    "    smaller_subset = subset.copy().groupby('descint').apply(lambda x: x.sample(1))\n",
    "    for to_combine in fakebook.consecutive_vol_samples(smaller_subset):\n",
    "        if len(to_combine) > 1:\n",
    "            try:\n",
    "                volmeta, tl = fakebook.combine_books(to_combine, style='multivol')\n",
    "            except KeyboardInterrupt:\n",
    "                raise\n",
    "            except:\n",
    "                continue\n",
    "            fakebook.save_fake_vol(volmeta, tl, '/data/saddl/fakebooks/')\n",
    "            for source_htid in volmeta['source_htids']:\n",
    "                ground_truth.append(dict(left=volmeta['id'], right=source_htid, judgment='CONTAINS', notes='fake multivol'))\n",
    "                ground_truth.append(dict(left=source_htid, right=volmeta['id'], judgment='PARTOF', notes='fake multivol'))\n",
    "    i += 1\n",
    "    if i % 100 == 0:\n",
    "        print(i, groupname)"
   ]
  },
  {
   "cell_type": "code",
   "execution_count": null,
   "metadata": {},
   "outputs": [],
   "source": [
    "df = pd.DataFrame(ground_truth)\n",
    "df.to_parquet('/data/saddl/fakebooks/fakebook_gt.parquet')\n",
    "df.sample(10)"
   ]
  },
  {
   "cell_type": "code",
   "execution_count": null,
   "metadata": {},
   "outputs": [],
   "source": [
    "to_save = df.left[df.left.str.startswith('fake')].drop_duplicates()\n",
    "to_save.name = 'htid'\n",
    "to_save.to_csv('/data/saddl/fakebooks/fake-htids.csv', header=True, index=False)"
   ]
  },
  {
   "cell_type": "code",
   "execution_count": 4,
   "metadata": {},
   "outputs": [],
   "source": [
    "# Create a stat crunching list\n",
    "import json\n",
    "import pandas as pd\n",
    "df = pd.read_parquet('/data/saddl/fakebooks/fakebook_gt.parquet')\n",
    "with open('/data/saddl/fakebooks/stat_input.json', mode='w') as f:\n",
    "    for record in df.sort_values('left').to_dict(orient='records'):\n",
    "        json.dump(record, f)\n",
    "        f.write('\\n')"
   ]
  }
 ],
 "metadata": {
  "kernelspec": {
   "display_name": "Python 3",
   "language": "python",
   "name": "python3"
  },
  "language_info": {
   "codemirror_mode": {
    "name": "ipython",
    "version": 3
   },
   "file_extension": ".py",
   "mimetype": "text/x-python",
   "name": "python",
   "nbconvert_exporter": "python",
   "pygments_lexer": "ipython3",
   "version": "3.6.7"
  }
 },
 "nbformat": 4,
 "nbformat_minor": 4
}

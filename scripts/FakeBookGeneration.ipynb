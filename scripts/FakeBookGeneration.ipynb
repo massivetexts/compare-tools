{
 "cells": [
  {
   "cell_type": "markdown",
   "metadata": {},
   "source": [
    "# Generating Fake Books for Training\n",
    "\n",
    "It is difficult to infer anthology contents and other whole/part relationships at large scales. This notebook generates fake books to mimic those relationships.\n",
    "\n",
    "Specifically, it generates:\n",
    "\n",
    "- Input: Multi-volume works; Output: Fake single volume of work\n",
    "- Input: A long single volume work; Output: Multiple fake volumes for parts of work\n",
    "- Input: Multiple works by the same author; Output: An 'works'-style anthology"
   ]
  },
  {
   "cell_type": "code",
   "execution_count": 2,
   "metadata": {},
   "outputs": [
    {
     "name": "stdout",
     "output_type": "stream",
     "text": [
      "The autoreload extension is already loaded. To reload it, use:\n",
      "  %reload_ext autoreload\n"
     ]
    },
    {
     "data": {
      "text/plain": [
       "0.10     56.0\n",
       "0.20    124.0\n",
       "0.30    192.0\n",
       "0.40    248.0\n",
       "0.50    302.0\n",
       "0.60    352.0\n",
       "0.70    410.0\n",
       "0.75    444.0\n",
       "0.80    488.0\n",
       "0.85    538.0\n",
       "0.90    612.0\n",
       "0.95    742.0\n",
       "Name: page_count, dtype: float64"
      ]
     },
     "execution_count": 2,
     "metadata": {},
     "output_type": "execute_result"
    }
   ],
   "source": [
    "%load_ext autoreload\n",
    "%autoreload 2\n",
    "import pandas as pd\n",
    "import numpy as np\n",
    "from compare_tools import fakebook\n",
    "from htrc_features import Volume\n",
    "meta = pd.read_csv('../../sampling/test_dataset.csv.gz', low_memory=False)\n",
    "ground_truth = []\n",
    "meta.page_count.quantile([.1,.2,.3,.4,.5,.6,.7,.75, .8, .85, .9, .95])"
   ]
  },
  {
   "cell_type": "markdown",
   "metadata": {},
   "source": [
    "## Combining Books\n",
    "\n",
    "Antology Criteria - multiple works by an author that are different and relatively short.\n",
    "\n",
    "Combined Volumes criteria - multiple works that look to be parts of a sequential set."
   ]
  },
  {
   "cell_type": "markdown",
   "metadata": {},
   "source": [
    "### Anthologies\n",
    "\n",
    "Choose one book and patch it with other books where the title seems notably different."
   ]
  },
  {
   "cell_type": "code",
   "execution_count": 3,
   "metadata": {},
   "outputs": [
    {
     "data": {
      "text/plain": [
       "(39124, 27)"
      ]
     },
     "execution_count": 3,
     "metadata": {},
     "output_type": "execute_result"
    }
   ],
   "source": [
    "pool = meta[meta.page_count < meta.page_count.quantile(.4)]\n",
    "pool = pool.drop_duplicates(['author', 'title'])\n",
    "acounts = pool.groupby('author').title.count()\n",
    "pool = pool[pool.author.isin(acounts[acounts > 2].index)]\n",
    "pool.shape"
   ]
  },
  {
   "cell_type": "markdown",
   "metadata": {},
   "source": [
    "Choose 1 author and return all their books."
   ]
  },
  {
   "cell_type": "code",
   "execution_count": null,
   "metadata": {},
   "outputs": [
    {
     "name": "stdout",
     "output_type": "stream",
     "text": [
      "10 Acker, Geraldine.\n",
      "20 Adams, R. L. 1883-1957,\n",
      "30 Agard, Walter Raymond, 1894-\n",
      "40 Aijazuddin, F. S.\n",
      "50 Alden, W. L. 1837-1908.\n",
      "60 Alford, Henry, 1810-1871.\n",
      "70 Allen, Grant, 1848-1899\n",
      "80 Alvarez Quintero, Serafín, 1871-1938.\n",
      "90 American Crafts Council. Museum of Contemporary Crafts.\n",
      "100 American Social Hygiene Association.\n",
      "110 Andrews, William Loring, 1837-1920.\n",
      "120 Arizona\n",
      "130 Arnot, Robert Page, 1890-1986\n",
      "140 Ashby, Thomas, 1874-1931.\n",
      "150 Aston, George, Sir, 1861-1938.\n",
      "160 Auslander, Joseph, 1897-1965.\n",
      "170 Aśvaghoṣa.\n",
      "180 Bailey, H. W. 1899-1996.\n",
      "190 Baker, M. N. 1864-\n",
      "200 Balfour, Arthur James Balfour, Earl of, 1848-1930.\n",
      "210 Banda, H. Kamuzu d. 1997\n",
      "220 Bantock, G. H. 1914-\n",
      "230 Barnard, James Lynn, 1867-\n",
      "240 Barrie, J. M. 1860-1937\n",
      "250 Bascom, William Russell, 1912-1981.\n",
      "260 Bayley, F. W. N. 1808-1853.\n",
      "270 Becker, Ernest.\n",
      "280 Behan, Brendan.\n",
      "290 Bell, Robert R., 1924-\n",
      "300 Bengough, J. W. 1851-1923.\n",
      "310 Bentley, M. R.,\n",
      "320 Berrill, N. J. 1903-1996.\n",
      "330 Betts, Craven Langstroth, 1853-1941.\n",
      "340 Bierma, Thomas J.\n",
      "350 Birney, William, 1819-1907.\n",
      "360 Blanchot, Maurice.\n",
      "370 Blondel, Jean, 1929-\n",
      "380 Bobbin, Tim, 1708-1786.\n",
      "390 Bolton, W. 1933-\n",
      "400 Borchard, Edwin Montefiore, 1884-1951.\n",
      "410 Boston. Finance Commission.\n",
      "420 Bouscaren, Anthony Trawick.\n",
      "430 Bowie, Walter Russell, 1882-1969.\n",
      "440 Bracegirdle, Brian.\n",
      "450 Brainerd, Ezra, 1844-1924.\n",
      "460 Brayley, E. W. 1773-1854.\n",
      "470 Brickman, William W.\n",
      "480 Bristol, Frank Milton, 1851-1932.\n",
      "490 Brome, Richard, d. 1652?\n",
      "500 Brooks, Thomas R.\n",
      "510 Brown, Leslie.\n",
      "520 Brownell, Henry Howard, 1820-1872.\n",
      "530 Buck, Percy C. 1871-1947.\n",
      "540 Bullinger, Heinrich, 1504-1575.\n",
      "550 Burke, Edmund, 1865-\n",
      "560 Burr, C. B. 1856-1931.\n",
      "570 Burton, Virginia Lee, 1909-1968.\n",
      "580 Butler, Charles Henry, 1859-1940.\n",
      "590 Byron, John, 1723-1786.\n",
      "600 Caldwell, John C. 1913-\n",
      "610 California. Health and Welfare Agency.\n",
      "620 Calkins, Earnest Elmo, 1868-1964.\n",
      "630 Canadian Institute on Public Affairs.\n",
      "640 Capote, Truman, 1924-1984\n",
      "650 Carpenter, Edward, 1844-1929.\n",
      "660 Casper, Dale E\n",
      "670 Central Conference of American Rabbis.\n",
      "680 Chakravarti, Balaram, 1935-\n",
      "690 Changnon, Stanley Alcide.\n",
      "700 Chaudhuri, Nirad C., 1897-1999.\n",
      "710 Chicago Bureau of Public Efficiency.\n",
      "720 Chowdhury, Jyotirindra Nath, 1916-\n",
      "730 Church, Samuel Harden.\n",
      "740 Clark, R. B. 1923-\n",
      "750 Clement, of Alexandria, Saint, ca. 150-ca. 215.\n",
      "760 Club of Odd Volumes.\n",
      "770 Cohen, Benjamin J.\n",
      "780 Colette, 1873-1954.\n",
      "790 Colorado State Library.\n",
      "800 Comrie, L. J. 1893-1950.\n",
      "810 Constantino, Letizia R.\n",
      "820 Cooley, Alice Woodworth, 1859-\n",
      "830 Copper, John Franklin.\n",
      "840 Cortner, Richard C.\n",
      "850 Coward, T. A. 1867-1933.\n",
      "860 Craft, Michael John.\n",
      "870 Cresap, McCormick, and Paget.\n",
      "880 Crosby, Philip B.\n",
      "890 Cubberley, Ellwood Patterson, 1868-1941.\n",
      "900 Curle, Adam.\n",
      "910 Dag Hammarskjöld Library\n",
      "920 Darby, J. N. 1800-1882.\n",
      "930 Davidson, Charles, 1852-1919.\n",
      "940 Davis, John W. 1873-1955.\n",
      "950 Day, Holman, 1865-1935.\n",
      "960 DeCristoforo, R. J.\n",
      "970 Delitzsch, Friedrich, 1850-1922.\n",
      "980 Denton, Clara Janetta Fort.\n",
      "990 Dick, Philip K.\n",
      "1000 Disch, Thomas M.\n",
      "1010 Doern, G. Bruce.\n",
      "1020 Doub, William Coligny.\n",
      "1030 Downes, William Howe, 1854-1941.\n",
      "1040 Dressel, Paul L. 1910-1989.\n",
      "1050 Duerden, J. E. 1869-1937.\n",
      "1060 Dunkling, Leslie, 1935-\n",
      "1070 Dyer, Louis, 1851-1908.\n",
      "1080 Economist Intelligence Unit (Great Britain)\n",
      "1090 Edlin, Herbert L. 1913-1976.\n",
      "1100 Edwards, Clinton R.\n",
      "1110 Eisenschiml, Otto, 1880-1963.\n",
      "1120 Ellis, Florence Hawley.\n",
      "1130 Emanuel, James A.\n",
      "1140 England and Wales. Parliament. House of Commons.\n",
      "1150 Ernesti, Johann August, 1707-1781.\n",
      "1160 Eutropius, 4th cent.\n",
      "1170 Falconer, Hugh, 1808-1865.\n",
      "1180 Faunce, William Herbert Perry, 1859-1930.\n",
      "1190 Feibleman, James Kern, 1904-\n",
      "1200 Feuillet, Octave, 1821-1890.\n",
      "1210 Finlay, Ian.\n",
      "1220 Fiske, Willard, 1831-1904.\n",
      "1230 Fletcher, Horace, 1849-1919.\n",
      "1240 Fogg, H. G. Witham\n",
      "1250 Ford, Henry, 1863-1947.\n",
      "1260 Fowle, William Bentley, 1795-1865.\n",
      "1270 Frankl, Viktor E. 1905-1997.\n",
      "1280 Freidson, Eliot, 1923-2005.\n",
      "1290 Frost, Harold M. 1921-2004.\n",
      "1300 Fuller, Margaret, 1810-1850.\n",
      "1310 Gale, Zona, 1874-1938.\n",
      "1320 Garaudy, Roger.\n",
      "1330 Garstang, John, 1876-1956.\n",
      "1340 Geikie, Archibald, 1835-1924.\n",
      "1350 Gerber, William, 1908-\n",
      "1360 Gibson, Alexander Craig, 1813-1874.\n",
      "1370 Gilder, Richard Watson, 1844-1909.\n",
      "1380 Gimpel, Jean.\n",
      "1390 Glover, T. R. 1869-1943.\n",
      "1400 Goldziher, Ignác, 1850-1921.\n",
      "1410 Goodrum, Charles A.\n",
      "1420 Gorgas, William Crawford, 1854-1920.\n",
      "1430 Gould, John M. 1848-1909.\n",
      "1440 Granatstein, J. L.\n",
      "1450 Gray, Jack, 1926-\n",
      "1460 Great Britain. Parliament. House of Lords.\n",
      "1470 Greene, Frances Nimmo, 1850-1921.\n",
      "1480 Gregory, T. E. 1890-1970.\n",
      "1490 Griscom, John H. 1809-1874.\n",
      "1500 Guernsey, R. S. 1836-1918.\n",
      "1510 Gustman, Alan L.\n",
      "1520 Hagan, William Arthur, 1893-1963.\n",
      "1530 Halifax, Edward Frederick Lindley Wood, Earl of, 1881-1959.\n",
      "1540 Halliday, Andrew, 1830-1877.\n",
      "1550 Hammond-Tooke, W. D.\n",
      "1560 Hanna, Alfred Jackson, 1893-\n",
      "1570 Harland, Marion, 1830-1922.\n",
      "1580 Harris, Roy, 1931-\n",
      "1590 Harvey, Joan M.\n",
      "1600 Haughton, Samuel.\n",
      "1610 Hawker, Robert Stephen, 1803?-1875.\n",
      "1620 Hazard, Paul, 1878-1944.\n",
      "1630 Hedrick, U. P.\n",
      "1640 Hengel, Martin.\n"
     ]
    }
   ],
   "source": [
    "i = 0\n",
    "for groupname, subset in pool.groupby('author'):\n",
    "    to_combine = fakebook.anthology_sample(subset)\n",
    "    if len(to_combine) > 1:\n",
    "        try:\n",
    "            volmeta, tl = fakebook.combine_books(to_combine)\n",
    "        except KeyboardInterrupt:\n",
    "            raise\n",
    "        except:\n",
    "            continue\n",
    "        fakebook.save_fake_vol(volmeta, tl, '/data/saddl/fakebooks/')\n",
    "\n",
    "        for source_htid in volmeta['source_htids']:\n",
    "            ground_truth.append(dict(left=volmeta['id'], right=source_htid, judgment='CONTAINS', notes='fake anthology'))\n",
    "            ground_truth.append(dict(left=source_htid, right=volmeta['id'], judgment='PARTOF', notes='fake anthology'))\n",
    "    i += 1\n",
    "    if i % 100 == 0:\n",
    "        print(i, groupname)"
   ]
  },
  {
   "cell_type": "markdown",
   "metadata": {},
   "source": [
    "### Multi-volume sets"
   ]
  },
  {
   "cell_type": "code",
   "execution_count": null,
   "metadata": {},
   "outputs": [],
   "source": [
    "pool = meta[meta.page_count < meta.page_count.quantile(.6)]\n",
    "pool = pool[~pool.description.isna()]\n",
    "pool = pool[clean_description(pool.description).str.contains('^v\\.\\d\\d?$')]\n",
    "# Filter to author/title pairs that have more than one volume\n",
    "pool = pool.groupby(['author', 'title']).filter(lambda x: x.description.unique().shape[0] > 1)\n",
    "pool = pool.copy()\n",
    "pool['descint'] = clean_description(pool.description).str.replace('v.', '').astype(int)\n",
    "# Filter further, to author/title pairs that have consecutively numbered volumes\n",
    "def has_consecutive_v(x):\n",
    "    sorted_v_ints = x.descint.sort_values()\n",
    "    cumulative_run_length = ((sorted_v_ints - 1) == sorted_v_ints.shift(1))\n",
    "    return cumulative_run_length.any()\n",
    "pool = pool.groupby(['author', 'title']).filter(has_consecutive_v)\n",
    "pool.shape"
   ]
  },
  {
   "cell_type": "code",
   "execution_count": null,
   "metadata": {},
   "outputs": [],
   "source": [
    "i = 0\n",
    "for groupname, subset in pool.groupby(['author', 'title']):\n",
    "    smaller_subset = subset.copy().groupby('descint').apply(lambda x: x.sample(1))\n",
    "    for to_combine in fakebook.consecutive_vol_samples(smaller_subset):\n",
    "        if len(to_combine) > 1:\n",
    "            try:\n",
    "                volmeta, tl = fakebook.combine_books(to_combine, style='multivol')\n",
    "            except KeyboardInterrupt:\n",
    "                raise\n",
    "            except:\n",
    "                continue\n",
    "            fakebook.save_fake_vol(volmeta, tl, '/data/saddl/fakebooks/')\n",
    "            for source_htid in volmeta['source_htids']:\n",
    "                ground_truth.append(dict(left=volmeta['id'], right=source_htid, judgment='CONTAINS', notes='fake multivol'))\n",
    "                ground_truth.append(dict(left=source_htid, right=volmeta['id'], judgment='PARTOF', notes='fake multivol'))\n",
    "    i += 1\n",
    "    if i % 10 == 0:\n",
    "        print(i, groupname)"
   ]
  },
  {
   "cell_type": "code",
   "execution_count": null,
   "metadata": {},
   "outputs": [],
   "source": [
    "df = pd.DataFrame(ground_truth)\n",
    "df.to_parquet('/data/saddle/fakebooks/fakebook_gt.parquet')\n",
    "df.sample(10)"
   ]
  },
  {
   "cell_type": "code",
   "execution_count": null,
   "metadata": {},
   "outputs": [],
   "source": []
  }
 ],
 "metadata": {
  "kernelspec": {
   "display_name": "Python 3",
   "language": "python",
   "name": "python3"
  },
  "language_info": {
   "codemirror_mode": {
    "name": "ipython",
    "version": 3
   },
   "file_extension": ".py",
   "mimetype": "text/x-python",
   "name": "python",
   "nbconvert_exporter": "python",
   "pygments_lexer": "ipython3",
   "version": "3.6.7"
  }
 },
 "nbformat": 4,
 "nbformat_minor": 4
}
